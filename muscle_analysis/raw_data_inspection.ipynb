{
 "metadata": {
  "name": "raw_data_inspection"
 },
 "nbformat": 3,
 "nbformat_minor": 0,
 "worksheets": [
  {
   "cells": [
    {
     "cell_type": "code",
     "collapsed": false,
     "input": [
      "root_path = '/Volumes/'\n",
      "solutions_path = root_path + 'thad01b/solutions/'\n",
      "sequence_path = solutions_path + '20140327_S0010/'\n",
      "flytracks_path = sequence_path + 'flytracks/'\n",
      "features_path = sequence_path + 'Features/'\n",
      "axon_path = root_path + 'thad01/Axon/20140310/14310000_S01_S12.abf'"
     ],
     "language": "python",
     "metadata": {},
     "outputs": [],
     "prompt_number": 172
    },
    {
     "cell_type": "code",
     "collapsed": false,
     "input": [
      "import os\n",
      "trackslist = filter(lambda x: x.startswith('fly'), os.listdir(flytracks_path))\n",
      "framenums = [int(s.strip('fly.mat')) for s in trackslist]\n",
      "trackslist = [x for (y,x) in sorted(zip(framenums,trackslist))]\n",
      "trackslist = [flytracks_path + x for x in trackslist]"
     ],
     "language": "python",
     "metadata": {},
     "outputs": [],
     "prompt_number": 173
    },
    {
     "cell_type": "code",
     "collapsed": false,
     "input": [
      "import scipy.io\n",
      "mats = array([scipy.io.loadmat(trk)['xh'] for trk in trackslist])"
     ],
     "language": "python",
     "metadata": {},
     "outputs": [],
     "prompt_number": 174
    },
    {
     "cell_type": "code",
     "collapsed": false,
     "input": [
      "q_left = squeeze(mats[:,[8,9,10,7]])\n",
      "q_right = squeeze(mats[:,[12,13,14,11]])"
     ],
     "language": "python",
     "metadata": {},
     "outputs": [],
     "prompt_number": 175
    },
    {
     "cell_type": "code",
     "collapsed": false,
     "input": [
      "import transformations as trans\n",
      "rot_mats_left = array([trans.quaternion_matrix(x.T)[:3,:3] for x in q_left])\n",
      "rot_mats_right = array([trans.quaternion_matrix(x.T)[:3,:3] for x in q_right])\n",
      "l_frame = trans.rotation_matrix(deg2rad(65),[0,-1,0],)[:3,:3]\n",
      "r_frame = trans.rotation_matrix(deg2rad(-65),[0,1,0],)[:3,:3]"
     ],
     "language": "python",
     "metadata": {},
     "outputs": [],
     "prompt_number": 430
    },
    {
     "cell_type": "code",
     "collapsed": false,
     "input": [
      "from mpl_toolkits.mplot3d import Axes3D\n",
      "fig = plt.figure()\n",
      "ax = fig.add_subplot(111, projection='3d')\n",
      "l_wingtip = dot(rot_mats_left,[0,1,0]).T\n",
      "r_wingtip = dot(rot_mats_right,[0,-1,0]).T\n",
      "wing_frame_l = dot(l_frame,l_wingtip)\n",
      "wing_frame_r = dot(r_frame,r_wingtip)\n",
      "plot(l_wingtip[0],l_wingtip[1],'-o',zs=l_wingtip[2],)\n",
      "plot(r_wingtip[0],r_wingtip[1],'-o',zs=r_wingtip[2])\n",
      "plot(wing_frame_l[0],wing_frame_l[1],'-o',zs=wing_frame_l[2])\n",
      "plot(wing_frame_r[0],wing_frame_r[1],'-o',zs=wing_frame_r[2])"
     ],
     "language": "python",
     "metadata": {},
     "outputs": [
      {
       "output_type": "pyout",
       "prompt_number": 431,
       "text": [
        "[<mpl_toolkits.mplot3d.art3d.Line3D at 0x1110cb410>]"
       ]
      }
     ],
     "prompt_number": 431
    },
    {
     "cell_type": "code",
     "collapsed": false,
     "input": [
      "shape(dot(wingmat,rot_mats_left.T).T)"
     ],
     "language": "python",
     "metadata": {},
     "outputs": [
      {
       "output_type": "pyout",
       "prompt_number": 409,
       "text": [
        "(682, 3, 3)"
       ]
      }
     ],
     "prompt_number": 409
    },
    {
     "cell_type": "code",
     "collapsed": false,
     "input": [
      "fiure()\n",
      "plot(q_right)"
     ],
     "language": "python",
     "metadata": {},
     "outputs": [
      {
       "output_type": "pyout",
       "prompt_number": 15,
       "text": [
        "[<matplotlib.lines.Line2D at 0x113fb2310>,\n",
        " <matplotlib.lines.Line2D at 0x113fb25d0>,\n",
        " <matplotlib.lines.Line2D at 0x113fb2810>,\n",
        " <matplotlib.lines.Line2D at 0x113fb29d0>]"
       ]
      }
     ],
     "prompt_number": 15
    },
    {
     "cell_type": "code",
     "collapsed": false,
     "input": [
      "min(framenums)"
     ],
     "language": "python",
     "metadata": {},
     "outputs": [
      {
       "output_type": "pyout",
       "prompt_number": 237,
       "text": [
        "13"
       ]
      }
     ],
     "prompt_number": 237
    },
    {
     "cell_type": "code",
     "collapsed": false,
     "input": [],
     "language": "python",
     "metadata": {},
     "outputs": [],
     "prompt_number": 9
    },
    {
     "cell_type": "code",
     "collapsed": false,
     "input": [
      "#load the ephys data\n",
      "import neo.io\n",
      "reader = neo.io.AxonIO(axon_path)\n",
      "block = reader.read_block()"
     ],
     "language": "python",
     "metadata": {},
     "outputs": [],
     "prompt_number": 242
    },
    {
     "cell_type": "code",
     "collapsed": false,
     "input": [],
     "language": "python",
     "metadata": {},
     "outputs": [],
     "prompt_number": 23
    },
    {
     "cell_type": "code",
     "collapsed": false,
     "input": [
      "electrode = block.segments[0].analogsignals[0]\n",
      "sync_signal = block.segments[0].analogsignals[2]\n",
      "x_pos = block.segments[0].analogsignals[3]\n",
      "y_pos = block.segments[0].analogsignals[4]\n",
      "trig = block.segments[0].analogsignals[5]\n",
      "ephys_dt = x_pos.times[1] - x_pos.times[0]"
     ],
     "language": "python",
     "metadata": {},
     "outputs": [],
     "prompt_number": 243
    },
    {
     "cell_type": "code",
     "collapsed": false,
     "input": [
      "photron_dt = 1/6000.0\n",
      "capture_interval = photron_dt*682\n",
      "samples_per_capture = int(ceil(samples_per_capture))"
     ],
     "language": "python",
     "metadata": {},
     "outputs": [],
     "prompt_number": 244
    },
    {
     "cell_type": "code",
     "collapsed": false,
     "input": [
      "def split_signal(signal,thresh = 0.1):\n",
      "    idxs = squeeze(argwhere(signal > thresh))\n",
      "    split_idxs = squeeze(argwhere(diff(idxs) > 1))\n",
      "    idx_list = split(idxs,split_idxs)\n",
      "    return idx_list"
     ],
     "language": "python",
     "metadata": {},
     "outputs": [],
     "prompt_number": 245
    },
    {
     "cell_type": "code",
     "collapsed": false,
     "input": [
      "trig_idxs = [arange(x[0],x[0]+samples_per_capture) for x in split_signal(trig*-1,thresh = -0.1)[1:]]"
     ],
     "language": "python",
     "metadata": {},
     "outputs": [],
     "prompt_number": 328
    },
    {
     "cell_type": "code",
     "collapsed": false,
     "input": [
      "frames = [x[0]+trig_idxs[0][0] for x in split_signal(sync_signal[trig_idxs[0]]*-1,thresh = -0.5)]"
     ],
     "language": "python",
     "metadata": {},
     "outputs": [],
     "prompt_number": 346
    },
    {
     "cell_type": "code",
     "collapsed": false,
     "input": [
      "ephys_chunk = electrode[frames[13]:frames[-1]]*-1\n",
      "angle_chunk = q_left[:,1]\n",
      "ephys_times = arange(len(ephys_chunk))*ephys_dt\n",
      "angle_times = arange(len(angle_chunk))*photron_dt\n",
      "ax1 = subplot(2,1,1)\n",
      "plot(ephys_times,ephys_chunk)\n",
      "ax2 = subplot(2,1,2,sharex = ax1)\n",
      "plot(angle_times,q_left[:,1],'-o')"
     ],
     "language": "python",
     "metadata": {},
     "outputs": [
      {
       "output_type": "pyout",
       "prompt_number": 348,
       "text": [
        "[<matplotlib.lines.Line2D at 0x18b7eedd0>]"
       ]
      }
     ],
     "prompt_number": 348
    },
    {
     "cell_type": "code",
     "collapsed": false,
     "input": [
      "len(ephys_chunk)"
     ],
     "language": "python",
     "metadata": {},
     "outputs": [
      {
       "output_type": "pyout",
       "prompt_number": 221,
       "text": [
        "11016"
       ]
      }
     ],
     "prompt_number": 221
    },
    {
     "cell_type": "code",
     "collapsed": false,
     "input": [
      "frames[13]"
     ],
     "language": "python",
     "metadata": {},
     "outputs": [
      {
       "output_type": "pyout",
       "prompt_number": 339,
       "text": [
        "207"
       ]
      }
     ],
     "prompt_number": 339
    },
    {
     "cell_type": "code",
     "collapsed": false,
     "input": [
      "11016/662."
     ],
     "language": "python",
     "metadata": {},
     "outputs": [
      {
       "output_type": "pyout",
       "prompt_number": 225,
       "text": [
        "16.6404833836858"
       ]
      }
     ],
     "prompt_number": 225
    },
    {
     "cell_type": "code",
     "collapsed": false,
     "input": [
      "6000*16"
     ],
     "language": "python",
     "metadata": {},
     "outputs": [
      {
       "output_type": "pyout",
       "prompt_number": 224,
       "text": [
        "96000"
       ]
      }
     ],
     "prompt_number": 224
    },
    {
     "cell_type": "code",
     "collapsed": false,
     "input": [
      "figure()\n",
      "plot(trig[:trig_idxs[0][10]])"
     ],
     "language": "python",
     "metadata": {},
     "outputs": [
      {
       "output_type": "pyout",
       "prompt_number": 344,
       "text": [
        "[<matplotlib.lines.Line2D at 0x18d3fce50>]"
       ]
      }
     ],
     "prompt_number": 344
    },
    {
     "cell_type": "code",
     "collapsed": false,
     "input": [
      "len(trig_idxs)"
     ],
     "language": "python",
     "metadata": {},
     "outputs": [
      {
       "output_type": "pyout",
       "prompt_number": 258,
       "text": [
        "12"
       ]
      }
     ],
     "prompt_number": 258
    },
    {
     "cell_type": "code",
     "collapsed": false,
     "input": [],
     "language": "python",
     "metadata": {},
     "outputs": [],
     "prompt_number": 345
    },
    {
     "cell_type": "code",
     "collapsed": false,
     "input": [
      "plot(idxs)"
     ],
     "language": "python",
     "metadata": {},
     "outputs": [
      {
       "output_type": "pyout",
       "prompt_number": 284,
       "text": [
        "[<matplotlib.lines.Line2D at 0x144bada50>]"
       ]
      }
     ],
     "prompt_number": 284
    },
    {
     "cell_type": "code",
     "collapsed": false,
     "input": [],
     "language": "python",
     "metadata": {},
     "outputs": []
    }
   ],
   "metadata": {}
  }
 ]
}