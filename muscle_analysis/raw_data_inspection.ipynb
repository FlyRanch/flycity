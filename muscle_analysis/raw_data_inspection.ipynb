{
 "metadata": {
  "name": "raw_data_inspection"
 },
 "nbformat": 3,
 "nbformat_minor": 0,
 "worksheets": [
  {
   "cells": [
    {
     "cell_type": "code",
     "collapsed": false,
     "input": [
      "root_path = '/Volumes/'\n",
      "solutions_path = root_path + 'thad01/solutions/'\n",
      "sequence_path = solutions_path + '20140310_S0003/'\n",
      "flytracks_path = sequence_path + 'flytracks/'\n",
      "features_path = sequence_path + 'Features/'"
     ],
     "language": "python",
     "metadata": {},
     "outputs": [],
     "prompt_number": 241
    },
    {
     "cell_type": "code",
     "collapsed": false,
     "input": [
      "import os\n",
      "trackslist = filter(lambda x: x.startswith('fly'), os.listdir(flytracks_path))\n",
      "framenums = [int(s.strip('fly.mat')) for s in trackslist]\n",
      "trackslist = [flytracks_path + x for x in trackslist]"
     ],
     "language": "python",
     "metadata": {},
     "outputs": [],
     "prompt_number": 242
    },
    {
     "cell_type": "code",
     "collapsed": false,
     "input": [
      "import scipy.io\n",
      "mats = array([scipy.io.loadmat(trk)['xh'] for trk in trackslist])"
     ],
     "language": "python",
     "metadata": {},
     "outputs": [],
     "prompt_number": 243
    },
    {
     "cell_type": "code",
     "collapsed": false,
     "input": [
      "q_left = squeeze(mats[:,[8,9,10,7]])\n",
      "q_right = squeeze(mats[:,[12,13,14,11]])"
     ],
     "language": "python",
     "metadata": {},
     "outputs": [],
     "prompt_number": 244
    },
    {
     "cell_type": "code",
     "collapsed": false,
     "input": [
      "figure()\n",
      "plot(q_right)"
     ],
     "language": "python",
     "metadata": {},
     "outputs": [
      {
       "output_type": "pyout",
       "prompt_number": 245,
       "text": [
        "[<matplotlib.lines.Line2D at 0x11d08bcd0>,\n",
        " <matplotlib.lines.Line2D at 0x11d08bf90>,\n",
        " <matplotlib.lines.Line2D at 0x11d08e210>,\n",
        " <matplotlib.lines.Line2D at 0x11d08e3d0>]"
       ]
      }
     ],
     "prompt_number": 245
    },
    {
     "cell_type": "code",
     "collapsed": false,
     "input": [
      "qr3 = q_right\n",
      "ql3 = q_left"
     ],
     "language": "python",
     "metadata": {},
     "outputs": [],
     "prompt_number": 246
    },
    {
     "cell_type": "code",
     "collapsed": false,
     "input": [
      "subplot(4,1,1)\n",
      "plot(ql1)\n",
      "subplot(4,1,2)\n",
      "plot(qr1)\n",
      "subplot(4,1,3)\n",
      "plot(ql2)\n",
      "subplot(4,1,4)\n",
      "plot(qr2)\n"
     ],
     "language": "python",
     "metadata": {},
     "outputs": [
      {
       "output_type": "pyout",
       "prompt_number": 248,
       "text": [
        "[<matplotlib.lines.Line2D at 0x11926bed0>,\n",
        " <matplotlib.lines.Line2D at 0x1192701d0>,\n",
        " <matplotlib.lines.Line2D at 0x119270410>,\n",
        " <matplotlib.lines.Line2D at 0x1192705d0>]"
       ]
      }
     ],
     "prompt_number": 248
    },
    {
     "cell_type": "code",
     "collapsed": false,
     "input": [
      "import transformations as trans\n",
      "rot_mats_left = array([trans.quaternion_matrix(x.T)[:3,:3] for x in q_left])\n",
      "rot_mats_right = array([trans.quaternion_matrix(x.T)[:3,:3] for x in q_right])"
     ],
     "language": "python",
     "metadata": {},
     "outputs": [],
     "prompt_number": 223
    },
    {
     "cell_type": "code",
     "collapsed": false,
     "input": [
      "from mpl_toolkits.mplot3d import Axes3D\n",
      "fig = plt.figure()\n",
      "ax = fig.add_subplot(111, projection='3d')\n",
      "l_wingtip = dot(rot_mats_left,[0,1,0]).T\n",
      "r_wingtip = dot(rot_mats_right,[0,-1,0]).T\n",
      "plot(l_wingtip[0,150:],l_wingtip[1,150:],zs=l_wingtip[2,150:])\n",
      "plot(r_wingtip[0,150:],r_wingtip[1,150:],zs=r_wingtip[2,150:])"
     ],
     "language": "python",
     "metadata": {},
     "outputs": [
      {
       "output_type": "pyout",
       "prompt_number": 225,
       "text": [
        "[<mpl_toolkits.mplot3d.art3d.Line3D at 0x11895cd90>]"
       ]
      }
     ],
     "prompt_number": 225
    },
    {
     "cell_type": "code",
     "collapsed": false,
     "input": [],
     "language": "python",
     "metadata": {},
     "outputs": [],
     "prompt_number": 214
    },
    {
     "cell_type": "code",
     "collapsed": false,
     "input": [],
     "language": "python",
     "metadata": {},
     "outputs": [],
     "prompt_number": 146
    },
    {
     "cell_type": "code",
     "collapsed": false,
     "input": [],
     "language": "python",
     "metadata": {},
     "outputs": [],
     "prompt_number": 214
    },
    {
     "cell_type": "code",
     "collapsed": false,
     "input": [],
     "language": "python",
     "metadata": {},
     "outputs": []
    }
   ],
   "metadata": {}
  }
 ]
}