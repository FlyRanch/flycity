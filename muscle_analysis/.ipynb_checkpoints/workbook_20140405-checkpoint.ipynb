{
 "metadata": {
  "name": ""
 },
 "nbformat": 3,
 "nbformat_minor": 0,
 "worksheets": [
  {
   "cells": [
    {
     "cell_type": "code",
     "collapsed": false,
     "input": [
      "import sys\n",
      "import json\n",
      "import os\n",
      "import random\n",
      "import scipy\n",
      "import numpy as np\n",
      "import flylib\n",
      "import quantities as pq\n",
      "import cPickle"
     ],
     "language": "python",
     "metadata": {},
     "outputs": [],
     "prompt_number": 1
    },
    {
     "cell_type": "code",
     "collapsed": false,
     "input": [
      "run initalize_flyDB.py"
     ],
     "language": "python",
     "metadata": {},
     "outputs": [],
     "prompt_number": 2
    },
    {
     "cell_type": "code",
     "collapsed": false,
     "input": [
      "fn = 'fly_db_init.cpkl'\n",
      "f = open(fn,'rb')\n",
      "fly_db = cPickle.load(f)\n",
      "f.close()"
     ],
     "language": "python",
     "metadata": {},
     "outputs": [],
     "prompt_number": 3
    },
    {
     "cell_type": "code",
     "collapsed": false,
     "input": [
      "fly_db.keys()"
     ],
     "language": "python",
     "metadata": {},
     "outputs": [
      {
       "metadata": {},
       "output_type": "pyout",
       "prompt_number": 4,
       "text": [
        "[112, 114, 115, 111]"
       ]
      }
     ],
     "prompt_number": 4
    },
    {
     "cell_type": "code",
     "collapsed": false,
     "input": [
      "for fln in sorted(fly_db.keys()):\n",
      "    fly = flylib.Fly(fly_db[fln])\n",
      "    fly.calc_seqs_strokeplanes('lr_blob_expansion')\n",
      "    print (fln,np.mean(fly_db[fln]['experiments']['lr_blob_expansion']['strokeplanes']))"
     ],
     "language": "python",
     "metadata": {},
     "outputs": [
      {
       "output_type": "stream",
       "stream": "stdout",
       "text": [
        "(111, -50.123229279112174)\n",
        "(112, -58.666257660211471)"
       ]
      },
      {
       "output_type": "stream",
       "stream": "stdout",
       "text": [
        "\n",
        "(114, -44.294678767978361)"
       ]
      },
      {
       "output_type": "stream",
       "stream": "stdout",
       "text": [
        "\n",
        "(115, -49.588501570399025)"
       ]
      },
      {
       "output_type": "stream",
       "stream": "stdout",
       "text": [
        "\n"
       ]
      }
     ],
     "prompt_number": 15
    },
    {
     "cell_type": "code",
     "collapsed": false,
     "input": [
      "np.mean(fly_db[111]['experiments']['lr_blob_expansion']['strokeplanes'])"
     ],
     "language": "python",
     "metadata": {},
     "outputs": [
      {
       "metadata": {},
       "output_type": "pyout",
       "prompt_number": 11,
       "text": [
        "-50.123229279112174"
       ]
      }
     ],
     "prompt_number": 11
    },
    {
     "cell_type": "code",
     "collapsed": false,
     "input": [
      "#plot the left-right angles for all sequences\n",
      "figure()\n",
      "fly.get_cam_epochs('lr_blob_expansion')\n",
      "seqs = fly_db[fln]['experiments']['lr_blob_expansion']['kine_sequences']\n",
      "\n",
      "stroke_amp_R = 'phi_R'\n",
      "stroke_amp_L = 'phi_L'\n",
      "stroke_dev_R = 'theta_R'\n",
      "stroke_dev_L = 'theta_L'\n",
      "wing_rot_R = 'eta_R'\n",
      "wing_rot_L = 'eta_L'\n",
      "subplot(3,1,1)\n",
      "[plot(s[stroke_amp_L]-s[stroke_amp_R],color = 'r') for s in seqs if s['expan_pol'] == 90]\n",
      "[plot(s[stroke_amp_L]-s[stroke_amp_R],color = 'b') for s in seqs if s['expan_pol'] == 270]\n",
      "subplot(3,1,2)\n",
      "[plot(s[stroke_dev_L]-s[stroke_dev_R],color = 'r') for s in seqs if s['expan_pol'] == 90]\n",
      "[plot(s[stroke_dev_L]-s[stroke_dev_R],color = 'b') for s in seqs if s['expan_pol'] == 270]\n",
      "subplot(3,1,3)\n",
      "[plot(s[wing_rot_L]-s[wing_rot_R],color = 'r') for s in seqs if s['expan_pol'] == 90]\n",
      "[plot(s[wing_rot_L]-s[wing_rot_R],color = 'b') for s in seqs if s['expan_pol'] == 270]"
     ],
     "language": "python",
     "metadata": {},
     "outputs": [
      {
       "output_type": "stream",
       "stream": "stderr",
       "text": [
        "flylib.py:133: UserWarning: problem extracting idxs from camera_sync_signal forepoch 0 using even spaced idx's over the camera epoch instead\n",
        "  \"epoch %s using even spaced idx's over the camera epoch instead\"%(i))\n"
       ]
      },
      {
       "metadata": {},
       "output_type": "pyout",
       "prompt_number": 16,
       "text": [
        "[[<matplotlib.lines.Line2D at 0xd6d4c2c>],\n",
        " [<matplotlib.lines.Line2D at 0xd6db12c>],\n",
        " [<matplotlib.lines.Line2D at 0xd6db5ec>]]"
       ]
      }
     ],
     "prompt_number": 16
    },
    {
     "cell_type": "code",
     "collapsed": false,
     "input": [
      "#plot the ephys and kine for a given sequence number\n",
      "seqnum = 1\n",
      "ax_epoch = seqs[seqnum]['axon_epoch']\n",
      "ph_times = seqs[seqnum]['axon_times']\n",
      "ephys_trace = fly_db[fln]['experiments']['lr_blob_expansion']['axon_data']['AMsysCh1'][ax_epoch]\n",
      "ax_times = fly_db[fln]['experiments']['lr_blob_expansion']['axon_data']['times'][ax_epoch]\n",
      "ax0 =subplot(2,1,1)\n",
      "plot(ph_times-ph_times[seqnum],seqs[seqnum][stroke_dev_L])\n",
      "ax1 = subplot(2,1,2,sharex = ax0)\n",
      "plot(ax_times-ax_times[seqnum],ephys_trace)"
     ],
     "language": "python",
     "metadata": {},
     "outputs": [
      {
       "metadata": {},
       "output_type": "pyout",
       "prompt_number": 41,
       "text": [
        "[<matplotlib.lines.Line2D at 0x832b1b2c>]"
       ]
      }
     ],
     "prompt_number": 41
    },
    {
     "cell_type": "code",
     "collapsed": false,
     "input": [
      "fly.load_photron_sequences('lr_blob_expansion')"
     ],
     "language": "python",
     "metadata": {},
     "outputs": [],
     "prompt_number": 43
    },
    {
     "cell_type": "code",
     "collapsed": false,
     "input": [
      "frame_angle = 55\n",
      "ph_seq = fly.fly_record['experiments']['lr_blob_expansion']['photron_sequences'][1]\n",
      "q_left = squeeze(ph_seq[:,[9,10,11,8]])\n",
      "q_right = squeeze(ph_seq[:,[13,14,15,12]])\n",
      "import transformations as trans\n",
      "rot_mats_left = array([trans.quaternion_matrix(x.T)[:3,:3] for x in q_left])\n",
      "rot_mats_right = array([trans.quaternion_matrix(x.T)[:3,:3] for x in q_right])\n",
      "l_frame = trans.rotation_matrix(deg2rad(frame_angle),[0,-1,0],)[:3,:3]\n",
      "r_frame = trans.rotation_matrix(deg2rad(-1*frame_angle),[0,1,0],)[:3,:3]\n",
      "from mpl_toolkits.mplot3d import Axes3D\n",
      "fig = plt.figure()\n",
      "ax = fig.add_subplot(111, projection='3d')\n",
      "l_wingtip = dot(rot_mats_left,[0,1,0]).T\n",
      "r_wingtip = dot(rot_mats_right,[0,-1,0]).T\n",
      "wing_frame_l = dot(l_frame,l_wingtip)\n",
      "wing_frame_r = dot(r_frame,r_wingtip)\n",
      "plot(l_wingtip[0],l_wingtip[1],zs=l_wingtip[2])\n",
      "plot(r_wingtip[0],r_wingtip[1],zs=r_wingtip[2])\n",
      "plot(wing_frame_l[0],wing_frame_l[1],zs=wing_frame_l[2])\n",
      "plot(wing_frame_r[0],wing_frame_r[1],zs=wing_frame_r[2])"
     ],
     "language": "python",
     "metadata": {},
     "outputs": [
      {
       "metadata": {},
       "output_type": "pyout",
       "prompt_number": 56,
       "text": [
        "[<mpl_toolkits.mplot3d.art3d.Line3D at 0x6078a86c>]"
       ]
      }
     ],
     "prompt_number": 56
    },
    {
     "cell_type": "code",
     "collapsed": false,
     "input": [
      "plot(l_wingtip[0],r_wingtip[2])"
     ],
     "language": "python",
     "metadata": {},
     "outputs": [
      {
       "metadata": {},
       "output_type": "pyout",
       "prompt_number": 64,
       "text": [
        "[<matplotlib.lines.Line2D at 0x5fd27eac>]"
       ]
      }
     ],
     "prompt_number": 64
    },
    {
     "cell_type": "code",
     "collapsed": false,
     "input": [
      "pq.Quantity(35,'F')"
     ],
     "language": "python",
     "metadata": {},
     "outputs": [
      {
       "metadata": {},
       "output_type": "pyout",
       "prompt_number": 55,
       "text": [
        "array(35) * F"
       ]
      }
     ],
     "prompt_number": 55
    },
    {
     "cell_type": "code",
     "collapsed": false,
     "input": [
      "from scipy.stats import linregress"
     ],
     "language": "python",
     "metadata": {},
     "outputs": [],
     "prompt_number": 60
    },
    {
     "cell_type": "code",
     "collapsed": false,
     "input": [
      "arctan(linregress(r_wingtip[0][~isnan(l_wingtip[0])],r_wingtip[2][~isnan(l_wingtip[0])])[0])"
     ],
     "language": "python",
     "metadata": {},
     "outputs": [
      {
       "metadata": {},
       "output_type": "pyout",
       "prompt_number": 72,
       "text": [
        "-0.85899919571040173"
       ]
      }
     ],
     "prompt_number": 72
    },
    {
     "cell_type": "code",
     "collapsed": false,
     "input": [
      "rad2deg(Out[69])"
     ],
     "language": "python",
     "metadata": {},
     "outputs": [
      {
       "metadata": {},
       "output_type": "pyout",
       "prompt_number": 73,
       "text": [
        "-52.038593391483268"
       ]
      }
     ],
     "prompt_number": 73
    },
    {
     "cell_type": "code",
     "collapsed": false,
     "input": [
      "subplot(3,1,1)\n",
      "plot(ax_times,ephys_trace)"
     ],
     "language": "python",
     "metadata": {},
     "outputs": [
      {
       "metadata": {},
       "output_type": "pyout",
       "prompt_number": 14,
       "text": [
        "['Xpos',\n",
        " 'WBSync',\n",
        " 'Photostim',\n",
        " 'sampling_period',\n",
        " 'Ypos',\n",
        " 'CamSync',\n",
        " 'CamTrig',\n",
        " 'Ph1',\n",
        " 'LeftWing',\n",
        " 'Ph2',\n",
        " 'RightWing',\n",
        " 'Ph0',\n",
        " 'AMsysCh1',\n",
        " 'times']"
       ]
      }
     ],
     "prompt_number": 14
    },
    {
     "cell_type": "code",
     "collapsed": false,
     "input": [],
     "language": "python",
     "metadata": {},
     "outputs": [],
     "prompt_number": 16
    },
    {
     "cell_type": "code",
     "collapsed": false,
     "input": [],
     "language": "python",
     "metadata": {},
     "outputs": [],
     "prompt_number": 17
    },
    {
     "cell_type": "code",
     "collapsed": false,
     "input": [
      "for fln in fly_db.keys():\n",
      "    print fln\n",
      "    fly = flylib.Fly(fly_db[fln])\n",
      "    fly.get_cam_epochs('lr_blob_expansion')\n",
      "param_file = open('params.json','rb')\n",
      "params = json.load(param_file)\n",
      "param_file.close()\n",
      "fn = params['root_dir'] + 'fly_db.cpkl'\n",
      "f = open(fn,'wb')\n",
      "fly_db = cPickle.dump(f)\n",
      "f.close()"
     ],
     "language": "python",
     "metadata": {},
     "outputs": [
      {
       "output_type": "stream",
       "stream": "stdout",
       "text": [
        "112\n",
        "114"
       ]
      },
      {
       "output_type": "stream",
       "stream": "stderr",
       "text": [
        "flylib.py:133: UserWarning: problem extracting idxs from camera_sync_signal forepoch 5 using even spaced idx's over the camera epoch instead\n",
        "  \"epoch %s using even spaced idx's over the camera epoch instead\"%(i))\n",
        "flylib.py:133: UserWarning: problem extracting idxs from camera_sync_signal forepoch 0 using even spaced idx's over the camera epoch instead\n",
        "  \"epoch %s using even spaced idx's over the camera epoch instead\"%(i))\n"
       ]
      },
      {
       "output_type": "stream",
       "stream": "stderr",
       "text": [
        "flylib.py:128: UserWarning: problem extracting idxs from camera_sync_signal forepoch 1 using even spaced idx's over the camera epoch instead\n",
        "  \"epoch %s using even spaced idx's over the camera epoch instead\"%(i))\n",
        "flylib.py:128: UserWarning: problem extracting idxs from camera_sync_signal forepoch 2 using even spaced idx's over the camera epoch instead\n",
        "  \"epoch %s using even spaced idx's over the camera epoch instead\"%(i))\n",
        "flylib.py:128: UserWarning: problem extracting idxs from camera_sync_signal forepoch 4 using even spaced idx's over the camera epoch instead\n",
        "  \"epoch %s using even spaced idx's over the camera epoch instead\"%(i))\n"
       ]
      },
      {
       "output_type": "stream",
       "stream": "stdout",
       "text": [
        "\n",
        "115"
       ]
      },
      {
       "ename": "error",
       "evalue": "[Errno 12] Cannot allocate memory",
       "output_type": "pyerr",
       "traceback": [
        "\u001b[1;31m---------------------------------------------------------------------------\u001b[0m\n\u001b[1;31merror\u001b[0m                                     Traceback (most recent call last)",
        "\u001b[1;32m<ipython-input-37-fd96d9bf791c>\u001b[0m in \u001b[0;36m<module>\u001b[1;34m()\u001b[0m\n\u001b[0;32m      2\u001b[0m     \u001b[1;32mprint\u001b[0m \u001b[0mfln\u001b[0m\u001b[1;33m\u001b[0m\u001b[0m\n\u001b[0;32m      3\u001b[0m     \u001b[0mfly\u001b[0m \u001b[1;33m=\u001b[0m \u001b[0mflylib\u001b[0m\u001b[1;33m.\u001b[0m\u001b[0mFly\u001b[0m\u001b[1;33m(\u001b[0m\u001b[0mfly_db\u001b[0m\u001b[1;33m[\u001b[0m\u001b[0mfln\u001b[0m\u001b[1;33m]\u001b[0m\u001b[1;33m)\u001b[0m\u001b[1;33m\u001b[0m\u001b[0m\n\u001b[1;32m----> 4\u001b[1;33m     \u001b[0mfly\u001b[0m\u001b[1;33m.\u001b[0m\u001b[0mget_cam_epochs\u001b[0m\u001b[1;33m(\u001b[0m\u001b[1;34m'lr_blob_expansion'\u001b[0m\u001b[1;33m)\u001b[0m\u001b[1;33m\u001b[0m\u001b[0m\n\u001b[0m\u001b[0;32m      5\u001b[0m \u001b[0mparam_file\u001b[0m \u001b[1;33m=\u001b[0m \u001b[0mopen\u001b[0m\u001b[1;33m(\u001b[0m\u001b[1;34m'params.json'\u001b[0m\u001b[1;33m,\u001b[0m\u001b[1;34m'rb'\u001b[0m\u001b[1;33m)\u001b[0m\u001b[1;33m\u001b[0m\u001b[0m\n\u001b[0;32m      6\u001b[0m \u001b[0mparams\u001b[0m \u001b[1;33m=\u001b[0m \u001b[0mjson\u001b[0m\u001b[1;33m.\u001b[0m\u001b[0mload\u001b[0m\u001b[1;33m(\u001b[0m\u001b[0mparam_file\u001b[0m\u001b[1;33m)\u001b[0m\u001b[1;33m\u001b[0m\u001b[0m\n",
        "\u001b[1;32m/home/matt/flycity/muscle_analysis/flylib.pyc\u001b[0m in \u001b[0;36mget_cam_epochs\u001b[1;34m(self, experiment_name)\u001b[0m\n\u001b[0;32m    107\u001b[0m         \u001b[0mexp\u001b[0m \u001b[1;33m=\u001b[0m \u001b[0mself\u001b[0m\u001b[1;33m.\u001b[0m\u001b[0mfly_record\u001b[0m\u001b[1;33m[\u001b[0m\u001b[1;34m'experiments'\u001b[0m\u001b[1;33m]\u001b[0m\u001b[1;33m[\u001b[0m\u001b[1;34m'lr_blob_expansion'\u001b[0m\u001b[1;33m]\u001b[0m\u001b[1;33m\u001b[0m\u001b[0m\n\u001b[0;32m    108\u001b[0m         \u001b[0mfps\u001b[0m \u001b[1;33m=\u001b[0m \u001b[0mpq\u001b[0m\u001b[1;33m.\u001b[0m\u001b[0mQuantity\u001b[0m\u001b[1;33m(\u001b[0m\u001b[0mnp\u001b[0m\u001b[1;33m.\u001b[0m\u001b[0mfloat64\u001b[0m\u001b[1;33m(\u001b[0m\u001b[0mexp\u001b[0m\u001b[1;33m[\u001b[0m\u001b[1;34m'photron_frame_rate_Hz'\u001b[0m\u001b[1;33m]\u001b[0m\u001b[1;33m)\u001b[0m\u001b[1;33m,\u001b[0m\u001b[1;34m'Hz'\u001b[0m\u001b[1;33m)\u001b[0m\u001b[1;33m\u001b[0m\u001b[0m\n\u001b[1;32m--> 109\u001b[1;33m         \u001b[1;32mif\u001b[0m \u001b[1;34m'axon_data'\u001b[0m \u001b[1;32mnot\u001b[0m \u001b[1;32min\u001b[0m \u001b[0mexp\u001b[0m\u001b[1;33m.\u001b[0m\u001b[0mkeys\u001b[0m\u001b[1;33m(\u001b[0m\u001b[1;33m)\u001b[0m\u001b[1;33m:\u001b[0m \u001b[0mself\u001b[0m\u001b[1;33m.\u001b[0m\u001b[0mload_axon_data\u001b[0m\u001b[1;33m(\u001b[0m\u001b[0mexperiment_name\u001b[0m\u001b[1;33m)\u001b[0m\u001b[1;33m\u001b[0m\u001b[0m\n\u001b[0m\u001b[0;32m    110\u001b[0m         \u001b[1;32mif\u001b[0m \u001b[1;34m'kine_sequences'\u001b[0m \u001b[1;32mnot\u001b[0m \u001b[1;32min\u001b[0m \u001b[0mexp\u001b[0m\u001b[1;33m.\u001b[0m\u001b[0mkeys\u001b[0m\u001b[1;33m(\u001b[0m\u001b[1;33m)\u001b[0m\u001b[1;33m:\u001b[0m \u001b[0mself\u001b[0m\u001b[1;33m.\u001b[0m\u001b[0mload_kine_sequences\u001b[0m\u001b[1;33m(\u001b[0m\u001b[0mexperiment_name\u001b[0m\u001b[1;33m)\u001b[0m\u001b[1;33m\u001b[0m\u001b[0m\n\u001b[0;32m    111\u001b[0m         \u001b[0mkine_data\u001b[0m \u001b[1;33m=\u001b[0m \u001b[0mexp\u001b[0m\u001b[1;33m[\u001b[0m\u001b[1;34m'kine_sequences'\u001b[0m\u001b[1;33m]\u001b[0m\u001b[1;33m\u001b[0m\u001b[0m\n",
        "\u001b[1;32m/home/matt/flycity/muscle_analysis/flylib.pyc\u001b[0m in \u001b[0;36mload_axon_data\u001b[1;34m(self, experiment_name, filenum)\u001b[0m\n\u001b[0;32m    100\u001b[0m         \u001b[1;34m\"\"\"load the axon data from an experiment into the fly_record\"\"\"\u001b[0m\u001b[1;33m\u001b[0m\u001b[0m\n\u001b[0;32m    101\u001b[0m         \u001b[0maxon_file\u001b[0m \u001b[1;33m=\u001b[0m \u001b[0mself\u001b[0m\u001b[1;33m.\u001b[0m\u001b[0mfly_path\u001b[0m \u001b[1;33m+\u001b[0m \u001b[0mself\u001b[0m\u001b[1;33m.\u001b[0m\u001b[0mfly_record\u001b[0m\u001b[1;33m[\u001b[0m\u001b[1;34m'experiments'\u001b[0m\u001b[1;33m]\u001b[0m\u001b[1;33m[\u001b[0m\u001b[0mexperiment_name\u001b[0m\u001b[1;33m]\u001b[0m\u001b[1;33m[\u001b[0m\u001b[1;34m'axon_file_names'\u001b[0m\u001b[1;33m]\u001b[0m\u001b[1;33m[\u001b[0m\u001b[0mfilenum\u001b[0m\u001b[1;33m]\u001b[0m\u001b[1;33m\u001b[0m\u001b[0m\n\u001b[1;32m--> 102\u001b[1;33m         \u001b[0mself\u001b[0m\u001b[1;33m.\u001b[0m\u001b[0mfly_record\u001b[0m\u001b[1;33m[\u001b[0m\u001b[1;34m'experiments'\u001b[0m\u001b[1;33m]\u001b[0m\u001b[1;33m[\u001b[0m\u001b[0mexperiment_name\u001b[0m\u001b[1;33m]\u001b[0m\u001b[1;33m[\u001b[0m\u001b[1;34m'axon_data'\u001b[0m\u001b[1;33m]\u001b[0m \u001b[1;33m=\u001b[0m \u001b[0mget_axon_signals\u001b[0m\u001b[1;33m(\u001b[0m\u001b[0maxon_file\u001b[0m\u001b[1;33m)\u001b[0m\u001b[1;33m\u001b[0m\u001b[0m\n\u001b[0m\u001b[0;32m    103\u001b[0m \u001b[1;33m\u001b[0m\u001b[0m\n\u001b[0;32m    104\u001b[0m     \u001b[1;32mdef\u001b[0m \u001b[0mget_cam_epochs\u001b[0m\u001b[1;33m(\u001b[0m\u001b[0mself\u001b[0m\u001b[1;33m,\u001b[0m\u001b[0mexperiment_name\u001b[0m\u001b[1;33m)\u001b[0m\u001b[1;33m:\u001b[0m\u001b[1;33m\u001b[0m\u001b[0m\n",
        "\u001b[1;32m/home/matt/flycity/muscle_analysis/flylib.pyc\u001b[0m in \u001b[0;36mget_axon_signals\u001b[1;34m(filename)\u001b[0m\n\u001b[0;32m    163\u001b[0m     \u001b[1;32mfrom\u001b[0m \u001b[0mneo\u001b[0m\u001b[1;33m.\u001b[0m\u001b[0mio\u001b[0m\u001b[1;33m.\u001b[0m\u001b[0maxonio\u001b[0m \u001b[1;32mimport\u001b[0m \u001b[0mAxonIO\u001b[0m\u001b[1;33m\u001b[0m\u001b[0m\n\u001b[0;32m    164\u001b[0m     \u001b[0mreader\u001b[0m \u001b[1;33m=\u001b[0m \u001b[0mAxonIO\u001b[0m\u001b[1;33m(\u001b[0m\u001b[0mfilename\u001b[0m\u001b[1;33m=\u001b[0m\u001b[0mfilename\u001b[0m\u001b[1;33m)\u001b[0m\u001b[1;33m\u001b[0m\u001b[0m\n\u001b[1;32m--> 165\u001b[1;33m     \u001b[0mblocks\u001b[0m \u001b[1;33m=\u001b[0m \u001b[0mreader\u001b[0m\u001b[1;33m.\u001b[0m\u001b[0mread\u001b[0m\u001b[1;33m(\u001b[0m\u001b[1;33m)\u001b[0m\u001b[1;33m\u001b[0m\u001b[0m\n\u001b[0m\u001b[0;32m    166\u001b[0m     \u001b[0mheader\u001b[0m \u001b[1;33m=\u001b[0m \u001b[0mreader\u001b[0m\u001b[1;33m.\u001b[0m\u001b[0mread_header\u001b[0m\u001b[1;33m(\u001b[0m\u001b[1;33m)\u001b[0m\u001b[1;33m\u001b[0m\u001b[0m\n\u001b[0;32m    167\u001b[0m     \u001b[0mchannel_names\u001b[0m \u001b[1;33m=\u001b[0m \u001b[1;33m[\u001b[0m\u001b[0minfo\u001b[0m\u001b[1;33m[\u001b[0m\u001b[1;34m'ADCChNames'\u001b[0m\u001b[1;33m]\u001b[0m \u001b[1;32mfor\u001b[0m \u001b[0minfo\u001b[0m \u001b[1;32min\u001b[0m \u001b[0mheader\u001b[0m\u001b[1;33m[\u001b[0m\u001b[1;34m'listADCInfo'\u001b[0m\u001b[1;33m]\u001b[0m\u001b[1;33m]\u001b[0m\u001b[1;33m\u001b[0m\u001b[0m\n",
        "\u001b[1;32m/home/matt/flycity/muscle_analysis/neo/io/baseio.pyc\u001b[0m in \u001b[0;36mread\u001b[1;34m(self, lazy, cascade, **kargs)\u001b[0m\n\u001b[0;32m    102\u001b[0m                 return self.read_all_blocks(lazy=lazy, cascade=cascade,\n\u001b[0;32m    103\u001b[0m                                             **kargs)\n\u001b[1;32m--> 104\u001b[1;33m             \u001b[1;32mreturn\u001b[0m \u001b[1;33m[\u001b[0m\u001b[0mself\u001b[0m\u001b[1;33m.\u001b[0m\u001b[0mread_block\u001b[0m\u001b[1;33m(\u001b[0m\u001b[0mlazy\u001b[0m\u001b[1;33m=\u001b[0m\u001b[0mlazy\u001b[0m\u001b[1;33m,\u001b[0m \u001b[0mcascade\u001b[0m\u001b[1;33m=\u001b[0m\u001b[0mcascade\u001b[0m\u001b[1;33m,\u001b[0m \u001b[1;33m**\u001b[0m\u001b[0mkargs\u001b[0m\u001b[1;33m)\u001b[0m\u001b[1;33m]\u001b[0m\u001b[1;33m\u001b[0m\u001b[0m\n\u001b[0m\u001b[0;32m    105\u001b[0m         \u001b[1;32melif\u001b[0m \u001b[0mSegment\u001b[0m \u001b[1;32min\u001b[0m \u001b[0mself\u001b[0m\u001b[1;33m.\u001b[0m\u001b[0mreadable_objects\u001b[0m\u001b[1;33m:\u001b[0m\u001b[1;33m\u001b[0m\u001b[0m\n\u001b[0;32m    106\u001b[0m             \u001b[0mbl\u001b[0m \u001b[1;33m=\u001b[0m \u001b[0mBlock\u001b[0m\u001b[1;33m(\u001b[0m\u001b[0mname\u001b[0m\u001b[1;33m=\u001b[0m\u001b[1;34m'One segment only'\u001b[0m\u001b[1;33m)\u001b[0m\u001b[1;33m\u001b[0m\u001b[0m\n",
        "\u001b[1;32m/home/matt/flycity/muscle_analysis/neo/io/axonio.pyc\u001b[0m in \u001b[0;36mread_block\u001b[1;34m(self, lazy, cascade)\u001b[0m\n\u001b[0;32m    204\u001b[0m \u001b[1;33m\u001b[0m\u001b[0m\n\u001b[0;32m    205\u001b[0m         data = np.memmap(self.filename , dt  , 'r',\n\u001b[1;32m--> 206\u001b[1;33m                          shape = (totalsize,) , offset = headOffset)\n\u001b[0m\u001b[0;32m    207\u001b[0m \u001b[1;33m\u001b[0m\u001b[0m\n\u001b[0;32m    208\u001b[0m         \u001b[1;31m# 3 possible modes\u001b[0m\u001b[1;33m\u001b[0m\u001b[1;33m\u001b[0m\u001b[0m\n",
        "\u001b[1;32m/home/matt/Enthought/Canopy_32bit/User/lib/python2.7/site-packages/numpy/core/memmap.pyc\u001b[0m in \u001b[0;36m__new__\u001b[1;34m(subtype, filename, dtype, mode, offset, shape, order)\u001b[0m\n\u001b[0;32m    252\u001b[0m         \u001b[0mbytes\u001b[0m \u001b[1;33m-=\u001b[0m \u001b[0mstart\u001b[0m\u001b[1;33m\u001b[0m\u001b[0m\n\u001b[0;32m    253\u001b[0m         \u001b[0moffset\u001b[0m \u001b[1;33m-=\u001b[0m \u001b[0mstart\u001b[0m\u001b[1;33m\u001b[0m\u001b[0m\n\u001b[1;32m--> 254\u001b[1;33m         \u001b[0mmm\u001b[0m \u001b[1;33m=\u001b[0m \u001b[0mmmap\u001b[0m\u001b[1;33m.\u001b[0m\u001b[0mmmap\u001b[0m\u001b[1;33m(\u001b[0m\u001b[0mfid\u001b[0m\u001b[1;33m.\u001b[0m\u001b[0mfileno\u001b[0m\u001b[1;33m(\u001b[0m\u001b[1;33m)\u001b[0m\u001b[1;33m,\u001b[0m \u001b[0mbytes\u001b[0m\u001b[1;33m,\u001b[0m \u001b[0maccess\u001b[0m\u001b[1;33m=\u001b[0m\u001b[0macc\u001b[0m\u001b[1;33m,\u001b[0m \u001b[0moffset\u001b[0m\u001b[1;33m=\u001b[0m\u001b[0mstart\u001b[0m\u001b[1;33m)\u001b[0m\u001b[1;33m\u001b[0m\u001b[0m\n\u001b[0m\u001b[0;32m    255\u001b[0m \u001b[1;33m\u001b[0m\u001b[0m\n\u001b[0;32m    256\u001b[0m         self = ndarray.__new__(subtype, shape, dtype=descr, buffer=mm,\n",
        "\u001b[1;31merror\u001b[0m: [Errno 12] Cannot allocate memory"
       ]
      },
      {
       "output_type": "stream",
       "stream": "stdout",
       "text": [
        "\n"
       ]
      }
     ],
     "prompt_number": 37
    },
    {
     "cell_type": "code",
     "collapsed": false,
     "input": [],
     "language": "python",
     "metadata": {},
     "outputs": [],
     "prompt_number": 18
    },
    {
     "cell_type": "code",
     "collapsed": false,
     "input": [],
     "language": "python",
     "metadata": {},
     "outputs": [],
     "prompt_number": 19
    },
    {
     "cell_type": "code",
     "collapsed": false,
     "input": [],
     "language": "python",
     "metadata": {},
     "outputs": [
      {
       "metadata": {},
       "output_type": "pyout",
       "prompt_number": 20,
       "text": [
        "[112, 114, 115, 111]"
       ]
      }
     ],
     "prompt_number": 20
    },
    {
     "cell_type": "code",
     "collapsed": false,
     "input": [],
     "language": "python",
     "metadata": {},
     "outputs": [],
     "prompt_number": "*"
    },
    {
     "cell_type": "code",
     "collapsed": false,
     "input": [
      "np.concatenate(str([nan]),(np.arange(0,12)*30).tolist()"
     ],
     "language": "python",
     "metadata": {},
     "outputs": [
      {
       "ename": "SyntaxError",
       "evalue": "unexpected EOF while parsing (<ipython-input-12-592f10de7859>, line 1)",
       "output_type": "pyerr",
       "traceback": [
        "\u001b[1;36m  File \u001b[1;32m\"<ipython-input-12-592f10de7859>\"\u001b[1;36m, line \u001b[1;32m1\u001b[0m\n\u001b[1;33m    np.concatenate(str([nan]),(np.arange(0,12)*30).tolist()\u001b[0m\n\u001b[1;37m                                                           ^\u001b[0m\n\u001b[1;31mSyntaxError\u001b[0m\u001b[1;31m:\u001b[0m unexpected EOF while parsing\n"
       ]
      }
     ],
     "prompt_number": 12
    },
    {
     "cell_type": "code",
     "collapsed": false,
     "input": [],
     "language": "python",
     "metadata": {},
     "outputs": [
      {
       "metadata": {},
       "output_type": "pyout",
       "prompt_number": 566,
       "text": [
        "[[<matplotlib.lines.Line2D at 0x11a755890>],\n",
        " [<matplotlib.lines.Line2D at 0x11a785ed0>],\n",
        " [<matplotlib.lines.Line2D at 0x11a785d50>]]"
       ]
      }
     ],
     "prompt_number": 566
    },
    {
     "cell_type": "code",
     "collapsed": false,
     "input": [
      "plot(fly_record['experiments']['lr_blob_expansion']['axon_data']['Ypos'][aepochs[0][0]-1000000:aepochs[0][-1]+100000])"
     ],
     "language": "python",
     "metadata": {},
     "outputs": [
      {
       "metadata": {},
       "output_type": "pyout",
       "prompt_number": 472,
       "text": [
        "[<matplotlib.lines.Line2D at 0x120d11450>]"
       ]
      }
     ],
     "prompt_number": 472
    },
    {
     "cell_type": "code",
     "collapsed": false,
     "input": [
      "np.linspace(1,10,12)"
     ],
     "language": "python",
     "metadata": {},
     "outputs": [
      {
       "metadata": {},
       "output_type": "pyout",
       "prompt_number": 516,
       "text": [
        "array([  1.        ,   1.81818182,   2.63636364,   3.45454545,\n",
        "         4.27272727,   5.09090909,   5.90909091,   6.72727273,\n",
        "         7.54545455,   8.36363636,   9.18181818,  10.        ])"
       ]
      }
     ],
     "prompt_number": 516
    },
    {
     "cell_type": "code",
     "collapsed": false,
     "input": [
      "arange(0,11)*30"
     ],
     "language": "python",
     "metadata": {},
     "outputs": [
      {
       "metadata": {},
       "output_type": "pyout",
       "prompt_number": 518,
       "text": [
        "array([  0,  30,  60,  90, 120, 150, 180, 210, 240, 270, 300])"
       ]
      }
     ],
     "prompt_number": 518
    },
    {
     "cell_type": "code",
     "collapsed": false,
     "input": [
      "fly.load_axon_data('b1_azm_expansion_tuning')\n",
      "figure()\n",
      "x = hist(fly.fly_record['experiments']['b1_azm_expansion_tuning']['axon_data']['Ypos'],bins = 200)\n",
      "#x = hist(fly.fly_record['experiments']['lr_blob_expansion']['axon_data']['Ypos'],bins = 200)"
     ],
     "language": "python",
     "metadata": {},
     "outputs": [],
     "prompt_number": 485
    },
    {
     "cell_type": "code",
     "collapsed": false,
     "input": [
      "plot(fly.fly_record['experiments']['lr_blob_expansion']['axon_data']['Ypos'])"
     ],
     "language": "python",
     "metadata": {},
     "outputs": [
      {
       "metadata": {},
       "output_type": "pyout",
       "prompt_number": 235,
       "text": [
        "[<matplotlib.lines.Line2D at 0x11a111050>]"
       ]
      }
     ],
     "prompt_number": 235
    },
    {
     "cell_type": "code",
     "collapsed": false,
     "input": [
      "plot(fly.fly_record['experiments']['b1_azm_expansion_tuning']['axon_data']['Ypos'][::1000])"
     ],
     "language": "python",
     "metadata": {},
     "outputs": [
      {
       "metadata": {},
       "output_type": "pyout",
       "prompt_number": 246,
       "text": [
        "[<matplotlib.lines.Line2D at 0x11a596850>]"
       ]
      }
     ],
     "prompt_number": 246
    },
    {
     "cell_type": "code",
     "collapsed": false,
     "input": [
      "for seq in fly.fly_record['experiments']['lr_blob_expansion']['kine_sequences']:\n",
      "    stroke_amp_R = seq['phi_R']\n",
      "    stroke_amp_L = seq['phi_L']\n",
      "    stroke_dev_R = seq['eta_R']\n",
      "    stroke_dev_L = seq['eta_L']\n",
      "    wing_rot_R = seq['theta_R']\n",
      "    wing_rot_L = seq['theta_L']\n",
      "    plot(seq['axon_times'],wing_rot_R)"
     ],
     "language": "python",
     "metadata": {},
     "outputs": [],
     "prompt_number": 226
    },
    {
     "cell_type": "code",
     "collapsed": false,
     "input": [],
     "language": "python",
     "metadata": {},
     "outputs": []
    },
    {
     "cell_type": "code",
     "collapsed": false,
     "input": [],
     "language": "python",
     "metadata": {},
     "outputs": []
    },
    {
     "cell_type": "code",
     "collapsed": false,
     "input": [],
     "language": "python",
     "metadata": {},
     "outputs": []
    },
    {
     "cell_type": "code",
     "collapsed": false,
     "input": [
      "abs((linspace(0,10,12)-4)))"
     ],
     "language": "python",
     "metadata": {},
     "outputs": [
      {
       "metadata": {},
       "output_type": "pyout",
       "prompt_number": 259,
       "text": [
        "[<matplotlib.lines.Line2D at 0x1138c4450>]"
       ]
      }
     ],
     "prompt_number": 259
    },
    {
     "cell_type": "code",
     "collapsed": false,
     "input": [
      "fly.fly_record['experiments']['lr_blob_expansion']['kine_sequences'][0]['last_track']"
     ],
     "language": "python",
     "metadata": {},
     "outputs": [
      {
       "metadata": {},
       "output_type": "pyout",
       "prompt_number": 114,
       "text": [
        "1365"
       ]
      }
     ],
     "prompt_number": 114
    },
    {
     "cell_type": "code",
     "collapsed": false,
     "input": [
      "#ph_seq = fly.fly_record['experiments']['lr_blob_expansion']['photron_sequences'][1]\n",
      "ax0 = subplot(3,1,1)\n",
      "plot(array(frame_times[:]),ea_l[:,1])\n",
      "ax1 = subplot(3,1,2,sharex = ax0)\n",
      "plot(array(ephys.times)[epoch],array(ephys)[epoch])"
     ],
     "language": "python",
     "metadata": {},
     "outputs": [
      {
       "metadata": {},
       "output_type": "pyout",
       "prompt_number": 58,
       "text": [
        "[<matplotlib.lines.Line2D at 0xacfd540c>]"
       ]
      }
     ],
     "prompt_number": 58
    },
    {
     "cell_type": "code",
     "collapsed": false,
     "input": [
      "ax0 = subplot(2,1,1)\n",
      "plot(array(fly_record['experiments']['lr_blob_expansion']['axon_data']['Xpos'][::100]))"
     ],
     "language": "python",
     "metadata": {},
     "outputs": [
      {
       "metadata": {},
       "output_type": "pyout",
       "prompt_number": 59,
       "text": [
        "[<matplotlib.lines.Line2D at 0xac9c7b8c>]"
       ]
      }
     ],
     "prompt_number": 59
    },
    {
     "cell_type": "code",
     "collapsed": false,
     "input": [
      "plot(array(fly_record['experiments']['lr_blob_expansion']['axon_data']['AMsysCh1'][:10000:5])*-1)"
     ],
     "language": "python",
     "metadata": {},
     "outputs": [
      {
       "metadata": {},
       "output_type": "pyout",
       "prompt_number": 40,
       "text": [
        "[<matplotlib.lines.Line2D at 0xcdab72c>]"
       ]
      }
     ],
     "prompt_number": 40
    },
    {
     "cell_type": "code",
     "collapsed": false,
     "input": [
      "shape(frame_times)"
     ],
     "language": "python",
     "metadata": {},
     "outputs": [
      {
       "metadata": {},
       "output_type": "pyout",
       "prompt_number": 54,
       "text": [
        "(1366,)"
       ]
      }
     ],
     "prompt_number": 54
    },
    {
     "cell_type": "code",
     "collapsed": false,
     "input": [
      "from mpl_toolkits.mplot3d import Axes3D\n",
      "fig = plt.figure()\n",
      "ax = fig.add_subplot(111, projection='3d')\n",
      "l_wingtip = dot(rot_mats_left,[0,1,0]).T\n",
      "r_wingtip = dot(rot_mats_right,[0,-1,0]).T\n",
      "wing_frame_l = dot(l_frame,l_wingtip)\n",
      "wing_frame_r = dot(r_frame,r_wingtip)\n",
      "plot(l_wingtip[0],l_wingtip[1],'-o',zs=l_wingtip[2],)\n",
      "plot(r_wingtip[0],r_wingtip[1],'-o',zs=r_wingtip[2])\n",
      "#plot(wing_frame_l[0],wing_frame_l[1],'-o',zs=wing_frame_l[2])\n",
      "#plot(wing_frame_r[0],wing_frame_r[1],'-o',zs=wing_frame_r[2])"
     ],
     "language": "python",
     "metadata": {},
     "outputs": [
      {
       "metadata": {},
       "output_type": "pyout",
       "prompt_number": 16,
       "text": [
        "[<mpl_toolkits.mplot3d.art3d.Line3D at 0xc15894c>]"
       ]
      }
     ],
     "prompt_number": 16
    },
    {
     "cell_type": "code",
     "collapsed": false,
     "input": [],
     "language": "python",
     "metadata": {},
     "outputs": [],
     "prompt_number": 16
    },
    {
     "cell_type": "code",
     "collapsed": false,
     "input": [],
     "language": "python",
     "metadata": {},
     "outputs": [],
     "prompt_number": 16
    },
    {
     "cell_type": "code",
     "collapsed": false,
     "input": [],
     "language": "python",
     "metadata": {},
     "outputs": [],
     "prompt_number": 16
    },
    {
     "cell_type": "code",
     "collapsed": false,
     "input": [],
     "language": "python",
     "metadata": {},
     "outputs": [],
     "prompt_number": 16
    },
    {
     "cell_type": "code",
     "collapsed": false,
     "input": [],
     "language": "python",
     "metadata": {},
     "outputs": [],
     "prompt_number": 604
    },
    {
     "cell_type": "code",
     "collapsed": false,
     "input": [],
     "language": "python",
     "metadata": {},
     "outputs": [],
     "prompt_number": 604
    },
    {
     "cell_type": "code",
     "collapsed": false,
     "input": [],
     "language": "python",
     "metadata": {},
     "outputs": [],
     "prompt_number": 604
    },
    {
     "cell_type": "code",
     "collapsed": false,
     "input": [],
     "language": "python",
     "metadata": {},
     "outputs": [],
     "prompt_number": 604
    },
    {
     "cell_type": "code",
     "collapsed": false,
     "input": [],
     "language": "python",
     "metadata": {},
     "outputs": [],
     "prompt_number": 604
    },
    {
     "cell_type": "code",
     "collapsed": false,
     "input": [],
     "language": "python",
     "metadata": {},
     "outputs": [],
     "prompt_number": 16
    },
    {
     "cell_type": "code",
     "collapsed": false,
     "input": [],
     "language": "python",
     "metadata": {},
     "outputs": [],
     "prompt_number": 16
    },
    {
     "cell_type": "code",
     "collapsed": false,
     "input": [],
     "language": "python",
     "metadata": {},
     "outputs": [],
     "prompt_number": 16
    },
    {
     "cell_type": "code",
     "collapsed": false,
     "input": [],
     "language": "python",
     "metadata": {},
     "outputs": [],
     "prompt_number": 16
    },
    {
     "cell_type": "code",
     "collapsed": false,
     "input": [],
     "language": "python",
     "metadata": {},
     "outputs": [],
     "prompt_number": 16
    },
    {
     "cell_type": "code",
     "collapsed": false,
     "input": [],
     "language": "python",
     "metadata": {},
     "outputs": [],
     "prompt_number": 16
    },
    {
     "cell_type": "code",
     "collapsed": false,
     "input": [],
     "language": "python",
     "metadata": {},
     "outputs": [],
     "prompt_number": 16
    },
    {
     "cell_type": "code",
     "collapsed": false,
     "input": [],
     "language": "python",
     "metadata": {},
     "outputs": [],
     "prompt_number": 16
    },
    {
     "cell_type": "code",
     "collapsed": false,
     "input": [],
     "language": "python",
     "metadata": {},
     "outputs": [],
     "prompt_number": 16
    },
    {
     "cell_type": "code",
     "collapsed": false,
     "input": [],
     "language": "python",
     "metadata": {},
     "outputs": [],
     "prompt_number": 48
    },
    {
     "cell_type": "code",
     "collapsed": false,
     "input": [],
     "language": "python",
     "metadata": {},
     "outputs": [],
     "prompt_number": 16
    },
    {
     "cell_type": "code",
     "collapsed": false,
     "input": [],
     "language": "python",
     "metadata": {},
     "outputs": [],
     "prompt_number": 16
    },
    {
     "cell_type": "code",
     "collapsed": false,
     "input": [],
     "language": "python",
     "metadata": {},
     "outputs": [],
     "prompt_number": 16
    },
    {
     "cell_type": "code",
     "collapsed": false,
     "input": [],
     "language": "python",
     "metadata": {},
     "outputs": [],
     "prompt_number": 16
    },
    {
     "cell_type": "code",
     "collapsed": false,
     "input": [],
     "language": "python",
     "metadata": {},
     "outputs": [],
     "prompt_number": 16
    },
    {
     "cell_type": "code",
     "collapsed": false,
     "input": [],
     "language": "python",
     "metadata": {},
     "outputs": []
    }
   ],
   "metadata": {}
  }
 ]
}