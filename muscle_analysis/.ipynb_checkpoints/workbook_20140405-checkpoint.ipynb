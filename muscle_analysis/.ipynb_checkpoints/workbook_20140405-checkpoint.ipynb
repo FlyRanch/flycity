{
 "metadata": {
  "name": ""
 },
 "nbformat": 3,
 "nbformat_minor": 0,
 "worksheets": [
  {
   "cells": [
    {
     "cell_type": "code",
     "collapsed": false,
     "input": [
      "import sys\n",
      "import json\n",
      "import os\n",
      "import random\n",
      "import scipy\n",
      "import numpy as np\n",
      "import flylib\n",
      "import quantities as pq"
     ],
     "language": "python",
     "metadata": {},
     "outputs": [],
     "prompt_number": 389
    },
    {
     "cell_type": "code",
     "collapsed": false,
     "input": [
      "fly_db = dict()"
     ],
     "language": "python",
     "metadata": {},
     "outputs": [],
     "prompt_number": 558
    },
    {
     "cell_type": "code",
     "collapsed": false,
     "input": [
      "###use a dictionary as the datamodel for now - perhaps switch to a relational DB in the future\n",
      "fly_record = dict()\n",
      "fly_record['flynum'] = 111\n",
      "fly_record['experiments'] = dict()\n",
      "fly_record['experiments']['lr_blob_expansion'] = dict()\n",
      "fly_record['experiments']['lr_blob_expansion']['photron_seq_nums'] = [1,2,3,4,5,6]\n",
      "fly_record['experiments']['lr_blob_expansion']['axon_file_names'] = ['fly01_lr_blob_expansion_14401000.abf']\n",
      "fly_record['experiments']['lr_blob_expansion']['photron_date_string'] = '20140401'\n",
      "fly_record['experiments']['lr_blob_expansion']['kine_filename'] = 'WBkin.mat'\n",
      "fly_record['experiments']['lr_blob_expansion']['solution_format_string'] = '20140401_S%04d/'\n",
      "fly_record['experiments']['lr_blob_expansion']['photron_frame_rate_Hz'] = 6000\n",
      "fly_record['experiments']['lr_blob_expansion']['Ypos_trial_volts'] = np.linspace(1,10,12)\n",
      "fly_record['experiments']['lr_blob_expansion']['Ypos_trial_vals'] = np.concatenate(([nan],np.arange(0,12)*30))\n",
      "fly_record['experiments']['b1_azm_expansion_tuning'] = dict()\n",
      "fly_record['experiments']['b1_azm_expansion_tuning']['axon_file_names'] = ['fly01_b1tuning_14401001.abf']\n",
      "fly_db[fly_record['flynum']] = fly_record"
     ],
     "language": "python",
     "metadata": {},
     "outputs": [],
     "prompt_number": 559
    },
    {
     "cell_type": "code",
     "collapsed": false,
     "input": [
      "###use a dictionary as the datamodel for now - perhaps switch to a relational DB in the future\n",
      "fly_record = dict()\n",
      "fly_record['flynum'] = 112\n",
      "fly_record['experiments'] = dict()\n",
      "fly_record['experiments']['lr_blob_expansion'] = dict()\n",
      "fly_record['experiments']['lr_blob_expansion']['photron_seq_nums'] = [7,8,9,10,11,12]\n",
      "fly_record['experiments']['lr_blob_expansion']['axon_file_names'] = ['fly02_lr_blob_expansion_14401002.abf']\n",
      "fly_record['experiments']['lr_blob_expansion']['photron_date_string'] = '20140401'\n",
      "fly_record['experiments']['lr_blob_expansion']['kine_filename'] = 'WBkin.mat'\n",
      "fly_record['experiments']['lr_blob_expansion']['solution_format_string'] = '20140401_S%04d/'\n",
      "fly_record['experiments']['lr_blob_expansion']['photron_frame_rate_Hz'] = 6000\n",
      "fly_record['experiments']['lr_blob_expansion']['Ypos_trial_volts'] = np.linspace(1,10,12)\n",
      "fly_record['experiments']['lr_blob_expansion']['Ypos_trial_vals'] = np.concatenate(([nan],np.arange(0,12)*30))\n",
      "fly_record['experiments']['b1_azm_expansion_tuning'] = dict()\n",
      "fly_record['experiments']['b1_azm_expansion_tuning']['axon_file_names'] = ['fly02_b1tuning_14401003.abf']\n",
      "fly_db[fly_record['flynum']] = fly_record"
     ],
     "language": "python",
     "metadata": {},
     "outputs": [],
     "prompt_number": 560
    },
    {
     "cell_type": "code",
     "collapsed": false,
     "input": [
      "###use a dictionary as the datamodel for now - perhaps switch to a relational DB in the future\n",
      "fly_record = dict()\n",
      "fly_record['flynum'] = 114\n",
      "fly_record['experiments'] = dict()\n",
      "fly_record['experiments']['lr_blob_expansion'] = dict()\n",
      "fly_record['experiments']['lr_blob_expansion']['photron_seq_nums'] = [13,14,15,16,17,18]\n",
      "fly_record['experiments']['lr_blob_expansion']['axon_file_names'] = ['fly04_lr_blob_expansion_14401012.abf']\n",
      "fly_record['experiments']['lr_blob_expansion']['photron_date_string'] = '20140401'\n",
      "fly_record['experiments']['lr_blob_expansion']['kine_filename'] = 'WBkin.mat'\n",
      "fly_record['experiments']['lr_blob_expansion']['solution_format_string'] = '20140401_S%04d/'\n",
      "fly_record['experiments']['lr_blob_expansion']['photron_frame_rate_Hz'] = 6000\n",
      "fly_record['experiments']['lr_blob_expansion']['Ypos_trial_volts'] = np.linspace(1,10,12)\n",
      "fly_record['experiments']['lr_blob_expansion']['Ypos_trial_vals'] = np.concatenate(([nan],np.arange(0,12)*30))\n",
      "fly_record['experiments']['b1_azm_expansion_tuning'] = dict()\n",
      "fly_record['experiments']['b1_azm_expansion_tuning']['axon_file_names'] = ['fly01_b1tuning_14401013.abf']\n",
      "fly_db[fly_record['flynum']] = fly_record"
     ],
     "language": "python",
     "metadata": {},
     "outputs": [],
     "prompt_number": 561
    },
    {
     "cell_type": "code",
     "collapsed": false,
     "input": [
      "###use a dictionary as the datamodel for now - perhaps switch to a relational DB in the future\n",
      "fly_record = dict()\n",
      "fly_record['flynum'] = 115\n",
      "fly_record['experiments'] = dict()\n",
      "fly_record['experiments']['lr_blob_expansion'] = dict()\n",
      "fly_record['experiments']['lr_blob_expansion']['photron_seq_nums'] = [1,2,3,4,5,6]\n",
      "fly_record['experiments']['lr_blob_expansion']['axon_file_names'] = ['fly01_lr_blob_expansion_14402001.abf']\n",
      "fly_record['experiments']['lr_blob_expansion']['photron_date_string'] = '20140402'\n",
      "fly_record['experiments']['lr_blob_expansion']['kine_filename'] = 'WBkin.mat'\n",
      "fly_record['experiments']['lr_blob_expansion']['solution_format_string'] = '20140402_S%04d/'\n",
      "fly_record['experiments']['lr_blob_expansion']['photron_frame_rate_Hz'] = 6000\n",
      "fly_record['experiments']['lr_blob_expansion']['Ypos_trial_volts'] = np.linspace(1,10,12)\n",
      "fly_record['experiments']['lr_blob_expansion']['Ypos_trial_vals'] = np.concatenate(([nan],np.arange(0,12)*30))\n",
      "fly_record['experiments']['b1_azm_expansion_tuning'] = dict()\n",
      "fly_record['experiments']['b1_azm_expansion_tuning']['axon_file_names'] = ['fly01_b1tuning_14402002.abf']\n",
      "fly_db[fly_record['flynum']] = fly_record"
     ],
     "language": "python",
     "metadata": {},
     "outputs": [],
     "prompt_number": 562
    },
    {
     "cell_type": "code",
     "collapsed": false,
     "input": [
      "fly_db.keys()"
     ],
     "language": "python",
     "metadata": {},
     "outputs": [
      {
       "metadata": {},
       "output_type": "pyout",
       "prompt_number": 574,
       "text": [
        "[112, 114, 115, 111]"
       ]
      }
     ],
     "prompt_number": 574
    },
    {
     "cell_type": "code",
     "collapsed": false,
     "input": [
      "figure()\n",
      "fln = 111\n",
      "reload(flylib)\n",
      "fly = flylib.Fly(fly_db[fln])\n",
      "fly.get_cam_epochs('lr_blob_expansion')\n",
      "seqs = fly_db[fln]['experiments']['lr_blob_expansion']['kine_sequences']\n",
      "stroke_amp_R = 'phi_R'\n",
      "stroke_amp_L = 'phi_L'\n",
      "stroke_dev_R = 'theta_R'\n",
      "stroke_dev_L = 'theta_L'\n",
      "wing_rot_R = 'eta_R'\n",
      "wing_rot_L = 'eta_L'\n",
      "subplot(3,1,1)\n",
      "[plot(s[stroke_amp_L]-s[stroke_amp_R],color = 'r') for s in seqs if s['expan_pol'] == 90]\n",
      "[plot(s[stroke_amp_L]-s[stroke_amp_R],color = 'b') for s in seqs if s['expan_pol'] == 270]\n",
      "subplot(3,1,2)\n",
      "[plot(s[stroke_dev_L]-s[stroke_dev_R],color = 'r') for s in seqs if s['expan_pol'] == 90]\n",
      "[plot(s[stroke_dev_L]-s[stroke_dev_R],color = 'b') for s in seqs if s['expan_pol'] == 270]\n",
      "subplot(3,1,3)\n",
      "[plot(s[wing_rot_L]-s[wing_rot_R],color = 'r') for s in seqs if s['expan_pol'] == 90]\n",
      "[plot(s[wing_rot_L]-s[wing_rot_R],color = 'b') for s in seqs if s['expan_pol'] == 270]"
     ],
     "language": "python",
     "metadata": {},
     "outputs": [
      {
       "metadata": {},
       "output_type": "pyout",
       "prompt_number": 604,
       "text": [
        "[[<matplotlib.lines.Line2D at 0x119e30a10>],\n",
        " [<matplotlib.lines.Line2D at 0x119e34090>],\n",
        " [<matplotlib.lines.Line2D at 0x119e346d0>]]"
       ]
      }
     ],
     "prompt_number": 604
    },
    {
     "cell_type": "code",
     "collapsed": false,
     "input": [],
     "language": "python",
     "metadata": {},
     "outputs": [],
     "prompt_number": 570
    },
    {
     "cell_type": "code",
     "collapsed": false,
     "input": [],
     "language": "python",
     "metadata": {},
     "outputs": [
      {
       "metadata": {},
       "output_type": "pyout",
       "prompt_number": 566,
       "text": [
        "[[<matplotlib.lines.Line2D at 0x11a755890>],\n",
        " [<matplotlib.lines.Line2D at 0x11a785ed0>],\n",
        " [<matplotlib.lines.Line2D at 0x11a785d50>]]"
       ]
      }
     ],
     "prompt_number": 566
    },
    {
     "cell_type": "code",
     "collapsed": false,
     "input": [
      "plot(fly_record['experiments']['lr_blob_expansion']['axon_data']['Ypos'][aepochs[0][0]-1000000:aepochs[0][-1]+100000])"
     ],
     "language": "python",
     "metadata": {},
     "outputs": [
      {
       "metadata": {},
       "output_type": "pyout",
       "prompt_number": 472,
       "text": [
        "[<matplotlib.lines.Line2D at 0x120d11450>]"
       ]
      }
     ],
     "prompt_number": 472
    },
    {
     "cell_type": "code",
     "collapsed": false,
     "input": [
      "np.linspace(1,10,12)"
     ],
     "language": "python",
     "metadata": {},
     "outputs": [
      {
       "metadata": {},
       "output_type": "pyout",
       "prompt_number": 516,
       "text": [
        "array([  1.        ,   1.81818182,   2.63636364,   3.45454545,\n",
        "         4.27272727,   5.09090909,   5.90909091,   6.72727273,\n",
        "         7.54545455,   8.36363636,   9.18181818,  10.        ])"
       ]
      }
     ],
     "prompt_number": 516
    },
    {
     "cell_type": "code",
     "collapsed": false,
     "input": [
      "arange(0,11)*30"
     ],
     "language": "python",
     "metadata": {},
     "outputs": [
      {
       "metadata": {},
       "output_type": "pyout",
       "prompt_number": 518,
       "text": [
        "array([  0,  30,  60,  90, 120, 150, 180, 210, 240, 270, 300])"
       ]
      }
     ],
     "prompt_number": 518
    },
    {
     "cell_type": "code",
     "collapsed": false,
     "input": [
      "fly.load_axon_data('b1_azm_expansion_tuning')\n",
      "figure()\n",
      "x = hist(fly.fly_record['experiments']['b1_azm_expansion_tuning']['axon_data']['Ypos'],bins = 200)\n",
      "#x = hist(fly.fly_record['experiments']['lr_blob_expansion']['axon_data']['Ypos'],bins = 200)"
     ],
     "language": "python",
     "metadata": {},
     "outputs": [],
     "prompt_number": 485
    },
    {
     "cell_type": "code",
     "collapsed": false,
     "input": [
      "plot(fly.fly_record['experiments']['lr_blob_expansion']['axon_data']['Ypos'])"
     ],
     "language": "python",
     "metadata": {},
     "outputs": [
      {
       "metadata": {},
       "output_type": "pyout",
       "prompt_number": 235,
       "text": [
        "[<matplotlib.lines.Line2D at 0x11a111050>]"
       ]
      }
     ],
     "prompt_number": 235
    },
    {
     "cell_type": "code",
     "collapsed": false,
     "input": [
      "plot(fly.fly_record['experiments']['b1_azm_expansion_tuning']['axon_data']['Ypos'][::1000])"
     ],
     "language": "python",
     "metadata": {},
     "outputs": [
      {
       "metadata": {},
       "output_type": "pyout",
       "prompt_number": 246,
       "text": [
        "[<matplotlib.lines.Line2D at 0x11a596850>]"
       ]
      }
     ],
     "prompt_number": 246
    },
    {
     "cell_type": "code",
     "collapsed": false,
     "input": [
      "for seq in fly.fly_record['experiments']['lr_blob_expansion']['kine_sequences']:\n",
      "    stroke_amp_R = seq['phi_R']\n",
      "    stroke_amp_L = seq['phi_L']\n",
      "    stroke_dev_R = seq['eta_R']\n",
      "    stroke_dev_L = seq['eta_L']\n",
      "    wing_rot_R = seq['theta_R']\n",
      "    wing_rot_L = seq['theta_L']\n",
      "    plot(seq['axon_times'],wing_rot_R)"
     ],
     "language": "python",
     "metadata": {},
     "outputs": [],
     "prompt_number": 226
    },
    {
     "cell_type": "code",
     "collapsed": false,
     "input": [
      "abs((linspace(0,10,12)-4)))"
     ],
     "language": "python",
     "metadata": {},
     "outputs": [
      {
       "metadata": {},
       "output_type": "pyout",
       "prompt_number": 259,
       "text": [
        "[<matplotlib.lines.Line2D at 0x1138c4450>]"
       ]
      }
     ],
     "prompt_number": 259
    },
    {
     "cell_type": "code",
     "collapsed": false,
     "input": [
      "fly.fly_record['experiments']['lr_blob_expansion']['kine_sequences'][0]['last_track']"
     ],
     "language": "python",
     "metadata": {},
     "outputs": [
      {
       "metadata": {},
       "output_type": "pyout",
       "prompt_number": 114,
       "text": [
        "1365"
       ]
      }
     ],
     "prompt_number": 114
    },
    {
     "cell_type": "code",
     "collapsed": false,
     "input": [
      "epoch = fly.fly_record['experiments']['lr_blob_expansion']['cam_epochs'][0]\n",
      "ph_seq = fly.fly_record['experiments']['lr_blob_expansion']['photron_sequences'][0]\n",
      "frame_idxs = fly.fly_record['experiments']['lr_blob_expansion']['frame_idxs'][0]\n",
      "frame_times = fly.fly_record['experiments']['lr_blob_expansion']['frame_times'][0]\n",
      "ephys = fly.fly_record['experiments']['lr_blob_expansion']['axon_data']['AMsysCh1']\n",
      "q_left = squeeze(ph_seq[:,[9,10,11,8]])\n",
      "q_right = squeeze(ph_seq[:,[13,14,15,12]])\n",
      "import transformations as trans\n",
      "rot_mats_left = array([trans.quaternion_matrix(x.T)[:3,:3] for x in q_left])\n",
      "rot_mats_right = array([trans.quaternion_matrix(x.T)[:3,:3] for x in q_right])\n",
      "l_frame = trans.rotation_matrix(deg2rad(65),[0,-1,0],)[:3,:3]\n",
      "r_frame = trans.rotation_matrix(deg2rad(-65),[0,1,0],)[:3,:3]\n",
      "ea_l = array([trans.euler_from_quaternion(x,'rzxy') for x in q_right])\n",
      "#start_frame = ph_seq[0,0] + 1 #matlab's ones indexing :<\n",
      "#pad_seq = np.pad(ph_seq,((start_frame-2,0),(0,0)),'constant')\n",
      "#pad_seq[:start_frame-2,0] = arange(1,start_frame-1)"
     ],
     "language": "python",
     "metadata": {},
     "outputs": [],
     "prompt_number": 56
    },
    {
     "cell_type": "code",
     "collapsed": false,
     "input": [
      "#ph_seq = fly.fly_record['experiments']['lr_blob_expansion']['photron_sequences'][1]\n",
      "ax0 = subplot(3,1,1)\n",
      "plot(array(frame_times[:]),ea_l[:,1])\n",
      "ax1 = subplot(3,1,2,sharex = ax0)\n",
      "plot(array(ephys.times)[epoch],array(ephys)[epoch])"
     ],
     "language": "python",
     "metadata": {},
     "outputs": [
      {
       "metadata": {},
       "output_type": "pyout",
       "prompt_number": 58,
       "text": [
        "[<matplotlib.lines.Line2D at 0xacfd540c>]"
       ]
      }
     ],
     "prompt_number": 58
    },
    {
     "cell_type": "code",
     "collapsed": false,
     "input": [
      "ax0 = subplot(2,1,1)\n",
      "plot(array(fly_record['experiments']['lr_blob_expansion']['axon_data']['Xpos'][::100]))"
     ],
     "language": "python",
     "metadata": {},
     "outputs": [
      {
       "metadata": {},
       "output_type": "pyout",
       "prompt_number": 59,
       "text": [
        "[<matplotlib.lines.Line2D at 0xac9c7b8c>]"
       ]
      }
     ],
     "prompt_number": 59
    },
    {
     "cell_type": "code",
     "collapsed": false,
     "input": [
      "plot(array(fly_record['experiments']['lr_blob_expansion']['axon_data']['AMsysCh1'][:10000:5])*-1)"
     ],
     "language": "python",
     "metadata": {},
     "outputs": [
      {
       "metadata": {},
       "output_type": "pyout",
       "prompt_number": 40,
       "text": [
        "[<matplotlib.lines.Line2D at 0xcdab72c>]"
       ]
      }
     ],
     "prompt_number": 40
    },
    {
     "cell_type": "code",
     "collapsed": false,
     "input": [
      "shape(frame_times)"
     ],
     "language": "python",
     "metadata": {},
     "outputs": [
      {
       "metadata": {},
       "output_type": "pyout",
       "prompt_number": 54,
       "text": [
        "(1366,)"
       ]
      }
     ],
     "prompt_number": 54
    },
    {
     "cell_type": "code",
     "collapsed": false,
     "input": [
      "from mpl_toolkits.mplot3d import Axes3D\n",
      "fig = plt.figure()\n",
      "ax = fig.add_subplot(111, projection='3d')\n",
      "l_wingtip = dot(rot_mats_left,[0,1,0]).T\n",
      "r_wingtip = dot(rot_mats_right,[0,-1,0]).T\n",
      "wing_frame_l = dot(l_frame,l_wingtip)\n",
      "wing_frame_r = dot(r_frame,r_wingtip)\n",
      "plot(l_wingtip[0],l_wingtip[1],'-o',zs=l_wingtip[2],)\n",
      "plot(r_wingtip[0],r_wingtip[1],'-o',zs=r_wingtip[2])\n",
      "#plot(wing_frame_l[0],wing_frame_l[1],'-o',zs=wing_frame_l[2])\n",
      "#plot(wing_frame_r[0],wing_frame_r[1],'-o',zs=wing_frame_r[2])"
     ],
     "language": "python",
     "metadata": {},
     "outputs": [
      {
       "metadata": {},
       "output_type": "pyout",
       "prompt_number": 16,
       "text": [
        "[<mpl_toolkits.mplot3d.art3d.Line3D at 0xc15894c>]"
       ]
      }
     ],
     "prompt_number": 16
    },
    {
     "cell_type": "code",
     "collapsed": false,
     "input": [],
     "language": "python",
     "metadata": {},
     "outputs": [],
     "prompt_number": 16
    },
    {
     "cell_type": "code",
     "collapsed": false,
     "input": [],
     "language": "python",
     "metadata": {},
     "outputs": [],
     "prompt_number": 16
    },
    {
     "cell_type": "code",
     "collapsed": false,
     "input": [],
     "language": "python",
     "metadata": {},
     "outputs": [],
     "prompt_number": 16
    },
    {
     "cell_type": "code",
     "collapsed": false,
     "input": [],
     "language": "python",
     "metadata": {},
     "outputs": [],
     "prompt_number": 16
    },
    {
     "cell_type": "code",
     "collapsed": false,
     "input": [],
     "language": "python",
     "metadata": {},
     "outputs": [],
     "prompt_number": 604
    },
    {
     "cell_type": "code",
     "collapsed": false,
     "input": [],
     "language": "python",
     "metadata": {},
     "outputs": [],
     "prompt_number": 604
    },
    {
     "cell_type": "code",
     "collapsed": false,
     "input": [],
     "language": "python",
     "metadata": {},
     "outputs": [],
     "prompt_number": 604
    },
    {
     "cell_type": "code",
     "collapsed": false,
     "input": [],
     "language": "python",
     "metadata": {},
     "outputs": [],
     "prompt_number": 604
    },
    {
     "cell_type": "code",
     "collapsed": false,
     "input": [],
     "language": "python",
     "metadata": {},
     "outputs": [],
     "prompt_number": 604
    },
    {
     "cell_type": "code",
     "collapsed": false,
     "input": [],
     "language": "python",
     "metadata": {},
     "outputs": [],
     "prompt_number": 16
    },
    {
     "cell_type": "code",
     "collapsed": false,
     "input": [],
     "language": "python",
     "metadata": {},
     "outputs": [],
     "prompt_number": 16
    },
    {
     "cell_type": "code",
     "collapsed": false,
     "input": [],
     "language": "python",
     "metadata": {},
     "outputs": [],
     "prompt_number": 16
    },
    {
     "cell_type": "code",
     "collapsed": false,
     "input": [],
     "language": "python",
     "metadata": {},
     "outputs": [],
     "prompt_number": 16
    },
    {
     "cell_type": "code",
     "collapsed": false,
     "input": [],
     "language": "python",
     "metadata": {},
     "outputs": [],
     "prompt_number": 16
    },
    {
     "cell_type": "code",
     "collapsed": false,
     "input": [],
     "language": "python",
     "metadata": {},
     "outputs": [],
     "prompt_number": 16
    },
    {
     "cell_type": "code",
     "collapsed": false,
     "input": [],
     "language": "python",
     "metadata": {},
     "outputs": [],
     "prompt_number": 16
    },
    {
     "cell_type": "code",
     "collapsed": false,
     "input": [],
     "language": "python",
     "metadata": {},
     "outputs": [],
     "prompt_number": 16
    },
    {
     "cell_type": "code",
     "collapsed": false,
     "input": [],
     "language": "python",
     "metadata": {},
     "outputs": [],
     "prompt_number": 16
    },
    {
     "cell_type": "code",
     "collapsed": false,
     "input": [],
     "language": "python",
     "metadata": {},
     "outputs": [],
     "prompt_number": 48
    },
    {
     "cell_type": "code",
     "collapsed": false,
     "input": [],
     "language": "python",
     "metadata": {},
     "outputs": [],
     "prompt_number": 16
    },
    {
     "cell_type": "code",
     "collapsed": false,
     "input": [],
     "language": "python",
     "metadata": {},
     "outputs": [],
     "prompt_number": 16
    },
    {
     "cell_type": "code",
     "collapsed": false,
     "input": [],
     "language": "python",
     "metadata": {},
     "outputs": [],
     "prompt_number": 16
    },
    {
     "cell_type": "code",
     "collapsed": false,
     "input": [],
     "language": "python",
     "metadata": {},
     "outputs": [],
     "prompt_number": 16
    },
    {
     "cell_type": "code",
     "collapsed": false,
     "input": [],
     "language": "python",
     "metadata": {},
     "outputs": [],
     "prompt_number": 16
    },
    {
     "cell_type": "code",
     "collapsed": false,
     "input": [],
     "language": "python",
     "metadata": {},
     "outputs": []
    }
   ],
   "metadata": {}
  }
 ]
}