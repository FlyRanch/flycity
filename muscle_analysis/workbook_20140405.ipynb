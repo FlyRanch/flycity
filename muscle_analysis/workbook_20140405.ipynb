{
 "metadata": {
  "name": "workbook_20140405"
 },
 "nbformat": 3,
 "nbformat_minor": 0,
 "worksheets": [
  {
   "cells": [
    {
     "cell_type": "code",
     "collapsed": false,
     "input": [
      "import sys\n",
      "import json\n",
      "import os\n",
      "import random\n",
      "import scipy\n",
      "import numpy as np"
     ],
     "language": "python",
     "metadata": {},
     "outputs": [],
     "prompt_number": 251
    },
    {
     "cell_type": "code",
     "collapsed": false,
     "input": [
      "param_file = open('params.json','rb')\n",
      "params = json.load(param_file)\n",
      "param_file.close()\n",
      "rootpath = params['platform_paths'][sys.platform] + params['root_dir']"
     ],
     "language": "python",
     "metadata": {},
     "outputs": []
    },
    {
     "cell_type": "code",
     "collapsed": false,
     "input": [
      "###use a dictionary as the datamodel for now - perhaps switch to a relational DB in the future\n",
      "fly_record = dict()\n",
      "fly_db = dict()\n",
      "fly_record['flynum'] = 111\n",
      "fly_record['experiments'] = dict()\n",
      "fly_record['experiments']['lr_blob_expansion'] = dict()\n",
      "fly_record['experiments']['lr_blob_expansion']['photron_seq_nums'] = [1,2,3,4,5,6]\n",
      "fly_record['experiments']['lr_blob_expansion']['axon_file_names'] = ['fly01_lr_blob_expansion_14401000.abf']\n",
      "fly_record['experiments']['lr_blob_expansion']['photron_date_string'] = '20140401'\n",
      "fly_record['experiments']['lr_blob_expansion']['solution_format_string'] = '/20140401_S%04d/'\n",
      "fly_record['experiments']['b1_azm_expansion_tuning'] = dict()\n",
      "fly_record['experiments']['b1_azm_expansion_tuning']['axon_file_names'] = ['fly01_b1tuning_14401001.abf']\n",
      "fly_db[fly_record['flynum']] = fly_record"
     ],
     "language": "python",
     "metadata": {},
     "outputs": [],
     "prompt_number": 90
    },
    {
     "cell_type": "code",
     "collapsed": false,
     "input": [
      "fly_path = rootpath + ('Fly%04d')%(fly_record['flynum'])"
     ],
     "language": "python",
     "metadata": {},
     "outputs": [],
     "prompt_number": 91
    },
    {
     "cell_type": "code",
     "collapsed": false,
     "input": [
      "class Fly(object):\n",
      "    \"\"\"Controler object for fly data\"\"\"\n",
      "    def __init__(self,fly_record):\n",
      "        self.flynum = fly_record['flynum']\n",
      "        self.fly_record = fly_record\n",
      "        self.param_file = open('params.json','rb')\n",
      "        self.params = json.load(self.param_file)\n",
      "        self.param_file.close()\n",
      "        self.rootpath = self.params['platform_paths'][sys.platform] + self.params['root_dir']\n",
      "        self.fly_path = self.rootpath + ('Fly%04d')%(fly_record['flynum'])\n",
      "        \n",
      "    def load_solution_list(self,experiment_name):\n",
      "        snums = self.fly_record['experiments'][experiment_name]['photron_seq_nums']\n",
      "        frmtstr = self.fly_record['experiments'][experiment_name]['solution_format_string']\n",
      "        seqpaths = [fly_path + frmtstr%(snum) for snum in snums]\n",
      "        return seqpaths\n",
      "        \n",
      "    def load_solution_seq(self,sequence_path):\n",
      "        flytracks_path = sequence_path + 'flytracks/'\n",
      "        features_path = sequence_path + 'Features/'\n",
      "        tracklist = filter(lambda x: x.startswith('fly'), os.listdir(flytracks_path))\n",
      "        framenums = [int(s.strip('fly.mat')) for s in tracklist]\n",
      "        tracklist = [x for (y,x) in sorted(zip(framenums,tracklist))]\n",
      "        tracklist = [flytracks_path + x for x in tracklist]\n",
      "        import scipy.io\n",
      "        mats = [scipy.io.loadmat(trk)['xh'] for trk in tracklist]\n",
      "        mats = array([squeeze(pad(squeeze(mat),(0,15-shape(mat)[0]),'constant')) for mat in mats])\n",
      "        framenums = squeeze(sorted(framenums))\n",
      "        return np.concatenate((framenums[:,newaxis],mats),axis = 1)\n",
      "        #return np.concatenate((mats,array(framenums).T),axis = 0)"
     ],
     "language": "python",
     "metadata": {},
     "outputs": [],
     "prompt_number": 358
    },
    {
     "cell_type": "code",
     "collapsed": false,
     "input": [],
     "language": "python",
     "metadata": {},
     "outputs": [],
     "prompt_number": 358
    },
    {
     "cell_type": "code",
     "collapsed": false,
     "input": [
      "fly = Fly(fly_record)"
     ],
     "language": "python",
     "metadata": {},
     "outputs": [],
     "prompt_number": 359
    },
    {
     "cell_type": "code",
     "collapsed": false,
     "input": [
      "spaths = fly.load_solution_list('lr_blob_expansion')"
     ],
     "language": "python",
     "metadata": {},
     "outputs": [],
     "prompt_number": 360
    },
    {
     "cell_type": "code",
     "collapsed": false,
     "input": [
      "spaths[0]"
     ],
     "language": "python",
     "metadata": {},
     "outputs": [
      {
       "output_type": "pyout",
       "prompt_number": 361,
       "text": [
        "u'/Volumes/FlyData/FlyDB/Fly0111/20140401_S0001/'"
       ]
      }
     ],
     "prompt_number": 361
    },
    {
     "cell_type": "code",
     "collapsed": false,
     "input": [
      "mats = fly.load_solution_seq(spaths[0])"
     ],
     "language": "python",
     "metadata": {},
     "outputs": [],
     "prompt_number": 362
    },
    {
     "cell_type": "code",
     "collapsed": false,
     "input": [
      "plot(mats[:,0],mats[:,1:])"
     ],
     "language": "python",
     "metadata": {},
     "outputs": [
      {
       "output_type": "pyout",
       "prompt_number": 365,
       "text": [
        "[<matplotlib.lines.Line2D at 0x11469f4d0>,\n",
        " <matplotlib.lines.Line2D at 0x11469f750>,\n",
        " <matplotlib.lines.Line2D at 0x11469f990>,\n",
        " <matplotlib.lines.Line2D at 0x11469fb50>,\n",
        " <matplotlib.lines.Line2D at 0x11469fd10>,\n",
        " <matplotlib.lines.Line2D at 0x11469fed0>,\n",
        " <matplotlib.lines.Line2D at 0x1146a30d0>,\n",
        " <matplotlib.lines.Line2D at 0x10f9c0d10>,\n",
        " <matplotlib.lines.Line2D at 0x1146a3450>,\n",
        " <matplotlib.lines.Line2D at 0x1146a3610>,\n",
        " <matplotlib.lines.Line2D at 0x1146a37d0>,\n",
        " <matplotlib.lines.Line2D at 0x1146a3990>,\n",
        " <matplotlib.lines.Line2D at 0x1146a3b50>,\n",
        " <matplotlib.lines.Line2D at 0x1146a3d10>,\n",
        " <matplotlib.lines.Line2D at 0x1146a3ed0>]"
       ]
      }
     ],
     "prompt_number": 365
    },
    {
     "cell_type": "code",
     "collapsed": false,
     "input": [],
     "language": "python",
     "metadata": {},
     "outputs": [
      {
       "output_type": "pyout",
       "prompt_number": 183,
       "text": [
        "array([ 4.07873964,  1.94988808,  2.60932765,  0.73711717,  0.66512658,\n",
        "        0.08563455, -0.08325642, -0.04928318, -0.23711939, -0.24066459,\n",
        "        0.94197083, -0.03713443,  0.13276203,  0.15814518,  0.97541348])"
       ]
      }
     ],
     "prompt_number": 183
    },
    {
     "cell_type": "code",
     "collapsed": false,
     "input": [],
     "language": "python",
     "metadata": {},
     "outputs": [
      {
       "ename": "ValueError",
       "evalue": "matrices are not aligned",
       "output_type": "pyerr",
       "traceback": [
        "\u001b[0;31m---------------------------------------------------------------------------\u001b[0m\n\u001b[0;31mValueError\u001b[0m                                Traceback (most recent call last)",
        "\u001b[0;32m<ipython-input-168-8883b58380cd>\u001b[0m in \u001b[0;36m<module>\u001b[0;34m()\u001b[0m\n\u001b[0;32m----> 1\u001b[0;31m \u001b[0mdot\u001b[0m\u001b[0;34m(\u001b[0m\u001b[0mmats\u001b[0m\u001b[0;34m[\u001b[0m\u001b[0;36m0\u001b[0m\u001b[0;34m]\u001b[0m\u001b[0;34m,\u001b[0m\u001b[0meye\u001b[0m\u001b[0;34m(\u001b[0m\u001b[0;36m15\u001b[0m\u001b[0;34m)\u001b[0m\u001b[0;34m)\u001b[0m\u001b[0;34m\u001b[0m\u001b[0m\n\u001b[0m",
        "\u001b[0;31mValueError\u001b[0m: matrices are not aligned"
       ]
      }
     ],
     "prompt_number": 168
    },
    {
     "cell_type": "code",
     "collapsed": false,
     "input": [
      "eye(15)"
     ],
     "language": "python",
     "metadata": {},
     "outputs": [
      {
       "output_type": "pyout",
       "prompt_number": 162,
       "text": [
        "array([[ 1.,  0.,  0.,  0.,  0.,  0.,  0.,  0.,  0.,  0.,  0.,  0.,  0.,\n",
        "         0.,  0.],\n",
        "       [ 0.,  1.,  0.,  0.,  0.,  0.,  0.,  0.,  0.,  0.,  0.,  0.,  0.,\n",
        "         0.,  0.],\n",
        "       [ 0.,  0.,  1.,  0.,  0.,  0.,  0.,  0.,  0.,  0.,  0.,  0.,  0.,\n",
        "         0.,  0.],\n",
        "       [ 0.,  0.,  0.,  1.,  0.,  0.,  0.,  0.,  0.,  0.,  0.,  0.,  0.,\n",
        "         0.,  0.],\n",
        "       [ 0.,  0.,  0.,  0.,  1.,  0.,  0.,  0.,  0.,  0.,  0.,  0.,  0.,\n",
        "         0.,  0.],\n",
        "       [ 0.,  0.,  0.,  0.,  0.,  1.,  0.,  0.,  0.,  0.,  0.,  0.,  0.,\n",
        "         0.,  0.],\n",
        "       [ 0.,  0.,  0.,  0.,  0.,  0.,  1.,  0.,  0.,  0.,  0.,  0.,  0.,\n",
        "         0.,  0.],\n",
        "       [ 0.,  0.,  0.,  0.,  0.,  0.,  0.,  1.,  0.,  0.,  0.,  0.,  0.,\n",
        "         0.,  0.],\n",
        "       [ 0.,  0.,  0.,  0.,  0.,  0.,  0.,  0.,  1.,  0.,  0.,  0.,  0.,\n",
        "         0.,  0.],\n",
        "       [ 0.,  0.,  0.,  0.,  0.,  0.,  0.,  0.,  0.,  1.,  0.,  0.,  0.,\n",
        "         0.,  0.],\n",
        "       [ 0.,  0.,  0.,  0.,  0.,  0.,  0.,  0.,  0.,  0.,  1.,  0.,  0.,\n",
        "         0.,  0.],\n",
        "       [ 0.,  0.,  0.,  0.,  0.,  0.,  0.,  0.,  0.,  0.,  0.,  1.,  0.,\n",
        "         0.,  0.],\n",
        "       [ 0.,  0.,  0.,  0.,  0.,  0.,  0.,  0.,  0.,  0.,  0.,  0.,  1.,\n",
        "         0.,  0.],\n",
        "       [ 0.,  0.,  0.,  0.,  0.,  0.,  0.,  0.,  0.,  0.,  0.,  0.,  0.,\n",
        "         1.,  0.],\n",
        "       [ 0.,  0.,  0.,  0.,  0.,  0.,  0.,  0.,  0.,  0.,  0.,  0.,  0.,\n",
        "         0.,  1.]])"
       ]
      }
     ],
     "prompt_number": 162
    },
    {
     "cell_type": "code",
     "collapsed": false,
     "input": [],
     "language": "python",
     "metadata": {},
     "outputs": []
    }
   ],
   "metadata": {}
  }
 ]
}