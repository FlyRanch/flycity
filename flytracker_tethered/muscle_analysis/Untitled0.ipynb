{
 "metadata": {
  "name": "",
  "signature": "sha256:83c8644f66dd6d2c600fd2c505d71ea8f4f91929d6544e1e97702493577ad0b0"
 },
 "nbformat": 3,
 "nbformat_minor": 0,
 "worksheets": [
  {
   "cells": [
    {
     "cell_type": "code",
     "collapsed": false,
     "input": [],
     "language": "python",
     "metadata": {},
     "outputs": [],
     "prompt_number": 1
    },
    {
     "cell_type": "code",
     "collapsed": false,
     "input": [
      "import flylib as flb\n",
      "import neo\n",
      "import os\n",
      "import gc\n",
      "\n",
      "rootdir = '/media/FlyDataB/FlyDB/Fly0187/'\n",
      "abf_file = filter(lambda x:'.abf' in x,os.listdir(rootdir))[0]\n",
      "sigs = flb.get_axon_signals(rootdir + abf_file)\n",
      "gc.collect()\n",
      "idxs = flb.idx_by_thresh(sigs['DAC2'],thresh = 0)\n",
      "t_codes = np.array([sigs['DAC2'][x] for x in idxs])\n",
      "t_vals = around(array([mean(tc) for tc in t_codes])*6)\n",
      "t_args = argsort(t_vals)\n",
      "static_test_90 = squeeze(argwhere(t_vals == 10))\n",
      "static_test_270 = squeeze(argwhere(t_vals == 20))\n",
      "stripe_test_90 = squeeze(argwhere(t_vals == 30))\n",
      "stripe_test_270 = squeeze(argwhere(t_vals == 40))\n",
      "opti_test_90 = squeeze(argwhere(t_vals == 50))\n",
      "opti_test_270 = squeeze(argwhere(t_vals == 60))\n",
      "lmrs = np.array([sigs['Ph2'][x[:280000]] for x in idxs])\n",
      "Ypos = np.array([sigs['Ypos'][x[:280000]] for x in idxs])\n",
      "Xpos = np.array([sigs['Xpos'][x[:280000]] for x in idxs])\n",
      "ttype = static_test_90\n",
      "####################\n",
      "figure()\n",
      "subplot(3,1,1)\n",
      "ave = mean(Ypos[ttype],axis=0)\n",
      "stdev = std(Ypos[ttype],axis=0)\n",
      "plot(ave,c = 'k')\n",
      "plot(ave+stdev,c = 'b')\n",
      "plot(ave-stdev,c = 'b')\n",
      "i = 2\n",
      "for ttype in [static_test_90,static_test_270]:\n",
      "    subplot(3,1,i)\n",
      "    ave = mean(lmrs[ttype],axis=0)\n",
      "    stdev = std(lmrs[ttype],axis=0)\n",
      "    plot(ave,c = 'k')\n",
      "    plot(ave+stdev,c = 'b')\n",
      "    plot(ave-stdev,c = 'b')\n",
      "    i+=1\n",
      "    gca().set_ybound(-3,3)\n",
      "suptitle('static')\n",
      "\n",
      "##################\n",
      "figure()\n",
      "subplot(3,1,1)\n",
      "ave = mean(Ypos[ttype],axis=0)\n",
      "stdev = std(Ypos[ttype],axis=0)\n",
      "plot(ave,c = 'k')\n",
      "plot(ave+stdev,c = 'b')\n",
      "plot(ave-stdev,c = 'b')\n",
      "i = 2\n",
      "for ttype in [opti_test_90,opti_test_270]:\n",
      "    subplot(3,1,i)\n",
      "    ave = mean(lmrs[ttype],axis=0)\n",
      "    stdev = std(lmrs[ttype],axis=0)\n",
      "    plot(ave,c = 'k')\n",
      "    plot(ave+stdev,c = 'b')\n",
      "    plot(ave-stdev,c = 'b')\n",
      "    i+=1\n",
      "    gca().set_ybound(-3,3)\n",
      "suptitle('opti')\n",
      "\n",
      "##################\n",
      "figure()\n",
      "subplot(3,1,1)\n",
      "ave = mean(Ypos[ttype],axis=0)\n",
      "stdev = std(Ypos[ttype],axis=0)\n",
      "plot(ave,c = 'k')\n",
      "plot(ave+stdev,c = 'b')\n",
      "plot(ave-stdev,c = 'b')\n",
      "i = 2\n",
      "for ttype in [stripe_test_90,stripe_test_270]:\n",
      "    subplot(3,1,i)\n",
      "    ave = mean(lmrs[ttype],axis=0)\n",
      "    stdev = std(lmrs[ttype],axis=0)\n",
      "    plot(ave,c = 'k')\n",
      "    plot(ave+stdev,c = 'b')\n",
      "    plot(ave-stdev,c = 'b')\n",
      "    i+=1\n",
      "    gca().set_ybound(-3,3)\n",
      "suptitle('stripe')"
     ],
     "language": "python",
     "metadata": {},
     "outputs": [
      {
       "metadata": {},
       "output_type": "pyout",
       "prompt_number": 1,
       "text": [
        "<matplotlib.text.Text at 0xd9dfe90>"
       ]
      }
     ],
     "prompt_number": 1
    },
    {
     "cell_type": "code",
     "collapsed": false,
     "input": [
      "ave_dict = {'static_test_90':mean(lmrs[static_test_90],axis=0),\n",
      "        'static_test_270':mean(lmrs[static_test_270],axis=0),\n",
      "        'stripe_test_90':mean(lmrs[stripe_test_90],axis=0),\n",
      "        'stripe_test_270':mean(lmrs[stripe_test_270],axis=0),\n",
      "        'opti_test_90':mean(lmrs[opti_test_90],axis=0),\n",
      "        'opti_test_270':mean(lmrs[opti_test_270],axis=0)}\n",
      "import cPickle\n",
      "f = open(rootdir + 'ave_data.cpkl','wb')\n",
      "cPickle.dump(ave_dict,f)\n",
      "f.close()"
     ],
     "language": "python",
     "metadata": {},
     "outputs": [],
     "prompt_number": 2
    },
    {
     "cell_type": "code",
     "collapsed": false,
     "input": [],
     "language": "python",
     "metadata": {},
     "outputs": [
      {
       "metadata": {},
       "output_type": "pyout",
       "prompt_number": 4,
       "text": [
        "110"
       ]
      }
     ],
     "prompt_number": 4
    },
    {
     "cell_type": "code",
     "collapsed": false,
     "input": [],
     "language": "python",
     "metadata": {},
     "outputs": [],
     "prompt_number": 5
    },
    {
     "cell_type": "code",
     "collapsed": false,
     "input": [],
     "language": "python",
     "metadata": {},
     "outputs": [],
     "prompt_number": 6
    },
    {
     "cell_type": "code",
     "collapsed": false,
     "input": [],
     "language": "python",
     "metadata": {},
     "outputs": [],
     "prompt_number": 9
    },
    {
     "cell_type": "code",
     "collapsed": false,
     "input": [],
     "language": "python",
     "metadata": {},
     "outputs": [
      {
       "metadata": {},
       "output_type": "pyout",
       "prompt_number": 10,
       "text": [
        "<matplotlib.text.Text at 0xe6a8d10>"
       ]
      }
     ],
     "prompt_number": 10
    },
    {
     "cell_type": "code",
     "collapsed": false,
     "input": [],
     "language": "python",
     "metadata": {},
     "outputs": [],
     "prompt_number": 33
    },
    {
     "cell_type": "code",
     "collapsed": false,
     "input": [],
     "language": "python",
     "metadata": {},
     "outputs": [],
     "prompt_number": 25
    },
    {
     "cell_type": "code",
     "collapsed": false,
     "input": [
      "fls = os.listdir(rootdir)"
     ],
     "language": "python",
     "metadata": {},
     "outputs": [],
     "prompt_number": 27
    },
    {
     "cell_type": "code",
     "collapsed": false,
     "input": [],
     "language": "python",
     "metadata": {},
     "outputs": [
      {
       "metadata": {},
       "output_type": "pyout",
       "prompt_number": 30,
       "text": [
        "'T2_trial1_14805002.abf'"
       ]
      }
     ],
     "prompt_number": 30
    },
    {
     "cell_type": "code",
     "collapsed": false,
     "input": [],
     "language": "python",
     "metadata": {},
     "outputs": [],
     "prompt_number": 8
    },
    {
     "cell_type": "code",
     "collapsed": false,
     "input": [],
     "language": "python",
     "metadata": {},
     "outputs": [
      {
       "metadata": {},
       "output_type": "pyout",
       "prompt_number": 8,
       "text": [
        "array([ 20.,  20.,  20.,  20.,  20.,  20.,  20.,  20.,  20.,  20.,  20.,\n",
        "        20.], dtype=float32)"
       ]
      }
     ],
     "prompt_number": 8
    },
    {
     "cell_type": "code",
     "collapsed": false,
     "input": [],
     "language": "python",
     "metadata": {},
     "outputs": [],
     "prompt_number": 8
    },
    {
     "cell_type": "code",
     "collapsed": false,
     "input": [],
     "language": "python",
     "metadata": {},
     "outputs": []
    }
   ],
   "metadata": {}
  }
 ]
}