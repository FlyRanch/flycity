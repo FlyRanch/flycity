{
 "metadata": {
  "name": ""
 },
 "nbformat": 3,
 "nbformat_minor": 0,
 "worksheets": [
  {
   "cells": [
    {
     "cell_type": "code",
     "collapsed": false,
     "input": [
      "import csv"
     ],
     "language": "python",
     "metadata": {},
     "outputs": [],
     "prompt_number": 22
    },
    {
     "cell_type": "code",
     "collapsed": false,
     "input": [
      "f = open(\"bloomington.csv\",'rt')"
     ],
     "language": "python",
     "metadata": {},
     "outputs": [],
     "prompt_number": 23
    },
    {
     "cell_type": "code",
     "collapsed": false,
     "input": [
      "reader = csv.reader(f)"
     ],
     "language": "python",
     "metadata": {},
     "outputs": [],
     "prompt_number": 24
    },
    {
     "cell_type": "code",
     "collapsed": false,
     "input": [
      "csvdata = [x for x in reader]"
     ],
     "language": "python",
     "metadata": {},
     "outputs": [],
     "prompt_number": 25
    },
    {
     "cell_type": "code",
     "collapsed": false,
     "input": [
      "select = set([str(x) for x in arange(55134,55140)])"
     ],
     "language": "python",
     "metadata": {},
     "outputs": [],
     "prompt_number": 46
    },
    {
     "cell_type": "code",
     "collapsed": false,
     "input": [
      "[x[0:2] for x in csvdata if len(select.intersection(x))>0]"
     ],
     "language": "python",
     "metadata": {},
     "outputs": [
      {
       "metadata": {},
       "output_type": "pyout",
       "prompt_number": 48,
       "text": [
        "[['55134', 'w[1118] P{y[+t7.7] w[+mC]=20XUAS-IVS-Chrimson.mVenus}attP18'],\n",
        " ['55135', 'w[1118]; P{y[+t7.7] w[+mC]=20XUAS-IVS-Chrimson.mVenus}attP40'],\n",
        " ['55136', 'w[1118]; P{y[+t7.7] w[+mC]=20XUAS-IVS-Chrimson.mVenus}attP2'],\n",
        " ['55137', 'w[1118] P{y[+t7.7] w[+mC]=13XLexAop2-IVS-Chrimson.mVenus}attP18'],\n",
        " ['55138', 'w[1118]; P{y[+t7.7] w[+mC]=13XLexAop2-IVS-Chrimson.mVenus}attP40'],\n",
        " ['55139', 'w[1118]; P{y[+t7.7] w[+mC]=13XLexAop2-IVS-Chrimson.mVenus}attP2']]"
       ]
      }
     ],
     "prompt_number": 48
    },
    {
     "cell_type": "code",
     "collapsed": false,
     "input": [
      "select"
     ],
     "language": "python",
     "metadata": {},
     "outputs": [
      {
       "metadata": {},
       "output_type": "pyout",
       "prompt_number": 43,
       "text": [
        "['55134', '55135', '55136', '55137', '55138']"
       ]
      }
     ],
     "prompt_number": 43
    },
    {
     "cell_type": "code",
     "collapsed": false,
     "input": [],
     "language": "python",
     "metadata": {},
     "outputs": []
    }
   ],
   "metadata": {}
  }
 ]
}