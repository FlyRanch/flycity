{
 "metadata": {
  "name": "",
  "signature": "sha256:e0c87f6276aaefbd1b2947d5a3afae2e9823d9ff8d14735d4bf92339665bc68a"
 },
 "nbformat": 3,
 "nbformat_minor": 0,
 "worksheets": [
  {
   "cells": [
    {
     "cell_type": "code",
     "collapsed": false,
     "input": [
      "###notebook imports and sync's axon and imaging data from second set of starfield expmnts starfield2\n",
      "import neo\n",
      "import quantities as pq\n",
      "import flylib\n",
      "import db_access as dba"
     ],
     "language": "python",
     "metadata": {},
     "outputs": [],
     "prompt_number": 1
    },
    {
     "cell_type": "code",
     "collapsed": false,
     "input": [
      "starfield2_group = [176,177,178,179,180,181]\n",
      "#starfield2_group = [176]"
     ],
     "language": "python",
     "metadata": {},
     "outputs": [],
     "prompt_number": 2
    },
    {
     "cell_type": "code",
     "collapsed": false,
     "input": [
      "initializer = dba.InitDB()\n",
      "[initializer[fn] for fn in starfield2_group]\n",
      "initializer.fly_db.flush()\n",
      "#initializer.fly_db.close()"
     ],
     "language": "python",
     "metadata": {},
     "outputs": [],
     "prompt_number": 3
    },
    {
     "cell_type": "code",
     "collapsed": false,
     "input": [
      "reload(dba)\n",
      "fly_db = dba.get_db()\n",
      "swarm = flylib.Squadron(fly_db,starfield2_group)\n",
      "for fly in swarm.flies:\n",
      "    img_star_t1 = fly.experiments['img_starfields2_t2_rep1']\n",
      "    print 'importing trial1 data for fly%s'%fly.fly_num\n",
      "    img_star_t1.import_axon_data()\n",
      "    img_star_t1.import_tiff_data()\n",
      "    print 'syncing trial1 data'\n",
      "    img_star_t1.sync_sequences()\n",
      "    fly_db.flush()\n",
      "    img_star_t2 = fly.experiments['img_starfields2_t2_rep2']\n",
      "    print 'importing trial2 data for fly%s'%fly.fly_num\n",
      "    img_star_t2.import_axon_data()\n",
      "    img_star_t2.import_tiff_data()\n",
      "    print 'syncing trial2 data'\n",
      "    img_star_t2.sync_sequences()\n",
      "    fly_db.flush()"
     ],
     "language": "python",
     "metadata": {},
     "outputs": [
      {
       "output_type": "stream",
       "stream": "stdout",
       "text": [
        "importing trial1 data for fly176\n",
        "syncing trial1 data"
       ]
      },
      {
       "output_type": "stream",
       "stream": "stdout",
       "text": [
        "\n",
        "importing trial2 data for fly176"
       ]
      },
      {
       "output_type": "stream",
       "stream": "stdout",
       "text": [
        "\n",
        "syncing trial2 data"
       ]
      },
      {
       "output_type": "stream",
       "stream": "stdout",
       "text": [
        "\n",
        "importing trial1 data for fly177"
       ]
      },
      {
       "output_type": "stream",
       "stream": "stdout",
       "text": [
        "\n",
        "syncing trial1 data"
       ]
      },
      {
       "output_type": "stream",
       "stream": "stdout",
       "text": [
        "\n",
        "importing trial2 data for fly177"
       ]
      },
      {
       "output_type": "stream",
       "stream": "stdout",
       "text": [
        "\n",
        "syncing trial2 data"
       ]
      },
      {
       "output_type": "stream",
       "stream": "stdout",
       "text": [
        "\n",
        "importing trial1 data for fly178"
       ]
      },
      {
       "output_type": "stream",
       "stream": "stdout",
       "text": [
        "\n",
        "syncing trial1 data"
       ]
      },
      {
       "output_type": "stream",
       "stream": "stdout",
       "text": [
        "\n",
        "importing trial2 data for fly178"
       ]
      },
      {
       "output_type": "stream",
       "stream": "stdout",
       "text": [
        "\n",
        "syncing trial2 data"
       ]
      },
      {
       "output_type": "stream",
       "stream": "stdout",
       "text": [
        "\n",
        "importing trial1 data for fly179"
       ]
      },
      {
       "output_type": "stream",
       "stream": "stdout",
       "text": [
        "\n",
        "syncing trial1 data"
       ]
      },
      {
       "output_type": "stream",
       "stream": "stdout",
       "text": [
        "\n",
        "importing trial2 data for fly179"
       ]
      },
      {
       "output_type": "stream",
       "stream": "stdout",
       "text": [
        "\n",
        "syncing trial2 data"
       ]
      },
      {
       "output_type": "stream",
       "stream": "stdout",
       "text": [
        "\n",
        "importing trial1 data for fly180"
       ]
      },
      {
       "output_type": "stream",
       "stream": "stdout",
       "text": [
        "\n",
        "syncing trial1 data"
       ]
      },
      {
       "output_type": "stream",
       "stream": "stdout",
       "text": [
        "\n",
        "importing trial2 data for fly180"
       ]
      },
      {
       "output_type": "stream",
       "stream": "stdout",
       "text": [
        "\n",
        "syncing trial2 data"
       ]
      },
      {
       "output_type": "stream",
       "stream": "stdout",
       "text": [
        "\n",
        "importing trial1 data for fly181"
       ]
      },
      {
       "output_type": "stream",
       "stream": "stdout",
       "text": [
        "\n",
        "syncing trial1 data"
       ]
      },
      {
       "output_type": "stream",
       "stream": "stdout",
       "text": [
        "\n",
        "importing trial2 data for fly181"
       ]
      },
      {
       "output_type": "stream",
       "stream": "stdout",
       "text": [
        "\n",
        "syncing trial2 data"
       ]
      },
      {
       "output_type": "stream",
       "stream": "stdout",
       "text": [
        "\n"
       ]
      },
      {
       "output_type": "stream",
       "stream": "stderr",
       "text": [
        "tifffile.py:2170: UserWarning: failed to import _tifffile.decodepackbits\n",
        "  warnings.warn(\"failed to import %s\" % module_function)\n",
        "tifffile.py:2170: UserWarning: failed to import _tifffile.decodelzw\n",
        "  warnings.warn(\"failed to import %s\" % module_function)\n",
        "tifffile.py:2170: UserWarning: failed to import _tifffile.unpackints\n",
        "  warnings.warn(\"failed to import %s\" % module_function)\n"
       ]
      }
     ],
     "prompt_number": 4
    },
    {
     "cell_type": "code",
     "collapsed": false,
     "input": [
      "#fly_db.close()"
     ],
     "language": "python",
     "metadata": {},
     "outputs": [],
     "prompt_number": 8
    },
    {
     "cell_type": "code",
     "collapsed": false,
     "input": [
      "#imgs = array(swarm.flies[3].fly_record['experiments'][u'img_starfield_t2_rep1']['tiff_data']['images'])"
     ],
     "language": "python",
     "metadata": {},
     "outputs": [],
     "prompt_number": 6
    },
    {
     "cell_type": "code",
     "collapsed": false,
     "input": [
      "fly_db = dba.get_db()\n",
      "swarm = flylib.Squadron(fly_db,starfield2_group)"
     ],
     "language": "python",
     "metadata": {},
     "outputs": [],
     "prompt_number": 7
    },
    {
     "cell_type": "code",
     "collapsed": false,
     "input": [
      "fly = swarm.flies[0]"
     ],
     "language": "python",
     "metadata": {},
     "outputs": [],
     "prompt_number": 9
    },
    {
     "cell_type": "code",
     "collapsed": false,
     "input": [
      "img_star = fly.experiments['img_starfields2_t2_rep1']\n",
      "f = open(img_star.fly_path + 'img_starfields2_t2_rep1_roi.cpkl')\n",
      "import cPickle\n",
      "roi_data = cPickle.load(f)"
     ],
     "language": "python",
     "metadata": {},
     "outputs": [],
     "prompt_number": 10
    },
    {
     "cell_type": "code",
     "collapsed": false,
     "input": [],
     "language": "python",
     "metadata": {},
     "outputs": [],
     "prompt_number": 28
    },
    {
     "cell_type": "code",
     "collapsed": false,
     "input": [
      "rcParams['svg.fonttype'] = 'none'\n",
      "rcParams['font.serif'] = ['Times New Roman']\n",
      "rcParams['font.sans-serif'] = ['Arial']\n",
      "rcParams['font.family'] = 'sans-serif'\n",
      "matplotlib.rc('pdf', fonttype=42)\n",
      "\n",
      "fig = figure()\n",
      "gcf().set_tight_layout(True)\n",
      "from mpl_toolkits.axes_grid1 import Grid\n",
      "grid = Grid(fig, rect=111, nrows_ncols=(3,12),\n",
      "            axes_pad=0.25, label_mode='L')\n",
      "\n",
      "muscle = 'i1'\n",
      "spmap = {'spin_equator_000.mat':1,\n",
      "       'spin_equator_030.mat':2,\n",
      "       'spin_equator_060.mat':3,\n",
      "       'spin_equator_090.mat':4,\n",
      "       'spin_equator_120.mat':5,\n",
      "       'spin_equator_150.mat':6,\n",
      "       'spin_equator_180.mat':7,\n",
      "       'spin_equator_210.mat':8,\n",
      "       'spin_equator_240.mat':9,\n",
      "       'spin_equator_270.mat':10,\n",
      "       'spin_equator_300.mat':11,\n",
      "       'spin_equator_330.mat':12}\n",
      "\n",
      "stim_dict = {'spin_equator_000.mat':[],\n",
      "       'spin_equator_030.mat':[],\n",
      "       'spin_equator_060.mat':[],\n",
      "       'spin_equator_090.mat':[],\n",
      "       'spin_equator_120.mat':[],\n",
      "       'spin_equator_150.mat':[],\n",
      "       'spin_equator_180.mat':[],\n",
      "       'spin_equator_210.mat':[],\n",
      "       'spin_equator_240.mat':[],\n",
      "       'spin_equator_270.mat':[],\n",
      "       'spin_equator_300.mat':[],\n",
      "       'spin_equator_330.mat':[]}\n",
      "\n",
      "mu_dict = {'spin_equator_000.mat':[],\n",
      "       'spin_equator_030.mat':[],\n",
      "       'spin_equator_060.mat':[],\n",
      "       'spin_equator_090.mat':[],\n",
      "       'spin_equator_120.mat':[],\n",
      "       'spin_equator_150.mat':[],\n",
      "       'spin_equator_180.mat':[],\n",
      "       'spin_equator_210.mat':[],\n",
      "       'spin_equator_240.mat':[],\n",
      "       'spin_equator_270.mat':[],\n",
      "       'spin_equator_300.mat':[],\n",
      "       'spin_equator_330.mat':[]}\n",
      "\n",
      "wing_dict = {'spin_equator_000.mat':[],\n",
      "       'spin_equator_030.mat':[],\n",
      "       'spin_equator_060.mat':[],\n",
      "       'spin_equator_090.mat':[],\n",
      "       'spin_equator_120.mat':[],\n",
      "       'spin_equator_150.mat':[],\n",
      "       'spin_equator_180.mat':[],\n",
      "       'spin_equator_210.mat':[],\n",
      "       'spin_equator_240.mat':[],\n",
      "       'spin_equator_270.mat':[],\n",
      "       'spin_equator_300.mat':[],\n",
      "       'spin_equator_330.mat':[]}\n",
      "\n",
      "import cPickle\n",
      "for fly in swarm.flies:\n",
      "    for exp_key in ['img_starfields2_t2_rep1','img_starfields2_t2_rep2']:\n",
      "        img_star = fly.experiments[exp_key]\n",
      "        f = open(img_star.fly_path + exp_key + '_roi.cpkl')\n",
      "        roi_data = cPickle.load(f)\n",
      "        f.close()\n",
      "        \n",
      "        for seq_key in img_star.sequences.keys():\n",
      "            seq = img_star.sequences[seq_key]\n",
      "            try:\n",
      "                sp_num = spmap[seq.seq_pattern_name]\n",
      "                #subplot(1,12,sp_num)\n",
      "                ep = np.array(seq.seq_record['epoch_framebase'])\n",
      "                ep = concatenate((range(ep[0]-200,ep[0]),ep),axis = 1)\n",
      "                \n",
      "                stim_signal = array(img_star.exp_record['tiff_data']['axon_framebase']['Xpos'])[ep]\n",
      "                wing_signal = array(img_star.exp_record['tiff_data']['axon_framebase']['Ph1'])[ep]\n",
      "                mu_signal = roi_data[muscle][ep]\n",
      "                #plot(signal,color = 'k',alpha = 0.2)\n",
      "                #plot(roi_data['i1'][ep],color = 'k',alpha = 0.2)\n",
      "                mu_dict[seq.seq_pattern_name].append(mu_signal)\n",
      "                wing_dict[seq.seq_pattern_name].append(wing_signal)\n",
      "                stim_dict[seq.seq_pattern_name].append(stim_signal)\n",
      "                #gca().set_ybound(-0.5,2.5)\n",
      "            except KeyError:\n",
      "                pass\n",
      "\n",
      "times = array(img_star.exp_record['tiff_data']['axon_framebase']['times'])[ep]\n",
      "times -= times[0]\n",
      "#stack the lists\n",
      "for key in sorted(spmap.keys()):\n",
      "    mu_dict[key] = vstack([x[:247+200] for x in mu_dict[key]])\n",
      "    stim_dict[key] = vstack([x[:247+200] for x in stim_dict[key]])\n",
      "    wing_dict[key] = vstack([x[:247+200] for x in wing_dict[key]])\n",
      "    \n",
      "key = sorted(spmap.keys())[0]\n",
      "\n",
      "grid[0].plot(times[:247+200],mean(stim_dict[key],axis = 0),color = 'k')\n",
      "grid[12].plot(times[:247+200],rad2deg(mean(wing_dict[key],axis = 0)/5.0),color = 'k')\n",
      "grid[24].plot(times[:247+200],mean(mu_dict[key],axis = 0),color = 'k')\n",
      "\n",
      "for key in sorted(spmap.keys())[1:]:\n",
      "    print key\n",
      "    spnum = spmap[key]-1\n",
      "    grid[spnum].plot(times[:247+200],mean(stim_dict[key],axis = 0),color = 'k')\n",
      "    grid[spnum+12].plot(times[:247+200],rad2deg(mean(wing_dict[key],axis = 0)/5.0),color ='k')\n",
      "    grid[spnum+24].plot(times[:247+200],mean(mu_dict[key],axis = 0),color = 'k')\n",
      "suptitle(muscle)\n",
      "\n",
      "grid[0].set_ylabel('Xpos')\n",
      "grid[12].set_ylabel('R (deg)')\n",
      "grid[24].set_ylabel(r'i1 $\\Delta F/ \\barF$')"
     ],
     "language": "python",
     "metadata": {},
     "outputs": [
      {
       "output_type": "stream",
       "stream": "stdout",
       "text": [
        "spin_equator_030.mat\n",
        "spin_equator_060.mat\n",
        "spin_equator_090.mat\n",
        "spin_equator_120.mat\n",
        "spin_equator_150.mat\n",
        "spin_equator_180.mat\n",
        "spin_equator_210.mat\n",
        "spin_equator_240.mat\n",
        "spin_equator_270.mat\n",
        "spin_equator_300.mat"
       ]
      },
      {
       "output_type": "stream",
       "stream": "stdout",
       "text": [
        "\n",
        "spin_equator_330.mat\n"
       ]
      },
      {
       "metadata": {},
       "output_type": "pyout",
       "prompt_number": 118,
       "text": [
        "<matplotlib.text.Text at 0x14e4b5cd0>"
       ]
      }
     ],
     "prompt_number": 118
    },
    {
     "cell_type": "code",
     "collapsed": false,
     "input": [
      "rcParams.keys()"
     ],
     "language": "python",
     "metadata": {},
     "outputs": [
      {
       "metadata": {},
       "output_type": "pyout",
       "prompt_number": 105,
       "text": [
        "['agg.path.chunksize',\n",
        " 'animation.avconv_args',\n",
        " 'animation.avconv_path',\n",
        " 'animation.bitrate',\n",
        " 'animation.codec',\n",
        " 'animation.convert_args',\n",
        " 'animation.convert_path',\n",
        " 'animation.ffmpeg_args',\n",
        " 'animation.ffmpeg_path',\n",
        " 'animation.frame_format',\n",
        " 'animation.mencoder_args',\n",
        " 'animation.mencoder_path',\n",
        " 'animation.writer',\n",
        " 'axes.axisbelow',\n",
        " 'axes.color_cycle',\n",
        " 'axes.edgecolor',\n",
        " 'axes.facecolor',\n",
        " 'axes.formatter.limits',\n",
        " 'axes.formatter.use_locale',\n",
        " 'axes.formatter.use_mathtext',\n",
        " 'axes.grid',\n",
        " 'axes.hold',\n",
        " 'axes.labelcolor',\n",
        " 'axes.labelsize',\n",
        " 'axes.labelweight',\n",
        " 'axes.linewidth',\n",
        " 'axes.titlesize',\n",
        " 'axes.unicode_minus',\n",
        " 'axes.xmargin',\n",
        " 'axes.ymargin',\n",
        " 'axes3d.grid',\n",
        " 'backend',\n",
        " 'backend.qt4',\n",
        " 'backend_fallback',\n",
        " 'contour.negative_linestyle',\n",
        " 'datapath',\n",
        " 'docstring.hardcopy',\n",
        " 'examples.directory',\n",
        " 'figure.autolayout',\n",
        " 'figure.dpi',\n",
        " 'figure.edgecolor',\n",
        " 'figure.facecolor',\n",
        " 'figure.figsize',\n",
        " 'figure.frameon',\n",
        " 'figure.max_open_warning',\n",
        " 'figure.subplot.bottom',\n",
        " 'figure.subplot.hspace',\n",
        " 'figure.subplot.left',\n",
        " 'figure.subplot.right',\n",
        " 'figure.subplot.top',\n",
        " 'figure.subplot.wspace',\n",
        " 'font.cursive',\n",
        " 'font.family',\n",
        " 'font.fantasy',\n",
        " 'font.monospace',\n",
        " 'font.sans-serif',\n",
        " 'font.serif',\n",
        " 'font.size',\n",
        " 'font.stretch',\n",
        " 'font.style',\n",
        " 'font.variant',\n",
        " 'font.weight',\n",
        " 'grid.alpha',\n",
        " 'grid.color',\n",
        " 'grid.linestyle',\n",
        " 'grid.linewidth',\n",
        " 'image.aspect',\n",
        " 'image.cmap',\n",
        " 'image.interpolation',\n",
        " 'image.lut',\n",
        " 'image.origin',\n",
        " 'image.resample',\n",
        " 'interactive',\n",
        " 'keymap.all_axes',\n",
        " 'keymap.back',\n",
        " 'keymap.forward',\n",
        " 'keymap.fullscreen',\n",
        " 'keymap.grid',\n",
        " 'keymap.home',\n",
        " 'keymap.pan',\n",
        " 'keymap.quit',\n",
        " 'keymap.save',\n",
        " 'keymap.xscale',\n",
        " 'keymap.yscale',\n",
        " 'keymap.zoom',\n",
        " 'legend.borderaxespad',\n",
        " 'legend.borderpad',\n",
        " 'legend.columnspacing',\n",
        " 'legend.fancybox',\n",
        " 'legend.fontsize',\n",
        " 'legend.frameon',\n",
        " 'legend.handleheight',\n",
        " 'legend.handlelength',\n",
        " 'legend.handletextpad',\n",
        " 'legend.isaxes',\n",
        " 'legend.labelspacing',\n",
        " 'legend.loc',\n",
        " 'legend.markerscale',\n",
        " 'legend.numpoints',\n",
        " 'legend.scatterpoints',\n",
        " 'legend.shadow',\n",
        " 'lines.antialiased',\n",
        " 'lines.color',\n",
        " 'lines.dash_capstyle',\n",
        " 'lines.dash_joinstyle',\n",
        " 'lines.linestyle',\n",
        " 'lines.linewidth',\n",
        " 'lines.marker',\n",
        " 'lines.markeredgewidth',\n",
        " 'lines.markersize',\n",
        " 'lines.solid_capstyle',\n",
        " 'lines.solid_joinstyle',\n",
        " 'mathtext.bf',\n",
        " 'mathtext.cal',\n",
        " 'mathtext.default',\n",
        " 'mathtext.fallback_to_cm',\n",
        " 'mathtext.fontset',\n",
        " 'mathtext.it',\n",
        " 'mathtext.rm',\n",
        " 'mathtext.sf',\n",
        " 'mathtext.tt',\n",
        " 'patch.antialiased',\n",
        " 'patch.edgecolor',\n",
        " 'patch.facecolor',\n",
        " 'patch.linewidth',\n",
        " 'path.effects',\n",
        " 'path.simplify',\n",
        " 'path.simplify_threshold',\n",
        " 'path.sketch',\n",
        " 'path.snap',\n",
        " 'pdf.compression',\n",
        " 'pdf.fonttype',\n",
        " 'pdf.inheritcolor',\n",
        " 'pdf.use14corefonts',\n",
        " 'pgf.debug',\n",
        " 'pgf.preamble',\n",
        " 'pgf.rcfonts',\n",
        " 'pgf.texsystem',\n",
        " 'plugins.directory',\n",
        " 'polaraxes.grid',\n",
        " 'ps.distiller.res',\n",
        " 'ps.fonttype',\n",
        " 'ps.papersize',\n",
        " 'ps.useafm',\n",
        " 'ps.usedistiller',\n",
        " 'savefig.bbox',\n",
        " 'savefig.directory',\n",
        " 'savefig.dpi',\n",
        " 'savefig.edgecolor',\n",
        " 'savefig.extension',\n",
        " 'savefig.facecolor',\n",
        " 'savefig.format',\n",
        " 'savefig.frameon',\n",
        " 'savefig.jpeg_quality',\n",
        " 'savefig.orientation',\n",
        " 'savefig.pad_inches',\n",
        " 'svg.embed_char_paths',\n",
        " 'svg.fonttype',\n",
        " 'svg.image_inline',\n",
        " 'svg.image_noscale',\n",
        " 'text.antialiased',\n",
        " 'text.color',\n",
        " 'text.dvipnghack',\n",
        " 'text.hinting',\n",
        " 'text.hinting_factor',\n",
        " 'text.latex.preamble',\n",
        " 'text.latex.preview',\n",
        " 'text.latex.unicode',\n",
        " 'text.usetex',\n",
        " 'timezone',\n",
        " 'tk.pythoninspect',\n",
        " 'tk.window_focus',\n",
        " 'toolbar',\n",
        " 'verbose.fileo',\n",
        " 'verbose.level',\n",
        " 'webagg.open_in_browser',\n",
        " 'webagg.port',\n",
        " 'webagg.port_retries',\n",
        " 'xtick.color',\n",
        " 'xtick.direction',\n",
        " 'xtick.labelsize',\n",
        " 'xtick.major.pad',\n",
        " 'xtick.major.size',\n",
        " 'xtick.major.width',\n",
        " 'xtick.minor.pad',\n",
        " 'xtick.minor.size',\n",
        " 'xtick.minor.width',\n",
        " 'ytick.color',\n",
        " 'ytick.direction',\n",
        " 'ytick.labelsize',\n",
        " 'ytick.major.pad',\n",
        " 'ytick.major.size',\n",
        " 'ytick.major.width',\n",
        " 'ytick.minor.pad',\n",
        " 'ytick.minor.size',\n",
        " 'ytick.minor.width']"
       ]
      }
     ],
     "prompt_number": 105
    },
    {
     "cell_type": "code",
     "collapsed": false,
     "input": [
      "rcParams['pdf.use14corefonts'] = False\n",
      "rcParams['pdf.fonttype'] = 42"
     ],
     "language": "python",
     "metadata": {},
     "outputs": [],
     "prompt_number": 113
    },
    {
     "cell_type": "code",
     "collapsed": false,
     "input": [
      "array(img_star.exp_record['tiff_data']['axon_framebase']['Ypos'])[ep]"
     ],
     "language": "python",
     "metadata": {},
     "outputs": [
      {
       "metadata": {},
       "output_type": "pyout",
       "prompt_number": 122,
       "text": [
        "array([ 0.86064929,  1.93549454,  1.93547916,  1.93543935,  1.93544137,\n",
        "        1.93548179,  1.9354881 ,  1.93551576,  1.93549645,  1.93550014,\n",
        "        1.93549204,  1.93544424,  1.93541682,  1.93543327,  1.93543696,\n",
        "        1.93542087,  1.93544567,  1.93544006,  1.9354049 ,  1.93541503,\n",
        "        1.93543911,  1.93543816,  1.93542767,  1.93543804,  1.93542564,\n",
        "        1.93539131,  1.93541729,  1.93543804,  1.93543279,  1.93543077,\n",
        "        1.93540585,  1.93541253,  1.93542039,  1.93544877,  1.93545687,\n",
        "        1.93542826,  1.93543887,  1.93543279,  1.93543792,  1.93543255,\n",
        "        1.93545127,  1.93545616,  1.93543696,  1.93544316,  1.93542314,\n",
        "        1.93557525,  1.93537974,  1.93541217,  1.93542671,  1.93541181,\n",
        "        1.93541515,  1.93540239,  1.93540883,  1.93541265,  1.93543398,\n",
        "        1.93541074,  1.93543506,  1.93540406,  1.93542159,  1.93542767,\n",
        "        1.93541622,  1.93543792,  1.93544221,  1.93544638,  1.93543744,\n",
        "        1.93542433,  1.935426  ,  1.93545675,  1.93544924,  1.93544233,\n",
        "        1.93542373,  1.93541563,  1.93544686,  1.93543434,  1.93541789,\n",
        "        1.93543231,  1.93543184,  1.9354161 ,  1.9354049 ,  1.93543696,\n",
        "        1.93544185,  1.93543243,  1.93542552,  1.93543148,  1.93543863,\n",
        "        1.93545437,  1.93543768,  1.93546367,  1.93545341,  1.93543756,\n",
        "        1.93540168,  1.93542099,  1.93542576,  1.9354229 ,  1.93542075,\n",
        "        1.93544042,  1.9354521 ,  1.93544161,  1.93543887,  1.93543744,\n",
        "        1.935431  ,  1.93542349,  1.93544579,  1.93542576,  1.93540049,\n",
        "        1.93543029,  1.93541229,  1.93542469,  1.93544948,  1.93543482,\n",
        "        1.93544424,  1.93543935,  1.9354564 ,  1.93545341,  1.93546641,\n",
        "        1.9354496 ,  1.93545401,  1.93542612,  1.9354701 ,  1.93548775,\n",
        "        1.93546391,  1.93540537,  1.93540359,  1.93551278,  1.9354279 ,\n",
        "        1.93545842,  1.9355129 ,  1.93547356,  1.93541396,  1.93546295,\n",
        "        1.93542421,  1.93542612,  1.93545091,  1.93555939,  1.93544042,\n",
        "        1.93544364,  1.93548036,  1.93545949,  1.93542862,  1.93543458,\n",
        "        1.93542325,  1.9354372 ,  1.93541241,  1.93543708,  1.93551433,\n",
        "        1.93547106,  1.93547451,  1.9353106 ,  1.9354434 ,  1.93536043,\n",
        "        1.93543053,  1.93547964,  1.93545294,  1.93561172,  1.93539691,\n",
        "        1.935444  ,  1.93546414,  1.93554223,  1.93549132,  1.93559241,\n",
        "        1.93548524,  1.93545949,  1.93546629,  1.93544471,  1.93551421,\n",
        "        1.9354496 ,  1.93541944,  1.93544626,  1.93546283,  1.93540347,\n",
        "        1.9355073 ,  1.93544054,  1.93548298,  1.93549383,  1.93543863,\n",
        "        1.93547249,  1.93552077,  1.93549252,  1.93541956,  1.93548393,\n",
        "        1.93553567,  1.93544614,  1.93548787,  1.93539011,  1.93548954,\n",
        "        1.93552709,  1.93543768,  1.93543231,  1.93541336,  1.93541563,\n",
        "        1.93540502,  1.93542635,  1.93544233,  1.93543279,  1.93540835,\n",
        "        1.93539941,  1.93541288,  1.93543458,  1.93543673,  1.9354254 ,\n",
        "        1.93543863,  1.93543649,  1.93544936,  1.93546045,  1.93543684,\n",
        "        1.93544257,  1.93545377,  1.93542981,  1.93541455,  1.93545759,\n",
        "        1.93548226,  1.93545914,  1.93543744,  1.93544853,  1.93541813,\n",
        "        1.93545842,  1.93545198,  1.93546343,  1.93545282,  1.93543029,\n",
        "        1.93546128,  1.93544531,  1.93544316,  1.9354347 ,  1.93543673,\n",
        "        1.93543625,  1.935431  ,  1.93543375,  1.93545163,  1.93546629,\n",
        "        1.9354558 ,  1.93545961,  1.9354521 ,  1.93545711,  1.93544102,\n",
        "        1.93545032,  1.93543863,  1.93544555,  1.93545341,  1.93549061,\n",
        "        1.93544173,  1.93544614,  1.93542457,  1.93543589,  1.93544579,\n",
        "        1.93544197,  1.93545938,  1.93544352], dtype=float32)"
       ]
      }
     ],
     "prompt_number": 122
    },
    {
     "cell_type": "code",
     "collapsed": false,
     "input": [
      "fly_db.close()"
     ],
     "language": "python",
     "metadata": {},
     "outputs": [
      {
       "output_type": "stream",
       "stream": "stdout",
       "text": [
        "<Closed HDF5 file>\n",
        "<Closed HDF5 file>\n",
        "<Closed HDF5 file>\n",
        "<Closed HDF5 file>\n",
        "<Closed HDF5 file>\n",
        "<Closed HDF5 file>\n",
        "<Closed HDF5 file>\n",
        "<Closed HDF5 file>\n",
        "<Closed HDF5 file>\n",
        "<Closed HDF5 file>\n",
        "<Closed HDF5 file>\n",
        "<Closed HDF5 file>\n",
        "<Closed HDF5 file>\n",
        "<Closed HDF5 file>\n",
        "<Closed HDF5 file>\n",
        "<Closed HDF5 file>\n",
        "<Closed HDF5 file>\n",
        "<Closed HDF5 file>\n",
        "<Closed HDF5 file>\n",
        "<Closed HDF5 file>\n",
        "<Closed HDF5 file>\n",
        "<Closed HDF5 file>\n",
        "<Closed HDF5 file>\n",
        "<Closed HDF5 file>\n",
        "<Closed HDF5 file>\n",
        "<Closed HDF5 file>\n",
        "<Closed HDF5 file>\n",
        "<Closed HDF5 file>"
       ]
      },
      {
       "output_type": "stream",
       "stream": "stdout",
       "text": [
        "\n",
        "<Closed HDF5 file>\n",
        "<Closed HDF5 file>\n",
        "<Closed HDF5 file>\n",
        "<Closed HDF5 file>\n",
        "<Closed HDF5 file>\n",
        "<Closed HDF5 file>\n",
        "<Closed HDF5 file>\n",
        "<Closed HDF5 file>\n",
        "<Closed HDF5 file>\n",
        "<Closed HDF5 file>\n",
        "<Closed HDF5 file>\n",
        "<Closed HDF5 file>\n",
        "<Closed HDF5 file>\n",
        "<Closed HDF5 file>\n"
       ]
      }
     ],
     "prompt_number": 19
    },
    {
     "cell_type": "code",
     "collapsed": false,
     "input": [],
     "language": "python",
     "metadata": {},
     "outputs": []
    },
    {
     "cell_type": "code",
     "collapsed": false,
     "input": [],
     "language": "python",
     "metadata": {},
     "outputs": []
    },
    {
     "cell_type": "code",
     "collapsed": false,
     "input": [],
     "language": "python",
     "metadata": {},
     "outputs": []
    },
    {
     "cell_type": "code",
     "collapsed": false,
     "input": [],
     "language": "python",
     "metadata": {},
     "outputs": []
    },
    {
     "cell_type": "code",
     "collapsed": false,
     "input": [],
     "language": "python",
     "metadata": {},
     "outputs": []
    },
    {
     "cell_type": "code",
     "collapsed": false,
     "input": [
      "img_star.exp_record.create_group('roi_data')"
     ],
     "language": "python",
     "metadata": {},
     "outputs": [
      {
       "metadata": {},
       "output_type": "pyout",
       "prompt_number": 14,
       "text": [
        "<HDF5 group \"/experiments/img_starfields2_t2_rep1/roi_data\" (0 members)>"
       ]
      }
     ],
     "prompt_number": 14
    },
    {
     "cell_type": "code",
     "collapsed": false,
     "input": [
      "for key in roi_data:\n",
      "    flylib.update_dset(img_star.exp_record['roi_data'],key,roi_data[key])"
     ],
     "language": "python",
     "metadata": {},
     "outputs": [],
     "prompt_number": 15
    },
    {
     "cell_type": "code",
     "collapsed": false,
     "input": [
      "fly_db.flush()"
     ],
     "language": "python",
     "metadata": {},
     "outputs": [],
     "prompt_number": 17
    },
    {
     "cell_type": "code",
     "collapsed": false,
     "input": [
      "fly_db.close()"
     ],
     "language": "python",
     "metadata": {},
     "outputs": [
      {
       "output_type": "stream",
       "stream": "stdout",
       "text": [
        "<Closed HDF5 file>\n",
        "<Closed HDF5 file>\n",
        "<Closed HDF5 file>\n",
        "<Closed HDF5 file>\n",
        "<Closed HDF5 file>\n",
        "<Closed HDF5 file>\n",
        "<Closed HDF5 file>\n",
        "<Closed HDF5 file>\n",
        "<Closed HDF5 file>\n",
        "<Closed HDF5 file>\n",
        "<Closed HDF5 file>\n",
        "<Closed HDF5 file>\n",
        "<Closed HDF5 file>\n",
        "<Closed HDF5 file>\n",
        "<Closed HDF5 file>\n",
        "<Closed HDF5 file>\n",
        "<Closed HDF5 file>\n",
        "<Closed HDF5 file>\n",
        "<Closed HDF5 file>\n",
        "<Closed HDF5 file>\n",
        "<Closed HDF5 file>\n",
        "<Closed HDF5 file>\n",
        "<Closed HDF5 file>\n",
        "<Closed HDF5 file>\n",
        "<Closed HDF5 file>\n",
        "<Closed HDF5 file>\n",
        "<Closed HDF5 file>\n",
        "<Closed HDF5 file>\n",
        "<Closed HDF5 file>\n",
        "<Closed HDF5 file>\n",
        "<Closed HDF5 file>\n",
        "<Closed HDF5 file>\n",
        "<Closed HDF5 file>\n",
        "<Closed HDF5 file>\n",
        "<Closed HDF5 file>\n",
        "<Closed HDF5 file>\n",
        "<Closed HDF5 file>\n",
        "<Closed HDF5 file>\n",
        "<Closed HDF5 file>\n",
        "<Closed HDF5 file>\n",
        "<Closed HDF5 file>\n",
        "<Closed HDF5 file>\n"
       ]
      }
     ],
     "prompt_number": 18
    },
    {
     "cell_type": "code",
     "collapsed": false,
     "input": [
      "frame_rate = float(expmnt.exp_record['imaging_frame_rate_guess'].value)\n",
      "ep_duration = float(expmnt.exp_record['ol_epoch_duration'].value)\n",
      "ypos = np.array(expmnt.exp_record['axon_data']['Ypos'])\n",
      "sigs = expmnt.exp_record['tiff_data']['axon_framebase']\n",
      "ax_time = np.array(expmnt.exp_record['axon_data']['times'])\n",
      "frame_times = np.array(sigs['times'])\n",
      "epochs = flylib.idx_by_thresh(ypos*-1,-9.5)\n",
      "ttups = [(ax_time[ep[0]],ax_time[ep[0]]+3.5) for ep in epochs]\n",
      "new_epochs = [squeeze(argwhere((frame_times>ttup[0]) & (frame_times<ttup[1]))) for ttup in ttups] \n",
      "trial_ind = [int(np.around(np.mean(ypos[ep[10:30]])*10)) for ep in new_epochs]"
     ],
     "language": "python",
     "metadata": {},
     "outputs": [],
     "prompt_number": 74
    },
    {
     "cell_type": "code",
     "collapsed": false,
     "input": [
      "sorted_epochs = sorted(zip(trial_ind,new_epochs),key = lambda x:x[0])"
     ],
     "language": "python",
     "metadata": {},
     "outputs": [],
     "prompt_number": 75
    },
    {
     "cell_type": "code",
     "collapsed": false,
     "input": [
      "#sig = array(expmnt.exp_record['tiff_data']['axon_framebase']['Ph2'])\n",
      "#sig = array(expmnt.exp_record['roi_data']['i1'])\n",
      "sig = array(expmnt.exp_record['tiff_data']['axon_framebase']['Ph3'])\n",
      "for idx,ep in sorted_epochs:\n",
      "    if idx == 44:\n",
      "        plot(sig[ep],color = 'b')"
     ],
     "language": "python",
     "metadata": {},
     "outputs": [],
     "prompt_number": 78
    },
    {
     "cell_type": "code",
     "collapsed": false,
     "input": [
      "ttups = [(ax_time[ep[0]],ax_time[ep[0]]+3.5) for ep in epochs]\n",
      "new_epochs = [squeeze(argwhere((frame_times>ttup[0]) & (frame_times<ttup[1]))) for ttup in ttups] "
     ],
     "language": "python",
     "metadata": {},
     "outputs": [],
     "prompt_number": 57
    },
    {
     "cell_type": "code",
     "collapsed": false,
     "input": [
      "new_epochs[0]"
     ],
     "language": "python",
     "metadata": {},
     "outputs": [
      {
       "metadata": {},
       "output_type": "pyout",
       "prompt_number": 58,
       "text": [
        "array([1048, 1049, 1050, 1051, 1052, 1053, 1054, 1055, 1056, 1057, 1058,\n",
        "       1059, 1060, 1061, 1062, 1063, 1064, 1065, 1066, 1067, 1068, 1069,\n",
        "       1070, 1071, 1072, 1073, 1074, 1075, 1076, 1077, 1078, 1079, 1080,\n",
        "       1081, 1082, 1083, 1084, 1085, 1086, 1087, 1088, 1089, 1090, 1091,\n",
        "       1092, 1093, 1094, 1095, 1096, 1097, 1098, 1099, 1100, 1101, 1102,\n",
        "       1103, 1104, 1105, 1106, 1107, 1108, 1109, 1110, 1111, 1112, 1113,\n",
        "       1114, 1115, 1116, 1117, 1118, 1119, 1120, 1121, 1122, 1123, 1124,\n",
        "       1125, 1126, 1127, 1128, 1129, 1130, 1131, 1132, 1133, 1134, 1135,\n",
        "       1136, 1137, 1138, 1139, 1140, 1141, 1142, 1143, 1144, 1145, 1146,\n",
        "       1147, 1148, 1149, 1150, 1151, 1152, 1153, 1154, 1155, 1156, 1157,\n",
        "       1158, 1159, 1160, 1161, 1162, 1163, 1164, 1165, 1166, 1167, 1168,\n",
        "       1169, 1170, 1171, 1172, 1173, 1174, 1175, 1176, 1177, 1178, 1179,\n",
        "       1180, 1181, 1182, 1183, 1184, 1185, 1186, 1187, 1188, 1189, 1190,\n",
        "       1191, 1192, 1193, 1194, 1195, 1196, 1197, 1198, 1199, 1200, 1201,\n",
        "       1202, 1203, 1204, 1205, 1206, 1207, 1208, 1209, 1210, 1211, 1212,\n",
        "       1213, 1214, 1215, 1216, 1217, 1218, 1219, 1220, 1221, 1222, 1223,\n",
        "       1224, 1225, 1226, 1227, 1228, 1229, 1230, 1231, 1232, 1233, 1234,\n",
        "       1235, 1236, 1237, 1238, 1239, 1240, 1241, 1242, 1243, 1244, 1245,\n",
        "       1246, 1247, 1248, 1249, 1250, 1251, 1252, 1253, 1254, 1255, 1256,\n",
        "       1257, 1258, 1259, 1260, 1261, 1262, 1263, 1264, 1265, 1266, 1267,\n",
        "       1268, 1269, 1270, 1271, 1272, 1273, 1274, 1275, 1276, 1277, 1278,\n",
        "       1279, 1280, 1281, 1282, 1283, 1284, 1285, 1286, 1287, 1288, 1289,\n",
        "       1290, 1291, 1292, 1293, 1294, 1295])"
       ]
      }
     ],
     "prompt_number": 58
    },
    {
     "cell_type": "code",
     "collapsed": false,
     "input": [
      "expmnt.exp_record['tiff_data']['axon_framebase'].keys()"
     ],
     "language": "python",
     "metadata": {},
     "outputs": [
      {
       "metadata": {},
       "output_type": "pyout",
       "prompt_number": 41,
       "text": [
        "[u'AMsysCh1',\n",
        " u'CamSync',\n",
        " u'CamTrig',\n",
        " u'LeftWing',\n",
        " u'Ph0',\n",
        " u'Ph1',\n",
        " u'Ph2',\n",
        " u'Ph3',\n",
        " u'Photostim',\n",
        " u'RightWing',\n",
        " u'WBSync',\n",
        " u'Xpos',\n",
        " u'Ypos',\n",
        " u'times']"
       ]
      }
     ],
     "prompt_number": 41
    },
    {
     "cell_type": "code",
     "collapsed": false,
     "input": [
      "for i in range(48):\n",
      "    subplot(2,1,1)\n",
      "    plot(np.array(sigs['times'])[new_epochs[i]],np.array(sigs['Ypos'])[new_epochs[i]])\n",
      "    subplot(2,1,2)\n",
      "    plot(np.array(sigs['times'])[new_epochs[i]],np.array(sigs['Xpos'])[new_epochs[i]])"
     ],
     "language": "python",
     "metadata": {},
     "outputs": [
      {
       "ename": "IndexError",
       "evalue": "index 3027847 is out of bounds for size 36001",
       "output_type": "pyerr",
       "traceback": [
        "\u001b[0;31m---------------------------------------------------------------------------\u001b[0m\n\u001b[0;31mIndexError\u001b[0m                                Traceback (most recent call last)",
        "\u001b[0;32m<ipython-input-65-4a641a77f565>\u001b[0m in \u001b[0;36m<module>\u001b[0;34m()\u001b[0m\n\u001b[1;32m      1\u001b[0m \u001b[0;32mfor\u001b[0m \u001b[0mi\u001b[0m \u001b[0;32min\u001b[0m \u001b[0mrange\u001b[0m\u001b[0;34m(\u001b[0m\u001b[0;36m48\u001b[0m\u001b[0;34m)\u001b[0m\u001b[0;34m:\u001b[0m\u001b[0;34m\u001b[0m\u001b[0m\n\u001b[1;32m      2\u001b[0m     \u001b[0msubplot\u001b[0m\u001b[0;34m(\u001b[0m\u001b[0;36m2\u001b[0m\u001b[0;34m,\u001b[0m\u001b[0;36m1\u001b[0m\u001b[0;34m,\u001b[0m\u001b[0;36m1\u001b[0m\u001b[0;34m)\u001b[0m\u001b[0;34m\u001b[0m\u001b[0m\n\u001b[0;32m----> 3\u001b[0;31m     \u001b[0mplot\u001b[0m\u001b[0;34m(\u001b[0m\u001b[0mnp\u001b[0m\u001b[0;34m.\u001b[0m\u001b[0marray\u001b[0m\u001b[0;34m(\u001b[0m\u001b[0msigs\u001b[0m\u001b[0;34m[\u001b[0m\u001b[0;34m'times'\u001b[0m\u001b[0;34m]\u001b[0m\u001b[0;34m)\u001b[0m\u001b[0;34m[\u001b[0m\u001b[0mnew_epochs\u001b[0m\u001b[0;34m[\u001b[0m\u001b[0mi\u001b[0m\u001b[0;34m]\u001b[0m\u001b[0;34m]\u001b[0m\u001b[0;34m,\u001b[0m\u001b[0mnp\u001b[0m\u001b[0;34m.\u001b[0m\u001b[0marray\u001b[0m\u001b[0;34m(\u001b[0m\u001b[0msigs\u001b[0m\u001b[0;34m[\u001b[0m\u001b[0;34m'Ypos'\u001b[0m\u001b[0;34m]\u001b[0m\u001b[0;34m)\u001b[0m\u001b[0;34m[\u001b[0m\u001b[0mnew_epochs\u001b[0m\u001b[0;34m[\u001b[0m\u001b[0mi\u001b[0m\u001b[0;34m]\u001b[0m\u001b[0;34m]\u001b[0m\u001b[0;34m)\u001b[0m\u001b[0;34m\u001b[0m\u001b[0m\n\u001b[0m\u001b[1;32m      4\u001b[0m     \u001b[0msubplot\u001b[0m\u001b[0;34m(\u001b[0m\u001b[0;36m2\u001b[0m\u001b[0;34m,\u001b[0m\u001b[0;36m1\u001b[0m\u001b[0;34m,\u001b[0m\u001b[0;36m2\u001b[0m\u001b[0;34m)\u001b[0m\u001b[0;34m\u001b[0m\u001b[0m\n\u001b[1;32m      5\u001b[0m     \u001b[0mplot\u001b[0m\u001b[0;34m(\u001b[0m\u001b[0mnp\u001b[0m\u001b[0;34m.\u001b[0m\u001b[0marray\u001b[0m\u001b[0;34m(\u001b[0m\u001b[0msigs\u001b[0m\u001b[0;34m[\u001b[0m\u001b[0;34m'times'\u001b[0m\u001b[0;34m]\u001b[0m\u001b[0;34m)\u001b[0m\u001b[0;34m[\u001b[0m\u001b[0mnew_epochs\u001b[0m\u001b[0;34m[\u001b[0m\u001b[0mi\u001b[0m\u001b[0;34m]\u001b[0m\u001b[0;34m]\u001b[0m\u001b[0;34m,\u001b[0m\u001b[0mnp\u001b[0m\u001b[0;34m.\u001b[0m\u001b[0marray\u001b[0m\u001b[0;34m(\u001b[0m\u001b[0msigs\u001b[0m\u001b[0;34m[\u001b[0m\u001b[0;34m'Xpos'\u001b[0m\u001b[0;34m]\u001b[0m\u001b[0;34m)\u001b[0m\u001b[0;34m[\u001b[0m\u001b[0mnew_epochs\u001b[0m\u001b[0;34m[\u001b[0m\u001b[0mi\u001b[0m\u001b[0;34m]\u001b[0m\u001b[0;34m]\u001b[0m\u001b[0;34m)\u001b[0m\u001b[0;34m\u001b[0m\u001b[0m\n",
        "\u001b[0;31mIndexError\u001b[0m: index 3027847 is out of bounds for size 36001"
       ]
      }
     ],
     "prompt_number": 65
    },
    {
     "cell_type": "code",
     "collapsed": false,
     "input": [
      "plot(np.array(sigs['times'])[new_epochs[0]]-np.array(sigs['times'])[new_epochs[0]][0],np.array(sigs['Xpos'])[new_epochs[0]])"
     ],
     "language": "python",
     "metadata": {},
     "outputs": [
      {
       "metadata": {},
       "output_type": "pyout",
       "prompt_number": 78,
       "text": [
        "[<matplotlib.lines.Line2D at 0x15440a950>]"
       ]
      }
     ],
     "prompt_number": 78
    },
    {
     "cell_type": "code",
     "collapsed": false,
     "input": [
      "new_epochs[0]"
     ],
     "language": "python",
     "metadata": {},
     "outputs": [
      {
       "metadata": {},
       "output_type": "pyout",
       "prompt_number": 73,
       "text": [
        "array([3027847, 3027848, 3027849, 3027850, 3027851, 3027852, 3027853,\n",
        "       3027854, 3027855, 3027856, 3027857, 3027858, 3027859, 3027860,\n",
        "       3027861, 3027862, 3027863, 3027864, 3027865, 3027866, 3027867,\n",
        "       3027868, 3027869, 3027870, 3027871, 3027872, 3027873, 3027874,\n",
        "       3027875, 3027876, 3027877, 3027878, 3027879, 3027880, 3027881,\n",
        "       3027882, 3027883, 3027884, 3027885, 3027886, 3027887, 3027888,\n",
        "       3027889, 3027890, 3027891, 3027892, 3027893, 3027894, 3027895,\n",
        "       3027896, 3027897, 3027898, 3027899, 3027900, 3027901, 3027902,\n",
        "       3027903, 3027904, 3027905, 3027906, 3027907, 3027908, 3027909,\n",
        "       3027910, 3027911, 3027912, 3027913, 3027914, 3027915, 3027916,\n",
        "       3027917, 3027918, 3027919, 3027920, 3027921, 3027922, 3027923,\n",
        "       3027924, 3027925, 3027926, 3027927, 3027928, 3027929, 3027930,\n",
        "       3027931, 3027932, 3027933, 3027934, 3027935, 3027936, 3027937,\n",
        "       3027938, 3027939, 3027940, 3027941, 3027942, 3027943, 3027944,\n",
        "       3027945, 3027946, 3027947, 3027948, 3027949, 3027950, 3027951,\n",
        "       3027952, 3027953, 3027954, 3027955, 3027956, 3027957, 3027958,\n",
        "       3027959, 3027960, 3027961, 3027962, 3027963, 3027964, 3027965,\n",
        "       3027966, 3027967, 3027968, 3027969, 3027970, 3027971, 3027972,\n",
        "       3027973, 3027974, 3027975, 3027976, 3027977, 3027978, 3027979,\n",
        "       3027980, 3027981, 3027982, 3027983, 3027984, 3027985, 3027986,\n",
        "       3027987, 3027988, 3027989, 3027990, 3027991, 3027992, 3027993,\n",
        "       3027994, 3027995, 3027996, 3027997, 3027998, 3027999, 3028000,\n",
        "       3028001, 3028002, 3028003, 3028004, 3028005, 3028006, 3028007,\n",
        "       3028008, 3028009, 3028010, 3028011, 3028012, 3028013, 3028014,\n",
        "       3028015, 3028016, 3028017, 3028018, 3028019, 3028020, 3028021,\n",
        "       3028022, 3028023, 3028024, 3028025, 3028026, 3028027, 3028028,\n",
        "       3028029, 3028030, 3028031, 3028032, 3028033, 3028034, 3028035,\n",
        "       3028036, 3028037, 3028038, 3028039, 3028040, 3028041, 3028042,\n",
        "       3028043, 3028044, 3028045, 3028046, 3028047, 3028048, 3028049,\n",
        "       3028050, 3028051, 3028052, 3028053, 3028054, 3028055, 3028056])"
       ]
      }
     ],
     "prompt_number": 73
    },
    {
     "cell_type": "code",
     "collapsed": false,
     "input": [
      "starfield_pattern_names_6_29_2014  = ['translate_forward.mat',\n",
      "                            'translate_backward.mat',\n",
      "                            'translate_up.mat',\n",
      "                            'translate_down.mat',\n",
      "                            'spin_equator_000.mat',\n",
      "                            'spin_equator_030.mat',\n",
      "                            'spin_equator_060.mat',\n",
      "                            'spin_equator_090.mat',\n",
      "                            'spin_equator_120.mat',\n",
      "                            'spin_equator_150.mat',\n",
      "                            'spin_equator_180.mat',\n",
      "                            'spin_equator_210.mat',\n",
      "                            'spin_equator_240.mat',\n",
      "                            'spin_equator_270.mat',\n",
      "                            'spin_equator_300.mat',\n",
      "                            'spin_equator_330.mat']"
     ],
     "language": "python",
     "metadata": {},
     "outputs": [],
     "prompt_number": 10
    },
    {
     "cell_type": "code",
     "collapsed": false,
     "input": [
      "l = [[x,x,x] for x in starfield_pattern_names_6_29_2014]"
     ],
     "language": "python",
     "metadata": {},
     "outputs": [],
     "prompt_number": 11
    },
    {
     "cell_type": "code",
     "collapsed": false,
     "input": [
      "len([item for sublist in l for item in sublist])"
     ],
     "language": "python",
     "metadata": {},
     "outputs": [
      {
       "metadata": {},
       "output_type": "pyout",
       "prompt_number": 12,
       "text": [
        "48"
       ]
      }
     ],
     "prompt_number": 12
    },
    {
     "cell_type": "code",
     "collapsed": false,
     "input": [
      "fly_db.close()"
     ],
     "language": "python",
     "metadata": {},
     "outputs": [],
     "prompt_number": 51
    },
    {
     "cell_type": "code",
     "collapsed": false,
     "input": [
      "ep = array(img_star.sequences[5].seq_record['epoch_framebase'])"
     ],
     "language": "python",
     "metadata": {},
     "outputs": [],
     "prompt_number": 49
    },
    {
     "cell_type": "code",
     "collapsed": false,
     "input": [
      "plot(array(img_star.exp_record['tiff_data']['axon_framebase']['Ypos'])*-1)"
     ],
     "language": "python",
     "metadata": {},
     "outputs": [
      {
       "metadata": {},
       "output_type": "pyout",
       "prompt_number": 22,
       "text": [
        "[<matplotlib.lines.Line2D at 0x155a82490>]"
       ]
      }
     ],
     "prompt_number": 22
    },
    {
     "cell_type": "code",
     "collapsed": false,
     "input": [],
     "language": "python",
     "metadata": {},
     "outputs": []
    },
    {
     "cell_type": "code",
     "collapsed": false,
     "input": [],
     "language": "python",
     "metadata": {},
     "outputs": []
    },
    {
     "cell_type": "code",
     "collapsed": false,
     "input": [],
     "language": "python",
     "metadata": {},
     "outputs": []
    },
    {
     "cell_type": "code",
     "collapsed": false,
     "input": [],
     "language": "python",
     "metadata": {},
     "outputs": []
    },
    {
     "cell_type": "code",
     "collapsed": false,
     "input": [],
     "language": "python",
     "metadata": {},
     "outputs": []
    },
    {
     "cell_type": "code",
     "collapsed": false,
     "input": [],
     "language": "python",
     "metadata": {},
     "outputs": []
    },
    {
     "cell_type": "code",
     "collapsed": false,
     "input": [],
     "language": "python",
     "metadata": {},
     "outputs": []
    },
    {
     "cell_type": "code",
     "collapsed": false,
     "input": [],
     "language": "python",
     "metadata": {},
     "outputs": []
    },
    {
     "cell_type": "code",
     "collapsed": false,
     "input": [],
     "language": "python",
     "metadata": {},
     "outputs": []
    },
    {
     "cell_type": "code",
     "collapsed": false,
     "input": [],
     "language": "python",
     "metadata": {},
     "outputs": []
    },
    {
     "cell_type": "code",
     "collapsed": false,
     "input": [],
     "language": "python",
     "metadata": {},
     "outputs": []
    },
    {
     "cell_type": "code",
     "collapsed": false,
     "input": [],
     "language": "python",
     "metadata": {},
     "outputs": []
    },
    {
     "cell_type": "code",
     "collapsed": false,
     "input": [],
     "language": "python",
     "metadata": {},
     "outputs": []
    },
    {
     "cell_type": "code",
     "collapsed": false,
     "input": [],
     "language": "python",
     "metadata": {},
     "outputs": []
    },
    {
     "cell_type": "code",
     "collapsed": false,
     "input": [],
     "language": "python",
     "metadata": {},
     "outputs": []
    },
    {
     "cell_type": "code",
     "collapsed": false,
     "input": [],
     "language": "python",
     "metadata": {},
     "outputs": []
    },
    {
     "cell_type": "code",
     "collapsed": false,
     "input": [],
     "language": "python",
     "metadata": {},
     "outputs": []
    },
    {
     "cell_type": "code",
     "collapsed": false,
     "input": [],
     "language": "python",
     "metadata": {},
     "outputs": []
    },
    {
     "cell_type": "code",
     "collapsed": false,
     "input": [],
     "language": "python",
     "metadata": {},
     "outputs": []
    },
    {
     "cell_type": "code",
     "collapsed": false,
     "input": [],
     "language": "python",
     "metadata": {},
     "outputs": []
    },
    {
     "cell_type": "code",
     "collapsed": false,
     "input": [],
     "language": "python",
     "metadata": {},
     "outputs": []
    },
    {
     "cell_type": "code",
     "collapsed": false,
     "input": [],
     "language": "python",
     "metadata": {},
     "outputs": []
    },
    {
     "cell_type": "code",
     "collapsed": false,
     "input": [],
     "language": "python",
     "metadata": {},
     "outputs": []
    },
    {
     "cell_type": "code",
     "collapsed": false,
     "input": [],
     "language": "python",
     "metadata": {},
     "outputs": []
    },
    {
     "cell_type": "code",
     "collapsed": false,
     "input": [],
     "language": "python",
     "metadata": {},
     "outputs": []
    },
    {
     "cell_type": "code",
     "collapsed": false,
     "input": [],
     "language": "python",
     "metadata": {},
     "outputs": []
    },
    {
     "cell_type": "code",
     "collapsed": false,
     "input": [],
     "language": "python",
     "metadata": {},
     "outputs": []
    },
    {
     "cell_type": "code",
     "collapsed": false,
     "input": [],
     "language": "python",
     "metadata": {},
     "outputs": []
    },
    {
     "cell_type": "code",
     "collapsed": false,
     "input": [],
     "language": "python",
     "metadata": {},
     "outputs": []
    },
    {
     "cell_type": "code",
     "collapsed": false,
     "input": [],
     "language": "python",
     "metadata": {},
     "outputs": []
    },
    {
     "cell_type": "code",
     "collapsed": false,
     "input": [],
     "language": "python",
     "metadata": {},
     "outputs": []
    },
    {
     "cell_type": "code",
     "collapsed": false,
     "input": [],
     "language": "python",
     "metadata": {},
     "outputs": []
    },
    {
     "cell_type": "code",
     "collapsed": false,
     "input": [],
     "language": "python",
     "metadata": {},
     "outputs": []
    },
    {
     "cell_type": "code",
     "collapsed": false,
     "input": [],
     "language": "python",
     "metadata": {},
     "outputs": []
    },
    {
     "cell_type": "code",
     "collapsed": false,
     "input": [],
     "language": "python",
     "metadata": {},
     "outputs": []
    },
    {
     "cell_type": "code",
     "collapsed": false,
     "input": [],
     "language": "python",
     "metadata": {},
     "outputs": []
    },
    {
     "cell_type": "code",
     "collapsed": false,
     "input": [],
     "language": "python",
     "metadata": {},
     "outputs": []
    },
    {
     "cell_type": "code",
     "collapsed": false,
     "input": [],
     "language": "python",
     "metadata": {},
     "outputs": []
    },
    {
     "cell_type": "code",
     "collapsed": false,
     "input": [],
     "language": "python",
     "metadata": {},
     "outputs": [],
     "prompt_number": 28
    },
    {
     "cell_type": "code",
     "collapsed": false,
     "input": [],
     "language": "python",
     "metadata": {},
     "outputs": [],
     "prompt_number": 3
    },
    {
     "cell_type": "code",
     "collapsed": false,
     "input": [],
     "language": "python",
     "metadata": {},
     "outputs": [],
     "prompt_number": 40
    },
    {
     "cell_type": "code",
     "collapsed": false,
     "input": [],
     "language": "python",
     "metadata": {},
     "outputs": [],
     "prompt_number": 41
    },
    {
     "cell_type": "code",
     "collapsed": false,
     "input": [],
     "language": "python",
     "metadata": {},
     "outputs": [],
     "prompt_number": 42
    },
    {
     "cell_type": "code",
     "collapsed": false,
     "input": [],
     "language": "python",
     "metadata": {},
     "outputs": [],
     "prompt_number": 43
    },
    {
     "cell_type": "code",
     "collapsed": false,
     "input": [],
     "language": "python",
     "metadata": {},
     "outputs": [],
     "prompt_number": 44
    },
    {
     "cell_type": "code",
     "collapsed": false,
     "input": [],
     "language": "python",
     "metadata": {},
     "outputs": [],
     "prompt_number": 45
    },
    {
     "cell_type": "code",
     "collapsed": false,
     "input": [],
     "language": "python",
     "metadata": {},
     "outputs": [],
     "prompt_number": 46
    },
    {
     "cell_type": "code",
     "collapsed": false,
     "input": [],
     "language": "python",
     "metadata": {},
     "outputs": [],
     "prompt_number": 47
    },
    {
     "cell_type": "code",
     "collapsed": false,
     "input": [],
     "language": "python",
     "metadata": {},
     "outputs": [],
     "prompt_number": 49
    },
    {
     "cell_type": "code",
     "collapsed": false,
     "input": [],
     "language": "python",
     "metadata": {},
     "outputs": [],
     "prompt_number": 50
    },
    {
     "cell_type": "code",
     "collapsed": false,
     "input": [],
     "language": "python",
     "metadata": {},
     "outputs": []
    },
    {
     "cell_type": "code",
     "collapsed": false,
     "input": [],
     "language": "python",
     "metadata": {},
     "outputs": []
    },
    {
     "cell_type": "code",
     "collapsed": false,
     "input": [],
     "language": "python",
     "metadata": {},
     "outputs": []
    }
   ],
   "metadata": {}
  }
 ]
}