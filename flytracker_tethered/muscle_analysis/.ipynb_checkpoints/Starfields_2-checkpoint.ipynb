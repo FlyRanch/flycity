{
 "metadata": {
  "name": "",
  "signature": "sha256:5d14eb5bfc47cf143b014e8d4b37b22e1fb3ad5b5e44414c49ca6bfc02f722fc"
 },
 "nbformat": 3,
 "nbformat_minor": 0,
 "worksheets": [
  {
   "cells": [
    {
     "cell_type": "code",
     "collapsed": false,
     "input": [
      "import transformations as tran"
     ],
     "language": "python",
     "metadata": {},
     "outputs": [
      {
       "output_type": "stream",
       "stream": "stderr",
       "text": [
        "transformations.py:1888: UserWarning: failed to import module _transformations\n",
        "  warnings.warn(\"failed to import module %s\" % name)\n"
       ]
      }
     ],
     "prompt_number": 1
    },
    {
     "cell_type": "code",
     "collapsed": false,
     "input": [
      "def make_universe(universe_size = 10,\n",
      "                  max_sensory_radius = 2,\n",
      "                  star_density = 125):\n",
      "    num_stars = (universe_size**3)*star_density\n",
      "    ux = (random.ranf(size = num_stars)-0.5)*universe_size\n",
      "    uy = (random.ranf(size = num_stars)-0.5)*universe_size\n",
      "    uz = (random.ranf(size = num_stars)-0.5)*universe_size\n",
      "    uxyz = vstack((ux,uy,uz))\n",
      "    distances = linalg.norm(uxyz,axis = 0)\n",
      "    mask = (distances > max_sensory_radius)\n",
      "    xyz = uxyz[:,~mask]\n",
      "    x = ux[~mask]\n",
      "    y = uy[~mask]\n",
      "    z = uz[~mask]\n",
      "    xyz_prime = xyz\n",
      "    return xyz_prime"
     ],
     "language": "python",
     "metadata": {},
     "outputs": [],
     "prompt_number": 2
    },
    {
     "cell_type": "code",
     "collapsed": false,
     "input": [
      "def arena_project(xyz,arena_rad = 0.122/2,arena_elevation = 0.128):\n",
      "    x = xyz[0,:]\n",
      "    y = xyz[1,:]\n",
      "    z = xyz[2,:]\n",
      "    distances = linalg.norm(xyz,axis = 0)\n",
      "    longitude = arctan2(x,y) + pi\n",
      "    r = squeeze(linalg.norm([[x],[y]],axis = 0))\n",
      "    elevation = (z/r)*arena_rad\n",
      "    mask = (r<arena_rad)| (elevation > arena_elevation/2) | (elevation < arena_elevation/-2)\n",
      "    return (longitude[~mask],elevation[~mask],distances[~mask])"
     ],
     "language": "python",
     "metadata": {},
     "outputs": [],
     "prompt_number": 3
    },
    {
     "cell_type": "code",
     "collapsed": false,
     "input": [
      "def digitize_points(longitude,elevation,distance,arena_elevation = 0.128,display_shape = (96,32)):\n",
      "    elev_bins = linspace(-0.5*arena_elevation,0.5*arena_elevation,display_shape[1]+1)\n",
      "    long_bins = linspace(0,2*pi,display_shape[0]+1)\n",
      "    #weights = 1/distance**2\n",
      "    weights = ones_like(distance)\n",
      "    img_mtrx = histogramdd([longitude,elevation],bins =(long_bins,elev_bins),weights = weights)[0].T\n",
      "    return img_mtrx"
     ],
     "language": "python",
     "metadata": {},
     "outputs": [],
     "prompt_number": 4
    },
    {
     "cell_type": "code",
     "collapsed": false,
     "input": [
      "def integrate_frame(pts,\n",
      "                    rotation_vect = np.array([1.0,1.0,0.0]),\n",
      "                    translation_vect = np.array([0.0,0.0,0.0]),\n",
      "                    frame_period = 0.1):\n",
      "    rotational_velocity = linalg.norm(rotation_vect)\n",
      "    rotational_direction = rotation_vect/rotational_velocity\n",
      "    dt = frame_period/100.0\n",
      "    dtheta = rotational_velocity*dt \n",
      "    drot = tran.rotation_matrix(dtheta,rotational_direction)\n",
      "    dtrans = tran.translation_matrix(translation_vect*dt)\n",
      "    dA = np.dot(dtrans,drot)\n",
      "    for x in range(int(frame_period/dt)):\n",
      "        pts_H = vstack([pts,ones(shape(pts)[1])])\n",
      "        pts = np.dot(dA,pts_H)[:-1,:]\n",
      "    return pts"
     ],
     "language": "python",
     "metadata": {},
     "outputs": [],
     "prompt_number": 6
    },
    {
     "cell_type": "code",
     "collapsed": false,
     "input": [
      "def make_translation_pattern(equator_pole,translation_velocity,frame_rate,epoch_duration=2.25,max_sensory_radius = 2):\n",
      "    #translate in a direction on the equator.\n",
      "    from scipy.misc import imresize\n",
      "    frame_period = 1/frame_rate\n",
      "    frame_distance = frame_period*translation_velocity \n",
      "    frames_per_cycle = around(epoch_duration/frame_rate).astype(int)\n",
      "    ####################\n",
      "    def crop_universe(xyzp):\n",
      "        distances = linalg.norm(xyzp,axis = 0)\n",
      "        mask = (distances > max_sensory_radius)\n",
      "        xyzp = xyzp[:,~mask]\n",
      "        return xyzp\n",
      "    \n",
      "    def refill_universe(xyzp):\n",
      "        xyz = make_universe(star_density = 50,max_sensory_radius = max_sensory_radius+frame_distance)\n",
      "        distances = distances = linalg.norm(xyzp,axis = 0)\n",
      "        mask = (distances > max_sensory_radius)\n",
      "        xyzp = hstack((xyz[:,mask],xyzp))\n",
      "        return xyzp\n",
      "    #######################\n",
      "    xyz = make_universe(star_density = 50,max_sensory_radius = max_sensory_radius+frame_distance)\n",
      "    ###align the orientation vector with arena coordinates\n",
      "    unit_vector = np.array([0.,1.,0.])\n",
      "    zp_offset = (2*pi)/96*4\n",
      "    orientation_vector = dot(tran.rotation_matrix(equator_pole+zp_offset,[0,0,1])[:3,:3],unit_vector)*translation_velocity\n",
      "    xyzp = integrate_frame(xyz,\n",
      "                       rotation_vect = np.array([0.,0.,0.]),\n",
      "                       translation_vect = orientation_vector,\n",
      "                       frame_period = 1/frame_rate)\n",
      "    ###crop to max_sensory_radius\n",
      "    xyzp = crop_universe(xyzp)\n",
      "    proj = arena_project(xyzp)\n",
      "    imgs = digitize_points(*proj,display_shape = display_shape)\n",
      "    imgs = imgs[:,:,newaxis]\n",
      "    xyzp = refill_universe(xyzp)\n",
      "    #####################\n",
      "    for i in range(frames_per_cycle):\n",
      "        xyzp = integrate_frame(xyzp,\n",
      "                       rotation_vect = np.array([0.,0.,0.]),\n",
      "                       translation_vect = orientation_vector,\n",
      "                       frame_period = 1/frame_rate)\n",
      "        xyzp = crop_universe(xyzp)\n",
      "        proj = arena_project(xyzp)\n",
      "        imgs = digitize_points(*proj,display_shape = display_shape)\n",
      "        imgs = imgs[:,:,newaxis]\n",
      "        xyzp = refill_universe(xyzp)\n",
      "    from scipy import io\n",
      "    return imgs\n",
      "    #io.savemat('equator_%03d'%(around(rad2deg(equator_pole))),{'imgs':imgs})\n",
      "\n",
      "def make_spin_pattern_equator(equator_pole,angular_velocity,frame_rate):\n",
      "    #Spin the world around a equatorial pole\n",
      "    from scipy.misc import imresize\n",
      "    unit_vector = np.array([0.,1.,0.])\n",
      "    zp_offset = (2*pi)/96*4\n",
      "    orientation_vector = dot(tran.rotation_matrix(equator_pole+zp_offset,[0,0,1])[:3,:3],unit_vector)*angular_velocity\n",
      "    xyzp = integrate_frame(xyz,\n",
      "                       rotation_vect = orientation_vector,\n",
      "                       translation_vect = np.array([0,0,0]),\n",
      "                       frame_period = 1/frame_rate)\n",
      "    proj = arena_project(xyzp)\n",
      "    imgs = digitize_points(*proj,display_shape = display_shape)\n",
      "    imgs = imgs[:,:,newaxis]\n",
      "    frames_per_cycle = int(((2*pi)/angular_velocity)*frame_rate)\n",
      "    for i in range(frames_per_cycle):\n",
      "        xyzp = integrate_frame(xyzp,\n",
      "                           rotation_vect = orientation_vector,\n",
      "                           translation_vect = np.array([0,0,0]),\n",
      "                           frame_period = 1/frame_rate)\n",
      "        proj = arena_project(xyzp)\n",
      "        img = digitize_points(*proj,display_shape = display_shape)\n",
      "        imgs = concatenate((imgs, img[:,:,newaxis]),axis = 2)\n",
      "    from scipy import io\n",
      "    io.savemat('equator_%03d'%(around(rad2deg(equator_pole))),{'imgs':imgs})\n",
      "\n",
      "def make_spin_pattern_coromeridian(coromeridian_pole,angular_velocity,frame_rate):\n",
      "    #Spin the world around a pole around a coronal maridian pole\n",
      "    from scipy.misc import imresize\n",
      "    unit_vector = np.array([0.,1.,0.])\n",
      "    zp_offset = (2*pi)/96*4\n",
      "    orientation_vector = dot(tran.rotation_matrix(coromeridian_pole,array([1,0,0]))[:3,:3],unit_vector)\n",
      "    orientation_vector = dot(tran.rotation_matrix(zp_offset,array([0,0,1]))[:3,:3],orientation_vector)*angular_velocity\n",
      "    xyzp = integrate_frame(xyz,\n",
      "                       rotation_vect = orientation_vector,\n",
      "                       translation_vect = np.array([0,0,0]),\n",
      "                       frame_period = 1/frame_rate)\n",
      "    proj = arena_project(xyzp)\n",
      "    imgs = digitize_points(*proj,display_shape = display_shape)\n",
      "    imgs = imgs[:,:,newaxis]\n",
      "    frames_per_cycle = int(((2*pi)/angular_velocity)*frame_rate)\n",
      "    for i in range(frames_per_cycle):\n",
      "        xyzp = integrate_frame(xyzp,\n",
      "                           rotation_vect = orientation_vector,\n",
      "                           translation_vect = np.array([0,0,0]),\n",
      "                           frame_period = 1/frame_rate)\n",
      "        proj = arena_project(xyzp)\n",
      "        img = digitize_points(*proj,display_shape = display_shape)\n",
      "        imgs = concatenate((imgs, img[:,:,newaxis]),axis = 2)\n",
      "    from scipy import io\n",
      "    io.savemat('coromeridian_%03d'%(around(rad2deg(coromeridian_pole))),{'imgs':imgs})\n",
      "    \n",
      "def make_spin_pattern_sagimeridian(sagimeridian_pole,angular_velocity,frame_rate):\n",
      "    #spin the world around a pole on the mid-sagital meridian.\n",
      "    from scipy.misc import imresize\n",
      "    unit_vector = np.array([1.,0.,0.])\n",
      "    zp_offset = (2*pi)/96*4\n",
      "    orientation_vector = dot(tran.rotation_matrix(sagimeridian_pole,array([0,1,0]))[:3,:3],unit_vector)\n",
      "    orientation_vector = dot(tran.rotation_matrix(zp_offset,array([0,0,1]))[:3,:3],orientation_vector)*angular_velocity\n",
      "    xyzp = integrate_frame(xyz,\n",
      "                       rotation_vect = orientation_vector,\n",
      "                       translation_vect = np.array([0,0,0]),\n",
      "                       frame_period = 1/frame_rate)\n",
      "    proj = arena_project(xyzp)\n",
      "    imgs = digitize_points(*proj,display_shape = display_shape)\n",
      "    imgs = imgs[:,:,newaxis]\n",
      "    frames_per_cycle = int(((2*pi)/angular_velocity)*frame_rate)\n",
      "    for i in range(frames_per_cycle):\n",
      "        xyzp = integrate_frame(xyzp,\n",
      "                           rotation_vect = orientation_vector,\n",
      "                           translation_vect = np.array([0,0,0]),\n",
      "                           frame_period = 1/frame_rate)\n",
      "        proj = arena_project(xyzp)\n",
      "        img = digitize_points(*proj,display_shape = display_shape)\n",
      "        imgs = concatenate((imgs, img[:,:,newaxis]),axis = 2)\n",
      "    from scipy import io\n",
      "    io.savemat('sagimeridian_%03d'%(around(rad2deg(sagimeridian_pole))),{'imgs':imgs})"
     ],
     "language": "python",
     "metadata": {},
     "outputs": [],
     "prompt_number": 28
    },
    {
     "cell_type": "code",
     "collapsed": false,
     "input": [
      "frame_rate = 60.0 \n",
      "display_shape = (96,32)\n",
      "deg_per_pix = 360/display_shape[0]\n",
      "translation_velocity = deg2rad(2.25*frame_rate)\n",
      "equator_pole = 0\n",
      "imgs = make_translation_pattern(equator_pole,translation_velocity,frame_rate)"
     ],
     "language": "python",
     "metadata": {},
     "outputs": [],
     "prompt_number": 29
    },
    {
     "cell_type": "code",
     "collapsed": false,
     "input": [
      "print 'making equators'  \n",
      "for equator_pole in linspace(0,2*pi,13):\n",
      "    #xyz = make_universe(star_density = 50,max_sensory_radius = 2)\n",
      "    frame_rate = 60.0 \n",
      "    display_shape = (96,32)\n",
      "    deg_per_pix = 360/display_shape[0]\n",
      "    angular_velocity = deg2rad(2.25*frame_rate)\n",
      "    make_spin_pattern_equator(equator_pole,angular_velocity,frame_rate)\n",
      "\n",
      "print 'making sagimeridian'\n",
      "for sagimeridian_pole in linspace(0,2*pi,13):\n",
      "    xyz = make_universe(star_density = 50,max_sensory_radius = 2)\n",
      "    frame_rate = 60.0 \n",
      "    display_shape = (96,32)\n",
      "    deg_per_pix = 360/display_shape[0]\n",
      "    angular_velocity = deg2rad(2.25*frame_rate)\n",
      "    make_spin_pattern_sagimeridian(sagimeridian_pole,angular_velocity,frame_rate)\n",
      "print 'making coromeridian'\n",
      "for coromeridian_pole in linspace(0,2*pi,13):\n",
      "    xyz = make_universe(star_density = 50,max_sensory_radius = 2)\n",
      "    frame_rate = 60.0 \n",
      "    display_shape = (96,32)\n",
      "    deg_per_pix = 360/display_shape[0]\n",
      "    angular_velocity = deg2rad(2.25*frame_rate)\n",
      "    make_spin_pattern_coromeridian(coromeridian_pole,angular_velocity,frame_rate)"
     ],
     "language": "python",
     "metadata": {},
     "outputs": []
    },
    {
     "cell_type": "code",
     "collapsed": false,
     "input": [
      "from IPython.display import display, clear_output\n",
      "f, ax = subplots()\n",
      "img = ax.imshow(imgs[:,:,0],cmap = cm.gray)\n",
      "for i in range(shape(imgs)[-1]):\n",
      "    img.set_data(imgs[:,:,i])\n",
      "    display(f)\n",
      "    clear_output()"
     ],
     "language": "python",
     "metadata": {},
     "outputs": [],
     "prompt_number": 30
    },
    {
     "cell_type": "code",
     "collapsed": false,
     "input": [],
     "language": "python",
     "metadata": {},
     "outputs": []
    },
    {
     "cell_type": "code",
     "collapsed": false,
     "input": [
      "zp_offset = (2*pi)/96*4\n",
      "unit_vector = np.array([1.,0.,0.])\n",
      "orientation_vector = dot(tran.rotation_matrix(30,[0,1,0])[:3,:3],unit_vector)\n",
      "print orientation_vector\n",
      "orientation_vector = dot(tran.rotation_matrix(zp_offset,[0,0,1])[:3,:3],orientation_vector)\n",
      "print orientation_vector"
     ],
     "language": "python",
     "metadata": {},
     "outputs": [
      {
       "output_type": "stream",
       "stream": "stdout",
       "text": [
        "[ 0.15425145  0.          0.98803162]\n",
        "[ 0.14899546  0.03992321  0.98803162]\n"
       ]
      }
     ],
     "prompt_number": 115
    },
    {
     "cell_type": "code",
     "collapsed": false,
     "input": [
      "zp_offset = (2*pi)/96*4\n",
      "unit_vector = np.array([0.,1.,0.])\n",
      "orientation_vector = dot(tran.rotation_matrix(30,[1,0,0])[:3,:3],unit_vector)\n",
      "print orientation_vector\n",
      "orientation_vector = dot(tran.rotation_matrix(zp_offset,[0,0,1])[:3,:3],orientation_vector)\n",
      "print orientation_vector"
     ],
     "language": "python",
     "metadata": {},
     "outputs": [
      {
       "output_type": "stream",
       "stream": "stdout",
       "text": [
        "[ 0.          0.15425145 -0.98803162]\n",
        "[-0.03992321  0.14899546 -0.98803162]\n"
       ]
      }
     ],
     "prompt_number": 114
    },
    {
     "cell_type": "code",
     "collapsed": false,
     "input": [
      "2*pi/12*4"
     ],
     "language": "python",
     "metadata": {},
     "outputs": [
      {
       "metadata": {},
       "output_type": "pyout",
       "prompt_number": 91,
       "text": [
        "2.0943951023931953"
       ]
      }
     ],
     "prompt_number": 91
    },
    {
     "cell_type": "code",
     "collapsed": false,
     "input": [
      "210/60"
     ],
     "language": "python",
     "metadata": {},
     "outputs": [
      {
       "metadata": {},
       "output_type": "pyout",
       "prompt_number": 15,
       "text": [
        "3"
       ]
      }
     ],
     "prompt_number": 15
    },
    {
     "cell_type": "code",
     "collapsed": false,
     "input": [
      "220*70"
     ],
     "language": "python",
     "metadata": {},
     "outputs": [
      {
       "metadata": {},
       "output_type": "pyout",
       "prompt_number": 17,
       "text": [
        "14700"
       ]
      }
     ],
     "prompt_number": 17
    },
    {
     "cell_type": "code",
     "collapsed": false,
     "input": [],
     "language": "python",
     "metadata": {},
     "outputs": [],
     "prompt_number": 86
    },
    {
     "cell_type": "code",
     "collapsed": false,
     "input": [],
     "language": "python",
     "metadata": {},
     "outputs": [],
     "prompt_number": 86
    },
    {
     "cell_type": "code",
     "collapsed": false,
     "input": [
      "rmat = tran.rotation_matrix(pi/20,[0,0,1])"
     ],
     "language": "python",
     "metadata": {},
     "outputs": [],
     "prompt_number": 15
    },
    {
     "cell_type": "code",
     "collapsed": false,
     "input": [
      "xyz_prime = dot(rmat[:3,:3],xyz)"
     ],
     "language": "python",
     "metadata": {},
     "outputs": [],
     "prompt_number": 24
    },
    {
     "cell_type": "code",
     "collapsed": false,
     "input": [
      "shape(rmat[:3,:3])"
     ],
     "language": "python",
     "metadata": {},
     "outputs": [
      {
       "metadata": {},
       "output_type": "pyout",
       "prompt_number": 20,
       "text": [
        "(3, 3)"
       ]
      }
     ],
     "prompt_number": 20
    },
    {
     "cell_type": "code",
     "collapsed": false,
     "input": [],
     "language": "python",
     "metadata": {},
     "outputs": []
    }
   ],
   "metadata": {}
  }
 ]
}