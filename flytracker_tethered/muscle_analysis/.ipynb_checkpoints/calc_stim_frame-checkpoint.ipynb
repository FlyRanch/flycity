{
 "metadata": {
  "name": ""
 },
 "nbformat": 3,
 "nbformat_minor": 0,
 "worksheets": [
  {
   "cells": [
    {
     "cell_type": "code",
     "collapsed": false,
     "input": [
      "import neo\n",
      "import quantities as pq\n",
      "import h5py\n",
      "import flylib"
     ],
     "language": "python",
     "metadata": {},
     "outputs": [],
     "prompt_number": 97
    },
    {
     "cell_type": "code",
     "collapsed": false,
     "input": [
      "fly_db = h5py.File('flydb.hdf5','a')\n",
      "swarm = flylib.Squadron(fly_db)\n",
      "fly = swarm.flies[8]\n",
      "lrb = fly.experiments['lr_blob_expansion']"
     ],
     "language": "python",
     "metadata": {},
     "outputs": [],
     "prompt_number": 103
    },
    {
     "cell_type": "code",
     "collapsed": false,
     "input": [
      "seq = lrb.sequences[11]"
     ],
     "language": "python",
     "metadata": {},
     "outputs": [],
     "prompt_number": 90
    },
    {
     "cell_type": "code",
     "collapsed": false,
     "input": [
      "def calc_stim_frame(seq,x_thresh):\n",
      "    idx_col = np.argwhere(np.array(seq.seq_record['axon']['Xpos'])>x_thresh)[0]\n",
      "    t_col = np.array(seq.seq_record['axon']['axon_sample_times'])[idx_col]\n",
      "    ax_times = np.array(seq.seq_record['wb_mtrx']['axon_sample_times'])\n",
      "    ph_times = np.array(seq.seq_record['wb_mtrx']['photron_sample_times'])\n",
      "    mean_times = (ax_times+ph_times)/2\n",
      "    stim_times= mean_times - t_col"
     ],
     "language": "python",
     "metadata": {},
     "outputs": [],
     "prompt_number": 92
    },
    {
     "cell_type": "code",
     "collapsed": false,
     "input": [
      "l = plot(stim_times.T)"
     ],
     "language": "python",
     "metadata": {},
     "outputs": [],
     "prompt_number": 88
    },
    {
     "cell_type": "code",
     "collapsed": false,
     "input": [
      "reload(flylib)"
     ],
     "language": "python",
     "metadata": {},
     "outputs": [
      {
       "metadata": {},
       "output_type": "pyout",
       "prompt_number": 102,
       "text": [
        "<module 'flylib' from 'flylib.py'>"
       ]
      }
     ],
     "prompt_number": 102
    },
    {
     "cell_type": "code",
     "collapsed": false,
     "input": [
      "for fly in swarm.flies:\n",
      "    lrb = fly.experiments['lr_blob_expansion']\n",
      "    for seq_key in lrb.sequences.keys():\n",
      "        seq = lrb.sequences[seq_key]\n",
      "        seq.calc_stim_frame(2.5)"
     ],
     "language": "python",
     "metadata": {},
     "outputs": [],
     "prompt_number": 104
    },
    {
     "cell_type": "code",
     "collapsed": false,
     "input": [],
     "language": "python",
     "metadata": {},
     "outputs": [],
     "prompt_number": 74
    },
    {
     "cell_type": "code",
     "collapsed": false,
     "input": [],
     "language": "python",
     "metadata": {},
     "outputs": [],
     "prompt_number": 74
    },
    {
     "cell_type": "code",
     "collapsed": false,
     "input": [],
     "language": "python",
     "metadata": {},
     "outputs": [],
     "prompt_number": 74
    },
    {
     "cell_type": "code",
     "collapsed": false,
     "input": [],
     "language": "python",
     "metadata": {},
     "outputs": [],
     "prompt_number": 63
    },
    {
     "cell_type": "code",
     "collapsed": false,
     "input": [],
     "language": "python",
     "metadata": {},
     "outputs": [],
     "prompt_number": 74
    },
    {
     "cell_type": "code",
     "collapsed": false,
     "input": [],
     "language": "python",
     "metadata": {},
     "outputs": []
    }
   ],
   "metadata": {}
  }
 ]
}