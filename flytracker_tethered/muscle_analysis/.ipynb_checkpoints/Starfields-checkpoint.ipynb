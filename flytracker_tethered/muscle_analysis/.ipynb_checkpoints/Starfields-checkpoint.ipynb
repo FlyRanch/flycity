{
 "metadata": {
  "name": "",
  "signature": "sha256:54512eb97ee6eb8fb135ab8cb073b83092b2cbc7bc9ee346ab8adb21a0f8ef60"
 },
 "nbformat": 3,
 "nbformat_minor": 0,
 "worksheets": [
  {
   "cells": [
    {
     "cell_type": "code",
     "collapsed": false,
     "input": [
      "import transformations as tran\n",
      "from numpy import random\n",
      "import numpy as np\n",
      "from numpy import linalg"
     ],
     "language": "python",
     "metadata": {},
     "outputs": [
      {
       "output_type": "stream",
       "stream": "stderr",
       "text": [
        "transformations.py:1888: UserWarning: failed to import module _transformations\n",
        "  warnings.warn(\"failed to import module %s\" % name)\n"
       ]
      }
     ],
     "prompt_number": 1
    },
    {
     "cell_type": "code",
     "collapsed": false,
     "input": [
      "def make_universe(universe_size = 20,\n",
      "                  max_sensory_radius = 2,\n",
      "                  star_density = 125):\n",
      "    num_stars = (universe_size**3)*star_density\n",
      "    ux = (random.ranf(size = num_stars)-0.5)*universe_size\n",
      "    uy = (random.ranf(size = num_stars)-0.5)*universe_size\n",
      "    uz = (random.ranf(size = num_stars)-0.5)*universe_size\n",
      "    uxyz = np.vstack((ux,uy,uz))\n",
      "    distances = linalg.norm(uxyz,axis = 0)\n",
      "    mask = (distances > max_sensory_radius)\n",
      "    xyz = uxyz[:,~mask]\n",
      "    x = ux[~mask]\n",
      "    y = uy[~mask]\n",
      "    z = uz[~mask]\n",
      "    xyz_prime = xyz\n",
      "    return xyz_prime"
     ],
     "language": "python",
     "metadata": {},
     "outputs": [],
     "prompt_number": 2
    },
    {
     "cell_type": "code",
     "collapsed": false,
     "input": [
      "def arena_project(xyz,arena_rad = 0.122,arena_elevation = 0.128):\n",
      "    x = xyz[0,:]\n",
      "    y = xyz[1,:]\n",
      "    z = xyz[2,:]\n",
      "    distances = linalg.norm(xyz,axis = 0)\n",
      "    longitude = np.arctan2(x,y) + np.pi\n",
      "    r = np.squeeze(linalg.norm([[x],[y]],axis = 0))\n",
      "    elevation = (z/r)*arena_rad\n",
      "    mask = (r<arena_rad)| (elevation > arena_elevation/2) | (elevation < arena_elevation/-2)\n",
      "    return (longitude[~mask],elevation[~mask],distances[~mask])"
     ],
     "language": "python",
     "metadata": {},
     "outputs": [],
     "prompt_number": 3
    },
    {
     "cell_type": "code",
     "collapsed": false,
     "input": [
      "def digitize_points(longitude,elevation,distance,arena_elevation = 0.2,display_shape = (96,32)):\n",
      "    elev_bins = np.linspace(-0.1,0.1,display_shape[1]+1)\n",
      "    long_bins = np.linspace(0,2*np.pi,display_shape[0]+1)\n",
      "    #weights = 1/distance**2\n",
      "    weights = np.ones_like(distance)\n",
      "    img_mtrx = np.histogramdd([longitude,elevation],bins =(long_bins,elev_bins),weights = weights,normed = True)[0].T\n",
      "    return img_mtrx"
     ],
     "language": "python",
     "metadata": {},
     "outputs": [],
     "prompt_number": 27
    },
    {
     "cell_type": "code",
     "collapsed": false,
     "input": [
      "def integrate_frame(pts,\n",
      "                    rotation_vect = np.array([1.0,1.0,0.0]),\n",
      "                    translation_vect = np.array([0.0,0.0,0.0]),\n",
      "                    frame_period = 0.1):\n",
      "    rotational_velocity = linalg.norm(rotation_vect)\n",
      "    rotational_direction = rotation_vect/rotational_velocity\n",
      "    dt = frame_period/1000.0\n",
      "    dtheta = rotational_velocity*dt \n",
      "    drot = tran.rotation_matrix(dtheta,rotational_direction)\n",
      "    dtrans = tran.translation_matrix(translation_vect*dt)\n",
      "    dA = np.dot(dtrans,drot)\n",
      "    for x in range(int(frame_period/dt)):\n",
      "        pts_H = np.vstack([pts,np.ones(np.shape(pts)[1])])\n",
      "        pts = np.dot(dA,pts_H)[:-1,:]\n",
      "    return pts"
     ],
     "language": "python",
     "metadata": {},
     "outputs": [],
     "prompt_number": 28
    },
    {
     "cell_type": "code",
     "collapsed": false,
     "input": [
      "def make_spin_pattern(equator_pole,angular_velocity,frame_rate):\n",
      "    unit_vector = np.array([0.,1.,0.])\n",
      "    orientation_vector = np.dot(tran.rotation_matrix(equator_pole,[0,0,1])[:3,:3],unit_vector)*angular_velocity\n",
      "    xyzp = integrate_frame(xyz,\n",
      "                       rotation_vect = orientation_vector,\n",
      "                       translation_vect = np.array([0,0,0]),\n",
      "                       frame_period = 1/frame_rate)\n",
      "    proj = arena_project(xyzp)\n",
      "    imgs = digitize_points(*proj)[:,:,np.newaxis]\n",
      "    frames_per_cycle = int(((2*np.pi)/angular_velocity)*frame_rate)\n",
      "    for i in range(frames_per_cycle):\n",
      "        xyzp = integrate_frame(xyzp,\n",
      "                           rotation_vect = orientation_vector,\n",
      "                           translation_vect = np.array([0,0,0]),\n",
      "                           frame_period = 1/frame_rate)\n",
      "        proj = arena_project(xyzp)\n",
      "        imgs = np.concatenate((imgs,digitize_points(*proj)[:,:,np.newaxis]),axis = 2)\n",
      "    #io.savemat('testmat_%03d'%(around(rad2deg(equator_pole))),{'imgs':imgs})\n",
      "    return imgs\n",
      "\n",
      "xyz = make_universe(star_density = 10)\n",
      "frame_rate = 60.0 \n",
      "display_shape = (96,32)\n",
      "deg_per_pix = 360/display_shape[0]\n",
      "angular_velocity = np.deg2rad(2.25*frame_rate)\n",
      "\n",
      "for equator_pole in np.linspace(0,2*np.pi,13)[0:1]:\n",
      "    imgs = make_spin_pattern(equator_pole,angular_velocity,frame_rate)"
     ],
     "language": "python",
     "metadata": {},
     "outputs": [],
     "prompt_number": 31
    },
    {
     "cell_type": "code",
     "collapsed": false,
     "input": [
      "from IPython.display import display, clear_output\n",
      "f, ax = subplots()\n",
      "img = ax.imshow(imgs[:,:,0],cmap = cm.gray)\n",
      "for i in range(shape(imgs)[-1]):\n",
      "    img.set_data(imgs[:,:,i])\n",
      "    display(f)\n",
      "    clear_output()\n",
      "    #close()"
     ],
     "language": "python",
     "metadata": {},
     "outputs": [],
     "prompt_number": 32
    },
    {
     "cell_type": "code",
     "collapsed": false,
     "input": [
      "shape(imgs)"
     ],
     "language": "python",
     "metadata": {},
     "outputs": [
      {
       "metadata": {},
       "output_type": "pyout",
       "prompt_number": 16,
       "text": [
        "(32, 96, 161)"
       ]
      }
     ],
     "prompt_number": 16
    },
    {
     "cell_type": "code",
     "collapsed": false,
     "input": [
      "plb.plot(1,2,3,4)"
     ],
     "language": "python",
     "metadata": {},
     "outputs": [
      {
       "metadata": {},
       "output_type": "pyout",
       "prompt_number": 75,
       "text": [
        "[<matplotlib.lines.Line2D at 0x10d3306d0>,\n",
        " <matplotlib.lines.Line2D at 0x10d330ad0>]"
       ]
      }
     ],
     "prompt_number": 75
    },
    {
     "cell_type": "code",
     "collapsed": false,
     "input": [
      "display(plb.gcf())"
     ],
     "language": "python",
     "metadata": {},
     "outputs": [
      {
       "metadata": {},
       "output_type": "display_data",
       "text": [
        "<matplotlib.figure.Figure at 0x10cd6e150>"
       ]
      }
     ],
     "prompt_number": 78
    },
    {
     "cell_type": "code",
     "collapsed": false,
     "input": [
      "def animate(i):\n",
      "    y = np.sin(2 * np.pi * (x - 0.01 * i))\n",
      "    line.set_data(x, y)\n",
      "    return line"
     ],
     "language": "python",
     "metadata": {},
     "outputs": [
      {
       "metadata": {},
       "output_type": "pyout",
       "prompt_number": 15,
       "text": [
        "'imshow(winname, mat) -> None'"
       ]
      }
     ],
     "prompt_number": 15
    },
    {
     "cell_type": "code",
     "collapsed": false,
     "input": [
      "cv2.destroyAllWindows()"
     ],
     "language": "python",
     "metadata": {},
     "outputs": [],
     "prompt_number": 31
    },
    {
     "cell_type": "code",
     "collapsed": false,
     "input": [],
     "language": "python",
     "metadata": {},
     "outputs": [
      {
       "metadata": {},
       "output_type": "pyout",
       "prompt_number": 239,
       "text": [
        "135.0"
       ]
      }
     ],
     "prompt_number": 239
    },
    {
     "cell_type": "code",
     "collapsed": false,
     "input": [],
     "language": "python",
     "metadata": {},
     "outputs": [
      {
       "output_type": "stream",
       "stream": "stderr",
       "text": [
        "transformations.py:1888: UserWarning: failed to import module _transformations\n",
        "  warnings.warn(\"failed to import module %s\" % name)\n"
       ]
      }
     ],
     "prompt_number": 12
    },
    {
     "cell_type": "code",
     "collapsed": false,
     "input": [
      "rmat = tran.rotation_matrix(pi/20,[0,0,1])"
     ],
     "language": "python",
     "metadata": {},
     "outputs": [],
     "prompt_number": 15
    },
    {
     "cell_type": "code",
     "collapsed": false,
     "input": [
      "xyz_prime = dot(rmat[:3,:3],xyz)"
     ],
     "language": "python",
     "metadata": {},
     "outputs": [],
     "prompt_number": 24
    },
    {
     "cell_type": "code",
     "collapsed": false,
     "input": [
      "shape(rmat[:3,:3])"
     ],
     "language": "python",
     "metadata": {},
     "outputs": [
      {
       "metadata": {},
       "output_type": "pyout",
       "prompt_number": 20,
       "text": [
        "(3, 3)"
       ]
      }
     ],
     "prompt_number": 20
    },
    {
     "cell_type": "code",
     "collapsed": false,
     "input": [],
     "language": "python",
     "metadata": {},
     "outputs": []
    }
   ],
   "metadata": {}
  }
 ]
}