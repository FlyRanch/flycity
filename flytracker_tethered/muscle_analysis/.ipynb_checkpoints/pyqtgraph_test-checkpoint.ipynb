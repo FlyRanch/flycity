{
 "metadata": {
  "name": "",
  "signature": "sha256:141f818d693d3aa371df60b1a08be95282ac2eb1f95f57c8749961ee79bf2ec5"
 },
 "nbformat": 3,
 "nbformat_minor": 0,
 "worksheets": [
  {
   "cells": [
    {
     "cell_type": "code",
     "collapsed": false,
     "input": [
      "from pyqtgraph.Qt import QtCore, QtGui\n",
      "import numpy as np\n",
      "import pyqtgraph as pg\n",
      "import flylib\n",
      "import tifffile\n",
      "import transformations as trans\n",
      "from scipy import ndimage"
     ],
     "language": "python",
     "metadata": {},
     "outputs": [
      {
       "output_type": "stream",
       "stream": "stderr",
       "text": [
        "tifffile.py:2170: UserWarning: failed to import _tifffile.decodepackbits\n",
        "  warnings.warn(\"failed to import %s\" % module_function)\n",
        "tifffile.py:2170: UserWarning: failed to import _tifffile.decodelzw\n",
        "  warnings.warn(\"failed to import %s\" % module_function)\n",
        "tifffile.py:2170: UserWarning: failed to import _tifffile.unpackints\n",
        "  warnings.warn(\"failed to import %s\" % module_function)\n",
        "transformations.py:1888: UserWarning: failed to import module _transformations\n",
        "  warnings.warn(\"failed to import module %s\" % name)\n"
       ]
      }
     ],
     "prompt_number": 1
    },
    {
     "cell_type": "code",
     "collapsed": false,
     "input": [
      "tiff_file = '/media/FlyDataB/FlyDB/Fly0140/10ms_exposure_fstop_nd4/10ms_exposure_fstop_nd4_MMStack.ome.tif'"
     ],
     "language": "python",
     "metadata": {},
     "outputs": [],
     "prompt_number": 2
    },
    {
     "cell_type": "code",
     "collapsed": false,
     "input": [
      "tif = tifffile.TiffFile(tiff_file)\n",
      "images = tif.asarray()"
     ],
     "language": "python",
     "metadata": {},
     "outputs": [],
     "prompt_number": 3
    },
    {
     "cell_type": "code",
     "collapsed": false,
     "input": [
      "#imv = pg.ImageView()\n",
      "#imv.show()\n",
      "#imv.setImage(images)"
     ],
     "language": "python",
     "metadata": {},
     "outputs": [],
     "prompt_number": 4
    },
    {
     "cell_type": "code",
     "collapsed": false,
     "input": [
      "## create GUI\n",
      "app = QtGui.QApplication([])\n",
      "w = pg.GraphicsWindow(size=(800,800), border=True)\n",
      "v = w.addViewBox(colspan=2)"
     ],
     "language": "python",
     "metadata": {},
     "outputs": [
      {
       "ename": "RuntimeError",
       "evalue": "A QApplication instance already exists.",
       "output_type": "pyerr",
       "traceback": [
        "\u001b[1;31m---------------------------------------------------------------------------\u001b[0m\n\u001b[1;31mRuntimeError\u001b[0m                              Traceback (most recent call last)",
        "\u001b[1;32m<ipython-input-6-16d2a3f337eb>\u001b[0m in \u001b[0;36m<module>\u001b[1;34m()\u001b[0m\n\u001b[0;32m      1\u001b[0m \u001b[1;31m## create GUI\u001b[0m\u001b[1;33m\u001b[0m\u001b[1;33m\u001b[0m\u001b[0m\n\u001b[1;32m----> 2\u001b[1;33m \u001b[0mapp\u001b[0m \u001b[1;33m=\u001b[0m \u001b[0mQtGui\u001b[0m\u001b[1;33m.\u001b[0m\u001b[0mQApplication\u001b[0m\u001b[1;33m(\u001b[0m\u001b[1;33m[\u001b[0m\u001b[1;33m]\u001b[0m\u001b[1;33m)\u001b[0m\u001b[1;33m\u001b[0m\u001b[0m\n\u001b[0m\u001b[0;32m      3\u001b[0m \u001b[0mw\u001b[0m \u001b[1;33m=\u001b[0m \u001b[0mpg\u001b[0m\u001b[1;33m.\u001b[0m\u001b[0mGraphicsWindow\u001b[0m\u001b[1;33m(\u001b[0m\u001b[0msize\u001b[0m\u001b[1;33m=\u001b[0m\u001b[1;33m(\u001b[0m\u001b[1;36m800\u001b[0m\u001b[1;33m,\u001b[0m\u001b[1;36m800\u001b[0m\u001b[1;33m)\u001b[0m\u001b[1;33m,\u001b[0m \u001b[0mborder\u001b[0m\u001b[1;33m=\u001b[0m\u001b[0mTrue\u001b[0m\u001b[1;33m)\u001b[0m\u001b[1;33m\u001b[0m\u001b[0m\n\u001b[0;32m      4\u001b[0m \u001b[0mv\u001b[0m \u001b[1;33m=\u001b[0m \u001b[0mw\u001b[0m\u001b[1;33m.\u001b[0m\u001b[0maddViewBox\u001b[0m\u001b[1;33m(\u001b[0m\u001b[0mcolspan\u001b[0m\u001b[1;33m=\u001b[0m\u001b[1;36m2\u001b[0m\u001b[1;33m)\u001b[0m\u001b[1;33m\u001b[0m\u001b[0m\n",
        "\u001b[1;31mRuntimeError\u001b[0m: A QApplication instance already exists."
       ]
      }
     ],
     "prompt_number": 6
    },
    {
     "cell_type": "code",
     "collapsed": false,
     "input": [
      "v.invertY(True)  ## Images usually have their Y-axis pointing downward\n",
      "v.setAspectLocked(True)"
     ],
     "language": "python",
     "metadata": {},
     "outputs": [],
     "prompt_number": 7
    },
    {
     "cell_type": "code",
     "collapsed": false,
     "input": [
      "## Create image to display\n",
      "arr = np.ones((100, 100), dtype=float)\n",
      "arr[45:55, 45:55] = 0\n",
      "arr[25, :] = 5\n",
      "arr[:, 25] = 5\n",
      "arr[75, :] = 5\n",
      "arr[:, 75] = 5\n",
      "arr[50, :] = 10\n",
      "arr[:, 50] = 10"
     ],
     "language": "python",
     "metadata": {},
     "outputs": [],
     "prompt_number": 8
    },
    {
     "cell_type": "code",
     "collapsed": false,
     "input": [
      "## Create image items, add to scene and set position \n",
      "im1 = pg.ImageItem(images[0,:,:])\n",
      "v.addItem(im1)\n",
      "v.setRange(QtCore.QRectF(0, 0, 200, 120))"
     ],
     "language": "python",
     "metadata": {},
     "outputs": [],
     "prompt_number": 9
    },
    {
     "cell_type": "code",
     "collapsed": false,
     "input": [
      "data2 = None"
     ],
     "language": "python",
     "metadata": {},
     "outputs": [
      {
       "output_type": "stream",
       "stream": "stdout",
       "text": [
        "/usr/bin/ld: cannot find -lpython2.7\n",
        "collect2: ld returned 1 exit status\n"
       ]
      }
     ],
     "prompt_number": 10
    },
    {
     "cell_type": "code",
     "collapsed": false,
     "input": [
      "class PolyMaskROI(pg.PolyLineROI):\n",
      "    def getArrayRegion(self, data, img, axes=(0,1), returnMappedCoords=False, **kwds):\n",
      "        import pyqtgraph.functions as fn\n",
      "        sl = self.getArraySlice(data, img, axes=(0,1))\n",
      "        if sl is None:\n",
      "            return None\n",
      "        sliced = data[sl[0]]\n",
      "        im = QtGui.QImage(sliced.shape[axes[0]], sliced.shape[axes[1]], QtGui.QImage.Format_ARGB32)\n",
      "        im.fill(0x0)\n",
      "        p = QtGui.QPainter(im)\n",
      "        p.setPen(fn.mkPen(None))\n",
      "        p.setBrush(fn.mkBrush('w'))\n",
      "        p.setTransform(self.itemTransform(img)[0])\n",
      "        bounds = self.mapRectToItem(img, self.boundingRect())\n",
      "        p.translate(-bounds.left(), -bounds.top()) \n",
      "        p.drawPath(self.shape())\n",
      "        p.end()\n",
      "        \n",
      "        mask = fn.imageToArray(im)[:,:,0].astype(float) / 255.\n",
      "        shape = [1] * data.ndim\n",
      "        shape[axes[0]] = sliced.shape[axes[0]]\n",
      "        shape[axes[1]] = sliced.shape[axes[1]]\n",
      "        return sliced, mask.reshape(shape)"
     ],
     "language": "python",
     "metadata": {},
     "outputs": [],
     "prompt_number": 11
    },
    {
     "cell_type": "code",
     "collapsed": false,
     "input": [
      "## create the plot\n",
      "pi1 = w.addPlot(2,0, colspan=2)\n",
      "#pi1 = pg.PlotItem()\n",
      "#s.addItem(pi1)\n",
      "#pi1.scale(0.5, 0.5)\n",
      "#pi1.setGeometry(0, 170, 300, 100)"
     ],
     "language": "python",
     "metadata": {},
     "outputs": [],
     "prompt_number": 12
    },
    {
     "cell_type": "code",
     "collapsed": false,
     "input": [
      "lastRoi = None"
     ],
     "language": "python",
     "metadata": {},
     "outputs": [],
     "prompt_number": 13
    },
    {
     "cell_type": "code",
     "collapsed": false,
     "input": [
      "def updateRoi(roi):\n",
      "    global im1, images, lastRoi\n",
      "    if roi is None:\n",
      "        return\n",
      "    lastRoi = roi\n",
      "    sliced_data = roi.getArrayRegion(transpose(images,[1,2,0]),im1,axes = (0,1))\n",
      "    updateRoiPlot(roi, sliced_data)"
     ],
     "language": "python",
     "metadata": {},
     "outputs": [],
     "prompt_number": 14
    },
    {
     "cell_type": "code",
     "collapsed": false,
     "input": [
      "shape(images)"
     ],
     "language": "python",
     "metadata": {},
     "outputs": [
      {
       "metadata": {},
       "output_type": "pyout",
       "prompt_number": 15,
       "text": [
        "(5000, 130, 174)"
       ]
      }
     ],
     "prompt_number": 15
    },
    {
     "cell_type": "code",
     "collapsed": false,
     "input": [
      "?rollaxis"
     ],
     "language": "python",
     "metadata": {},
     "outputs": [],
     "prompt_number": 16
    },
    {
     "cell_type": "code",
     "collapsed": false,
     "input": [
      "def updateRoiPlot(roi, data=None):\n",
      "    global data2\n",
      "    if data is None:\n",
      "        data = roi.getArrayRegion(images, img=im1)\n",
      "    if data is not None:\n",
      "        idx = squeeze(data[1].astype(int))\n",
      "        trace = sum(sum(data[0].astype(float)*idx[:,:,newaxis],axis = 0)/sum(idx),axis=0)\n",
      "        roi.curve.setData(trace)\n",
      "    data2 = data"
     ],
     "language": "python",
     "metadata": {},
     "outputs": [],
     "prompt_number": 17
    },
    {
     "cell_type": "code",
     "collapsed": false,
     "input": [
      "## Create a variety of different ROI types\n",
      "rois = []\n",
      "#rois.append(pg.TestROI([0,  0], [20, 20], maxBounds=QtCore.QRectF(-10, -10, 230, 140), pen=(0,9)))\n",
      "#rois.append(pg.LineROI([0,  0], [20, 20], width=5, pen=(1,9)))\n",
      "#rois.append(pg.MultiRectROI([[0, 50], [50, 60], [60, 30]], width=5, pen=(2,9)))\n",
      "#rois.append(pg.EllipseROI([110, 10], [30, 20], pen=(3,9)))\n",
      "#rois.append(pg.CircleROI([110, 50], [20, 20], pen=(4,9)))\n",
      "#rois.append(pg.PolyLineROI([[2,0], [7.,0],[4,3]], closed = True, pen=(5,9)))\n",
      "rois.append(PolyMaskROI([[2,0], [7.,0],[4,3]], closed = True, pen=(5,9)))\n",
      "\n",
      "#rois.append(SpiralROI([20,30], [1,1], pen=mkPen(0)))"
     ],
     "language": "python",
     "metadata": {},
     "outputs": [],
     "prompt_number": 18
    },
    {
     "cell_type": "code",
     "collapsed": false,
     "input": [
      "im1.updateImage(images[60,:,:])"
     ],
     "language": "python",
     "metadata": {},
     "outputs": [],
     "prompt_number": 19
    },
    {
     "cell_type": "code",
     "collapsed": false,
     "input": [
      "## Add each ROI to the scene and link its data to a plot curve with the same color\n",
      "for r in rois:\n",
      "    v.addItem(r)\n",
      "    c = pi1.plot(pen=r.pen)\n",
      "    r.curve = c\n",
      "    r.sigRegionChanged.connect(updateRoi)"
     ],
     "language": "python",
     "metadata": {},
     "outputs": [],
     "prompt_number": 20
    },
    {
     "cell_type": "code",
     "collapsed": false,
     "input": [
      "#def updateImage():\n",
      "#    global im1, arr, lastRoi\n",
      "#    r = abs(np.random.normal(loc=0, scale=(arr.max()-arr.min())*0.1, size=arr.shape))\n",
      "#    im1.updateImage(arr + r)\n",
      "#    updateRoi(lastRoi)\n",
      "#    for r in rois:\n",
      "#        updateRoiPlot(r)"
     ],
     "language": "python",
     "metadata": {},
     "outputs": [],
     "prompt_number": 21
    },
    {
     "cell_type": "code",
     "collapsed": false,
     "input": [
      "## Rapidly update one of the images with random noise    \n",
      "#t = QtCore.QTimer()\n",
      "#t.timeout.connect(updateImage)\n",
      "#t.start(50)"
     ],
     "language": "python",
     "metadata": {},
     "outputs": [],
     "prompt_number": 22
    },
    {
     "cell_type": "code",
     "collapsed": false,
     "input": [
      "imshow(images[10,:,:])"
     ],
     "language": "python",
     "metadata": {},
     "outputs": [
      {
       "metadata": {},
       "output_type": "pyout",
       "prompt_number": 23,
       "text": [
        "<matplotlib.image.AxesImage at 0xf7c236c>"
       ]
      }
     ],
     "prompt_number": 23
    },
    {
     "cell_type": "code",
     "collapsed": false,
     "input": [
      "idx = squeeze(data2[1].astype(int))\n",
      "imshow((data2[0]*idx[:,:,newaxis])[:,:,1])"
     ],
     "language": "python",
     "metadata": {},
     "outputs": [
      {
       "metadata": {},
       "output_type": "pyout",
       "prompt_number": 23,
       "text": [
        "<matplotlib.image.AxesImage at 0x935c90ac>"
       ]
      }
     ],
     "prompt_number": 23
    },
    {
     "cell_type": "code",
     "collapsed": false,
     "input": [
      "figure();imshow(data2[0][:,:,0],cmap = cm.Greys)"
     ],
     "language": "python",
     "metadata": {},
     "outputs": [
      {
       "metadata": {},
       "output_type": "pyout",
       "prompt_number": 18,
       "text": [
        "<matplotlib.image.AxesImage at 0xf3118ec>"
       ]
      }
     ],
     "prompt_number": 18
    },
    {
     "cell_type": "code",
     "collapsed": false,
     "input": [
      "imshow(data2[1][:,:,0],cmap = cm.Greys)"
     ],
     "language": "python",
     "metadata": {},
     "outputs": [
      {
       "metadata": {},
       "output_type": "pyout",
       "prompt_number": 16,
       "text": [
        "<matplotlib.image.AxesImage at 0xaa474b2c>"
       ]
      }
     ],
     "prompt_number": 16
    },
    {
     "cell_type": "code",
     "collapsed": false,
     "input": [
      "shape(data2[0])"
     ],
     "language": "python",
     "metadata": {},
     "outputs": [
      {
       "metadata": {},
       "output_type": "pyout",
       "prompt_number": 58,
       "text": [
        "(170, 30, 5000)"
       ]
      }
     ],
     "prompt_number": 58
    },
    {
     "cell_type": "code",
     "collapsed": false,
     "input": [
      "shape(data2[1])"
     ],
     "language": "python",
     "metadata": {},
     "outputs": [
      {
       "metadata": {},
       "output_type": "pyout",
       "prompt_number": 59,
       "text": [
        "(170, 30, 1)"
       ]
      }
     ],
     "prompt_number": 59
    },
    {
     "cell_type": "code",
     "collapsed": false,
     "input": [
      "print shape(images)\n",
      "print shape(images.T)\n",
      "print shape(transpose(images,[1,2,0]))"
     ],
     "language": "python",
     "metadata": {},
     "outputs": [
      {
       "output_type": "stream",
       "stream": "stdout",
       "text": [
        "(5000, 130, 174)\n",
        "(174, 130, 5000)\n",
        "(130, 174, 5000)\n"
       ]
      }
     ],
     "prompt_number": 86
    },
    {
     "cell_type": "code",
     "collapsed": false,
     "input": [
      "help(transpose)"
     ],
     "language": "python",
     "metadata": {},
     "outputs": [
      {
       "output_type": "stream",
       "stream": "stdout",
       "text": [
        "Help on function transpose in module numpy.core.fromnumeric:\n",
        "\n",
        "transpose(a, axes=None)\n",
        "    Permute the dimensions of an array.\n",
        "    \n",
        "    Parameters\n",
        "    ----------\n",
        "    a : array_like\n",
        "        Input array.\n",
        "    axes : list of ints, optional\n",
        "        By default, reverse the dimensions, otherwise permute the axes\n",
        "        according to the values given.\n",
        "    \n",
        "    Returns\n",
        "    -------\n",
        "    p : ndarray\n",
        "        `a` with its axes permuted.  A view is returned whenever\n",
        "        possible.\n",
        "    \n",
        "    See Also\n",
        "    --------\n",
        "    rollaxis\n",
        "    \n",
        "    Examples\n",
        "    --------\n",
        "    >>> x = np.arange(4).reshape((2,2))\n",
        "    >>> x\n",
        "    array([[0, 1],\n",
        "           [2, 3]])\n",
        "    \n",
        "    >>> np.transpose(x)\n",
        "    array([[0, 2],\n",
        "           [1, 3]])\n",
        "    \n",
        "    >>> x = np.ones((1, 2, 3))\n",
        "    >>> np.transpose(x, (1, 0, 2)).shape\n",
        "    (2, 1, 3)\n",
        "\n"
       ]
      }
     ],
     "prompt_number": 84
    },
    {
     "cell_type": "code",
     "collapsed": false,
     "input": [],
     "language": "python",
     "metadata": {},
     "outputs": []
    }
   ],
   "metadata": {}
  }
 ]
}