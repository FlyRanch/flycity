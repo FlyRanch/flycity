{
 "metadata": {
  "name": "",
  "signature": "sha256:7124bab81156cb4cfc79a3ea1f86be98c01820a1851be58d15b425ee90e82138"
 },
 "nbformat": 3,
 "nbformat_minor": 0,
 "worksheets": [
  {
   "cells": [
    {
     "cell_type": "code",
     "collapsed": false,
     "input": [
      "import flylib\n",
      "import db_access as dba"
     ],
     "language": "python",
     "metadata": {},
     "outputs": [],
     "prompt_number": 2
    },
    {
     "cell_type": "code",
     "collapsed": false,
     "input": [
      "flynum = str(130)\n",
      "fly_db.create_group(flynum)\n",
      "fly_record =fly_db[flynum]\n",
      "fly_record['flynum'] = flynum\n",
      "fly_record.create_group('experiments')\n",
      "fly_record['experiments'].create_group('lr_blob_expansion')\n",
      "#fly_record['experiments'].create_group('b1_azm_expansion_tuning')\n",
      "fly_record['experiments']['lr_blob_expansion']['photron_seq_nums'] = [1,2,3,4,5,6]\n",
      "fly_record['experiments']['lr_blob_expansion']['axon_file_names'] = ['fly01_lr_blob_expansion_14506005.abf']\n",
      "fly_record['experiments']['lr_blob_expansion']['photron_date_string'] = ['20140506']\n",
      "fly_record['experiments']['lr_blob_expansion']['kine_filename'] = ['WBkin.mat']\n",
      "fly_record['experiments']['lr_blob_expansion']['solution_format_string'] = ['20140506_S%04d/']\n",
      "fly_record['experiments']['lr_blob_expansion']['photron_frame_rate_Hz'] = 6000\n",
      "fly_record['experiments']['lr_blob_expansion']['Ypos_trial_volts'] = np.linspace(1,10,12)\n",
      "fly_record['experiments']['lr_blob_expansion']['Ypos_trial_vals'] = np.concatenate(([np.nan],np.arange(0,12)*30))\n",
      "fly_record['experiments']['lr_blob_expansion']['AMsysCh1_ID'] = 'i1'\n",
      "fly_record['experiments']['lr_blob_expansion']['AMsysCh1_side'] = 'r'\n",
      "fly_record['experiments']['lr_blob_expansion'].create_group('sequences')"
     ],
     "language": "python",
     "metadata": {},
     "outputs": []
    },
    {
     "cell_type": "code",
     "collapsed": false,
     "input": [
      "fly_db = dba.init_db()"
     ],
     "language": "python",
     "metadata": {},
     "outputs": [],
     "prompt_number": 3
    },
    {
     "cell_type": "code",
     "collapsed": false,
     "input": [
      "ephys_group = [111,112,114,115,116,117,118,122,123,124,125]\n",
      "swarm = flylib.Squadron(fly_db,ephys_group)\n",
      "for fly in swarm.flies:\n",
      "    lrb = fly.experiments['lr_blob_expansion']\n",
      "    print 'importing data for fly%s'%fly.fly_num\n",
      "    lrb.import_axon_data()\n",
      "    lrb.import_sequence_data()\n",
      "    print 'syncing data'\n",
      "    lrb.sync_sequences()\n",
      "    print lrb.sequences.keys()\n",
      "    for seq_key in lrb.sequences.keys():\n",
      "        seq = lrb.sequences[seq_key]\n",
      "        print 'initializing seq %s'%(seq.seq_num)\n",
      "        seq.calc_kine_phases(fband = (180,350))\n",
      "        seq.calc_wb_mtrx()\n",
      "        seq.calc_stim_frame(x_thresh = 2.5)\n",
      "        fly_db.flush()"
     ],
     "language": "python",
     "metadata": {},
     "outputs": [
      {
       "output_type": "stream",
       "stream": "stdout",
       "text": [
        "importing data for fly111\n",
        "syncing data"
       ]
      },
      {
       "output_type": "stream",
       "stream": "stderr",
       "text": [
        "flylib.py:234: UserWarning: problem extracting idxs from camera_sync_signal for epoch 2 using even spaced idx's over the camera epoch instead\n",
        "  warnings.warn(\"problem extracting idxs from camera_sync_signal for epoch %s using even spaced idx's over the camera epoch instead\"%(snum))\n",
        "flylib.py:234: UserWarning: problem extracting idxs from camera_sync_signal for epoch 5 using even spaced idx's over the camera epoch instead\n",
        "  warnings.warn(\"problem extracting idxs from camera_sync_signal for epoch %s using even spaced idx's over the camera epoch instead\"%(snum))\n"
       ]
      },
      {
       "output_type": "stream",
       "stream": "stdout",
       "text": [
        "\n",
        "[1, 2, 3, 4, 5, 6]"
       ]
      },
      {
       "output_type": "stream",
       "stream": "stdout",
       "text": [
        "\n",
        "initializing seq 1\n",
        "initializing seq 2"
       ]
      },
      {
       "output_type": "stream",
       "stream": "stdout",
       "text": [
        "\n",
        "initializing seq 3"
       ]
      },
      {
       "output_type": "stream",
       "stream": "stdout",
       "text": [
        "\n",
        "initializing seq 4"
       ]
      },
      {
       "output_type": "stream",
       "stream": "stdout",
       "text": [
        "\n",
        "initializing seq 5"
       ]
      },
      {
       "output_type": "stream",
       "stream": "stdout",
       "text": [
        "\n",
        "initializing seq 6"
       ]
      },
      {
       "output_type": "stream",
       "stream": "stdout",
       "text": [
        "\n",
        "importing data for fly112"
       ]
      },
      {
       "output_type": "stream",
       "stream": "stdout",
       "text": [
        "\n",
        "syncing data"
       ]
      },
      {
       "output_type": "stream",
       "stream": "stdout",
       "text": [
        "\n",
        "[7, 8, 9, 10, 11, 12]"
       ]
      },
      {
       "output_type": "stream",
       "stream": "stdout",
       "text": [
        "\n",
        "initializing seq 7\n",
        "initializing seq 8"
       ]
      },
      {
       "output_type": "stream",
       "stream": "stdout",
       "text": [
        "\n",
        "initializing seq 9"
       ]
      },
      {
       "output_type": "stream",
       "stream": "stdout",
       "text": [
        "\n",
        "initializing seq 10"
       ]
      },
      {
       "output_type": "stream",
       "stream": "stdout",
       "text": [
        "\n",
        "initializing seq 11"
       ]
      },
      {
       "output_type": "stream",
       "stream": "stdout",
       "text": [
        "\n",
        "initializing seq 12"
       ]
      },
      {
       "output_type": "stream",
       "stream": "stdout",
       "text": [
        "\n",
        "importing data for fly114"
       ]
      },
      {
       "output_type": "stream",
       "stream": "stdout",
       "text": [
        "\n",
        "syncing data"
       ]
      },
      {
       "output_type": "stream",
       "stream": "stderr",
       "text": [
        "flylib.py:234: UserWarning: problem extracting idxs from camera_sync_signal for epoch 12 using even spaced idx's over the camera epoch instead\n",
        "  warnings.warn(\"problem extracting idxs from camera_sync_signal for epoch %s using even spaced idx's over the camera epoch instead\"%(snum))\n",
        "flylib.py:234: UserWarning: problem extracting idxs from camera_sync_signal for epoch 13 using even spaced idx's over the camera epoch instead\n",
        "  warnings.warn(\"problem extracting idxs from camera_sync_signal for epoch %s using even spaced idx's over the camera epoch instead\"%(snum))\n"
       ]
      },
      {
       "output_type": "stream",
       "stream": "stderr",
       "text": [
        "flylib.py:230: UserWarning: problem extracting idxs from camera_sync_signal for sequence 14 using even spaced idx's over the camera epoch instead\n",
        "  warnings.warn(\"problem extracting idxs from camera_sync_signal for sequence %s using even spaced idx's over the camera epoch instead\"%(snum))\n",
        "flylib.py:230: UserWarning: problem extracting idxs from camera_sync_signal for sequence 15 using even spaced idx's over the camera epoch instead\n",
        "  warnings.warn(\"problem extracting idxs from camera_sync_signal for sequence %s using even spaced idx's over the camera epoch instead\"%(snum))\n"
       ]
      },
      {
       "output_type": "stream",
       "stream": "stdout",
       "text": [
        "\n",
        "[13, 14, 15, 16, 17, 18]"
       ]
      },
      {
       "output_type": "stream",
       "stream": "stdout",
       "text": [
        "\n",
        "initializing seq 13\n",
        "initializing seq 14"
       ]
      },
      {
       "output_type": "stream",
       "stream": "stdout",
       "text": [
        "\n",
        "initializing seq 15"
       ]
      },
      {
       "output_type": "stream",
       "stream": "stdout",
       "text": [
        "\n",
        "initializing seq 16"
       ]
      },
      {
       "output_type": "stream",
       "stream": "stdout",
       "text": [
        "\n",
        "initializing seq 17"
       ]
      },
      {
       "output_type": "stream",
       "stream": "stdout",
       "text": [
        "\n",
        "initializing seq 18"
       ]
      },
      {
       "output_type": "stream",
       "stream": "stdout",
       "text": [
        "\n",
        "importing data for fly115"
       ]
      },
      {
       "output_type": "stream",
       "stream": "stdout",
       "text": [
        "\n",
        "syncing data"
       ]
      },
      {
       "output_type": "stream",
       "stream": "stderr",
       "text": [
        "flylib.py:230: UserWarning: problem extracting idxs from camera_sync_signal for sequence 17 using even spaced idx's over the camera epoch instead\n",
        "  warnings.warn(\"problem extracting idxs from camera_sync_signal for sequence %s using even spaced idx's over the camera epoch instead\"%(snum))\n",
        "flylib.py:234: UserWarning: problem extracting idxs from camera_sync_signal for epoch 1 using even spaced idx's over the camera epoch instead\n",
        "  warnings.warn(\"problem extracting idxs from camera_sync_signal for epoch %s using even spaced idx's over the camera epoch instead\"%(snum))\n"
       ]
      },
      {
       "output_type": "stream",
       "stream": "stdout",
       "text": [
        "\n",
        "[1, 2, 3, 4, 5, 6]"
       ]
      },
      {
       "output_type": "stream",
       "stream": "stdout",
       "text": [
        "\n",
        "initializing seq 1\n",
        "initializing seq 2"
       ]
      },
      {
       "output_type": "stream",
       "stream": "stdout",
       "text": [
        "\n",
        "initializing seq 3"
       ]
      },
      {
       "output_type": "stream",
       "stream": "stdout",
       "text": [
        "\n",
        "initializing seq 4"
       ]
      },
      {
       "output_type": "stream",
       "stream": "stdout",
       "text": [
        "\n",
        "initializing seq 5"
       ]
      },
      {
       "output_type": "stream",
       "stream": "stdout",
       "text": [
        "\n",
        "initializing seq 6"
       ]
      },
      {
       "output_type": "stream",
       "stream": "stdout",
       "text": [
        "\n",
        "importing data for fly116"
       ]
      },
      {
       "output_type": "stream",
       "stream": "stdout",
       "text": [
        "\n",
        "syncing data"
       ]
      },
      {
       "output_type": "stream",
       "stream": "stdout",
       "text": [
        "\n",
        "[1, 2, 3, 4, 5, 6]"
       ]
      },
      {
       "output_type": "stream",
       "stream": "stdout",
       "text": [
        "\n",
        "initializing seq 1\n",
        "initializing seq 2"
       ]
      },
      {
       "output_type": "stream",
       "stream": "stdout",
       "text": [
        "\n",
        "initializing seq 3"
       ]
      },
      {
       "output_type": "stream",
       "stream": "stdout",
       "text": [
        "\n",
        "initializing seq 4"
       ]
      },
      {
       "output_type": "stream",
       "stream": "stdout",
       "text": [
        "\n",
        "initializing seq 5"
       ]
      },
      {
       "output_type": "stream",
       "stream": "stdout",
       "text": [
        "\n",
        "initializing seq 6"
       ]
      },
      {
       "output_type": "stream",
       "stream": "stdout",
       "text": [
        "\n",
        "importing data for fly117"
       ]
      },
      {
       "output_type": "stream",
       "stream": "stdout",
       "text": [
        "\n",
        "syncing data"
       ]
      },
      {
       "output_type": "stream",
       "stream": "stderr",
       "text": [
        "flylib.py:234: UserWarning: problem extracting idxs from camera_sync_signal for epoch 4 using even spaced idx's over the camera epoch instead\n",
        "  warnings.warn(\"problem extracting idxs from camera_sync_signal for epoch %s using even spaced idx's over the camera epoch instead\"%(snum))\n",
        "flylib.py:230: UserWarning: problem extracting idxs from camera_sync_signal for sequence 12 using even spaced idx's over the camera epoch instead\n",
        "  warnings.warn(\"problem extracting idxs from camera_sync_signal for sequence %s using even spaced idx's over the camera epoch instead\"%(snum))\n"
       ]
      },
      {
       "output_type": "stream",
       "stream": "stdout",
       "text": [
        "\n",
        "[7, 8, 9, 10, 11, 12]"
       ]
      },
      {
       "output_type": "stream",
       "stream": "stdout",
       "text": [
        "\n",
        "initializing seq 7\n",
        "initializing seq 8"
       ]
      },
      {
       "output_type": "stream",
       "stream": "stdout",
       "text": [
        "\n",
        "initializing seq 9"
       ]
      },
      {
       "output_type": "stream",
       "stream": "stdout",
       "text": [
        "\n",
        "initializing seq 10"
       ]
      },
      {
       "output_type": "stream",
       "stream": "stdout",
       "text": [
        "\n",
        "initializing seq 11"
       ]
      },
      {
       "output_type": "stream",
       "stream": "stdout",
       "text": [
        "\n",
        "initializing seq 12"
       ]
      },
      {
       "output_type": "stream",
       "stream": "stdout",
       "text": [
        "\n",
        "importing data for fly118"
       ]
      },
      {
       "output_type": "stream",
       "stream": "stdout",
       "text": [
        "\n",
        "syncing data"
       ]
      },
      {
       "output_type": "stream",
       "stream": "stdout",
       "text": [
        "\n",
        "[16, 17, 13, 14, 15]"
       ]
      },
      {
       "output_type": "stream",
       "stream": "stdout",
       "text": [
        "\n",
        "initializing seq 16\n",
        "initializing seq 17"
       ]
      },
      {
       "output_type": "stream",
       "stream": "stdout",
       "text": [
        "\n",
        "initializing seq 13"
       ]
      },
      {
       "output_type": "stream",
       "stream": "stdout",
       "text": [
        "\n",
        "initializing seq 14"
       ]
      },
      {
       "output_type": "stream",
       "stream": "stdout",
       "text": [
        "\n",
        "initializing seq 15"
       ]
      },
      {
       "output_type": "stream",
       "stream": "stdout",
       "text": [
        "\n",
        "importing data for fly122"
       ]
      },
      {
       "output_type": "stream",
       "stream": "stdout",
       "text": [
        "\n",
        "syncing data"
       ]
      },
      {
       "output_type": "stream",
       "stream": "stderr",
       "text": [
        "flylib.py:234: UserWarning: problem extracting idxs from camera_sync_signal for epoch 15 using even spaced idx's over the camera epoch instead\n",
        "  warnings.warn(\"problem extracting idxs from camera_sync_signal for epoch %s using even spaced idx's over the camera epoch instead\"%(snum))\n",
        "flylib.py:230: UserWarning: problem extracting idxs from camera_sync_signal for sequence 3 using even spaced idx's over the camera epoch instead\n",
        "  warnings.warn(\"problem extracting idxs from camera_sync_signal for sequence %s using even spaced idx's over the camera epoch instead\"%(snum))\n"
       ]
      },
      {
       "output_type": "stream",
       "stream": "stdout",
       "text": [
        "\n",
        "[1, 2, 3, 4, 5, 6]"
       ]
      },
      {
       "output_type": "stream",
       "stream": "stdout",
       "text": [
        "\n",
        "initializing seq 1\n",
        "initializing seq 2"
       ]
      },
      {
       "output_type": "stream",
       "stream": "stdout",
       "text": [
        "\n",
        "initializing seq 3"
       ]
      },
      {
       "output_type": "stream",
       "stream": "stdout",
       "text": [
        "\n",
        "initializing seq 4"
       ]
      },
      {
       "output_type": "stream",
       "stream": "stdout",
       "text": [
        "\n",
        "initializing seq 5"
       ]
      },
      {
       "output_type": "stream",
       "stream": "stdout",
       "text": [
        "\n",
        "initializing seq 6"
       ]
      },
      {
       "output_type": "stream",
       "stream": "stdout",
       "text": [
        "\n",
        "importing data for fly123"
       ]
      },
      {
       "output_type": "stream",
       "stream": "stdout",
       "text": [
        "\n",
        "syncing data"
       ]
      },
      {
       "output_type": "stream",
       "stream": "stderr",
       "text": [
        "flylib.py:230: UserWarning: problem extracting idxs from camera_sync_signal for sequence 6 using even spaced idx's over the camera epoch instead\n",
        "  warnings.warn(\"problem extracting idxs from camera_sync_signal for sequence %s using even spaced idx's over the camera epoch instead\"%(snum))\n",
        "flylib.py:230: UserWarning: problem extracting idxs from camera_sync_signal for sequence 8 using even spaced idx's over the camera epoch instead\n",
        "  warnings.warn(\"problem extracting idxs from camera_sync_signal for sequence %s using even spaced idx's over the camera epoch instead\"%(snum))\n"
       ]
      },
      {
       "output_type": "stream",
       "stream": "stdout",
       "text": [
        "\n",
        "[8, 9, 10, 11, 7]"
       ]
      },
      {
       "output_type": "stream",
       "stream": "stdout",
       "text": [
        "\n",
        "initializing seq 8\n",
        "initializing seq 9"
       ]
      },
      {
       "output_type": "stream",
       "stream": "stdout",
       "text": [
        "\n",
        "initializing seq 10"
       ]
      },
      {
       "output_type": "stream",
       "stream": "stdout",
       "text": [
        "\n",
        "initializing seq 11"
       ]
      },
      {
       "output_type": "stream",
       "stream": "stdout",
       "text": [
        "\n",
        "initializing seq 7"
       ]
      },
      {
       "output_type": "stream",
       "stream": "stdout",
       "text": [
        "\n",
        "importing data for fly124"
       ]
      },
      {
       "output_type": "stream",
       "stream": "stdout",
       "text": [
        "\n",
        "syncing data"
       ]
      },
      {
       "output_type": "stream",
       "stream": "stdout",
       "text": [
        "\n",
        "[2, 3, 4, 5, 6]"
       ]
      },
      {
       "output_type": "stream",
       "stream": "stdout",
       "text": [
        "\n",
        "initializing seq 2\n",
        "initializing seq 3"
       ]
      },
      {
       "output_type": "stream",
       "stream": "stdout",
       "text": [
        "\n",
        "initializing seq 4"
       ]
      },
      {
       "output_type": "stream",
       "stream": "stdout",
       "text": [
        "\n",
        "initializing seq 5"
       ]
      },
      {
       "output_type": "stream",
       "stream": "stdout",
       "text": [
        "\n",
        "initializing seq 6"
       ]
      },
      {
       "output_type": "stream",
       "stream": "stdout",
       "text": [
        "\n",
        "importing data for fly125"
       ]
      },
      {
       "output_type": "stream",
       "stream": "stdout",
       "text": [
        "\n",
        "syncing data"
       ]
      },
      {
       "output_type": "stream",
       "stream": "stdout",
       "text": [
        "\n",
        "[7, 8, 9, 10, 11, 12]"
       ]
      },
      {
       "output_type": "stream",
       "stream": "stdout",
       "text": [
        "\n",
        "initializing seq 7\n",
        "initializing seq 8"
       ]
      },
      {
       "output_type": "stream",
       "stream": "stdout",
       "text": [
        "\n",
        "initializing seq 9"
       ]
      },
      {
       "output_type": "stream",
       "stream": "stdout",
       "text": [
        "\n",
        "initializing seq 10"
       ]
      },
      {
       "output_type": "stream",
       "stream": "stdout",
       "text": [
        "\n",
        "initializing seq 11"
       ]
      },
      {
       "output_type": "stream",
       "stream": "stdout",
       "text": [
        "\n",
        "initializing seq 12"
       ]
      },
      {
       "output_type": "stream",
       "stream": "stdout",
       "text": [
        "\n"
       ]
      },
      {
       "output_type": "stream",
       "stream": "stderr",
       "text": [
        "flylib.py:234: UserWarning: problem extracting idxs from camera_sync_signal for epoch 9 using even spaced idx's over the camera epoch instead\n",
        "  warnings.warn(\"problem extracting idxs from camera_sync_signal for epoch %s using even spaced idx's over the camera epoch instead\"%(snum))\n"
       ]
      }
     ],
     "prompt_number": 4
    },
    {
     "cell_type": "code",
     "collapsed": false,
     "input": [
      "imaging_group = [151,153,154,155,156,157,158,159,160,161,162,163,164,165,166,167,168,169]\n",
      "swarm = flylib.Squadron(fly_db,imaging_group)\n",
      "for fly in swarm.flies:\n",
      "    img_star = fly.experiments['img_starfield_t2_rep1']\n",
      "    print 'importing data for fly%s'%fly.fly_num\n",
      "    img_star.import_axon_data()\n",
      "    img_star.import_tiff_data()\n",
      "    fly_db.flush()"
     ],
     "language": "python",
     "metadata": {},
     "outputs": [
      {
       "output_type": "stream",
       "stream": "stdout",
       "text": [
        "importing data for fly151\n",
        "importing data for fly153"
       ]
      },
      {
       "output_type": "stream",
       "stream": "stdout",
       "text": [
        "\n",
        "importing data for fly154"
       ]
      },
      {
       "output_type": "stream",
       "stream": "stdout",
       "text": [
        "\n",
        "importing data for fly155"
       ]
      },
      {
       "output_type": "stream",
       "stream": "stdout",
       "text": [
        "\n",
        "importing data for fly156"
       ]
      },
      {
       "output_type": "stream",
       "stream": "stdout",
       "text": [
        "\n",
        "importing data for fly157"
       ]
      },
      {
       "output_type": "stream",
       "stream": "stdout",
       "text": [
        "\n",
        "importing data for fly158"
       ]
      },
      {
       "output_type": "stream",
       "stream": "stdout",
       "text": [
        "\n",
        "importing data for fly159"
       ]
      },
      {
       "output_type": "stream",
       "stream": "stdout",
       "text": [
        "\n",
        "importing data for fly160"
       ]
      },
      {
       "output_type": "stream",
       "stream": "stdout",
       "text": [
        "\n",
        "importing data for fly161"
       ]
      },
      {
       "output_type": "stream",
       "stream": "stdout",
       "text": [
        "\n",
        "importing data for fly162"
       ]
      },
      {
       "output_type": "stream",
       "stream": "stdout",
       "text": [
        "\n",
        "importing data for fly163"
       ]
      },
      {
       "output_type": "stream",
       "stream": "stdout",
       "text": [
        "\n",
        "importing data for fly164"
       ]
      },
      {
       "output_type": "stream",
       "stream": "stdout",
       "text": [
        "\n",
        "importing data for fly165"
       ]
      },
      {
       "output_type": "stream",
       "stream": "stdout",
       "text": [
        "\n",
        "importing data for fly166"
       ]
      },
      {
       "output_type": "stream",
       "stream": "stdout",
       "text": [
        "\n",
        "importing data for fly167"
       ]
      },
      {
       "output_type": "stream",
       "stream": "stdout",
       "text": [
        "\n",
        "importing data for fly168"
       ]
      },
      {
       "output_type": "stream",
       "stream": "stdout",
       "text": [
        "\n",
        "importing data for fly169"
       ]
      },
      {
       "output_type": "stream",
       "stream": "stdout",
       "text": [
        "\n"
       ]
      },
      {
       "output_type": "stream",
       "stream": "stderr",
       "text": [
        "tifffile.py:2170: UserWarning: failed to import _tifffile.decodepackbits\n",
        "  warnings.warn(\"failed to import %s\" % module_function)\n",
        "tifffile.py:2170: UserWarning: failed to import _tifffile.decodelzw\n",
        "  warnings.warn(\"failed to import %s\" % module_function)\n",
        "tifffile.py:2170: UserWarning: failed to import _tifffile.unpackints\n",
        "  warnings.warn(\"failed to import %s\" % module_function)\n"
       ]
      }
     ],
     "prompt_number": 5
    },
    {
     "cell_type": "code",
     "collapsed": false,
     "input": [],
     "language": "python",
     "metadata": {},
     "outputs": []
    }
   ],
   "metadata": {}
  }
 ]
}