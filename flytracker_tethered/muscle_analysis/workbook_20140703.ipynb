{
 "metadata": {
  "name": "",
  "signature": "sha256:7214e918a918af9b5500f770e78025da7f87a216d535ad9c55ecd79be900b2f7"
 },
 "nbformat": 3,
 "nbformat_minor": 0,
 "worksheets": [
  {
   "cells": [
    {
     "cell_type": "code",
     "collapsed": false,
     "input": [
      "###notebook imports and sync's axon and imaging data from second set of starfield expmnts starfield2\n",
      "import neo\n",
      "import quantities as pq\n",
      "import flylib\n",
      "import db_access as dba"
     ],
     "language": "python",
     "metadata": {},
     "outputs": [],
     "prompt_number": 1
    },
    {
     "cell_type": "code",
     "collapsed": false,
     "input": [
      "#starfield2_group = [176,177,178,179,180,181]\n",
      "starfield2_group = [178,180]"
     ],
     "language": "python",
     "metadata": {},
     "outputs": [],
     "prompt_number": 2
    },
    {
     "cell_type": "code",
     "collapsed": false,
     "input": [
      "#initializer = dba.InitDB()\n",
      "#[initializer[fn] for fn in starfield2_group]\n",
      "#initializer.fly_db.flush()\n",
      "#initializer.fly_db.close()"
     ],
     "language": "python",
     "metadata": {},
     "outputs": [],
     "prompt_number": 5
    },
    {
     "cell_type": "code",
     "collapsed": false,
     "input": [
      "#reload(dba)\n",
      "fly_db = dba.get_db()\n",
      "swarm = flylib.Squadron(fly_db,starfield2_group)\n",
      "for fly in swarm.flies:\n",
      "    img_star = fly.experiments['img_starfields2_t2_rep1']\n",
      "    print 'importing data for fly%s'%fly.fly_num\n",
      "    img_star.import_axon_data()\n",
      "    img_star.import_tiff_data()\n",
      "    print 'syncing data'\n",
      "    img_star.sync_sequences()\n",
      "    fly_db.flush()"
     ],
     "language": "python",
     "metadata": {},
     "outputs": [
      {
       "output_type": "stream",
       "stream": "stdout",
       "text": [
        "importing data for fly178\n",
        "syncing data"
       ]
      },
      {
       "output_type": "stream",
       "stream": "stdout",
       "text": [
        "\n",
        "importing data for fly180"
       ]
      },
      {
       "output_type": "stream",
       "stream": "stdout",
       "text": [
        "\n",
        "syncing data"
       ]
      },
      {
       "output_type": "stream",
       "stream": "stdout",
       "text": [
        "\n"
       ]
      },
      {
       "output_type": "stream",
       "stream": "stderr",
       "text": [
        "tifffile.py:2170: UserWarning: failed to import _tifffile.decodepackbits\n",
        "  warnings.warn(\"failed to import %s\" % module_function)\n",
        "tifffile.py:2170: UserWarning: failed to import _tifffile.decodelzw\n",
        "  warnings.warn(\"failed to import %s\" % module_function)\n",
        "tifffile.py:2170: UserWarning: failed to import _tifffile.unpackints\n",
        "  warnings.warn(\"failed to import %s\" % module_function)\n"
       ]
      }
     ],
     "prompt_number": 6
    },
    {
     "cell_type": "code",
     "collapsed": false,
     "input": [
      "fly_db.close()"
     ],
     "language": "python",
     "metadata": {},
     "outputs": [],
     "prompt_number": 4
    },
    {
     "cell_type": "code",
     "collapsed": false,
     "input": [
      "#imgs = array(swarm.flies[3].fly_record['experiments'][u'img_starfield_t2_rep1']['tiff_data']['images'])"
     ],
     "language": "python",
     "metadata": {},
     "outputs": [],
     "prompt_number": 6
    },
    {
     "cell_type": "code",
     "collapsed": false,
     "input": [
      "fly_db = dba.get_db()\n",
      "swarm = flylib.Squadron(fly_db,starfield2_group)"
     ],
     "language": "python",
     "metadata": {},
     "outputs": [],
     "prompt_number": 4
    },
    {
     "cell_type": "code",
     "collapsed": false,
     "input": [
      "fly = swarm.flies[0]"
     ],
     "language": "python",
     "metadata": {},
     "outputs": [],
     "prompt_number": 5
    },
    {
     "cell_type": "code",
     "collapsed": false,
     "input": [
      "img_star = fly.experiments['img_starfields2_t2_rep1']"
     ],
     "language": "python",
     "metadata": {},
     "outputs": [],
     "prompt_number": 6
    },
    {
     "cell_type": "code",
     "collapsed": false,
     "input": [
      "f = open(img_star.fly_path + 'img_starfields2_t2_rep1_roi.cpkl')"
     ],
     "language": "python",
     "metadata": {},
     "outputs": [],
     "prompt_number": 10
    },
    {
     "cell_type": "code",
     "collapsed": false,
     "input": [
      "import cPickle\n",
      "roi_data = cPickle.load(f)"
     ],
     "language": "python",
     "metadata": {},
     "outputs": [],
     "prompt_number": 11
    },
    {
     "cell_type": "code",
     "collapsed": false,
     "input": [
      "img_star.exp_record.create_group('roi_data')"
     ],
     "language": "python",
     "metadata": {},
     "outputs": [
      {
       "metadata": {},
       "output_type": "pyout",
       "prompt_number": 14,
       "text": [
        "<HDF5 group \"/experiments/img_starfields2_t2_rep1/roi_data\" (0 members)>"
       ]
      }
     ],
     "prompt_number": 14
    },
    {
     "cell_type": "code",
     "collapsed": false,
     "input": [
      "for key in roi_data:\n",
      "    flylib.update_dset(img_star.exp_record['roi_data'],key,roi_data[key])"
     ],
     "language": "python",
     "metadata": {},
     "outputs": [],
     "prompt_number": 15
    },
    {
     "cell_type": "code",
     "collapsed": false,
     "input": [
      "fly_db.flush()"
     ],
     "language": "python",
     "metadata": {},
     "outputs": [],
     "prompt_number": 17
    },
    {
     "cell_type": "code",
     "collapsed": false,
     "input": [
      "fly_db.close()"
     ],
     "language": "python",
     "metadata": {},
     "outputs": [
      {
       "output_type": "stream",
       "stream": "stdout",
       "text": [
        "<Closed HDF5 file>\n",
        "<Closed HDF5 file>\n",
        "<Closed HDF5 file>\n",
        "<Closed HDF5 file>\n",
        "<Closed HDF5 file>\n",
        "<Closed HDF5 file>\n",
        "<Closed HDF5 file>\n",
        "<Closed HDF5 file>\n",
        "<Closed HDF5 file>\n",
        "<Closed HDF5 file>\n",
        "<Closed HDF5 file>\n",
        "<Closed HDF5 file>\n",
        "<Closed HDF5 file>\n",
        "<Closed HDF5 file>\n",
        "<Closed HDF5 file>\n",
        "<Closed HDF5 file>\n",
        "<Closed HDF5 file>\n",
        "<Closed HDF5 file>\n",
        "<Closed HDF5 file>\n",
        "<Closed HDF5 file>\n",
        "<Closed HDF5 file>\n",
        "<Closed HDF5 file>\n",
        "<Closed HDF5 file>\n",
        "<Closed HDF5 file>\n",
        "<Closed HDF5 file>\n",
        "<Closed HDF5 file>\n",
        "<Closed HDF5 file>\n",
        "<Closed HDF5 file>\n",
        "<Closed HDF5 file>\n",
        "<Closed HDF5 file>\n",
        "<Closed HDF5 file>\n",
        "<Closed HDF5 file>\n",
        "<Closed HDF5 file>\n",
        "<Closed HDF5 file>\n",
        "<Closed HDF5 file>\n",
        "<Closed HDF5 file>\n",
        "<Closed HDF5 file>\n",
        "<Closed HDF5 file>\n",
        "<Closed HDF5 file>\n",
        "<Closed HDF5 file>\n",
        "<Closed HDF5 file>\n",
        "<Closed HDF5 file>\n"
       ]
      }
     ],
     "prompt_number": 18
    },
    {
     "cell_type": "code",
     "collapsed": false,
     "input": [
      "frame_rate = float(expmnt.exp_record['imaging_frame_rate_guess'].value)\n",
      "ep_duration = float(expmnt.exp_record['ol_epoch_duration'].value)\n",
      "ypos = np.array(expmnt.exp_record['axon_data']['Ypos'])\n",
      "sigs = expmnt.exp_record['tiff_data']['axon_framebase']\n",
      "ax_time = np.array(expmnt.exp_record['axon_data']['times'])\n",
      "frame_times = np.array(sigs['times'])\n",
      "epochs = flylib.idx_by_thresh(ypos*-1,-9.5)\n",
      "ttups = [(ax_time[ep[0]],ax_time[ep[0]]+3.5) for ep in epochs]\n",
      "new_epochs = [squeeze(argwhere((frame_times>ttup[0]) & (frame_times<ttup[1]))) for ttup in ttups] \n",
      "trial_ind = [int(np.around(np.mean(ypos[ep[10:30]])*10)) for ep in new_epochs]"
     ],
     "language": "python",
     "metadata": {},
     "outputs": [],
     "prompt_number": 74
    },
    {
     "cell_type": "code",
     "collapsed": false,
     "input": [
      "sorted_epochs = sorted(zip(trial_ind,new_epochs),key = lambda x:x[0])"
     ],
     "language": "python",
     "metadata": {},
     "outputs": [],
     "prompt_number": 75
    },
    {
     "cell_type": "code",
     "collapsed": false,
     "input": [
      "#sig = array(expmnt.exp_record['tiff_data']['axon_framebase']['Ph2'])\n",
      "#sig = array(expmnt.exp_record['roi_data']['i1'])\n",
      "sig = array(expmnt.exp_record['tiff_data']['axon_framebase']['Ph3'])\n",
      "for idx,ep in sorted_epochs:\n",
      "    if idx == 44:\n",
      "        plot(sig[ep],color = 'b')"
     ],
     "language": "python",
     "metadata": {},
     "outputs": [],
     "prompt_number": 78
    },
    {
     "cell_type": "code",
     "collapsed": false,
     "input": [
      "ttups = [(ax_time[ep[0]],ax_time[ep[0]]+3.5) for ep in epochs]\n",
      "new_epochs = [squeeze(argwhere((frame_times>ttup[0]) & (frame_times<ttup[1]))) for ttup in ttups] "
     ],
     "language": "python",
     "metadata": {},
     "outputs": [],
     "prompt_number": 57
    },
    {
     "cell_type": "code",
     "collapsed": false,
     "input": [
      "new_epochs[0]"
     ],
     "language": "python",
     "metadata": {},
     "outputs": [
      {
       "metadata": {},
       "output_type": "pyout",
       "prompt_number": 58,
       "text": [
        "array([1048, 1049, 1050, 1051, 1052, 1053, 1054, 1055, 1056, 1057, 1058,\n",
        "       1059, 1060, 1061, 1062, 1063, 1064, 1065, 1066, 1067, 1068, 1069,\n",
        "       1070, 1071, 1072, 1073, 1074, 1075, 1076, 1077, 1078, 1079, 1080,\n",
        "       1081, 1082, 1083, 1084, 1085, 1086, 1087, 1088, 1089, 1090, 1091,\n",
        "       1092, 1093, 1094, 1095, 1096, 1097, 1098, 1099, 1100, 1101, 1102,\n",
        "       1103, 1104, 1105, 1106, 1107, 1108, 1109, 1110, 1111, 1112, 1113,\n",
        "       1114, 1115, 1116, 1117, 1118, 1119, 1120, 1121, 1122, 1123, 1124,\n",
        "       1125, 1126, 1127, 1128, 1129, 1130, 1131, 1132, 1133, 1134, 1135,\n",
        "       1136, 1137, 1138, 1139, 1140, 1141, 1142, 1143, 1144, 1145, 1146,\n",
        "       1147, 1148, 1149, 1150, 1151, 1152, 1153, 1154, 1155, 1156, 1157,\n",
        "       1158, 1159, 1160, 1161, 1162, 1163, 1164, 1165, 1166, 1167, 1168,\n",
        "       1169, 1170, 1171, 1172, 1173, 1174, 1175, 1176, 1177, 1178, 1179,\n",
        "       1180, 1181, 1182, 1183, 1184, 1185, 1186, 1187, 1188, 1189, 1190,\n",
        "       1191, 1192, 1193, 1194, 1195, 1196, 1197, 1198, 1199, 1200, 1201,\n",
        "       1202, 1203, 1204, 1205, 1206, 1207, 1208, 1209, 1210, 1211, 1212,\n",
        "       1213, 1214, 1215, 1216, 1217, 1218, 1219, 1220, 1221, 1222, 1223,\n",
        "       1224, 1225, 1226, 1227, 1228, 1229, 1230, 1231, 1232, 1233, 1234,\n",
        "       1235, 1236, 1237, 1238, 1239, 1240, 1241, 1242, 1243, 1244, 1245,\n",
        "       1246, 1247, 1248, 1249, 1250, 1251, 1252, 1253, 1254, 1255, 1256,\n",
        "       1257, 1258, 1259, 1260, 1261, 1262, 1263, 1264, 1265, 1266, 1267,\n",
        "       1268, 1269, 1270, 1271, 1272, 1273, 1274, 1275, 1276, 1277, 1278,\n",
        "       1279, 1280, 1281, 1282, 1283, 1284, 1285, 1286, 1287, 1288, 1289,\n",
        "       1290, 1291, 1292, 1293, 1294, 1295])"
       ]
      }
     ],
     "prompt_number": 58
    },
    {
     "cell_type": "code",
     "collapsed": false,
     "input": [
      "expmnt.exp_record['tiff_data']['axon_framebase'].keys()"
     ],
     "language": "python",
     "metadata": {},
     "outputs": [
      {
       "metadata": {},
       "output_type": "pyout",
       "prompt_number": 41,
       "text": [
        "[u'AMsysCh1',\n",
        " u'CamSync',\n",
        " u'CamTrig',\n",
        " u'LeftWing',\n",
        " u'Ph0',\n",
        " u'Ph1',\n",
        " u'Ph2',\n",
        " u'Ph3',\n",
        " u'Photostim',\n",
        " u'RightWing',\n",
        " u'WBSync',\n",
        " u'Xpos',\n",
        " u'Ypos',\n",
        " u'times']"
       ]
      }
     ],
     "prompt_number": 41
    },
    {
     "cell_type": "code",
     "collapsed": false,
     "input": [
      "for i in range(48):\n",
      "    subplot(2,1,1)\n",
      "    plot(np.array(sigs['times'])[new_epochs[i]],np.array(sigs['Ypos'])[new_epochs[i]])\n",
      "    subplot(2,1,2)\n",
      "    plot(np.array(sigs['times'])[new_epochs[i]],np.array(sigs['Xpos'])[new_epochs[i]])"
     ],
     "language": "python",
     "metadata": {},
     "outputs": [
      {
       "ename": "IndexError",
       "evalue": "index 3027847 is out of bounds for size 36001",
       "output_type": "pyerr",
       "traceback": [
        "\u001b[0;31m---------------------------------------------------------------------------\u001b[0m\n\u001b[0;31mIndexError\u001b[0m                                Traceback (most recent call last)",
        "\u001b[0;32m<ipython-input-65-4a641a77f565>\u001b[0m in \u001b[0;36m<module>\u001b[0;34m()\u001b[0m\n\u001b[1;32m      1\u001b[0m \u001b[0;32mfor\u001b[0m \u001b[0mi\u001b[0m \u001b[0;32min\u001b[0m \u001b[0mrange\u001b[0m\u001b[0;34m(\u001b[0m\u001b[0;36m48\u001b[0m\u001b[0;34m)\u001b[0m\u001b[0;34m:\u001b[0m\u001b[0;34m\u001b[0m\u001b[0m\n\u001b[1;32m      2\u001b[0m     \u001b[0msubplot\u001b[0m\u001b[0;34m(\u001b[0m\u001b[0;36m2\u001b[0m\u001b[0;34m,\u001b[0m\u001b[0;36m1\u001b[0m\u001b[0;34m,\u001b[0m\u001b[0;36m1\u001b[0m\u001b[0;34m)\u001b[0m\u001b[0;34m\u001b[0m\u001b[0m\n\u001b[0;32m----> 3\u001b[0;31m     \u001b[0mplot\u001b[0m\u001b[0;34m(\u001b[0m\u001b[0mnp\u001b[0m\u001b[0;34m.\u001b[0m\u001b[0marray\u001b[0m\u001b[0;34m(\u001b[0m\u001b[0msigs\u001b[0m\u001b[0;34m[\u001b[0m\u001b[0;34m'times'\u001b[0m\u001b[0;34m]\u001b[0m\u001b[0;34m)\u001b[0m\u001b[0;34m[\u001b[0m\u001b[0mnew_epochs\u001b[0m\u001b[0;34m[\u001b[0m\u001b[0mi\u001b[0m\u001b[0;34m]\u001b[0m\u001b[0;34m]\u001b[0m\u001b[0;34m,\u001b[0m\u001b[0mnp\u001b[0m\u001b[0;34m.\u001b[0m\u001b[0marray\u001b[0m\u001b[0;34m(\u001b[0m\u001b[0msigs\u001b[0m\u001b[0;34m[\u001b[0m\u001b[0;34m'Ypos'\u001b[0m\u001b[0;34m]\u001b[0m\u001b[0;34m)\u001b[0m\u001b[0;34m[\u001b[0m\u001b[0mnew_epochs\u001b[0m\u001b[0;34m[\u001b[0m\u001b[0mi\u001b[0m\u001b[0;34m]\u001b[0m\u001b[0;34m]\u001b[0m\u001b[0;34m)\u001b[0m\u001b[0;34m\u001b[0m\u001b[0m\n\u001b[0m\u001b[1;32m      4\u001b[0m     \u001b[0msubplot\u001b[0m\u001b[0;34m(\u001b[0m\u001b[0;36m2\u001b[0m\u001b[0;34m,\u001b[0m\u001b[0;36m1\u001b[0m\u001b[0;34m,\u001b[0m\u001b[0;36m2\u001b[0m\u001b[0;34m)\u001b[0m\u001b[0;34m\u001b[0m\u001b[0m\n\u001b[1;32m      5\u001b[0m     \u001b[0mplot\u001b[0m\u001b[0;34m(\u001b[0m\u001b[0mnp\u001b[0m\u001b[0;34m.\u001b[0m\u001b[0marray\u001b[0m\u001b[0;34m(\u001b[0m\u001b[0msigs\u001b[0m\u001b[0;34m[\u001b[0m\u001b[0;34m'times'\u001b[0m\u001b[0;34m]\u001b[0m\u001b[0;34m)\u001b[0m\u001b[0;34m[\u001b[0m\u001b[0mnew_epochs\u001b[0m\u001b[0;34m[\u001b[0m\u001b[0mi\u001b[0m\u001b[0;34m]\u001b[0m\u001b[0;34m]\u001b[0m\u001b[0;34m,\u001b[0m\u001b[0mnp\u001b[0m\u001b[0;34m.\u001b[0m\u001b[0marray\u001b[0m\u001b[0;34m(\u001b[0m\u001b[0msigs\u001b[0m\u001b[0;34m[\u001b[0m\u001b[0;34m'Xpos'\u001b[0m\u001b[0;34m]\u001b[0m\u001b[0;34m)\u001b[0m\u001b[0;34m[\u001b[0m\u001b[0mnew_epochs\u001b[0m\u001b[0;34m[\u001b[0m\u001b[0mi\u001b[0m\u001b[0;34m]\u001b[0m\u001b[0;34m]\u001b[0m\u001b[0;34m)\u001b[0m\u001b[0;34m\u001b[0m\u001b[0m\n",
        "\u001b[0;31mIndexError\u001b[0m: index 3027847 is out of bounds for size 36001"
       ]
      }
     ],
     "prompt_number": 65
    },
    {
     "cell_type": "code",
     "collapsed": false,
     "input": [
      "plot(np.array(sigs['times'])[new_epochs[0]]-np.array(sigs['times'])[new_epochs[0]][0],np.array(sigs['Xpos'])[new_epochs[0]])"
     ],
     "language": "python",
     "metadata": {},
     "outputs": [
      {
       "metadata": {},
       "output_type": "pyout",
       "prompt_number": 78,
       "text": [
        "[<matplotlib.lines.Line2D at 0x15440a950>]"
       ]
      }
     ],
     "prompt_number": 78
    },
    {
     "cell_type": "code",
     "collapsed": false,
     "input": [
      "new_epochs[0]"
     ],
     "language": "python",
     "metadata": {},
     "outputs": [
      {
       "metadata": {},
       "output_type": "pyout",
       "prompt_number": 73,
       "text": [
        "array([3027847, 3027848, 3027849, 3027850, 3027851, 3027852, 3027853,\n",
        "       3027854, 3027855, 3027856, 3027857, 3027858, 3027859, 3027860,\n",
        "       3027861, 3027862, 3027863, 3027864, 3027865, 3027866, 3027867,\n",
        "       3027868, 3027869, 3027870, 3027871, 3027872, 3027873, 3027874,\n",
        "       3027875, 3027876, 3027877, 3027878, 3027879, 3027880, 3027881,\n",
        "       3027882, 3027883, 3027884, 3027885, 3027886, 3027887, 3027888,\n",
        "       3027889, 3027890, 3027891, 3027892, 3027893, 3027894, 3027895,\n",
        "       3027896, 3027897, 3027898, 3027899, 3027900, 3027901, 3027902,\n",
        "       3027903, 3027904, 3027905, 3027906, 3027907, 3027908, 3027909,\n",
        "       3027910, 3027911, 3027912, 3027913, 3027914, 3027915, 3027916,\n",
        "       3027917, 3027918, 3027919, 3027920, 3027921, 3027922, 3027923,\n",
        "       3027924, 3027925, 3027926, 3027927, 3027928, 3027929, 3027930,\n",
        "       3027931, 3027932, 3027933, 3027934, 3027935, 3027936, 3027937,\n",
        "       3027938, 3027939, 3027940, 3027941, 3027942, 3027943, 3027944,\n",
        "       3027945, 3027946, 3027947, 3027948, 3027949, 3027950, 3027951,\n",
        "       3027952, 3027953, 3027954, 3027955, 3027956, 3027957, 3027958,\n",
        "       3027959, 3027960, 3027961, 3027962, 3027963, 3027964, 3027965,\n",
        "       3027966, 3027967, 3027968, 3027969, 3027970, 3027971, 3027972,\n",
        "       3027973, 3027974, 3027975, 3027976, 3027977, 3027978, 3027979,\n",
        "       3027980, 3027981, 3027982, 3027983, 3027984, 3027985, 3027986,\n",
        "       3027987, 3027988, 3027989, 3027990, 3027991, 3027992, 3027993,\n",
        "       3027994, 3027995, 3027996, 3027997, 3027998, 3027999, 3028000,\n",
        "       3028001, 3028002, 3028003, 3028004, 3028005, 3028006, 3028007,\n",
        "       3028008, 3028009, 3028010, 3028011, 3028012, 3028013, 3028014,\n",
        "       3028015, 3028016, 3028017, 3028018, 3028019, 3028020, 3028021,\n",
        "       3028022, 3028023, 3028024, 3028025, 3028026, 3028027, 3028028,\n",
        "       3028029, 3028030, 3028031, 3028032, 3028033, 3028034, 3028035,\n",
        "       3028036, 3028037, 3028038, 3028039, 3028040, 3028041, 3028042,\n",
        "       3028043, 3028044, 3028045, 3028046, 3028047, 3028048, 3028049,\n",
        "       3028050, 3028051, 3028052, 3028053, 3028054, 3028055, 3028056])"
       ]
      }
     ],
     "prompt_number": 73
    },
    {
     "cell_type": "code",
     "collapsed": false,
     "input": [
      "starfield_pattern_names_6_29_2014  = ['translate_forward.mat',\n",
      "                            'translate_backward.mat',\n",
      "                            'translate_up.mat',\n",
      "                            'translate_down.mat',\n",
      "                            'spin_equator_000.mat',\n",
      "                            'spin_equator_030.mat',\n",
      "                            'spin_equator_060.mat',\n",
      "                            'spin_equator_090.mat',\n",
      "                            'spin_equator_120.mat',\n",
      "                            'spin_equator_150.mat',\n",
      "                            'spin_equator_180.mat',\n",
      "                            'spin_equator_210.mat',\n",
      "                            'spin_equator_240.mat',\n",
      "                            'spin_equator_270.mat',\n",
      "                            'spin_equator_300.mat',\n",
      "                            'spin_equator_330.mat']"
     ],
     "language": "python",
     "metadata": {},
     "outputs": [],
     "prompt_number": 10
    },
    {
     "cell_type": "code",
     "collapsed": false,
     "input": [
      "l = [[x,x,x] for x in starfield_pattern_names_6_29_2014]"
     ],
     "language": "python",
     "metadata": {},
     "outputs": [],
     "prompt_number": 11
    },
    {
     "cell_type": "code",
     "collapsed": false,
     "input": [
      "len([item for sublist in l for item in sublist])"
     ],
     "language": "python",
     "metadata": {},
     "outputs": [
      {
       "metadata": {},
       "output_type": "pyout",
       "prompt_number": 12,
       "text": [
        "48"
       ]
      }
     ],
     "prompt_number": 12
    },
    {
     "cell_type": "code",
     "collapsed": false,
     "input": [
      "fly_db.close()"
     ],
     "language": "python",
     "metadata": {},
     "outputs": [],
     "prompt_number": 51
    },
    {
     "cell_type": "code",
     "collapsed": false,
     "input": [
      "ep = array(img_star.sequences[5].seq_record['epoch_framebase'])"
     ],
     "language": "python",
     "metadata": {},
     "outputs": [],
     "prompt_number": 49
    },
    {
     "cell_type": "code",
     "collapsed": false,
     "input": [
      "plot(array(img_star.exp_record['tiff_data']['axon_framebase']['Ypos'])*-1)"
     ],
     "language": "python",
     "metadata": {},
     "outputs": [
      {
       "metadata": {},
       "output_type": "pyout",
       "prompt_number": 22,
       "text": [
        "[<matplotlib.lines.Line2D at 0x155a82490>]"
       ]
      }
     ],
     "prompt_number": 22
    },
    {
     "cell_type": "code",
     "collapsed": false,
     "input": [],
     "language": "python",
     "metadata": {},
     "outputs": []
    },
    {
     "cell_type": "code",
     "collapsed": false,
     "input": [],
     "language": "python",
     "metadata": {},
     "outputs": []
    },
    {
     "cell_type": "code",
     "collapsed": false,
     "input": [],
     "language": "python",
     "metadata": {},
     "outputs": []
    },
    {
     "cell_type": "code",
     "collapsed": false,
     "input": [],
     "language": "python",
     "metadata": {},
     "outputs": []
    },
    {
     "cell_type": "code",
     "collapsed": false,
     "input": [],
     "language": "python",
     "metadata": {},
     "outputs": []
    },
    {
     "cell_type": "code",
     "collapsed": false,
     "input": [],
     "language": "python",
     "metadata": {},
     "outputs": []
    },
    {
     "cell_type": "code",
     "collapsed": false,
     "input": [],
     "language": "python",
     "metadata": {},
     "outputs": []
    },
    {
     "cell_type": "code",
     "collapsed": false,
     "input": [],
     "language": "python",
     "metadata": {},
     "outputs": []
    },
    {
     "cell_type": "code",
     "collapsed": false,
     "input": [],
     "language": "python",
     "metadata": {},
     "outputs": []
    },
    {
     "cell_type": "code",
     "collapsed": false,
     "input": [],
     "language": "python",
     "metadata": {},
     "outputs": []
    },
    {
     "cell_type": "code",
     "collapsed": false,
     "input": [],
     "language": "python",
     "metadata": {},
     "outputs": []
    },
    {
     "cell_type": "code",
     "collapsed": false,
     "input": [],
     "language": "python",
     "metadata": {},
     "outputs": []
    },
    {
     "cell_type": "code",
     "collapsed": false,
     "input": [],
     "language": "python",
     "metadata": {},
     "outputs": []
    },
    {
     "cell_type": "code",
     "collapsed": false,
     "input": [],
     "language": "python",
     "metadata": {},
     "outputs": []
    },
    {
     "cell_type": "code",
     "collapsed": false,
     "input": [],
     "language": "python",
     "metadata": {},
     "outputs": []
    },
    {
     "cell_type": "code",
     "collapsed": false,
     "input": [],
     "language": "python",
     "metadata": {},
     "outputs": []
    },
    {
     "cell_type": "code",
     "collapsed": false,
     "input": [],
     "language": "python",
     "metadata": {},
     "outputs": []
    },
    {
     "cell_type": "code",
     "collapsed": false,
     "input": [],
     "language": "python",
     "metadata": {},
     "outputs": []
    },
    {
     "cell_type": "code",
     "collapsed": false,
     "input": [],
     "language": "python",
     "metadata": {},
     "outputs": []
    },
    {
     "cell_type": "code",
     "collapsed": false,
     "input": [],
     "language": "python",
     "metadata": {},
     "outputs": []
    },
    {
     "cell_type": "code",
     "collapsed": false,
     "input": [],
     "language": "python",
     "metadata": {},
     "outputs": []
    },
    {
     "cell_type": "code",
     "collapsed": false,
     "input": [],
     "language": "python",
     "metadata": {},
     "outputs": []
    },
    {
     "cell_type": "code",
     "collapsed": false,
     "input": [],
     "language": "python",
     "metadata": {},
     "outputs": []
    },
    {
     "cell_type": "code",
     "collapsed": false,
     "input": [],
     "language": "python",
     "metadata": {},
     "outputs": []
    },
    {
     "cell_type": "code",
     "collapsed": false,
     "input": [],
     "language": "python",
     "metadata": {},
     "outputs": []
    },
    {
     "cell_type": "code",
     "collapsed": false,
     "input": [],
     "language": "python",
     "metadata": {},
     "outputs": []
    },
    {
     "cell_type": "code",
     "collapsed": false,
     "input": [],
     "language": "python",
     "metadata": {},
     "outputs": []
    },
    {
     "cell_type": "code",
     "collapsed": false,
     "input": [],
     "language": "python",
     "metadata": {},
     "outputs": []
    },
    {
     "cell_type": "code",
     "collapsed": false,
     "input": [],
     "language": "python",
     "metadata": {},
     "outputs": []
    },
    {
     "cell_type": "code",
     "collapsed": false,
     "input": [],
     "language": "python",
     "metadata": {},
     "outputs": []
    },
    {
     "cell_type": "code",
     "collapsed": false,
     "input": [],
     "language": "python",
     "metadata": {},
     "outputs": []
    },
    {
     "cell_type": "code",
     "collapsed": false,
     "input": [],
     "language": "python",
     "metadata": {},
     "outputs": []
    },
    {
     "cell_type": "code",
     "collapsed": false,
     "input": [],
     "language": "python",
     "metadata": {},
     "outputs": []
    },
    {
     "cell_type": "code",
     "collapsed": false,
     "input": [],
     "language": "python",
     "metadata": {},
     "outputs": []
    },
    {
     "cell_type": "code",
     "collapsed": false,
     "input": [],
     "language": "python",
     "metadata": {},
     "outputs": []
    },
    {
     "cell_type": "code",
     "collapsed": false,
     "input": [],
     "language": "python",
     "metadata": {},
     "outputs": []
    },
    {
     "cell_type": "code",
     "collapsed": false,
     "input": [],
     "language": "python",
     "metadata": {},
     "outputs": []
    },
    {
     "cell_type": "code",
     "collapsed": false,
     "input": [],
     "language": "python",
     "metadata": {},
     "outputs": []
    },
    {
     "cell_type": "code",
     "collapsed": false,
     "input": [],
     "language": "python",
     "metadata": {},
     "outputs": [],
     "prompt_number": 28
    },
    {
     "cell_type": "code",
     "collapsed": false,
     "input": [],
     "language": "python",
     "metadata": {},
     "outputs": [],
     "prompt_number": 3
    },
    {
     "cell_type": "code",
     "collapsed": false,
     "input": [],
     "language": "python",
     "metadata": {},
     "outputs": [],
     "prompt_number": 40
    },
    {
     "cell_type": "code",
     "collapsed": false,
     "input": [],
     "language": "python",
     "metadata": {},
     "outputs": [],
     "prompt_number": 41
    },
    {
     "cell_type": "code",
     "collapsed": false,
     "input": [],
     "language": "python",
     "metadata": {},
     "outputs": [],
     "prompt_number": 42
    },
    {
     "cell_type": "code",
     "collapsed": false,
     "input": [],
     "language": "python",
     "metadata": {},
     "outputs": [],
     "prompt_number": 43
    },
    {
     "cell_type": "code",
     "collapsed": false,
     "input": [],
     "language": "python",
     "metadata": {},
     "outputs": [],
     "prompt_number": 44
    },
    {
     "cell_type": "code",
     "collapsed": false,
     "input": [],
     "language": "python",
     "metadata": {},
     "outputs": [],
     "prompt_number": 45
    },
    {
     "cell_type": "code",
     "collapsed": false,
     "input": [],
     "language": "python",
     "metadata": {},
     "outputs": [],
     "prompt_number": 46
    },
    {
     "cell_type": "code",
     "collapsed": false,
     "input": [],
     "language": "python",
     "metadata": {},
     "outputs": [],
     "prompt_number": 47
    },
    {
     "cell_type": "code",
     "collapsed": false,
     "input": [],
     "language": "python",
     "metadata": {},
     "outputs": [],
     "prompt_number": 49
    },
    {
     "cell_type": "code",
     "collapsed": false,
     "input": [],
     "language": "python",
     "metadata": {},
     "outputs": [],
     "prompt_number": 50
    },
    {
     "cell_type": "code",
     "collapsed": false,
     "input": [],
     "language": "python",
     "metadata": {},
     "outputs": []
    },
    {
     "cell_type": "code",
     "collapsed": false,
     "input": [],
     "language": "python",
     "metadata": {},
     "outputs": []
    },
    {
     "cell_type": "code",
     "collapsed": false,
     "input": [],
     "language": "python",
     "metadata": {},
     "outputs": []
    }
   ],
   "metadata": {}
  }
 ]
}