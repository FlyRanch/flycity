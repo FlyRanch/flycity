{
 "metadata": {
  "name": "",
  "signature": "sha256:9814ca19dd5b74693557d875d5a26a30c92a6868e6f162a99f8a7f98c3aff8ab"
 },
 "nbformat": 3,
 "nbformat_minor": 0,
 "worksheets": [
  {
   "cells": [
    {
     "cell_type": "code",
     "collapsed": false,
     "input": [
      "import db_access as dba\n",
      "import flylib\n",
      "reload(dba)\n",
      "fly_db = dba.get_db()"
     ],
     "language": "python",
     "metadata": {},
     "outputs": [],
     "prompt_number": 2
    },
    {
     "cell_type": "code",
     "collapsed": false,
     "input": [
      "ephys_group = [111,112,114,115,116,117,118,122,123,124,125,130]\n",
      "swarm = flylib.Squadron(fly_db,ephys_group)"
     ],
     "language": "python",
     "metadata": {},
     "outputs": [],
     "prompt_number": 3
    },
    {
     "cell_type": "code",
     "collapsed": false,
     "input": [],
     "language": "python",
     "metadata": {},
     "outputs": [],
     "prompt_number": 2
    },
    {
     "cell_type": "code",
     "collapsed": false,
     "input": [
      "figure(figsize = (8,10))\n",
      "\n",
      "######################\n",
      "######################\n",
      "#######################\n",
      "fly = swarm.flies[1]\n",
      "lrb = fly.experiments['lr_blob_expansion']\n",
      "skey = lrb.sequences.keys()[1]\n",
      "cam_times = np.array(lrb.sequences[skey].seq_record['wbkin']['photron_sample_times'])\n",
      "phi_R = rad2deg(np.array(lrb.sequences[skey].seq_record['wbkin']['phi_R']))\n",
      "phi_L = rad2deg(np.array(lrb.sequences[skey].seq_record['wbkin']['phi_L']))\n",
      "eta_R = rad2deg(np.array(lrb.sequences[skey].seq_record['wbkin']['eta_R'])-pi/2)\n",
      "eta_L = rad2deg(np.array(lrb.sequences[skey].seq_record['wbkin']['eta_L'])-pi/2)\n",
      "theta_R = rad2deg(np.array(lrb.sequences[skey].seq_record['wbkin']['theta_R']))\n",
      "theta_L = rad2deg(np.array(lrb.sequences[skey].seq_record['wbkin']['theta_L']))\n",
      "\n",
      "import sys\n",
      "import os\n",
      "import cPickle\n",
      "f = open(fly.fly_path + 'spike_mask.cpkl')\n",
      "spike_mask = cPickle.load(f)\n",
      "f.close()\n",
      "f = open(fly.fly_path + 'spike_pool.cpkl')\n",
      "spike_pool = cPickle.load(f)\n",
      "f.close()\n",
      "\n",
      "seq = lrb.sequences[skey]\n",
      "axon_epoch = np.array(seq.seq_record['wbkin']['axon_epoch']).astype(int)\n",
      "ephys = np.array(lrb.exp_record['axon_data']['AMsysCh1'])[axon_epoch]\n",
      "stim = np.array(lrb.exp_record['axon_data']['Xpos'])[axon_epoch]\n",
      "phys_times = np.array(lrb.exp_record['axon_data']['times'])[axon_epoch]\n",
      "b1_spikes = spike_pool[spike_mask]\n",
      "b1_spikes = b1_spikes[(b1_spikes>phys_times[0]) & (b1_spikes<phys_times[-1])]\n",
      "\n",
      "spike_frames = digitize(b1_spikes,cam_times)\n",
      "\n",
      "ax0 = subplot(10,1,1)\n",
      "plot(phys_times-phys_times[0],stim,color = 'k')\n",
      "     \n",
      "subplot(10,1,2,sharex = ax0)\n",
      "plot(phys_times-phys_times[0],ephys,color = 'b')\n",
      "\n",
      "subplot(10,1,3,sharex = ax0)\n",
      "plot(cam_times-cam_times[0],phi_R,'r')\n",
      "plot(cam_times-cam_times[0],phi_L,'b')\n",
      "plot(cam_times[spike_frames]-cam_times[0],phi_L[spike_frames],'o',color = 'b')\n",
      "gca().set_ybound(-120,120)\n",
      "\n",
      "subplot(10,1,4,sharex = ax0)\n",
      "plot(cam_times-cam_times[0],eta_L,'r')\n",
      "plot(cam_times-cam_times[0],eta_R,'b')\n",
      "gca().set_ybound(-120,120)\n",
      "\n",
      "subplot(10,1,5,sharex = ax0)\n",
      "plot(cam_times-cam_times[0],theta_R,'r')\n",
      "plot(cam_times-cam_times[0],theta_L,'b')\n",
      "gca().set_ybound(-60,60)\n",
      "gca().set_xbound(0.05,0.225)\n",
      "\n",
      "fly = swarm.flies[11]\n",
      "lrb = fly.experiments['lr_blob_expansion']\n",
      "skey = lrb.sequences.keys()[0]\n",
      "cam_times = np.array(lrb.sequences[skey].seq_record['wbkin']['photron_sample_times'])\n",
      "phi_R = rad2deg(np.array(lrb.sequences[skey].seq_record['wbkin']['phi_R']))\n",
      "phi_L = rad2deg(np.array(lrb.sequences[skey].seq_record['wbkin']['phi_L']))\n",
      "eta_R = rad2deg(np.array(lrb.sequences[skey].seq_record['wbkin']['eta_R'])-pi/2)\n",
      "eta_L = rad2deg(np.array(lrb.sequences[skey].seq_record['wbkin']['eta_L'])-pi/2)\n",
      "theta_R = rad2deg(np.array(lrb.sequences[skey].seq_record['wbkin']['theta_R']))\n",
      "theta_L = rad2deg(np.array(lrb.sequences[skey].seq_record['wbkin']['theta_L']))\n",
      "\n",
      "##################\n",
      "##################\n",
      "##################\n",
      "\n",
      "f = open(fly.fly_path + 'spike_mask.cpkl')\n",
      "spike_mask = cPickle.load(f)\n",
      "f.close()\n",
      "f = open(fly.fly_path + 'spike_pool.cpkl')\n",
      "spike_pool = cPickle.load(f)\n",
      "f.close()\n",
      "\n",
      "seq = lrb.sequences[skey]\n",
      "axon_epoch = np.array(seq.seq_record['wbkin']['axon_epoch']).astype(int)\n",
      "ephys = np.array(lrb.exp_record['axon_data']['AMsysCh1'])[axon_epoch]\n",
      "stim = np.array(lrb.exp_record['axon_data']['Xpos'])[axon_epoch]\n",
      "phys_times = np.array(lrb.exp_record['axon_data']['times'])[axon_epoch]\n",
      "b1_spikes = spike_pool[spike_mask]\n",
      "b1_spikes = b1_spikes[(b1_spikes>phys_times[0]) & (b1_spikes<phys_times[-1])]\n",
      "\n",
      "spike_frames = digitize(b1_spikes,cam_times)\n",
      "\n",
      "subplot(10,1,6)\n",
      "plot(phys_times-phys_times[0],stim,color = 'k')\n",
      "     \n",
      "subplot(10,1,7,sharex = ax0)\n",
      "plot(phys_times-phys_times[0],ephys*-1,color = 'b')\n",
      "\n",
      "subplot(10,1,8,sharex = ax0)\n",
      "plot(cam_times-cam_times[0],phi_R,'r')\n",
      "plot(cam_times-cam_times[0],phi_L,'b')\n",
      "plot(cam_times[spike_frames]-cam_times[0],phi_L[spike_frames],'o',color = 'b')\n",
      "gca().set_ybound(-120,120)\n",
      "\n",
      "subplot(10,1,9,sharex = ax0)\n",
      "plot(cam_times-cam_times[0],eta_L,'r')\n",
      "plot(cam_times-cam_times[0],eta_R,'b')\n",
      "gca().set_ybound(-120,120)\n",
      "\n",
      "subplot(10,1,10,sharex = ax0)\n",
      "plot(cam_times-cam_times[0],theta_R,'r')\n",
      "plot(cam_times-cam_times[0],theta_L,'b')\n",
      "gca().set_ybound(-60,60)\n",
      "gca().set_xbound(0.05,0.225)\n"
     ],
     "language": "python",
     "metadata": {},
     "outputs": [],
     "prompt_number": 26
    },
    {
     "cell_type": "code",
     "collapsed": false,
     "input": [],
     "language": "python",
     "metadata": {},
     "outputs": [],
     "prompt_number": 6
    },
    {
     "cell_type": "code",
     "collapsed": false,
     "input": [
      "fly = swarm.flies[1]\n",
      "lrb = fly.experiments['lr_blob_expansion']\n",
      "skey = lrb.sequences.keys()[1]\n",
      "seq = lrb.sequences[skey]\n",
      "\n",
      "eta_L = np.rad2deg(np.array(seq.seq_record['wb_mtrx']['eta_L']))\n",
      "theta_L = np.rad2deg(np.array(seq.seq_record['wb_mtrx']['theta_L']))\n",
      "phi_L = np.rad2deg(np.array(seq.seq_record['wb_mtrx']['phi_L']))\n",
      "ephys = np.array(seq.seq_record['wb_mtrx']['AMsysCh1'])\n",
      "numstrks = shape(eta_L)[0]\n",
      "phases = np.linspace(-2*pi,4*pi,1500)\n",
      "for strk in range(numstrks):\n",
      "    c = cm.jet((strk/float(numstrks*3)))\n",
      "    subplot(4,1,1)\n",
      "    plot(phases,phi_L[strk,:],color = c)\n",
      "    subplot(4,1,2)\n",
      "    plot(phases,theta_L[strk,:],color = c)\n",
      "    subplot(4,1,3)\n",
      "    plot(phases,eta_L[strk,:],color = c)\n",
      "    subplot(4,1,4)\n",
      "    plot(phases,ephys[strk,:],color = c)\n",
      "gca().set_xticks([-2*pi,-1*pi,0,pi,2*pi,3*pi,4*pi])"
     ],
     "language": "python",
     "metadata": {},
     "outputs": [
      {
       "metadata": {},
       "output_type": "pyout",
       "prompt_number": 74,
       "text": [
        "[<matplotlib.axis.XTick at 0x1150b7910>,\n",
        " <matplotlib.axis.XTick at 0x115389ad0>,\n",
        " <matplotlib.axis.XTick at 0x11383b490>,\n",
        " <matplotlib.axis.XTick at 0x11463c290>,\n",
        " <matplotlib.axis.XTick at 0x10d4c2210>,\n",
        " <matplotlib.axis.XTick at 0x10d6a5950>,\n",
        " <matplotlib.axis.XTick at 0x10d6a5910>]"
       ]
      }
     ],
     "prompt_number": 74
    },
    {
     "cell_type": "code",
     "collapsed": false,
     "input": [
      "seq.seq_record['wb_mtrx'].keys()"
     ],
     "language": "python",
     "metadata": {},
     "outputs": [
      {
       "metadata": {},
       "output_type": "pyout",
       "prompt_number": 25,
       "text": [
        "[u'AMsysCh1',\n",
        " u'CamSync',\n",
        " u'LeftWing',\n",
        " u'Ph0',\n",
        " u'Ph1',\n",
        " u'Ph2',\n",
        " u'Photostim',\n",
        " u'RightWing',\n",
        " u'WBSync',\n",
        " u'Xpos',\n",
        " u'Ypos',\n",
        " u'axon_sample_times',\n",
        " u'eta_L',\n",
        " u'eta_R',\n",
        " u'phi_L',\n",
        " u'phi_R',\n",
        " u'photron_sample_times',\n",
        " u'stim_frame_times',\n",
        " u'theta_L',\n",
        " u'theta_R']"
       ]
      }
     ],
     "prompt_number": 25
    },
    {
     "cell_type": "code",
     "collapsed": false,
     "input": [
      "shape(lrb.exp_record['axon_data']['AMsysCh1'])"
     ],
     "language": "python",
     "metadata": {},
     "outputs": [
      {
       "metadata": {},
       "output_type": "pyout",
       "prompt_number": 166,
       "text": [
        "(9758720,)"
       ]
      }
     ],
     "prompt_number": 166
    },
    {
     "cell_type": "code",
     "collapsed": false,
     "input": [
      "shape(seq.seq_record['wbkin']['axon_epoch'])"
     ],
     "language": "python",
     "metadata": {},
     "outputs": [
      {
       "metadata": {},
       "output_type": "pyout",
       "prompt_number": 178,
       "text": [
        "(22750,)"
       ]
      }
     ],
     "prompt_number": 178
    },
    {
     "cell_type": "code",
     "collapsed": false,
     "input": [
      "spike_pool[4]"
     ],
     "language": "python",
     "metadata": {},
     "outputs": [
      {
       "metadata": {},
       "output_type": "pyout",
       "prompt_number": 194,
       "text": [
        "0.021450000000000004"
       ]
      }
     ],
     "prompt_number": 194
    },
    {
     "cell_type": "code",
     "collapsed": false,
     "input": [
      "b1_spikes>phys_times[0]"
     ],
     "language": "python",
     "metadata": {},
     "outputs": [
      {
       "metadata": {},
       "output_type": "pyout",
       "prompt_number": 198,
       "text": [
        "array([False, False, False, ...,  True,  True,  True], dtype=bool)"
       ]
      }
     ],
     "prompt_number": 198
    },
    {
     "cell_type": "code",
     "collapsed": false,
     "input": [
      "seq.seq_record['wbkin'].keys()"
     ],
     "language": "python",
     "metadata": {},
     "outputs": [
      {
       "metadata": {},
       "output_type": "pyout",
       "prompt_number": 176,
       "text": [
        "[u'Lwingbeat_loc',\n",
        " u'Lwingtip',\n",
        " u'Rwingbeat_loc',\n",
        " u'Rwingtip',\n",
        " u'__globals__',\n",
        " u'__header__',\n",
        " u'__version__',\n",
        " u'alfa_L',\n",
        " u'alfa_R',\n",
        " u'axon_epoch',\n",
        " u'axon_idxs',\n",
        " u'beta_L',\n",
        " u'beta_R',\n",
        " u'eta_L',\n",
        " u'eta_R',\n",
        " u'first_track',\n",
        " u'frame_nums',\n",
        " u'last_track',\n",
        " u'phi_L',\n",
        " u'phi_R',\n",
        " u'photron_sample_times',\n",
        " u'seq_phase',\n",
        " u'theta_L',\n",
        " u'theta_R',\n",
        " u'u_wing_L',\n",
        " u'u_wing_R',\n",
        " u'u_wing_body_rot_L',\n",
        " u'u_wing_body_rot_R',\n",
        " u'u_wing_rot_L',\n",
        " u'u_wing_rot_R',\n",
        " u'u_wing_trans_L',\n",
        " u'u_wing_trans_R',\n",
        " u'v_wing_L',\n",
        " u'v_wing_R',\n",
        " u'v_wing_body_rot_L',\n",
        " u'v_wing_body_rot_R',\n",
        " u'v_wing_rot_L',\n",
        " u'v_wing_rot_R',\n",
        " u'v_wing_trans_L',\n",
        " u'v_wing_trans_R',\n",
        " u'w_wing_L',\n",
        " u'w_wing_R',\n",
        " u'w_wing_body_rot_L',\n",
        " u'w_wing_body_rot_R',\n",
        " u'w_wing_rot_L',\n",
        " u'w_wing_rot_R',\n",
        " u'w_wing_trans_L',\n",
        " u'w_wing_trans_R']"
       ]
      }
     ],
     "prompt_number": 176
    },
    {
     "cell_type": "code",
     "collapsed": false,
     "input": [
      "#block to plot the data fit to the forier time series\n",
      "ipsi_group = list()\n",
      "contra_group = list()\n",
      "for fly in swarm.flies:\n",
      "    lrb = fly.experiments['lr_blob_expansion']\n",
      "    for skey in lrb.sequences.keys():\n",
      "        seq = lrb.sequences[skey]\n",
      "        if seq.seq_record['expan_pol'].value == 270.0:\n",
      "            ipsi_group.append(seq.seq_record['wb_mtrx'])\n",
      "        if seq.seq_record['expan_pol'].value == 90:\n",
      "            contra_group.append(seq.seq_record['wb_mtrx'])\n",
      "ax0 = subplot(3,1,1)\n",
      "#############################\n",
      "stroke_mtrx_r = [list() for x in range(45)]\n",
      "stroke_mtrx_l = [list() for x in range(45)]\n",
      "for nseq in ipsi_group:\n",
      "    for i,stroke in enumerate(nseq['phi_L'][:45]):\n",
      "        stroke_mtrx_r[i].append(rad2deg(stroke[500:1000]))\n",
      "    for i,stroke in enumerate(nseq['phi_R'][:45]):\n",
      "        stroke_mtrx_l[i].append(rad2deg(stroke[500:1000]))\n",
      "for i,stroke_stack in enumerate(stroke_mtrx_r):\n",
      "    phases = linspace(0,2.1*pi,500)+2*pi*i\n",
      "    stroke_stack = rad2deg(stroke_stack)\n",
      "    p = flylib.fit_fourier(stroke_stack,p_amp)\n",
      "    plot(phases,flylib.fourier(phases,p),color = 'r')\n",
      "for i,stroke_stack in enumerate(stroke_mtrx_l):\n",
      "    phases = linspace(0,2.1*pi,500)+2*pi*i\n",
      "    stroke_stack = rad2deg(stroke_stack)\n",
      "    p = flylib.fit_fourier(stroke_stack,p_amp)\n",
      "    plot(phases,flylib.fourier(phases,p),color = 'b')\n",
      "############################\n",
      "subplot(3,1,2,sharex = ax0)\n",
      "stroke_mtrx_r = [list() for x in range(45)]\n",
      "stroke_mtrx_l = [list() for x in range(45)]\n",
      "for nseq in ipsi_group:\n",
      "    for i,stroke in enumerate(nseq['theta_L'][:45]):\n",
      "        stroke_mtrx_r[i].append(rad2deg(stroke[500:1000]))\n",
      "    for i,stroke in enumerate(nseq['theta_R'][:45]):\n",
      "        stroke_mtrx_l[i].append(rad2deg(stroke[500:1000]))\n",
      "for i,stroke_stack in enumerate(stroke_mtrx_r):\n",
      "    phases = linspace(0,2.1*pi,500)+2*pi*i\n",
      "    stroke_stack = rad2deg(stroke_stack)\n",
      "    p = flylib.fit_fourier(stroke_stack,p_dev)\n",
      "    plot(phases,flylib.fourier(phases,p),color = 'r')\n",
      "for i,stroke_stack in enumerate(stroke_mtrx_l):\n",
      "    phases = linspace(0,2.1*pi,500)+2*pi*i\n",
      "    stroke_stack = rad2deg(stroke_stack)\n",
      "    p = flylib.fit_fourier(stroke_stack,p_dev)\n",
      "    plot(phases,flylib.fourier(phases,p),color = 'b')\n",
      "#############################\n",
      "subplot(3,1,3,sharex = ax0)\n",
      "stroke_mtrx_r = [list() for x in range(45)]\n",
      "stroke_mtrx_l = [list() for x in range(45)]\n",
      "for nseq in ipsi_group:\n",
      "    for i,stroke in enumerate(nseq['eta_L'][:45]):\n",
      "        stroke_mtrx_r[i].append(rad2deg(stroke[500:1000]))\n",
      "    for i,stroke in enumerate(nseq['eta_R'][:45]):\n",
      "        stroke_mtrx_l[i].append(rad2deg(stroke[500:1000]))\n",
      "for i,stroke_stack in enumerate(stroke_mtrx_r):\n",
      "    phases = linspace(0,2.1*pi,500)+2*pi*i\n",
      "    stroke_stack = rad2deg(stroke_stack)\n",
      "    p = flylib.fit_fourier(stroke_stack,p_rot)\n",
      "    plot(phases,flylib.fourier(phases,p),color = 'r')\n",
      "for i,stroke_stack in enumerate(stroke_mtrx_l):\n",
      "    phases = linspace(0,2.1*pi,500)+2*pi*i\n",
      "    stroke_stack = rad2deg(stroke_stack)\n",
      "    p = flylib.fit_fourier(stroke_stack,p_rot)\n",
      "    plot(phases,flylib.fourier(phases,p),color = 'b')"
     ],
     "language": "python",
     "metadata": {},
     "outputs": [],
     "prompt_number": 255
    },
    {
     "cell_type": "code",
     "collapsed": false,
     "input": [
      "p_amp = [3.9,\n",
      "         65.0445,4.2642,\n",
      "         3.5806,-2.9492,\n",
      "         0.1319,0.3639,\n",
      "         0.7844,0.2098]\n",
      "p_rot = [4.2936,\n",
      "     1.8536,59.6529,\n",
      "     5.1852,1.6095,\n",
      "     -8.4569,9.8057,\n",
      "     3.9562,5.8064,\n",
      "     -3.0337,-2.8749,\n",
      "     -2.8771,0.6686,\n",
      "     0.8649,-0.6137,\n",
      "     0.0771,-1.0007]\n",
      "\n",
      "p_dev = [-6.173,\n",
      "         6.5682,   3.7788,\n",
      "         6.1335,   0.8717,\n",
      "         -0.352,   -0.6606,\n",
      "         0.0447,   1.2816,\n",
      "         0.5257,   0.3556,\n",
      "         -0.3202,  -0.2039,\n",
      "         -0.2993,  0.1891,\n",
      "         0.0221,   0.0379]"
     ],
     "language": "python",
     "metadata": {},
     "outputs": [],
     "prompt_number": 116
    },
    {
     "cell_type": "code",
     "collapsed": false,
     "input": [
      "p = flylib.fit_fourier(stroke_stack,p_dev)"
     ],
     "language": "python",
     "metadata": {},
     "outputs": [],
     "prompt_number": 118
    },
    {
     "cell_type": "code",
     "collapsed": false,
     "input": [
      "plot(flylib.fourier(phases,p))"
     ],
     "language": "python",
     "metadata": {},
     "outputs": [
      {
       "metadata": {},
       "output_type": "pyout",
       "prompt_number": 120,
       "text": [
        "[<matplotlib.lines.Line2D at 0xa09a386c>]"
       ]
      }
     ],
     "prompt_number": 120
    },
    {
     "cell_type": "code",
     "collapsed": false,
     "input": [
      "fly_db.close()"
     ],
     "language": "python",
     "metadata": {},
     "outputs": [
      {
       "output_type": "stream",
       "stream": "stderr",
       "text": [
        "/home/matt/Enthought/Canopy_32bit/User/lib/python2.7/site-packages/matplotlib/backends/backend_wx.py:1694: UserWarning: extension pdf did not match the selected image type png; going with pdf\n",
        "  warnings.warn('extension %s did not match the selected image type %s; going with %s'%(ext, format, ext), stacklevel=0)\n"
       ]
      }
     ],
     "prompt_number": 27
    },
    {
     "cell_type": "code",
     "collapsed": false,
     "input": [
      "for i,stroke_stack in enumerate(stroke_mtrx_r):\n",
      "    print stroke_stack"
     ],
     "language": "python",
     "metadata": {},
     "outputs": [
      {
       "output_type": "stream",
       "stream": "stdout",
       "text": [
        "[3]\n",
        "[3]\n",
        "[3]\n",
        "[3]\n",
        "[3]\n",
        "[3]\n",
        "[3]\n",
        "[3]\n",
        "[3]\n",
        "[3]\n",
        "[3]\n",
        "[3]\n",
        "[3]\n",
        "[3]\n",
        "[3]\n",
        "[3]\n",
        "[3]\n",
        "[3]\n",
        "[3]\n",
        "[3]\n",
        "[3]\n",
        "[3]\n",
        "[3]\n",
        "[3]\n",
        "[3]\n",
        "[3]\n",
        "[3]\n",
        "[3]\n",
        "[3]\n",
        "[3]\n",
        "[3]\n",
        "[3]\n",
        "[3]\n",
        "[3]\n",
        "[3]\n",
        "[3]\n",
        "[3]\n",
        "[3]\n",
        "[3]\n",
        "[3]\n",
        "[3]\n",
        "[3]\n",
        "[3]\n",
        "[3]\n",
        "[3]\n",
        "[3]\n",
        "[3]\n",
        "[3]\n",
        "[3]\n",
        "[3]\n",
        "[3]\n",
        "[3]\n",
        "[3]\n",
        "[3]\n",
        "[3]\n",
        "[3]\n",
        "[3]\n",
        "[3]\n",
        "[3]\n",
        "[3]\n"
       ]
      }
     ],
     "prompt_number": 103
    },
    {
     "cell_type": "code",
     "collapsed": false,
     "input": [
      "stroke_mtrx_r[3].append('this')"
     ],
     "language": "python",
     "metadata": {},
     "outputs": [],
     "prompt_number": 84
    },
    {
     "cell_type": "code",
     "collapsed": false,
     "input": [],
     "language": "python",
     "metadata": {},
     "outputs": []
    },
    {
     "cell_type": "code",
     "collapsed": false,
     "input": [],
     "language": "python",
     "metadata": {},
     "outputs": []
    },
    {
     "cell_type": "code",
     "collapsed": false,
     "input": [
      "ephys_group = [111,112,114,115,116,117,118,122,123,124,125]\n",
      "swarm = flylib.Squadron(fly_db,ephys_group)\n",
      "global_wbmtrx = list()\n",
      "for fly in swarm.flies:\n",
      "    lrb = fly.experiments['lr_blob_expansion']\n",
      "    for seq_key in lrb.sequences.keys():\n",
      "        seq = lrb.sequences[seq_key]\n",
      "        global_wbmtrx.append(seq.seq_record['wb_mtrx'])"
     ],
     "language": "python",
     "metadata": {},
     "outputs": [],
     "prompt_number": 5
    },
    {
     "cell_type": "code",
     "collapsed": false,
     "input": [
      "exp = swarm.flies[5].experiments['lr_blob_expansion']"
     ],
     "language": "python",
     "metadata": {},
     "outputs": [],
     "prompt_number": 110
    },
    {
     "cell_type": "code",
     "collapsed": false,
     "input": [
      "stroke"
     ],
     "language": "python",
     "metadata": {},
     "outputs": [
      {
       "metadata": {},
       "output_type": "pyout",
       "prompt_number": 128,
       "text": [
        "u'AMsysCh1'"
       ]
      }
     ],
     "prompt_number": 128
    },
    {
     "cell_type": "code",
     "collapsed": false,
     "input": [
      "ipsi_group[0].keys()"
     ],
     "language": "python",
     "metadata": {},
     "outputs": [
      {
       "metadata": {},
       "output_type": "pyout",
       "prompt_number": 124,
       "text": [
        "[u'AMsysCh1',\n",
        " u'CamSync',\n",
        " u'LeftWing',\n",
        " u'Ph0',\n",
        " u'Ph1',\n",
        " u'Ph2',\n",
        " u'Photostim',\n",
        " u'RightWing',\n",
        " u'WBSync',\n",
        " u'Xpos',\n",
        " u'Ypos',\n",
        " u'axon_sample_times',\n",
        " u'eta_L',\n",
        " u'eta_R',\n",
        " u'phi_L',\n",
        " u'phi_R',\n",
        " u'photron_sample_times',\n",
        " u'stim_frame_times',\n",
        " u'theta_L',\n",
        " u'theta_R']"
       ]
      }
     ],
     "prompt_number": 124
    },
    {
     "cell_type": "code",
     "collapsed": false,
     "input": [
      "stroke_bins = np.linspace(-0.2,0,50)"
     ],
     "language": "python",
     "metadata": {},
     "outputs": [],
     "prompt_number": 52
    },
    {
     "cell_type": "code",
     "collapsed": false,
     "input": [
      "stimes = [np.array(mtrx['stim_frame_times']) for mtrx in global_wbmtrx]"
     ],
     "language": "python",
     "metadata": {},
     "outputs": [],
     "prompt_number": 75
    },
    {
     "cell_type": "code",
     "collapsed": false,
     "input": [
      "mean_times = nanmean(vstack(stimes),axis = 1)"
     ],
     "language": "python",
     "metadata": {},
     "outputs": [],
     "prompt_number": 78
    },
    {
     "cell_type": "code",
     "collapsed": false,
     "input": [
      "hist(mean_times,bins = 50)"
     ],
     "language": "python",
     "metadata": {},
     "outputs": [
      {
       "metadata": {},
       "output_type": "pyout",
       "prompt_number": 82,
       "text": [
        "(array([ 36.,  64.,  65.,  64.,  65.,  67.,  61.,  67.,  63.,  66.,  64.,\n",
        "        64.,  69.,  66.,  64.,  62.,  67.,  62.,  66.,  61.,  68.,  67.,\n",
        "        62.,  64.,  62.,  66.,  66.,  68.,  64.,  66.,  62.,  66.,  64.,\n",
        "        66.,  64.,  64.,  67.,  67.,  64.,  63.,  66.,  65.,  64.,  64.,\n",
        "        64.,  53.,  13.,   3.,   1.,   2.]),\n",
        " array([-0.19885315, -0.19456805, -0.19028294, -0.18599784, -0.18171273,\n",
        "       -0.17742763, -0.17314252, -0.16885742, -0.16457231, -0.16028721,\n",
        "       -0.1560021 , -0.151717  , -0.14743189, -0.14314679, -0.13886168,\n",
        "       -0.13457658, -0.13029147, -0.12600637, -0.12172126, -0.11743616,\n",
        "       -0.11315105, -0.10886595, -0.10458084, -0.10029574, -0.09601063,\n",
        "       -0.09172553, -0.08744042, -0.08315532, -0.07887021, -0.07458511,\n",
        "       -0.0703    , -0.0660149 , -0.06172979, -0.05744469, -0.05315958,\n",
        "       -0.04887448, -0.04458937, -0.04030427, -0.03601916, -0.03173406,\n",
        "       -0.02744895, -0.02316385, -0.01887874, -0.01459364, -0.01030853,\n",
        "       -0.00602343, -0.00173833,  0.00254678,  0.00683188,  0.01111699,\n",
        "        0.01540209]),\n",
        " <a list of 50 Patch objects>)"
       ]
      }
     ],
     "prompt_number": 82
    },
    {
     "cell_type": "code",
     "collapsed": false,
     "input": [],
     "language": "python",
     "metadata": {},
     "outputs": []
    }
   ],
   "metadata": {}
  }
 ]
}