{
 "metadata": {
  "name": ""
 },
 "nbformat": 3,
 "nbformat_minor": 0,
 "worksheets": [
  {
   "cells": [
    {
     "cell_type": "code",
     "collapsed": false,
     "input": [
      "import db_access as dba\n",
      "import flylib\n",
      "fly_db = dba.get_db()"
     ],
     "language": "python",
     "metadata": {},
     "outputs": [],
     "prompt_number": 4
    },
    {
     "cell_type": "code",
     "collapsed": false,
     "input": [
      "ephys_group = [111,112,114,115,116,117,118,122,123,124,125]\n",
      "swarm = flylib.Squadron(fly_db,ephys_group)\n",
      "global_wbmtrx = list()\n",
      "for fly in swarm.flies:\n",
      "    lrb = fly.experiments['lr_blob_expansion']\n",
      "    for seq_key in lrb.sequences.keys():\n",
      "        seq = lrb.sequences[seq_key]\n",
      "        global_wbmtrx.append(seq.seq_record['wb_mtrx'])"
     ],
     "language": "python",
     "metadata": {},
     "outputs": [],
     "prompt_number": 5
    },
    {
     "cell_type": "code",
     "collapsed": false,
     "input": [
      "exp = swarm.flies[5].experiments['lr_blob_expansion']"
     ],
     "language": "python",
     "metadata": {},
     "outputs": [],
     "prompt_number": 110
    },
    {
     "cell_type": "code",
     "collapsed": false,
     "input": [
      "ipsi_group = list()\n",
      "for fly in swarm.flies:\n",
      "    lrb = fly.experiments['lr_blob_expansion']\n",
      "    for skey in lrb.sequences.keys():\n",
      "        seq = lrb.sequences[skey]\n",
      "        if seq.seq_record['expan_pol'].value == 270.0:\n",
      "            ipsi_group.append(seq.seq_record['wb_mtrx'])"
     ],
     "language": "python",
     "metadata": {},
     "outputs": [],
     "prompt_number": 142
    },
    {
     "cell_type": "code",
     "collapsed": false,
     "input": [
      "for seq in ipsi_group:\n",
      "    for i,stroke in enumerate(seq['phi_R']):\n",
      "        phases = linspace(0,2*pi,500)+2*pi*i\n",
      "        plot(phases,rad2deg(stroke[500:1000]),'r', alpha = 0.3)"
     ],
     "language": "python",
     "metadata": {},
     "outputs": [],
     "prompt_number": 154
    },
    {
     "cell_type": "code",
     "collapsed": false,
     "input": [
      "stroke"
     ],
     "language": "python",
     "metadata": {},
     "outputs": [
      {
       "metadata": {},
       "output_type": "pyout",
       "prompt_number": 128,
       "text": [
        "u'AMsysCh1'"
       ]
      }
     ],
     "prompt_number": 128
    },
    {
     "cell_type": "code",
     "collapsed": false,
     "input": [
      "ipsi_group[0].keys()"
     ],
     "language": "python",
     "metadata": {},
     "outputs": [
      {
       "metadata": {},
       "output_type": "pyout",
       "prompt_number": 124,
       "text": [
        "[u'AMsysCh1',\n",
        " u'CamSync',\n",
        " u'LeftWing',\n",
        " u'Ph0',\n",
        " u'Ph1',\n",
        " u'Ph2',\n",
        " u'Photostim',\n",
        " u'RightWing',\n",
        " u'WBSync',\n",
        " u'Xpos',\n",
        " u'Ypos',\n",
        " u'axon_sample_times',\n",
        " u'eta_L',\n",
        " u'eta_R',\n",
        " u'phi_L',\n",
        " u'phi_R',\n",
        " u'photron_sample_times',\n",
        " u'stim_frame_times',\n",
        " u'theta_L',\n",
        " u'theta_R']"
       ]
      }
     ],
     "prompt_number": 124
    },
    {
     "cell_type": "code",
     "collapsed": false,
     "input": [
      "stroke_bins = np.linspace(-0.2,0,50)"
     ],
     "language": "python",
     "metadata": {},
     "outputs": [],
     "prompt_number": 52
    },
    {
     "cell_type": "code",
     "collapsed": false,
     "input": [
      "stimes = [np.array(mtrx['stim_frame_times']) for mtrx in global_wbmtrx]"
     ],
     "language": "python",
     "metadata": {},
     "outputs": [],
     "prompt_number": 75
    },
    {
     "cell_type": "code",
     "collapsed": false,
     "input": [
      "mean_times = nanmean(vstack(stimes),axis = 1)"
     ],
     "language": "python",
     "metadata": {},
     "outputs": [],
     "prompt_number": 78
    },
    {
     "cell_type": "code",
     "collapsed": false,
     "input": [
      "hist(mean_times,bins = 50)"
     ],
     "language": "python",
     "metadata": {},
     "outputs": [
      {
       "metadata": {},
       "output_type": "pyout",
       "prompt_number": 82,
       "text": [
        "(array([ 36.,  64.,  65.,  64.,  65.,  67.,  61.,  67.,  63.,  66.,  64.,\n",
        "        64.,  69.,  66.,  64.,  62.,  67.,  62.,  66.,  61.,  68.,  67.,\n",
        "        62.,  64.,  62.,  66.,  66.,  68.,  64.,  66.,  62.,  66.,  64.,\n",
        "        66.,  64.,  64.,  67.,  67.,  64.,  63.,  66.,  65.,  64.,  64.,\n",
        "        64.,  53.,  13.,   3.,   1.,   2.]),\n",
        " array([-0.19885315, -0.19456805, -0.19028294, -0.18599784, -0.18171273,\n",
        "       -0.17742763, -0.17314252, -0.16885742, -0.16457231, -0.16028721,\n",
        "       -0.1560021 , -0.151717  , -0.14743189, -0.14314679, -0.13886168,\n",
        "       -0.13457658, -0.13029147, -0.12600637, -0.12172126, -0.11743616,\n",
        "       -0.11315105, -0.10886595, -0.10458084, -0.10029574, -0.09601063,\n",
        "       -0.09172553, -0.08744042, -0.08315532, -0.07887021, -0.07458511,\n",
        "       -0.0703    , -0.0660149 , -0.06172979, -0.05744469, -0.05315958,\n",
        "       -0.04887448, -0.04458937, -0.04030427, -0.03601916, -0.03173406,\n",
        "       -0.02744895, -0.02316385, -0.01887874, -0.01459364, -0.01030853,\n",
        "       -0.00602343, -0.00173833,  0.00254678,  0.00683188,  0.01111699,\n",
        "        0.01540209]),\n",
        " <a list of 50 Patch objects>)"
       ]
      }
     ],
     "prompt_number": 82
    },
    {
     "cell_type": "code",
     "collapsed": false,
     "input": [],
     "language": "python",
     "metadata": {},
     "outputs": []
    }
   ],
   "metadata": {}
  }
 ]
}