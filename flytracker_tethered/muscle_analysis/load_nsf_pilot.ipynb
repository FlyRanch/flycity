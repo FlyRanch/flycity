{
 "metadata": {
  "name": ""
 },
 "nbformat": 3,
 "nbformat_minor": 0,
 "worksheets": [
  {
   "cells": [
    {
     "cell_type": "code",
     "collapsed": false,
     "input": [
      "import db_access as dba\n",
      "import flylib\n",
      "fly_db = dba.get_db()"
     ],
     "language": "python",
     "metadata": {},
     "outputs": [],
     "prompt_number": 1
    },
    {
     "cell_type": "code",
     "collapsed": false,
     "input": [
      "nsf_pattern_names  = ['left_blob_expansion_trial_1',\n",
      "                    'left_blob_expansion_trial_2',\n",
      "                    'left_blob_expansion_trial_3',\n",
      "                    'left_blob_expansion_trial_4',\n",
      "                    'left_blob_expansion_trial_5',\n",
      "                    'left_blob_expansion_trial_6',\n",
      "                    'left_blob_expansion_trial_7',\n",
      "                    'left_blob_expansion_trial_8',\n",
      "                    'left_blob_expansion_trial_9',\n",
      "                    'left_blob_expansion_trial_10']"
     ],
     "language": "python",
     "metadata": {},
     "outputs": [],
     "prompt_number": 2
    },
    {
     "cell_type": "code",
     "collapsed": false,
     "input": [
      "flynum = str(170)\n",
      "fly_db.create_group(flynum)\n",
      "fly_record =fly_db[flynum]\n",
      "fly_record['flynum'] = flynum\n",
      "fly_record.create_group('experiments')\n",
      "fly_record['experiments'].create_group('img_nsf_pilot_t2_rep1')\n",
      "#fly_record['experiments'].create_group('b1_azm_expansion_tuning')\n",
      "fly_record['experiments']['img_nsf_pilot_t2_rep1']['axon_file_names'] = ['fly0170_nsf_pilot_expansion_T2_trial1_14612002.abf']\n",
      "fly_record['experiments']['img_nsf_pilot_t2_rep1']['tiff_file_names'] = ['/T2_trial1/T2_trial1_MMStack.ome.tif']\n",
      "fly_record['experiments']['img_nsf_pilot_t2_rep1']['sequence_pattern_names'] = nsf_pattern_names\n",
      "fly_record['experiments']['img_nsf_pilot_t2_rep1'].create_group('sequences')\n",
      "\n",
      "flynum = str(171)\n",
      "fly_db.create_group(flynum)\n",
      "fly_record =fly_db[flynum]\n",
      "fly_record['flynum'] = flynum\n",
      "fly_record.create_group('experiments')\n",
      "fly_record['experiments'].create_group('img_nsf_pilot_t2_rep1')\n",
      "#fly_record['experiments'].create_group('b1_azm_expansion_tuning')\n",
      "fly_record['experiments']['img_nsf_pilot_t2_rep1']['axon_file_names'] = ['fly0171_nsf_pilot_expansion_T2_trial1_14612004.abf']\n",
      "fly_record['experiments']['img_nsf_pilot_t2_rep1']['tiff_file_names'] = ['/T2_trial1/T2_trial1_MMStack.ome.tif']\n",
      "fly_record['experiments']['img_nsf_pilot_t2_rep1']['sequence_pattern_names'] = nsf_pattern_names\n",
      "fly_record['experiments']['img_nsf_pilot_t2_rep1'].create_group('sequences')\n",
      "\n",
      "flynum = str(172)\n",
      "fly_db.create_group(flynum)\n",
      "fly_record =fly_db[flynum]\n",
      "fly_record['flynum'] = flynum\n",
      "fly_record.create_group('experiments')\n",
      "fly_record['experiments'].create_group('img_nsf_pilot_t2_rep1')\n",
      "#fly_record['experiments'].create_group('b1_azm_expansion_tuning')\n",
      "fly_record['experiments']['img_nsf_pilot_t2_rep1']['axon_file_names'] = ['fly0172_nsf_pilot_expansion_T2_trial1_14612006.abf']\n",
      "fly_record['experiments']['img_nsf_pilot_t2_rep1']['tiff_file_names'] = ['/T2_trial1/T2_trial1_MMStack.ome.tif']\n",
      "fly_record['experiments']['img_nsf_pilot_t2_rep1']['sequence_pattern_names'] = nsf_pattern_names\n",
      "fly_record['experiments']['img_nsf_pilot_t2_rep1'].create_group('sequences')\n",
      "\n",
      "flynum = str(173)\n",
      "fly_db.create_group(flynum)\n",
      "fly_record =fly_db[flynum]\n",
      "fly_record['flynum'] = flynum\n",
      "fly_record.create_group('experiments')\n",
      "fly_record['experiments'].create_group('img_nsf_pilot_t2_rep1')\n",
      "#fly_record['experiments'].create_group('b1_azm_expansion_tuning')\n",
      "fly_record['experiments']['img_nsf_pilot_t2_rep1']['axon_file_names'] = ['fly0173_nsf_pilot_expansion_T2_trial1_14612008.abf']\n",
      "fly_record['experiments']['img_nsf_pilot_t2_rep1']['tiff_file_names'] = ['/T2_trial1/T2_trial1_MMStack.ome.tif']\n",
      "fly_record['experiments']['img_nsf_pilot_t2_rep1']['sequence_pattern_names'] = nsf_pattern_names\n",
      "fly_record['experiments']['img_nsf_pilot_t2_rep1'].create_group('sequences')\n",
      "\n",
      "flynum = str(174)\n",
      "fly_db.create_group(flynum)\n",
      "fly_record =fly_db[flynum]\n",
      "fly_record['flynum'] = flynum\n",
      "fly_record.create_group('experiments')\n",
      "fly_record['experiments'].create_group('img_nsf_pilot_t2_rep1')\n",
      "#fly_record['experiments'].create_group('b1_azm_expansion_tuning')\n",
      "fly_record['experiments']['img_nsf_pilot_t2_rep1']['axon_file_names'] = ['fly0174_nsf_pilot_expansion_T2_trial1_14612010.abf']\n",
      "fly_record['experiments']['img_nsf_pilot_t2_rep1']['tiff_file_names'] = ['/T2_trial1/T2_trial1_MMStack.ome.tif']\n",
      "fly_record['experiments']['img_nsf_pilot_t2_rep1']['sequence_pattern_names'] = nsf_pattern_names\n",
      "fly_record['experiments']['img_nsf_pilot_t2_rep1'].create_group('sequences')\n",
      "\n",
      "flynum = str(175)\n",
      "fly_db.create_group(flynum)\n",
      "fly_record =fly_db[flynum]\n",
      "fly_record['flynum'] = flynum\n",
      "fly_record.create_group('experiments')\n",
      "fly_record['experiments'].create_group('img_nsf_pilot_t2_rep1')\n",
      "#fly_record['experiments'].create_group('b1_azm_expansion_tuning')\n",
      "fly_record['experiments']['img_nsf_pilot_t2_rep1']['axon_file_names'] = ['fly0175_nsf_pilot_expansion_T2_trial1_14612012.abf']\n",
      "fly_record['experiments']['img_nsf_pilot_t2_rep1']['tiff_file_names'] = ['/T2_trial1/T2_trial1_MMStack.ome.tif']\n",
      "fly_record['experiments']['img_nsf_pilot_t2_rep1']['sequence_pattern_names'] = nsf_pattern_names\n",
      "fly_record['experiments']['img_nsf_pilot_t2_rep1'].create_group('sequences')"
     ],
     "language": "python",
     "metadata": {},
     "outputs": [
      {
       "metadata": {},
       "output_type": "pyout",
       "prompt_number": 3,
       "text": [
        "<HDF5 group \"/175/experiments/img_nsf_pilot_t2_rep1/sequences\" (0 members)>"
       ]
      }
     ],
     "prompt_number": 3
    },
    {
     "cell_type": "code",
     "collapsed": false,
     "input": [],
     "language": "python",
     "metadata": {},
     "outputs": [],
     "prompt_number": 3
    },
    {
     "cell_type": "code",
     "collapsed": false,
     "input": [
      "pilot_group = [170,171,172,173,174,175]\n",
      "swarm = flylib.Squadron(fly_db,pilot_group)\n",
      "for fly in swarm.flies:\n",
      "    img_star = fly.experiments['img_nsf_pilot_t2_rep1']\n",
      "    print 'importing data for fly%s'%fly.fly_num\n",
      "    img_star.import_axon_data()\n",
      "    img_star.import_tiff_data()\n",
      "    #print 'syncing data'\n",
      "    #img_star.sync_sequences()\n",
      "    fly_db.flush()"
     ],
     "language": "python",
     "metadata": {},
     "outputs": [
      {
       "output_type": "stream",
       "stream": "stdout",
       "text": [
        "importing data for fly170\n",
        "importing data for fly171"
       ]
      },
      {
       "output_type": "stream",
       "stream": "stdout",
       "text": [
        "\n",
        "importing data for fly172"
       ]
      },
      {
       "output_type": "stream",
       "stream": "stdout",
       "text": [
        "\n",
        "importing data for fly173"
       ]
      },
      {
       "output_type": "stream",
       "stream": "stdout",
       "text": [
        "\n",
        "importing data for fly174"
       ]
      },
      {
       "output_type": "stream",
       "stream": "stdout",
       "text": [
        "\n",
        "importing data for fly175"
       ]
      },
      {
       "output_type": "stream",
       "stream": "stdout",
       "text": [
        "\n"
       ]
      },
      {
       "output_type": "stream",
       "stream": "stderr",
       "text": [
        "tifffile.py:2170: UserWarning: failed to import _tifffile.decodepackbits\n",
        "  warnings.warn(\"failed to import %s\" % module_function)\n",
        "tifffile.py:2170: UserWarning: failed to import _tifffile.decodelzw\n",
        "  warnings.warn(\"failed to import %s\" % module_function)\n",
        "tifffile.py:2170: UserWarning: failed to import _tifffile.unpackints\n",
        "  warnings.warn(\"failed to import %s\" % module_function)\n"
       ]
      }
     ],
     "prompt_number": 4
    },
    {
     "cell_type": "code",
     "collapsed": false,
     "input": [
      "reload(flylib)"
     ],
     "language": "python",
     "metadata": {},
     "outputs": [
      {
       "metadata": {},
       "output_type": "pyout",
       "prompt_number": 15,
       "text": [
        "<module 'flylib' from 'flylib.py'>"
       ]
      }
     ],
     "prompt_number": 15
    },
    {
     "cell_type": "code",
     "collapsed": false,
     "input": [
      "fly_db.close()"
     ],
     "language": "python",
     "metadata": {},
     "outputs": [],
     "prompt_number": 5
    },
    {
     "cell_type": "code",
     "collapsed": false,
     "input": [],
     "language": "python",
     "metadata": {},
     "outputs": []
    }
   ],
   "metadata": {}
  }
 ]
}