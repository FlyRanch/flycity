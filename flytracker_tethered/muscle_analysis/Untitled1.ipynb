{
 "metadata": {
  "name": "",
  "signature": "sha256:09dbc68efbcad9e0f79831513d015a895cdf96bbb9c76d6cdb49b3e0d8533218"
 },
 "nbformat": 3,
 "nbformat_minor": 0,
 "worksheets": [
  {
   "cells": [
    {
     "cell_type": "code",
     "collapsed": false,
     "input": [
      "from pyqtgraph.Qt import QtCore, QtGui\n",
      "import numpy as np\n",
      "import pyqtgraph as pg\n",
      "import flylib\n",
      "import tifffile\n",
      "import transformations as trans\n",
      "from scipy import ndimage"
     ],
     "language": "python",
     "metadata": {},
     "outputs": [
      {
       "output_type": "stream",
       "stream": "stderr",
       "text": [
        "tifffile.py:2170: UserWarning: failed to import _tifffile.decodepackbits\n",
        "  warnings.warn(\"failed to import %s\" % module_function)\n",
        "tifffile.py:2170: UserWarning: failed to import _tifffile.decodelzw\n",
        "  warnings.warn(\"failed to import %s\" % module_function)\n",
        "tifffile.py:2170: UserWarning: failed to import _tifffile.unpackints\n",
        "  warnings.warn(\"failed to import %s\" % module_function)\n",
        "transformations.py:1888: UserWarning: failed to import module _transformations\n",
        "  warnings.warn(\"failed to import module %s\" % name)\n"
       ]
      }
     ],
     "prompt_number": 2
    },
    {
     "cell_type": "code",
     "collapsed": false,
     "input": [
      "tiff_file = '/media/FlyDataB/FlyDB/Fly0140/10ms_exposure_fstop_nd4/10ms_exposure_fstop_nd4_MMStack.ome.tif'"
     ],
     "language": "python",
     "metadata": {},
     "outputs": [],
     "prompt_number": 3
    },
    {
     "cell_type": "code",
     "collapsed": false,
     "input": [
      "#imshow(images[0,:,:])"
     ],
     "language": "python",
     "metadata": {},
     "outputs": [],
     "prompt_number": 4
    },
    {
     "cell_type": "code",
     "collapsed": false,
     "input": [
      "tif = tifffile.TiffFile(tiff_file)\n",
      "images = tif.asarray()"
     ],
     "language": "python",
     "metadata": {},
     "outputs": [],
     "prompt_number": 5
    },
    {
     "cell_type": "code",
     "collapsed": false,
     "input": [
      "## create GUI\n",
      "app = QtGui.QApplication([])\n",
      "w = pg.GraphicsWindow(size=(800,800), border=True)\n",
      "v = w.addViewBox(colspan=2)"
     ],
     "language": "python",
     "metadata": {},
     "outputs": [],
     "prompt_number": 6
    },
    {
     "cell_type": "code",
     "collapsed": false,
     "input": [
      "v.invertY(True)  ## Images usually have their Y-axis pointing downward\n",
      "v.setAspectLocked(True)"
     ],
     "language": "python",
     "metadata": {},
     "outputs": [],
     "prompt_number": 7
    },
    {
     "cell_type": "code",
     "collapsed": false,
     "input": [
      "## Create image to display\n",
      "arr = np.ones((100, 100), dtype=float)\n",
      "arr[45:55, 45:55] = 0\n",
      "arr[25, :] = 5\n",
      "arr[:, 25] = 5\n",
      "arr[75, :] = 5\n",
      "arr[:, 75] = 5\n",
      "arr[50, :] = 10\n",
      "arr[:, 50] = 10"
     ],
     "language": "python",
     "metadata": {},
     "outputs": [],
     "prompt_number": 7
    },
    {
     "cell_type": "code",
     "collapsed": false,
     "input": [
      "## Create image items, add to scene and set position \n",
      "im1 = pg.ImageItem(images[0,:,:])\n",
      "v.addItem(im1)\n",
      "v.setRange(QtCore.QRectF(0, 0, 200, 120))"
     ],
     "language": "python",
     "metadata": {},
     "outputs": [],
     "prompt_number": 8
    },
    {
     "cell_type": "code",
     "collapsed": false,
     "input": [
      "data2 = None"
     ],
     "language": "python",
     "metadata": {},
     "outputs": [
      {
       "output_type": "stream",
       "stream": "stdout",
       "text": [
        "/usr/bin/ld: cannot find -lpython2.7\n",
        "collect2: ld returned 1 exit status\n"
       ]
      }
     ],
     "prompt_number": 9
    },
    {
     "cell_type": "code",
     "collapsed": false,
     "input": [],
     "language": "python",
     "metadata": {},
     "outputs": [],
     "prompt_number": 9
    },
    {
     "cell_type": "code",
     "collapsed": false,
     "input": [
      "## create the plot\n",
      "pi1 = w.addPlot(2,0, colspan=2)\n",
      "#pi1 = pg.PlotItem()\n",
      "#s.addItem(pi1)\n",
      "#pi1.scale(0.5, 0.5)\n",
      "#pi1.setGeometry(0, 170, 300, 100)"
     ],
     "language": "python",
     "metadata": {},
     "outputs": [],
     "prompt_number": 10
    },
    {
     "cell_type": "code",
     "collapsed": false,
     "input": [
      "lastRoi = None"
     ],
     "language": "python",
     "metadata": {},
     "outputs": [],
     "prompt_number": 11
    },
    {
     "cell_type": "code",
     "collapsed": false,
     "input": [
      "def updateRoi(roi):\n",
      "    global im1, images, lastRoi\n",
      "    if roi is None:\n",
      "        return\n",
      "    lastRoi = roi\n",
      "    sliced_data = roi.getArrayRegion(images, img=im1,axis = (1,2))\n",
      "    updateRoiPlot(roi, sliced_data)"
     ],
     "language": "python",
     "metadata": {},
     "outputs": [],
     "prompt_number": 16
    },
    {
     "cell_type": "code",
     "collapsed": false,
     "input": [
      "def updateRoiPlot(roi, data=None):\n",
      "    global data2\n",
      "    data2 = data\n",
      "    if data is None:\n",
      "        pass#data = roi.getArrayRegion(images, img=im1)\n",
      "    if data is not None:\n",
      "        pass#roi.curve.setData(images[data].mean(axis=1))\n",
      "    print data"
     ],
     "language": "python",
     "metadata": {},
     "outputs": [
      {
       "output_type": "stream",
       "stream": "stdout",
       "text": [
        "\n",
        "[[10 10 10  0  0]\n",
        " [11 12 11 11 11]\n",
        " [11 12 11 12 13]\n",
        " [12 12 12 12 13]\n",
        " [12 13 13 13 13]\n",
        " [12 14 13 14 13]\n",
        " [13 13 13 14 14]\n",
        " [14 14 13 14 14]\n",
        " [14 14 14 14 15]\n",
        " [14 14 15 15 15]\n",
        " [15 14 15 16 16]\n",
        " [15 15 16 16 16]\n",
        " [16 16 17 17 17]\n",
        " [15 17 17 18 18]\n",
        " [16 16 17 19 19]\n",
        " [17 16 18 18 19]\n",
        " [16 17 18 20 18]\n",
        " [16 17 19 19 19]\n",
        " [17 18 20 20 20]\n",
        " [19 20 21 21 21]\n",
        " [20 23 22 23 21]\n",
        " [26 27 26 26 24]\n",
        " [30 32 31 28 26]\n",
        " [36 35 33 29 28]\n",
        " [40 37 35 33 30]\n",
        " [41 39 36 33 30]\n",
        " [40 39 35 32 32]\n",
        " [39 36 34 32 32]\n",
        " [36 34 34 31 30]\n",
        " [34 33 31 29 29]\n",
        " [33 30 29 28 28]\n",
        " [32 28 28 27 27]\n",
        " [32 31 29 29 28]\n",
        " [34 33 31 31 30]\n",
        " [39 35 34 34 33]\n",
        " [42 39 38 38 36]\n",
        " [44 43 42 40 39]\n",
        " [46 46 44 42 41]\n",
        " [48 47 45 45 45]\n",
        " [46 45 45 46 48]\n",
        " [46 45 45 46 47]\n",
        " [45 44 45 46 48]\n",
        " [45 44 44 44 45]\n",
        " [44 43 43 45 44]\n",
        " [43 44 43 44 44]\n",
        " [44 44 44 45 47]\n",
        " [45 44 45 46 47]\n",
        " [46 45 46 48 48]\n",
        " [48 46 46 47 47]\n",
        " [46 45 44 45 45]\n",
        " [44 43 43 43 44]\n",
        " [42 42 41 42 44]\n",
        " [44 42 40 40 38]\n",
        " [44 43 42 40 38]\n",
        " [45 42 42 40 39]\n",
        " [45 44 42 38 38]\n",
        " [44 40 40 39 38]\n",
        " [43 41 39 38 37]\n",
        " [43 41 39 38 37]\n",
        " [43 42 40 38 36]\n",
        " [42 41 40 38 37]\n",
        " [41 40 39 37 37]\n",
        " [42 40 37 36 38]\n",
        " [41 39 38 36 35]\n",
        " [43 40 38 37 36]\n",
        " [42 38 38 37 37]\n",
        " [42 39 38 37 37]\n",
        " [40 39 37 37 37]\n",
        " [39 38 36 38 38]\n",
        " [39 36 36 39 38]\n",
        " [38 36 36 38 38]\n",
        " [37 36 36 38 39]\n",
        " [37 36 36 39 40]\n",
        " [38 37 38 40 41]\n",
        " [37 39 41 41 43]\n",
        " [37 39 41 41 45]\n",
        " [37 39 40 42 46]\n",
        " [37 38 39 42 44]\n",
        " [37 39 40 42 45]\n",
        " [38 39 40 43 46]\n",
        " [40 43 45 46 49]\n",
        " [41 42 44 47 49]\n",
        " [40 40 43 46 47]\n",
        " [38 39 41 43 47]\n",
        " [35 36 39 42 46]\n",
        " [29 33 39 44 47]\n",
        " [33 37 42 48 49]\n",
        " [39 43 47 51 55]]\n"
       ]
      }
     ],
     "prompt_number": 20
    },
    {
     "cell_type": "code",
     "collapsed": false,
     "input": [
      "## Create a variety of different ROI types\n",
      "rois = []\n",
      "rois.append(pg.TestROI([0,  0], [20, 20], maxBounds=QtCore.QRectF(-10, -10, 230, 140), pen=(0,9)))\n",
      "rois.append(pg.LineROI([0,  0], [20, 20], width=5, pen=(1,9)))\n",
      "rois.append(pg.MultiRectROI([[0, 50], [50, 60], [60, 30]], width=5, pen=(2,9)))\n",
      "rois.append(pg.EllipseROI([110, 10], [30, 20], pen=(3,9)))\n",
      "rois.append(pg.CircleROI([110, 50], [20, 20], pen=(4,9)))\n",
      "rois.append(pg.PolyLineROI([[2,0], [7.,0],[4,3]], closed = True, pen=(5,9)))\n",
      "#rois.append(SpiralROI([20,30], [1,1], pen=mkPen(0)))"
     ],
     "language": "python",
     "metadata": {},
     "outputs": [],
     "prompt_number": 21
    },
    {
     "cell_type": "code",
     "collapsed": false,
     "input": [
      "## Add each ROI to the scene and link its data to a plot curve with the same color\n",
      "for r in rois:\n",
      "    v.addItem(r)\n",
      "    c = pi1.plot(pen=r.pen)\n",
      "    r.curve = c\n",
      "    r.sigRegionChanged.connect(updateRoi)"
     ],
     "language": "python",
     "metadata": {},
     "outputs": [
      {
       "output_type": "stream",
       "stream": "stdout",
       "text": [
        "(85, 5)\n",
        "(86, 5)\n",
        "(87, 5)\n",
        "(87, 5)\n",
        "(87, 5)"
       ]
      },
      {
       "output_type": "stream",
       "stream": "stdout",
       "text": [
        "\n",
        "(87, 5)\n",
        "(87, 6)"
       ]
      },
      {
       "output_type": "stream",
       "stream": "stdout",
       "text": [
        "\n",
        "(87, 6)\n",
        "(87, 5)\n",
        "(87, 5)\n",
        "(87, 5)"
       ]
      },
      {
       "output_type": "stream",
       "stream": "stdout",
       "text": [
        "\n",
        "(87, 5)\n",
        "(87, 5)\n",
        "(87, 5)\n",
        "(87, 5)\n",
        "(88, 5)\n",
        "(89, 6)\n",
        "(89, 6)\n",
        "(89, 6)"
       ]
      },
      {
       "output_type": "stream",
       "stream": "stdout",
       "text": [
        "\n",
        "(89, 6)\n",
        "(89, 5)"
       ]
      },
      {
       "output_type": "stream",
       "stream": "stdout",
       "text": [
        "\n",
        "(89, 5)\n",
        "(89, 6)\n",
        "(89, 5)\n",
        "(89, 5)\n",
        "(88, 5)\n",
        "(87, 5)\n",
        "(87, 5)\n",
        "(87, 6)\n",
        "(87, 6)\n",
        "(87, 6)"
       ]
      },
      {
       "output_type": "stream",
       "stream": "stdout",
       "text": [
        "\n",
        "(87, 5)\n",
        "(87, 5)"
       ]
      },
      {
       "output_type": "stream",
       "stream": "stdout",
       "text": [
        "\n",
        "(87, 5)\n",
        "(87, 5)"
       ]
      },
      {
       "output_type": "stream",
       "stream": "stdout",
       "text": [
        "\n",
        "(87, 5)\n",
        "(86, 6)\n",
        "(86, 6)\n",
        "(85, 6)"
       ]
      },
      {
       "output_type": "stream",
       "stream": "stdout",
       "text": [
        "\n",
        "(84, 5)\n",
        "(84, 5)\n",
        "(84, 6)\n",
        "(84, 5)\n",
        "(84, 5)\n",
        "(84, 5)\n",
        "(84, 5)\n",
        "(84, 5)"
       ]
      },
      {
       "output_type": "stream",
       "stream": "stdout",
       "text": [
        "\n",
        "(83, 5)\n",
        "(82, 5)\n",
        "(82, 5)\n",
        "(82, 5)\n",
        "(82, 5)\n",
        "(82, 5)\n",
        "(82, 6)\n",
        "(82, 5)"
       ]
      },
      {
       "output_type": "stream",
       "stream": "stdout",
       "text": [
        "\n",
        "(82, 5)\n",
        "(82, 5)\n",
        "(82, 5)\n",
        "(82, 5)\n",
        "(81, 5)\n",
        "(80, 5)\n",
        "(81, 5)\n",
        "(81, 6)\n",
        "(80, 5)\n",
        "(80, 5)"
       ]
      },
      {
       "output_type": "stream",
       "stream": "stdout",
       "text": [
        "\n",
        "(80, 6)\n",
        "(80, 5)\n",
        "(80, 5)\n",
        "(80, 5)\n",
        "(80, 6)\n",
        "(80, 5)\n",
        "(80, 5)\n",
        "(80, 5)"
       ]
      },
      {
       "output_type": "stream",
       "stream": "stdout",
       "text": [
        "\n",
        "(79, 5)\n",
        "(78, 5)\n",
        "(79, 5)\n",
        "(79, 5)\n",
        "(78, 5)"
       ]
      },
      {
       "output_type": "stream",
       "stream": "stdout",
       "text": [
        "\n",
        "(78, 5)\n",
        "(78, 5)\n",
        "(78, 5)\n",
        "(78, 5)\n",
        "(77, 5)"
       ]
      },
      {
       "output_type": "stream",
       "stream": "stdout",
       "text": [
        "\n",
        "(76, 6)\n",
        "(76, 5)\n",
        "(76, 5)\n",
        "(76, 5)\n",
        "(76, 5)\n",
        "(76, 5)\n",
        "(76, 5)\n",
        "(76, 5)"
       ]
      },
      {
       "output_type": "stream",
       "stream": "stdout",
       "text": [
        "\n",
        "(76, 5)\n",
        "(76, 5)\n",
        "(76, 5)\n",
        "(76, 5)\n",
        "(75, 5)\n",
        "(74, 5)"
       ]
      },
      {
       "output_type": "stream",
       "stream": "stdout",
       "text": [
        "\n",
        "(75, 5)\n",
        "(75, 5)"
       ]
      },
      {
       "output_type": "stream",
       "stream": "stdout",
       "text": [
        "\n",
        "(74, 6)\n",
        "(74, 6)\n",
        "(74, 5)\n",
        "(73, 5)"
       ]
      },
      {
       "output_type": "stream",
       "stream": "stdout",
       "text": [
        "\n",
        "(73, 5)\n",
        "(73, 5)\n",
        "(73, 5)\n",
        "(73, 6)\n",
        "(73, 6)\n",
        "(73, 6)"
       ]
      },
      {
       "output_type": "stream",
       "stream": "stdout",
       "text": [
        "\n",
        "(73, 6)\n",
        "(73, 5)\n",
        "(72, 5)\n",
        "(72, 5)\n",
        "(73, 5)\n",
        "(73, 5)"
       ]
      },
      {
       "output_type": "stream",
       "stream": "stdout",
       "text": [
        "\n",
        "(72, 5)\n",
        "(71, 5)\n",
        "(71, 5)\n",
        "(71, 6)\n",
        "(71, 6)\n",
        "(71, 5)"
       ]
      },
      {
       "output_type": "stream",
       "stream": "stdout",
       "text": [
        "\n",
        "(71, 5)\n",
        "(71, 5)\n",
        "(71, 5)\n",
        "(71, 6)\n",
        "(71, 5)\n",
        "(70, 5)\n",
        "(69, 5)\n",
        "(69, 5)"
       ]
      },
      {
       "output_type": "stream",
       "stream": "stdout",
       "text": [
        "\n",
        "(69, 5)\n",
        "(69, 5)\n",
        "(69, 5)\n",
        "(69, 5)\n",
        "(69, 6)\n",
        "(68, 6)\n",
        "(68, 5)\n",
        "(69, 5)\n",
        "(69, 5)\n",
        "(68, 5)\n",
        "(68, 5)\n",
        "(68, 5)"
       ]
      },
      {
       "output_type": "stream",
       "stream": "stdout",
       "text": [
        "\n",
        "(67, 6)\n",
        "(67, 6)\n",
        "(67, 5)\n",
        "(67, 5)\n",
        "(67, 6)\n",
        "(67, 5)\n",
        "(67, 5)\n",
        "(67, 6)"
       ]
      },
      {
       "output_type": "stream",
       "stream": "stdout",
       "text": [
        "\n",
        "(67, 5)\n",
        "(66, 5)\n",
        "(66, 5)\n",
        "(66, 5)\n",
        "(66, 6)\n",
        "(66, 6)\n",
        "(66, 5)\n",
        "(66, 5)"
       ]
      },
      {
       "output_type": "stream",
       "stream": "stdout",
       "text": [
        "\n",
        "(66, 5)\n",
        "(66, 5)\n",
        "(66, 6)\n",
        "(66, 5)\n",
        "(66, 5)\n",
        "(66, 6)\n",
        "(65, 5)\n",
        "(65, 5)\n",
        "(66, 5)"
       ]
      },
      {
       "output_type": "stream",
       "stream": "stdout",
       "text": [
        "\n",
        "(65, 6)\n",
        "(65, 5)\n",
        "(65, 5)"
       ]
      }
     ],
     "prompt_number": 22
    },
    {
     "cell_type": "code",
     "collapsed": false,
     "input": [
      "#def updateImage():\n",
      "#    global im1, arr, lastRoi\n",
      "#    r = abs(np.random.normal(loc=0, scale=(arr.max()-arr.min())*0.1, size=arr.shape))\n",
      "#    im1.updateImage(arr + r)\n",
      "#    updateRoi(lastRoi)\n",
      "#    for r in rois:\n",
      "#        updateRoiPlot(r)"
     ],
     "language": "python",
     "metadata": {},
     "outputs": []
    },
    {
     "cell_type": "code",
     "collapsed": false,
     "input": [
      "## Rapidly update one of the images with random noise    \n",
      "t = QtCore.QTimer()\n",
      "t.timeout.connect(updateImage)\n",
      "t.start(50)"
     ],
     "language": "python",
     "metadata": {},
     "outputs": [],
     "prompt_number": 18
    },
    {
     "cell_type": "code",
     "collapsed": false,
     "input": [
      "help(rois[0].getArrayRegion)"
     ],
     "language": "python",
     "metadata": {},
     "outputs": [
      {
       "output_type": "stream",
       "stream": "stdout",
       "text": [
        "Help on method getArrayRegion in module pyqtgraph.graphicsItems.ROI:\n",
        "\n",
        "getArrayRegion(self, data, img, axes=(0, 1), returnMappedCoords=False, **kwds) method of pyqtgraph.graphicsItems.ROI.TestROI instance\n",
        "    Use the position and orientation of this ROI relative to an imageItem to pull a slice from an array.\n",
        "    \n",
        "    This method uses :func:`affineSlice <pyqtgraph.affineSlice>` to generate\n",
        "    the slice from *data* and uses :func:`getAffineSliceParams <pyqtgraph.ROI.getAffineSliceParams>` to determine the parameters to \n",
        "    pass to :func:`affineSlice <pyqtgraph.affineSlice>`.\n",
        "    \n",
        "    If *returnMappedCoords* is True, then the method returns a tuple (result, coords) \n",
        "    such that coords is the set of coordinates used to interpolate values from the original\n",
        "    data, mapped into the parent coordinate system of the image. This is useful, when slicing\n",
        "    data from images that have been transformed, for determining the location of each value\n",
        "    in the sliced data.\n",
        "    \n",
        "    All extra keyword arguments are passed to :func:`affineSlice <pyqtgraph.affineSlice>`.\n",
        "\n"
       ]
      }
     ],
     "prompt_number": 26
    },
    {
     "cell_type": "code",
     "collapsed": false,
     "input": [
      "type(data2)"
     ],
     "language": "python",
     "metadata": {},
     "outputs": [
      {
       "metadata": {},
       "output_type": "pyout",
       "prompt_number": 32,
       "text": [
        "numpy.ndarray"
       ]
      }
     ],
     "prompt_number": 32
    },
    {
     "cell_type": "code",
     "collapsed": false,
     "input": [],
     "language": "python",
     "metadata": {},
     "outputs": []
    }
   ],
   "metadata": {}
  }
 ]
}