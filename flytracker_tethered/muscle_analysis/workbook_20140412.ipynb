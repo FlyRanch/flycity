{
 "metadata": {
  "name": ""
 },
 "nbformat": 3,
 "nbformat_minor": 0,
 "worksheets": [
  {
   "cells": [
    {
     "cell_type": "code",
     "collapsed": false,
     "input": [
      "import sys\n",
      "import json\n",
      "import os\n",
      "import random\n",
      "import scipy\n",
      "import numpy as np\n",
      "import flylib\n",
      "import quantities as pq\n",
      "import cPickle\n",
      "stro_R = 'phi_R'\n",
      "stro_L = 'phi_L'\n",
      "dev_R = 'theta_R'\n",
      "dev_L = 'theta_L'\n",
      "rot_R = 'eta_R'\n",
      "rot_L = 'eta_L'"
     ],
     "language": "python",
     "metadata": {},
     "outputs": [],
     "prompt_number": 10
    },
    {
     "cell_type": "code",
     "collapsed": false,
     "input": [
      "reload(flylib)"
     ],
     "language": "python",
     "metadata": {},
     "outputs": [
      {
       "metadata": {},
       "output_type": "pyout",
       "prompt_number": 17,
       "text": [
        "<module 'flylib' from 'flylib.py'>"
       ]
      }
     ],
     "prompt_number": 17
    },
    {
     "cell_type": "code",
     "collapsed": false,
     "input": [
      "run initalize_flyDB.py"
     ],
     "language": "python",
     "metadata": {},
     "outputs": [],
     "prompt_number": 12
    },
    {
     "cell_type": "code",
     "collapsed": false,
     "input": [
      "fn = 'fly_db_init.cpkl'\n",
      "f = open(fn,'rb')\n",
      "fly_db = cPickle.load(f)\n",
      "f.close()"
     ],
     "language": "python",
     "metadata": {},
     "outputs": [],
     "prompt_number": 13
    },
    {
     "cell_type": "code",
     "collapsed": false,
     "input": [
      "swarm = flylib.Squadron(fly_db)\n",
      "swarm.load_kine('lr_blob_expansion')"
     ],
     "language": "python",
     "metadata": {},
     "outputs": [],
     "prompt_number": 14
    },
    {
     "cell_type": "code",
     "collapsed": false,
     "input": [
      "##free flight fits\n",
      "p_amp_free = [3.9,\n",
      "             65.0445,  4.2642,\n",
      "             3.5806,   -2.9492,\n",
      "             0.1319,   0.3639,\n",
      "             0.7844,   0.2098]\n",
      "\n",
      "p_rot_free = [4.2936,\n",
      "             1.8536,   59.6529,\n",
      "             5.1852,   1.6095,\n",
      "             -8.4569,  9.8057,\n",
      "             3.9562,   5.8064,\n",
      "             -3.0337,  -2.8749,\n",
      "             -2.8771,  0.6686,\n",
      "             0.8649,   -0.6137,\n",
      "             0.0771,   -1.0007]\n",
      "\n",
      "p_dev_free = [-6.173,\n",
      "             6.5682,   3.7788,\n",
      "             6.1335,   0.8717,\n",
      "             -0.352,   -0.6606,\n",
      "             0.0447,   1.2816,\n",
      "             0.5257,   0.3556,\n",
      "             -0.3202,  -0.2039,\n",
      "             -0.2993,  0.1891,\n",
      "             0.0221,   0.0379]"
     ],
     "language": "python",
     "metadata": {},
     "outputs": [],
     "prompt_number": 15
    },
    {
     "cell_type": "code",
     "collapsed": false,
     "input": [
      "##compute the steady wingstrokes\n",
      "steady_dev = list()\n",
      "steady_amp = list()\n",
      "steady_rot = list()\n",
      "for key in fly_db.keys():\n",
      "    seqs = fly_db[key]['experiments']['lr_blob_expansion']['kine_sequences']\n",
      "    for seq in seqs:    \n",
      "        steady_amp.append(seq['resampled_strokes'][stro_R][:10])\n",
      "        steady_amp.append(seq['resampled_strokes'][stro_L][:10])\n",
      "        \n",
      "        steady_dev.append(seq['resampled_strokes'][dev_R][:10])\n",
      "        steady_dev.append(seq['resampled_strokes'][dev_L][:10])\n",
      "        \n",
      "        steady_rot.append(seq['resampled_strokes'][rot_R][:10]-(np.pi/2.0))\n",
      "        steady_rot.append(seq['resampled_strokes'][rot_L][:10]-(np.pi/2.0))\n",
      "steady_amp = vstack(steady_amp)\n",
      "steady_dev = vstack(steady_dev)\n",
      "steady_rot = vstack(steady_rot)\n",
      "print(\"fitting steady stroke amplitude..\")\n",
      "p_amp_tether = flylib.fit_fourier_pcomp(steady_amp,p_amp_free)\n",
      "print(\"fitting steady stroke deviation..\")\n",
      "p_dev_tether = flylib.fit_fourier_pcomp(steady_dev,p_dev_free)\n",
      "print(\"fitting steady wing rotation..\")\n",
      "p_rot_tether = flylib.fit_fourier_pcomp(steady_rot,p_rot_free)"
     ],
     "language": "python",
     "metadata": {},
     "outputs": [
      {
       "output_type": "stream",
       "stream": "stdout",
       "text": [
        "fitting steady stroke amplitude..\n",
        "fitting steady stroke deviation.."
       ]
      },
      {
       "output_type": "stream",
       "stream": "stdout",
       "text": [
        "\n",
        "fitting steady wing rotation.."
       ]
      },
      {
       "output_type": "stream",
       "stream": "stdout",
       "text": [
        "\n"
       ]
      }
     ],
     "prompt_number": 18
    },
    {
     "cell_type": "code",
     "collapsed": false,
     "input": [
      "##plot the steady wingstrokes compared to the free-flight data\n",
      "reload(flylib)\n",
      "phases = linspace(0,2*pi,500)\n",
      "plot_phases = linspace(-pi,pi,500)\n",
      "l = plot(plot_phases,rad2deg(steady_amp.T),c = 'r',alpha = 0.02)\n",
      "l = plot(plot_phases,rad2deg(steady_dev.T),c = 'b',alpha = 0.02)\n",
      "l = plot(plot_phases,rad2deg(steady_rot.T),c = 'g',alpha = 0.02)\n",
      "\n",
      "plot(plot_phases,flylib.fourier(phases,p_amp_tether),'r--')\n",
      "plot(plot_phases,flylib.fourier(phases,p_amp_free,),'r')\n",
      "\n",
      "plot(plot_phases,flylib.fourier(phases,p_dev_tether),'b--')\n",
      "plot(plot_phases,flylib.fourier(phases,p_dev_free,),'b')\n",
      "\n",
      "plot(plot_phases,flylib.fourier(phases,p_rot_tether),'g--')\n",
      "plot(plot_phases,flylib.fourier(phases,p_rot_free),'g')\n",
      "gca().set_ybound([100,-100])"
     ],
     "language": "python",
     "metadata": {},
     "outputs": [],
     "prompt_number": 25
    },
    {
     "cell_type": "code",
     "collapsed": false,
     "input": [
      "fly_db.keys()"
     ],
     "language": "python",
     "metadata": {},
     "outputs": [
      {
       "metadata": {},
       "output_type": "pyout",
       "prompt_number": 26,
       "text": [
        "[112, 114, 115, 111]"
       ]
      }
     ],
     "prompt_number": 26
    },
    {
     "cell_type": "code",
     "collapsed": false,
     "input": [
      "#sort the sequences into 4 groups:\n",
      "#        l_wing_l_exp, \n",
      "#        r_wing_l_exp, \n",
      "#        l_wing_r_exp,\n",
      "#        r_wing_r_exp\n",
      "\n",
      "sorted_amp = dict()\n",
      "sorted_dev = dict()\n",
      "sorted_rot = dict()\n",
      "sorted_phys = dict()\n",
      "\n",
      "for kin_dict,keys in zip([sorted_amp,sorted_dev,sorted_rot],\n",
      "                   [[stro_L, stro_R],\n",
      "                    [dev_L,  dev_R],\n",
      "                    [rot_L,   rot_R]]):\n",
      "    kin_dict['L_wing_R_exp'] = list()\n",
      "    kin_dict['R_wing_R_exp'] = list()\n",
      "    kin_dict['L_wing_L_exp'] = list()\n",
      "    kin_dict['R_wing_L_exp'] = list()\n",
      "\n",
      "    for key in [115,114,112]:#,111]:# fly_db.keys():\n",
      "        seqs = fly_db[key]['experiments']['lr_blob_expansion']['kine_sequences']\n",
      "        for seq in seqs:\n",
      "            if seq['expan_pol'] == 90.0:\n",
      "                kin_dict['L_wing_R_exp'].append(seq['resampled_strokes'][keys[0]])\n",
      "                kin_dict['R_wing_R_exp'].append(seq['resampled_strokes'][keys[1]])\n",
      "            if seq['expan_pol'] == 270.0:\n",
      "                kin_dict['L_wing_L_exp'].append(seq['resampled_strokes'][keys[0]])\n",
      "                kin_dict['R_wing_L_exp'].append(seq['resampled_strokes'][keys[1]])\n",
      "\n",
      "sorted_phys['L_wing_R_exp'] = list()\n",
      "sorted_phys['L_wing_L_exp'] = list()\n",
      "for key in [115,114,112]:#fly_db.keys():\n",
      "    seqs = fly_db[key]['experiments']['lr_blob_expansion']['kine_sequences']\n",
      "    for seq in seqs:\n",
      "        if seq['expan_pol'] == 90.0:\n",
      "            sorted_phys['L_wing_R_exp'].append(seq['resampled_strokes']['axon_stroke_mtrx'])\n",
      "        if seq['expan_pol'] == 270.0:\n",
      "            sorted_phys['L_wing_L_exp'].append(seq['resampled_strokes']['axon_stroke_mtrx'])"
     ],
     "language": "python",
     "metadata": {},
     "outputs": [],
     "prompt_number": 27
    },
    {
     "cell_type": "code",
     "collapsed": false,
     "input": [
      "#plot the fits to time-ordered bins of 2 wingstrokes per bin.\n",
      "figure()\n",
      "params = list()\n",
      "rng = 50.\n",
      "phases = np.linspace(0,2*np.pi,500)\n",
      "phases_plot = np.linspace(-1*np.pi,np.pi,500)\n",
      "cmap = cm.jet\n",
      "bw = 1 # bin-width in wingstrokes\n",
      "#######amp\n",
      "ax0 = subplot(4,2,1)\n",
      "params = list()\n",
      "for i in range(0,int(rng),bw):\n",
      "    strkmtrx = vstack([x[i:i+bw] for x in sorted_amp['L_wing_L_exp']])\n",
      "    params.append(flylib.fit_fourier_pcomp(strkmtrx,p_amp_free))\n",
      "for i,p in enumerate(params):\n",
      "    plot(phases_plot,flylib.fourier(phases,p),color = cmap(i/float(len(params))),lw = 3,alpha = 0.5)\n",
      "gca().set_ybound(-90,90)\n",
      "\n",
      "ax1 = subplot(4,2,2,sharex = ax0)\n",
      "params = list()\n",
      "for i in range(0,int(rng),bw):\n",
      "    strkmtrx = vstack([x[i:i+bw] for x in sorted_amp['L_wing_R_exp']])\n",
      "    params.append(flylib.fit_fourier_pcomp(strkmtrx,p_amp_free))\n",
      "for i,p in enumerate(params):\n",
      "    plot(phases_plot,flylib.fourier(phases,p),color = cmap(i/(float(len(params)))),lw = 3,alpha = 0.5)\n",
      "gca().set_ybound(-90,90)\n",
      "\n",
      "#######dev\n",
      "ax2 = subplot(4,2,3,sharex = ax0)\n",
      "params = list()\n",
      "for i in range(0,int(rng),bw):\n",
      "    strkmtrx = vstack([x[i:i+bw] for x in sorted_dev['L_wing_L_exp']])\n",
      "    params.append(flylib.fit_fourier_pcomp(strkmtrx,p_dev_free))\n",
      "for i,p in enumerate(params):\n",
      "    plot(phases_plot,flylib.fourier(phases,p),color = cmap(i/(float(len(params)))),lw = 3,alpha = 0.5)\n",
      "gca().set_ybound(-30,30)\n",
      "\n",
      "ax3 = subplot(4,2,4,sharex = ax0)\n",
      "params = list()\n",
      "for i in range(0,int(rng),bw):\n",
      "    strkmtrx = vstack([x[i:i+bw] for x in sorted_dev['L_wing_R_exp']])\n",
      "    params.append(flylib.fit_fourier_pcomp(strkmtrx,p_dev_free))\n",
      "for i,p in enumerate(params):\n",
      "    plot(phases_plot,flylib.fourier(phases,p),color = cmap(i/(float(len(params)))),lw = 3,alpha = 0.5)\n",
      "gca().set_ybound(-30,30)\n",
      "\n",
      "#######rot\n",
      "ax4 = subplot(4,2,5,sharex = ax0)\n",
      "params = list()\n",
      "for i in range(0,int(rng),bw):\n",
      "    strkmtrx = vstack([x[i:i+5]-pi/2.0 for x in sorted_rot['L_wing_L_exp']])\n",
      "    params.append(flylib.fit_fourier_pcomp(strkmtrx,p_amp_free))\n",
      "for i,p in enumerate(params):\n",
      "    plot(phases_plot,flylib.fourier(phases,p),color = cmap(i/(float(len(params)))),lw = 3,alpha = 0.5)\n",
      "gca().set_ybound(-90,90)\n",
      "\n",
      "ax5 = subplot(4,2,6,sharex = ax0)\n",
      "params = list()\n",
      "for i in range(0,int(rng),bw):\n",
      "    strkmtrx = vstack([x[i:i+bw]-pi/2.0 for x in sorted_rot['L_wing_R_exp']])\n",
      "    params.append(flylib.fit_fourier_pcomp(strkmtrx,p_amp_free))\n",
      "for i,p in enumerate(params):\n",
      "    plot(phases_plot,flylib.fourier(phases,p),color = cmap(i/(float(len(params)))),lw = 3,alpha = 0.5)\n",
      "gca().set_ybound(-90,90)\n",
      "\n",
      "#######phys\n",
      "ax6 = subplot(4,2,7,sharex = ax0)\n",
      "for i in range(0,int(rng),bw):\n",
      "    strkmtrx = vstack([x[i:i+bw] for x in sorted_phys['L_wing_L_exp']])\n",
      "    plot(phases_plot,strkmtrx[::10,:].T,color = cmap(i/(rng)),alpha = 0.5)\n",
      "\n",
      "ax7 = subplot(4,2,8,sharex = ax0,sharey = ax6)\n",
      "for i in range(0,int(rng),bw):\n",
      "    strkmtrx = vstack([x[i:i+bw] for x in sorted_phys['L_wing_R_exp']])\n",
      "    plot(phases_plot,strkmtrx[::5,:].T,color = cmap(i/(rng)),alpha = 0.5)\n",
      "ax0.set_xbound((-pi,pi))"
     ],
     "language": "python",
     "metadata": {},
     "outputs": [],
     "prompt_number": 30
    },
    {
     "cell_type": "code",
     "collapsed": false,
     "input": [
      "#circular stats functions\n",
      "def circmean(alpha,axis=None):\n",
      "    mean_angle = np.arctan2(np.mean(np.sin(alpha),axis),np.mean(np.cos(alpha),axis))\n",
      "    return mean_angle\n",
      "\n",
      "def circvar(alpha,axis=None):\n",
      "        if np.ma.isMaskedArray(alpha) and alpha.mask.shape!=():\n",
      "            N = np.sum(~alpha.mask,axis)\n",
      "        else:\n",
      "            if axis is None:\n",
      "                N = alpha.size\n",
      "            else:\n",
      "                N = alpha.shape[axis]\n",
      "        R = np.sqrt(np.sum(np.sin(alpha),axis)**2 + np.sum(np.cos(alpha),axis)**2)/N\n",
      "        V = 1-R\n",
      "        return V"
     ],
     "language": "python",
     "metadata": {},
     "outputs": [],
     "prompt_number": 31
    },
    {
     "cell_type": "code",
     "collapsed": false,
     "input": [
      "#plot the timecourse of the sum of residuals\n",
      "from scipy import stats\n",
      "phases = np.linspace(0,2*np.pi,500)\n",
      "steadywb_amp = flylib.fourier(phases,p_amp_tether)\n",
      "steadywb_dev = flylib.fourier(phases,p_dev_tether)\n",
      "steadywb_rot = flylib.fourier(phases,p_rot_tether)\n",
      "\n",
      "params = list()\n",
      "residual_amp = list()\n",
      "residual_rot = list()\n",
      "residual_dev = list()\n",
      "\n",
      "err_amp = list()\n",
      "err_rot = list()\n",
      "err_dev = list()\n",
      "err_phs = list()\n",
      "\n",
      "phslist = list()\n",
      "for i in range(0,int(rng),bw):\n",
      "    strkmtrx_amp = vstack([x[i:i+bw] for x in sorted_amp['L_wing_L_exp']])\n",
      "    strkmtrx_dev = vstack([x[i:i+bw] for x in sorted_dev['L_wing_L_exp']])\n",
      "    strkmtrx_rot = vstack([x[i:i+bw]-pi/2 for x in sorted_rot['L_wing_L_exp']])\n",
      "\n",
      "    for strkmtrx,residual_list,steady_wb, err_list, p_init in zip([strkmtrx_amp,  strkmtrx_dev,  strkmtrx_rot],\n",
      "                                                                  [residual_amp,  residual_dev,  residual_rot],\n",
      "                                                                  [steadywb_amp,  steadywb_dev,  steadywb_rot],\n",
      "                                                                  [err_amp     ,err_dev     ,err_rot],\n",
      "                                                                  [p_amp_free  ,p_dev_free  ,p_rot_free]):\n",
      "        params = flylib.fit_harmonic_fast(strkmtrx,p_init)\n",
      "        residuals = flylib.harmonic(phases,params) - steady_wb\n",
      "        residuals = nansum(rad2deg(strkmtrx) - steady_wb,axis =1)\n",
      "        residual_list.append(mean(residuals))\n",
      "        err_list.append(stats.sem(residuals))\n",
      "    physmtrx = vstack([x[i:i+bw] for x in sorted_phys['L_wing_L_exp']])\n",
      "    phslist.append(mod(circmean(phases[argmax(physmtrx,axis = 1)])+(pi),2*pi))\n",
      "    err_phs.append(mod((circvar(phases[argmax(physmtrx,axis = 1)])+pi)/sqrt(4),2*pi))\n",
      "ax0 = subplot(4,1,1)\n",
      "errorbar(arange(0,len(residual_amp)),residual_amp,err_amp,color = 'g',alpha = 0.5)\n",
      "ax1 = subplot(4,1,2,sharex = ax0)\n",
      "errorbar(arange(0,len(residual_dev)),residual_dev,err_dev,color = 'g',alpha = 0.5)\n",
      "ax2 = subplot(4,1,3,sharex = ax0)\n",
      "errorbar(arange(0,len(residual_rot)),residual_rot,err_rot,color = 'g',alpha = 0.5)\n",
      "ax3 = subplot(4,1,4,sharex = ax0)\n",
      "errorbar(arange(0,len(err_phs)),phslist,err_phs,color = 'g',alpha = 0.5)"
     ],
     "language": "python",
     "metadata": {},
     "outputs": [
      {
       "metadata": {},
       "output_type": "pyout",
       "prompt_number": 32,
       "text": [
        "<Container object of 3 artists>"
       ]
      }
     ],
     "prompt_number": 32
    },
    {
     "cell_type": "code",
     "collapsed": false,
     "input": [
      "#Plot the correlation between kine params and spike phase\n",
      "import matplotlib.pyplot as plt\n",
      "from mpl_toolkits.mplot3d import Axes3D\n",
      "phases = np.linspace(-1*np.pi,np.pi,500)\n",
      "\n",
      "steadywb_amp = flylib.fourier(phases,p_amp_tether)\n",
      "steadywb_dev = flylib.fourier(phases,p_dev_tether)\n",
      "steadywb_rot = flylib.fourier(phases,p_rot_tether)\n",
      "\n",
      "amp_residual_sum = None\n",
      "dev_residual_sum = None\n",
      "rot_residual_sum = None\n",
      "spike_phases = None\n",
      "\n",
      "for amp_sequence,dev_sequence,rot_sequence,phys_sequence in zip(sorted_amp['L_wing_L_exp'],\n",
      "                                                   sorted_dev['L_wing_L_exp'],\n",
      "                                                   sorted_rot['L_wing_L_exp'],\n",
      "                                                   sorted_phys['L_wing_L_exp']):\n",
      "    amp_residuals = rad2deg(amp_sequence)-steadywb_amp\n",
      "    dev_residuals = rad2deg(dev_sequence)-steadywb_dev\n",
      "    rot_residuals = rad2deg(rot_sequence)-steadywb_rot\n",
      "    if spike_phases is None:\n",
      "        spike_phases = phases[argmax(phys_sequence,axis = 1)]\n",
      "    else:\n",
      "        spike_phases = hstack((spike_phases,phases[argmax(phys_sequence,axis = 1)]))\n",
      "    \n",
      "    if amp_residual_sum is None:\n",
      "        amp_residual_sum = nansum(amp_residuals, axis = 1)\n",
      "    else:\n",
      "        amp_residual_sum = hstack((amp_residual_sum, nansum(amp_residuals, axis = 1)))\n",
      "    \n",
      "    if dev_residual_sum is None:\n",
      "        dev_residual_sum = nansum(dev_residuals, axis = 1)\n",
      "    else:\n",
      "        dev_residual_sum = hstack((dev_residual_sum, nansum(dev_residuals, axis = 1)))\n",
      "    \n",
      "    if rot_residual_sum is None:\n",
      "        rot_residual_sum = nansum(rot_residuals, axis = 1)\n",
      "    else:\n",
      "        rot_residual_sum = hstack((rot_residual_sum, nansum(rot_residuals, axis = 1)))\n",
      "amp_residual_sum /= std(amp_residual_sum)\n",
      "dev_residual_sum /= std(dev_residual_sum)\n",
      "rot_residual_sum /= std(rot_residual_sum)\n",
      "ax0 = subplot(3,1,1)\n",
      "cmap = cm.spectral\n",
      "scatter(amp_residual_sum,dev_residual_sum,c = (mod(spike_phases+2*pi,2*pi)),norm=Normalize(0,2*pi),cmap = cmap)\n",
      "ax0.axis('equal')\n",
      "ax1 = subplot(3,1,2)\n",
      "scatter(amp_residual_sum,rot_residual_sum,c = (mod(spike_phases+2*pi,2*pi)),norm=Normalize(0,2*pi),cmap = cmap)\n",
      "ax1.axis('equal')\n",
      "ax2 = subplot(3,1,3)\n",
      "scatter(dev_residual_sum,rot_residual_sum,c = (mod(spike_phases+2*pi,2*pi)),norm=Normalize(0,2*pi),cmap = cmap)\n",
      "ax2.axis('equal')\n",
      "cax = gcf().add_axes([0.9, 0.1, 0.03, 0.8])\n",
      "colorbar(cax=cax)"
     ],
     "language": "python",
     "metadata": {},
     "outputs": [
      {
       "metadata": {},
       "output_type": "pyout",
       "prompt_number": 33,
       "text": [
        "<matplotlib.colorbar.Colorbar instance at 0x106a444c>"
       ]
      }
     ],
     "prompt_number": 33
    },
    {
     "cell_type": "code",
     "collapsed": false,
     "input": [
      "#This block will print the average angle of the strokeplane for all the flies in the DB\n",
      "for fln in sorted(fly_db.keys()):\n",
      "    fly = flylib.Fly(fly_db[fln])\n",
      "    fly.calc_seqs_strokeplanes('lr_blob_expansion')\n",
      "    print (fln,np.mean(fly_db[fln]['experiments']['lr_blob_expansion']['strokeplanes']))"
     ],
     "language": "python",
     "metadata": {},
     "outputs": [
      {
       "output_type": "stream",
       "stream": "stdout",
       "text": [
        "(111, -50.123229279112174)\n",
        "(112, -58.666257660211471)"
       ]
      },
      {
       "output_type": "stream",
       "stream": "stdout",
       "text": [
        "\n",
        "(114, -44.294678767978361)"
       ]
      },
      {
       "output_type": "stream",
       "stream": "stdout",
       "text": [
        "\n",
        "(115, -49.588501570399025)"
       ]
      },
      {
       "output_type": "stream",
       "stream": "stdout",
       "text": [
        "\n"
       ]
      },
      {
       "output_type": "stream",
       "stream": "stderr",
       "text": [
        "transformations.py:1888: UserWarning: failed to import module _transformations\n",
        "  warnings.warn(\"failed to import module %s\" % name)\n"
       ]
      }
     ],
     "prompt_number": 25
    },
    {
     "cell_type": "code",
     "collapsed": false,
     "input": [
      "#plot the left-right angles for all sequences\n",
      "figure()\n",
      "fln = 115\n",
      "fly = flylib.Fly(fly_db[fln])\n",
      "fly.get_cam_epochs('lr_blob_expansion')\n",
      "seqs = fly_db[fln]['experiments']['lr_blob_expansion']['kine_sequences']\n",
      "stro_R = 'phi_R'\n",
      "stro_L = 'phi_L'\n",
      "stro_R = 'theta_R'\n",
      "stro_L = 'theta_L'\n",
      "rot_R = 'eta_R'\n",
      "rot_L = 'eta_L'\n",
      "subplot(3,1,1)\n",
      "[plot(s[stro_L]-s[stro_R],color = 'r') for s in seqs if s['expan_pol'] == 90]\n",
      "[plot(s[stro_L]-s[stro_R],color = 'b') for s in seqs if s['expan_pol'] == 270]\n",
      "subplot(3,1,2)\n",
      "[plot(s[dev_L]-s[dev_R],color = 'r') for s in seqs if s['expan_pol'] == 90]\n",
      "[plot(s[dev_L]-s[dev_R],color = 'b') for s in seqs if s['expan_pol'] == 270]\n",
      "subplot(3,1,3)\n",
      "[plot(s[rot_L]-s[rot_R],color = 'r') for s in seqs if s['expan_pol'] == 90]\n",
      "[plot(s[rot_L]-s[rot_R],color = 'b') for s in seqs if s['expan_pol'] == 270]"
     ],
     "language": "python",
     "metadata": {},
     "outputs": [
      {
       "output_type": "stream",
       "stream": "stderr",
       "text": [
        "flylib.py:165: UserWarning: problem extracting idxs from camera_sync_signal forepoch 0 using even spaced idx's over the camera epoch instead\n",
        "  \"epoch %s using even spaced idx's over the camera epoch instead\"%(i))\n"
       ]
      },
      {
       "metadata": {},
       "output_type": "pyout",
       "prompt_number": 32,
       "text": [
        "[[<matplotlib.lines.Line2D at 0x1060ab8c>],\n",
        " [<matplotlib.lines.Line2D at 0x1061108c>],\n",
        " [<matplotlib.lines.Line2D at 0x1061154c>]]"
       ]
      }
     ],
     "prompt_number": 32
    },
    {
     "cell_type": "code",
     "collapsed": false,
     "input": [
      "#plot the ephys and kine for a given sequence number\n",
      "figure()\n",
      "fln = 115\n",
      "seqnum = 1\n",
      "\n",
      "fly = flylib.Fly(fly_db[fln])\n",
      "fly.get_cam_epochs('lr_blob_expansion')\n",
      "seqs = fly_db[fln]['experiments']['lr_blob_expansion']['kine_sequences']\n",
      "print seqs[seqnum]['expan_pol']\n",
      "ax_epoch = seqs[seqnum]['axon_epoch']\n",
      "ph_times = seqs[seqnum]['axon_times']\n",
      "ephys_trace = fly_db[fln]['experiments']['lr_blob_expansion']['axon_data']['AMsysCh1'][ax_epoch]\n",
      "ax_times = fly_db[fln]['experiments']['lr_blob_expansion']['axon_data']['times'][ax_epoch]\n",
      "ax0 =subplot(2,1,1)\n",
      "plot(ph_times-ph_times[seqnum],seqs[seqnum][stro_R])\n",
      "plot(ph_times-ph_times[seqnum],seqs[seqnum][stro_L])\n",
      "ax1 = subplot(2,1,2,sharex = ax0)\n",
      "plot(ax_times-ax_times[seqnum],ephys_trace)"
     ],
     "language": "python",
     "metadata": {},
     "outputs": [
      {
       "output_type": "stream",
       "stream": "stdout",
       "text": [
        "90.0\n"
       ]
      },
      {
       "output_type": "stream",
       "stream": "stderr",
       "text": [
        "flylib.py:165: UserWarning: problem extracting idxs from camera_sync_signal forepoch 0 using even spaced idx's over the camera epoch instead\n",
        "  \"epoch %s using even spaced idx's over the camera epoch instead\"%(i))\n"
       ]
      },
      {
       "metadata": {},
       "output_type": "pyout",
       "prompt_number": 35,
       "text": [
        "[<matplotlib.lines.Line2D at 0x1091ea6c>]"
       ]
      }
     ],
     "prompt_number": 35
    },
    {
     "cell_type": "code",
     "collapsed": false,
     "input": [
      "#plots the left and right wingtip path unrotated and rotated by a 55 strokeplane angle.\n",
      "figure()\n",
      "fln = 115\n",
      "seqnum = 1\n",
      "\n",
      "fly = flylib.Fly(fly_db[fln])\n",
      "fly.load_photron_sequences('lr_blob_expansion')\n",
      "frame_angle = 55\n",
      "ph_seq = fly.fly_record['experiments']['lr_blob_expansion']['photron_sequences'][1]\n",
      "q_left = squeeze(ph_seq[:,[9,10,11,8]])\n",
      "q_right = squeeze(ph_seq[:,[13,14,15,12]])\n",
      "import transformations as trans\n",
      "rot_mats_left = array([trans.quaternion_matrix(x.T)[:3,:3] for x in q_left])\n",
      "rot_mats_right = array([trans.quaternion_matrix(x.T)[:3,:3] for x in q_right])\n",
      "l_frame = trans.rotation_matrix(deg2rad(frame_angle),[0,-1,0],)[:3,:3]\n",
      "r_frame = trans.rotation_matrix(deg2rad(-1*frame_angle),[0,1,0],)[:3,:3]\n",
      "from mpl_toolkits.mplot3d import Axes3D\n",
      "fig = plt.figure()\n",
      "ax = fig.add_subplot(111, projection='3d')\n",
      "l_wingtip = dot(rot_mats_left,[0,1,0]).T\n",
      "r_wingtip = dot(rot_mats_right,[0,-1,0]).T\n",
      "wing_frame_l = dot(l_frame,l_wingtip)\n",
      "wing_frame_r = dot(r_frame,r_wingtip)\n",
      "plot(l_wingtip[0],l_wingtip[1],zs=l_wingtip[2])\n",
      "plot(r_wingtip[0],r_wingtip[1],zs=r_wingtip[2])\n",
      "plot(wing_frame_l[0],wing_frame_l[1],zs=wing_frame_l[2])\n",
      "plot(wing_frame_r[0],wing_frame_r[1],zs=wing_frame_r[2])"
     ],
     "language": "python",
     "metadata": {},
     "outputs": [
      {
       "output_type": "stream",
       "stream": "stderr",
       "text": [
        "transformations.py:1888: UserWarning: failed to import module _transformations\n",
        "  warnings.warn(\"failed to import module %s\" % name)\n"
       ]
      },
      {
       "metadata": {},
       "output_type": "pyout",
       "prompt_number": 40,
       "text": [
        "[<mpl_toolkits.mplot3d.art3d.Line3D at 0x10f2426c>]"
       ]
      }
     ],
     "prompt_number": 40
    },
    {
     "cell_type": "code",
     "collapsed": false,
     "input": [],
     "language": "python",
     "metadata": {},
     "outputs": [],
     "prompt_number": 31
    },
    {
     "cell_type": "code",
     "collapsed": false,
     "input": [],
     "language": "python",
     "metadata": {},
     "outputs": [],
     "prompt_number": 31
    },
    {
     "cell_type": "code",
     "collapsed": false,
     "input": [],
     "language": "python",
     "metadata": {},
     "outputs": [],
     "prompt_number": 31
    },
    {
     "cell_type": "code",
     "collapsed": false,
     "input": [],
     "language": "python",
     "metadata": {},
     "outputs": [],
     "prompt_number": 21
    },
    {
     "cell_type": "code",
     "collapsed": false,
     "input": [],
     "language": "python",
     "metadata": {},
     "outputs": [],
     "prompt_number": 21
    },
    {
     "cell_type": "code",
     "collapsed": false,
     "input": [],
     "language": "python",
     "metadata": {},
     "outputs": [],
     "prompt_number": 21
    },
    {
     "cell_type": "code",
     "collapsed": false,
     "input": [],
     "language": "python",
     "metadata": {},
     "outputs": [],
     "prompt_number": 21
    },
    {
     "cell_type": "code",
     "collapsed": false,
     "input": [],
     "language": "python",
     "metadata": {},
     "outputs": [],
     "prompt_number": 22
    },
    {
     "cell_type": "code",
     "collapsed": false,
     "input": [],
     "language": "python",
     "metadata": {},
     "outputs": [],
     "prompt_number": 22
    },
    {
     "cell_type": "code",
     "collapsed": false,
     "input": [],
     "language": "python",
     "metadata": {},
     "outputs": [],
     "prompt_number": 22
    },
    {
     "cell_type": "code",
     "collapsed": false,
     "input": [],
     "language": "python",
     "metadata": {},
     "outputs": [],
     "prompt_number": 22
    },
    {
     "cell_type": "code",
     "collapsed": false,
     "input": [],
     "language": "python",
     "metadata": {},
     "outputs": [],
     "prompt_number": 22
    },
    {
     "cell_type": "code",
     "collapsed": false,
     "input": [],
     "language": "python",
     "metadata": {},
     "outputs": []
    },
    {
     "cell_type": "code",
     "collapsed": false,
     "input": [],
     "language": "python",
     "metadata": {},
     "outputs": []
    },
    {
     "cell_type": "code",
     "collapsed": false,
     "input": [],
     "language": "python",
     "metadata": {},
     "outputs": [],
     "prompt_number": 22
    },
    {
     "cell_type": "code",
     "collapsed": false,
     "input": [],
     "language": "python",
     "metadata": {},
     "outputs": []
    },
    {
     "cell_type": "code",
     "collapsed": false,
     "input": [],
     "language": "python",
     "metadata": {},
     "outputs": []
    },
    {
     "cell_type": "code",
     "collapsed": false,
     "input": [],
     "language": "python",
     "metadata": {},
     "outputs": []
    },
    {
     "cell_type": "code",
     "collapsed": false,
     "input": [],
     "language": "python",
     "metadata": {},
     "outputs": []
    },
    {
     "cell_type": "code",
     "collapsed": false,
     "input": [],
     "language": "python",
     "metadata": {},
     "outputs": []
    },
    {
     "cell_type": "code",
     "collapsed": false,
     "input": [],
     "language": "python",
     "metadata": {},
     "outputs": []
    },
    {
     "cell_type": "code",
     "collapsed": false,
     "input": [],
     "language": "python",
     "metadata": {},
     "outputs": [],
     "prompt_number": 22
    },
    {
     "cell_type": "code",
     "collapsed": false,
     "input": [],
     "language": "python",
     "metadata": {},
     "outputs": [],
     "prompt_number": 22
    },
    {
     "cell_type": "code",
     "collapsed": false,
     "input": [],
     "language": "python",
     "metadata": {},
     "outputs": []
    },
    {
     "cell_type": "code",
     "collapsed": false,
     "input": [],
     "language": "python",
     "metadata": {},
     "outputs": []
    },
    {
     "cell_type": "code",
     "collapsed": false,
     "input": [],
     "language": "python",
     "metadata": {},
     "outputs": [],
     "prompt_number": 91
    },
    {
     "cell_type": "code",
     "collapsed": false,
     "input": [],
     "language": "python",
     "metadata": {},
     "outputs": []
    },
    {
     "cell_type": "code",
     "collapsed": false,
     "input": [],
     "language": "python",
     "metadata": {},
     "outputs": [
      {
       "metadata": {},
       "output_type": "pyout",
       "prompt_number": 561,
       "text": [
        "[<matplotlib.lines.Line2D at 0x1c26ca990>]"
       ]
      }
     ],
     "prompt_number": 561
    },
    {
     "cell_type": "code",
     "collapsed": false,
     "input": [],
     "language": "python",
     "metadata": {},
     "outputs": [],
     "prompt_number": 521
    },
    {
     "cell_type": "code",
     "collapsed": false,
     "input": [],
     "language": "python",
     "metadata": {},
     "outputs": [
      {
       "metadata": {},
       "output_type": "pyout",
       "prompt_number": 522,
       "text": [
        "[<matplotlib.lines.Line2D at 0x1c0224cd0>]"
       ]
      }
     ],
     "prompt_number": 522
    },
    {
     "cell_type": "code",
     "collapsed": false,
     "input": [],
     "language": "python",
     "metadata": {},
     "outputs": [
      {
       "metadata": {},
       "output_type": "pyout",
       "prompt_number": 317,
       "text": [
        "50"
       ]
      }
     ],
     "prompt_number": 317
    },
    {
     "cell_type": "code",
     "collapsed": false,
     "input": [],
     "language": "python",
     "metadata": {},
     "outputs": [],
     "prompt_number": 495
    },
    {
     "cell_type": "code",
     "collapsed": false,
     "input": [],
     "language": "python",
     "metadata": {},
     "outputs": [],
     "prompt_number": 237
    },
    {
     "cell_type": "code",
     "collapsed": false,
     "input": [],
     "language": "python",
     "metadata": {},
     "outputs": [],
     "prompt_number": 23
    },
    {
     "cell_type": "code",
     "collapsed": false,
     "input": [],
     "language": "python",
     "metadata": {},
     "outputs": [],
     "prompt_number": 23
    },
    {
     "cell_type": "code",
     "collapsed": false,
     "input": [],
     "language": "python",
     "metadata": {},
     "outputs": [],
     "prompt_number": 23
    },
    {
     "cell_type": "code",
     "collapsed": false,
     "input": [],
     "language": "python",
     "metadata": {},
     "outputs": [],
     "prompt_number": 23
    },
    {
     "cell_type": "code",
     "collapsed": false,
     "input": [],
     "language": "python",
     "metadata": {},
     "outputs": [],
     "prompt_number": 22
    },
    {
     "cell_type": "code",
     "collapsed": false,
     "input": [],
     "language": "python",
     "metadata": {},
     "outputs": [],
     "prompt_number": 24
    },
    {
     "cell_type": "code",
     "collapsed": false,
     "input": [],
     "language": "python",
     "metadata": {},
     "outputs": [],
     "prompt_number": 24
    },
    {
     "cell_type": "code",
     "collapsed": false,
     "input": [
      "np.mean(fly_db[111]['experiments']['lr_blob_expansion']['strokeplanes'])"
     ],
     "language": "python",
     "metadata": {},
     "outputs": [
      {
       "metadata": {},
       "output_type": "pyout",
       "prompt_number": 11,
       "text": [
        "-50.123229279112174"
       ]
      }
     ],
     "prompt_number": 11
    },
    {
     "cell_type": "code",
     "collapsed": false,
     "input": [],
     "language": "python",
     "metadata": {},
     "outputs": [
      {
       "metadata": {},
       "output_type": "pyout",
       "prompt_number": 105,
       "text": [
        "[<matplotlib.lines.Line2D at 0x11ada4450>]"
       ]
      }
     ],
     "prompt_number": 105
    },
    {
     "cell_type": "code",
     "collapsed": false,
     "input": [
      "import scipy.stats"
     ],
     "language": "python",
     "metadata": {},
     "outputs": [],
     "prompt_number": 232
    },
    {
     "cell_type": "code",
     "collapsed": false,
     "input": [],
     "language": "python",
     "metadata": {},
     "outputs": [],
     "prompt_number": 158
    },
    {
     "cell_type": "code",
     "collapsed": false,
     "input": [
      "reload(flylib)\n",
      "fln = 115\n",
      "fly = flylib.Fly(fly_db[fln])"
     ],
     "language": "python",
     "metadata": {},
     "outputs": [],
     "prompt_number": 266
    },
    {
     "cell_type": "code",
     "collapsed": false,
     "input": [],
     "language": "python",
     "metadata": {},
     "outputs": [],
     "prompt_number": 237
    },
    {
     "cell_type": "code",
     "collapsed": false,
     "input": [],
     "language": "python",
     "metadata": {},
     "outputs": [],
     "prompt_number": 147
    },
    {
     "cell_type": "code",
     "collapsed": false,
     "input": [],
     "language": "python",
     "metadata": {},
     "outputs": [
      {
       "metadata": {},
       "output_type": "pyout",
       "prompt_number": 171,
       "text": [
        "array([ 0.13703134,  0.44982044,  0.76260953,  1.07539863,  1.38818772,\n",
        "        1.70097682,  2.01376591,  2.32655501,  2.6393441 ,  2.9521332 ,\n",
        "        3.26492229,  3.57771138,  3.89050048,  4.20328957,  4.51607867,\n",
        "        4.82886776,  5.14165686,  5.45444595,  5.76723505,  6.08002414])"
       ]
      }
     ],
     "prompt_number": 171
    },
    {
     "cell_type": "code",
     "collapsed": false,
     "input": [
      "fly.fly_record['experiments']['lr_blob_expansion'].keys()"
     ],
     "language": "python",
     "metadata": {},
     "outputs": [
      {
       "metadata": {},
       "output_type": "pyout",
       "prompt_number": 38,
       "text": [
        "['solution_format_string',\n",
        " 'kine_sequences',\n",
        " 'kine_filename',\n",
        " 'Ypos_trial_volts',\n",
        " 'photron_date_string',\n",
        " 'photron_seq_nums',\n",
        " 'photron_frame_rate_Hz',\n",
        " 'Ypos_trial_vals',\n",
        " 'axon_data',\n",
        " 'axon_file_names']"
       ]
      }
     ],
     "prompt_number": 38
    },
    {
     "cell_type": "code",
     "collapsed": false,
     "input": [
      "plot(seqs[0]['axon_times'])"
     ],
     "language": "python",
     "metadata": {},
     "outputs": [
      {
       "metadata": {},
       "output_type": "pyout",
       "prompt_number": 255,
       "text": [
        "[<matplotlib.lines.Line2D at 0x823e2d6c>]"
       ]
      }
     ],
     "prompt_number": 255
    },
    {
     "cell_type": "code",
     "collapsed": false,
     "input": [
      "frame_angle = 55\n",
      "ph_seq = fly.fly_record['experiments']['lr_blob_expansion']['photron_sequences'][1]\n",
      "q_left = squeeze(ph_seq[:,[9,10,11,8]])\n",
      "q_right = squeeze(ph_seq[:,[13,14,15,12]])\n",
      "import transformations as trans\n",
      "rot_mats_left = array([trans.quaternion_matrix(x.T)[:3,:3] for x in q_left])\n",
      "rot_mats_right = array([trans.quaternion_matrix(x.T)[:3,:3] for x in q_right])\n",
      "l_frame = trans.rotation_matrix(deg2rad(frame_angle),[0,-1,0],)[:3,:3]\n",
      "r_frame = trans.rotation_matrix(deg2rad(-1*frame_angle),[0,1,0],)[:3,:3]\n",
      "from mpl_toolkits.mplot3d import Axes3D\n",
      "fig = plt.figure()\n",
      "ax = fig.add_subplot(111, projection='3d')\n",
      "l_wingtip = dot(rot_mats_left,[0,1,0]).T\n",
      "r_wingtip = dot(rot_mats_right,[0,-1,0]).T\n",
      "wing_frame_l = dot(l_frame,l_wingtip)\n",
      "wing_frame_r = dot(r_frame,r_wingtip)\n",
      "plot(l_wingtip[0],l_wingtip[1],zs=l_wingtip[2])\n",
      "plot(r_wingtip[0],r_wingtip[1],zs=r_wingtip[2])\n",
      "plot(wing_frame_l[0],wing_frame_l[1],zs=wing_frame_l[2])\n",
      "plot(wing_frame_r[0],wing_frame_r[1],zs=wing_frame_r[2])"
     ],
     "language": "python",
     "metadata": {},
     "outputs": [
      {
       "ename": "KeyError",
       "evalue": "'photron_sequences'",
       "output_type": "pyerr",
       "traceback": [
        "\u001b[1;31m---------------------------------------------------------------------------\u001b[0m\n\u001b[1;31mKeyError\u001b[0m                                  Traceback (most recent call last)",
        "\u001b[1;32m<ipython-input-36-7bb8e5339da7>\u001b[0m in \u001b[0;36m<module>\u001b[1;34m()\u001b[0m\n\u001b[0;32m      1\u001b[0m \u001b[0mframe_angle\u001b[0m \u001b[1;33m=\u001b[0m \u001b[1;36m55\u001b[0m\u001b[1;33m\u001b[0m\u001b[0m\n\u001b[1;32m----> 2\u001b[1;33m \u001b[0mph_seq\u001b[0m \u001b[1;33m=\u001b[0m \u001b[0mfly\u001b[0m\u001b[1;33m.\u001b[0m\u001b[0mfly_record\u001b[0m\u001b[1;33m[\u001b[0m\u001b[1;34m'experiments'\u001b[0m\u001b[1;33m]\u001b[0m\u001b[1;33m[\u001b[0m\u001b[1;34m'lr_blob_expansion'\u001b[0m\u001b[1;33m]\u001b[0m\u001b[1;33m[\u001b[0m\u001b[1;34m'photron_sequences'\u001b[0m\u001b[1;33m]\u001b[0m\u001b[1;33m[\u001b[0m\u001b[1;36m1\u001b[0m\u001b[1;33m]\u001b[0m\u001b[1;33m\u001b[0m\u001b[0m\n\u001b[0m\u001b[0;32m      3\u001b[0m \u001b[0mq_left\u001b[0m \u001b[1;33m=\u001b[0m \u001b[0msqueeze\u001b[0m\u001b[1;33m(\u001b[0m\u001b[0mph_seq\u001b[0m\u001b[1;33m[\u001b[0m\u001b[1;33m:\u001b[0m\u001b[1;33m,\u001b[0m\u001b[1;33m[\u001b[0m\u001b[1;36m9\u001b[0m\u001b[1;33m,\u001b[0m\u001b[1;36m10\u001b[0m\u001b[1;33m,\u001b[0m\u001b[1;36m11\u001b[0m\u001b[1;33m,\u001b[0m\u001b[1;36m8\u001b[0m\u001b[1;33m]\u001b[0m\u001b[1;33m]\u001b[0m\u001b[1;33m)\u001b[0m\u001b[1;33m\u001b[0m\u001b[0m\n\u001b[0;32m      4\u001b[0m \u001b[0mq_right\u001b[0m \u001b[1;33m=\u001b[0m \u001b[0msqueeze\u001b[0m\u001b[1;33m(\u001b[0m\u001b[0mph_seq\u001b[0m\u001b[1;33m[\u001b[0m\u001b[1;33m:\u001b[0m\u001b[1;33m,\u001b[0m\u001b[1;33m[\u001b[0m\u001b[1;36m13\u001b[0m\u001b[1;33m,\u001b[0m\u001b[1;36m14\u001b[0m\u001b[1;33m,\u001b[0m\u001b[1;36m15\u001b[0m\u001b[1;33m,\u001b[0m\u001b[1;36m12\u001b[0m\u001b[1;33m]\u001b[0m\u001b[1;33m]\u001b[0m\u001b[1;33m)\u001b[0m\u001b[1;33m\u001b[0m\u001b[0m\n\u001b[0;32m      5\u001b[0m \u001b[1;32mimport\u001b[0m \u001b[0mtransformations\u001b[0m \u001b[1;32mas\u001b[0m \u001b[0mtrans\u001b[0m\u001b[1;33m\u001b[0m\u001b[0m\n",
        "\u001b[1;31mKeyError\u001b[0m: 'photron_sequences'"
       ]
      }
     ],
     "prompt_number": 36
    },
    {
     "cell_type": "code",
     "collapsed": false,
     "input": [
      "def butter_bandpass(lowcut, highcut, sampling_period, order=5):\n",
      "    import scipy.signal\n",
      "    sampling_frequency = 1.0/sampling_period\n",
      "    nyq = 0.5 * sampling_frequency\n",
      "    low = lowcut / nyq\n",
      "    high = highcut / nyq\n",
      "    b, a = scipy.signal.butter(order, [low, high], btype='band')\n",
      "    return b, a\n",
      "\n",
      "def butter_bandpass_filter(data, lowcut, highcut, sampling_period, order=5):\n",
      "    import scipy.signal\n",
      "    b, a = butter_bandpass(lowcut, highcut, sampling_period, order=order)\n",
      "    y = scipy.signal.filtfilt(b, a, data)\n",
      "    return y"
     ],
     "language": "python",
     "metadata": {},
     "outputs": [],
     "prompt_number": 10
    },
    {
     "cell_type": "code",
     "collapsed": false,
     "input": [
      "1/(ax_times[1]-ax_times[0])"
     ],
     "language": "python",
     "metadata": {},
     "outputs": [
      {
       "metadata": {},
       "output_type": "pyout",
       "prompt_number": 91,
       "text": [
        "100000.00011036718"
       ]
      }
     ],
     "prompt_number": 91
    },
    {
     "cell_type": "code",
     "collapsed": false,
     "input": [
      "rad2deg(Out[69])"
     ],
     "language": "python",
     "metadata": {},
     "outputs": [
      {
       "metadata": {},
       "output_type": "pyout",
       "prompt_number": 73,
       "text": [
        "-52.038593391483268"
       ]
      }
     ],
     "prompt_number": 73
    },
    {
     "cell_type": "code",
     "collapsed": false,
     "input": [
      "subplot(3,1,1)\n",
      "plot(ax_times,ephys_trace)"
     ],
     "language": "python",
     "metadata": {},
     "outputs": [
      {
       "metadata": {},
       "output_type": "pyout",
       "prompt_number": 14,
       "text": [
        "['Xpos',\n",
        " 'WBSync',\n",
        " 'Photostim',\n",
        " 'sampling_period',\n",
        " 'Ypos',\n",
        " 'CamSync',\n",
        " 'CamTrig',\n",
        " 'Ph1',\n",
        " 'LeftWing',\n",
        " 'Ph2',\n",
        " 'RightWing',\n",
        " 'Ph0',\n",
        " 'AMsysCh1',\n",
        " 'times']"
       ]
      }
     ],
     "prompt_number": 14
    },
    {
     "cell_type": "code",
     "collapsed": false,
     "input": [],
     "language": "python",
     "metadata": {},
     "outputs": [],
     "prompt_number": 16
    },
    {
     "cell_type": "code",
     "collapsed": false,
     "input": [],
     "language": "python",
     "metadata": {},
     "outputs": [],
     "prompt_number": 17
    },
    {
     "cell_type": "code",
     "collapsed": false,
     "input": [
      "for fln in fly_db.keys():\n",
      "    print fln\n",
      "    fly = flylib.Fly(fly_db[fln])\n",
      "    fly.get_cam_epochs('lr_blob_expansion')\n",
      "param_file = open('params.json','rb')\n",
      "params = json.load(param_file)\n",
      "param_file.close()\n",
      "fn = params['root_dir'] + 'fly_db.cpkl'\n",
      "f = open(fn,'wb')\n",
      "fly_db = cPickle.dump(f)\n",
      "f.close()"
     ],
     "language": "python",
     "metadata": {},
     "outputs": [
      {
       "output_type": "stream",
       "stream": "stdout",
       "text": [
        "112\n",
        "114"
       ]
      },
      {
       "output_type": "stream",
       "stream": "stderr",
       "text": [
        "flylib.py:133: UserWarning: problem extracting idxs from camera_sync_signal forepoch 5 using even spaced idx's over the camera epoch instead\n",
        "  \"epoch %s using even spaced idx's over the camera epoch instead\"%(i))\n",
        "flylib.py:133: UserWarning: problem extracting idxs from camera_sync_signal forepoch 0 using even spaced idx's over the camera epoch instead\n",
        "  \"epoch %s using even spaced idx's over the camera epoch instead\"%(i))\n"
       ]
      },
      {
       "output_type": "stream",
       "stream": "stderr",
       "text": [
        "flylib.py:128: UserWarning: problem extracting idxs from camera_sync_signal forepoch 1 using even spaced idx's over the camera epoch instead\n",
        "  \"epoch %s using even spaced idx's over the camera epoch instead\"%(i))\n",
        "flylib.py:128: UserWarning: problem extracting idxs from camera_sync_signal forepoch 2 using even spaced idx's over the camera epoch instead\n",
        "  \"epoch %s using even spaced idx's over the camera epoch instead\"%(i))\n",
        "flylib.py:128: UserWarning: problem extracting idxs from camera_sync_signal forepoch 4 using even spaced idx's over the camera epoch instead\n",
        "  \"epoch %s using even spaced idx's over the camera epoch instead\"%(i))\n"
       ]
      },
      {
       "output_type": "stream",
       "stream": "stdout",
       "text": [
        "\n",
        "115"
       ]
      },
      {
       "ename": "error",
       "evalue": "[Errno 12] Cannot allocate memory",
       "output_type": "pyerr",
       "traceback": [
        "\u001b[1;31m---------------------------------------------------------------------------\u001b[0m\n\u001b[1;31merror\u001b[0m                                     Traceback (most recent call last)",
        "\u001b[1;32m<ipython-input-37-fd96d9bf791c>\u001b[0m in \u001b[0;36m<module>\u001b[1;34m()\u001b[0m\n\u001b[0;32m      2\u001b[0m     \u001b[1;32mprint\u001b[0m \u001b[0mfln\u001b[0m\u001b[1;33m\u001b[0m\u001b[0m\n\u001b[0;32m      3\u001b[0m     \u001b[0mfly\u001b[0m \u001b[1;33m=\u001b[0m \u001b[0mflylib\u001b[0m\u001b[1;33m.\u001b[0m\u001b[0mFly\u001b[0m\u001b[1;33m(\u001b[0m\u001b[0mfly_db\u001b[0m\u001b[1;33m[\u001b[0m\u001b[0mfln\u001b[0m\u001b[1;33m]\u001b[0m\u001b[1;33m)\u001b[0m\u001b[1;33m\u001b[0m\u001b[0m\n\u001b[1;32m----> 4\u001b[1;33m     \u001b[0mfly\u001b[0m\u001b[1;33m.\u001b[0m\u001b[0mget_cam_epochs\u001b[0m\u001b[1;33m(\u001b[0m\u001b[1;34m'lr_blob_expansion'\u001b[0m\u001b[1;33m)\u001b[0m\u001b[1;33m\u001b[0m\u001b[0m\n\u001b[0m\u001b[0;32m      5\u001b[0m \u001b[0mparam_file\u001b[0m \u001b[1;33m=\u001b[0m \u001b[0mopen\u001b[0m\u001b[1;33m(\u001b[0m\u001b[1;34m'params.json'\u001b[0m\u001b[1;33m,\u001b[0m\u001b[1;34m'rb'\u001b[0m\u001b[1;33m)\u001b[0m\u001b[1;33m\u001b[0m\u001b[0m\n\u001b[0;32m      6\u001b[0m \u001b[0mparams\u001b[0m \u001b[1;33m=\u001b[0m \u001b[0mjson\u001b[0m\u001b[1;33m.\u001b[0m\u001b[0mload\u001b[0m\u001b[1;33m(\u001b[0m\u001b[0mparam_file\u001b[0m\u001b[1;33m)\u001b[0m\u001b[1;33m\u001b[0m\u001b[0m\n",
        "\u001b[1;32m/home/matt/flycity/muscle_analysis/flylib.pyc\u001b[0m in \u001b[0;36mget_cam_epochs\u001b[1;34m(self, experiment_name)\u001b[0m\n\u001b[0;32m    107\u001b[0m         \u001b[0mexp\u001b[0m \u001b[1;33m=\u001b[0m \u001b[0mself\u001b[0m\u001b[1;33m.\u001b[0m\u001b[0mfly_record\u001b[0m\u001b[1;33m[\u001b[0m\u001b[1;34m'experiments'\u001b[0m\u001b[1;33m]\u001b[0m\u001b[1;33m[\u001b[0m\u001b[1;34m'lr_blob_expansion'\u001b[0m\u001b[1;33m]\u001b[0m\u001b[1;33m\u001b[0m\u001b[0m\n\u001b[0;32m    108\u001b[0m         \u001b[0mfps\u001b[0m \u001b[1;33m=\u001b[0m \u001b[0mpq\u001b[0m\u001b[1;33m.\u001b[0m\u001b[0mQuantity\u001b[0m\u001b[1;33m(\u001b[0m\u001b[0mnp\u001b[0m\u001b[1;33m.\u001b[0m\u001b[0mfloat64\u001b[0m\u001b[1;33m(\u001b[0m\u001b[0mexp\u001b[0m\u001b[1;33m[\u001b[0m\u001b[1;34m'photron_frame_rate_Hz'\u001b[0m\u001b[1;33m]\u001b[0m\u001b[1;33m)\u001b[0m\u001b[1;33m,\u001b[0m\u001b[1;34m'Hz'\u001b[0m\u001b[1;33m)\u001b[0m\u001b[1;33m\u001b[0m\u001b[0m\n\u001b[1;32m--> 109\u001b[1;33m         \u001b[1;32mif\u001b[0m \u001b[1;34m'axon_data'\u001b[0m \u001b[1;32mnot\u001b[0m \u001b[1;32min\u001b[0m \u001b[0mexp\u001b[0m\u001b[1;33m.\u001b[0m\u001b[0mkeys\u001b[0m\u001b[1;33m(\u001b[0m\u001b[1;33m)\u001b[0m\u001b[1;33m:\u001b[0m \u001b[0mself\u001b[0m\u001b[1;33m.\u001b[0m\u001b[0mload_axon_data\u001b[0m\u001b[1;33m(\u001b[0m\u001b[0mexperiment_name\u001b[0m\u001b[1;33m)\u001b[0m\u001b[1;33m\u001b[0m\u001b[0m\n\u001b[0m\u001b[0;32m    110\u001b[0m         \u001b[1;32mif\u001b[0m \u001b[1;34m'kine_sequences'\u001b[0m \u001b[1;32mnot\u001b[0m \u001b[1;32min\u001b[0m \u001b[0mexp\u001b[0m\u001b[1;33m.\u001b[0m\u001b[0mkeys\u001b[0m\u001b[1;33m(\u001b[0m\u001b[1;33m)\u001b[0m\u001b[1;33m:\u001b[0m \u001b[0mself\u001b[0m\u001b[1;33m.\u001b[0m\u001b[0mload_kine_sequences\u001b[0m\u001b[1;33m(\u001b[0m\u001b[0mexperiment_name\u001b[0m\u001b[1;33m)\u001b[0m\u001b[1;33m\u001b[0m\u001b[0m\n\u001b[0;32m    111\u001b[0m         \u001b[0mkine_data\u001b[0m \u001b[1;33m=\u001b[0m \u001b[0mexp\u001b[0m\u001b[1;33m[\u001b[0m\u001b[1;34m'kine_sequences'\u001b[0m\u001b[1;33m]\u001b[0m\u001b[1;33m\u001b[0m\u001b[0m\n",
        "\u001b[1;32m/home/matt/flycity/muscle_analysis/flylib.pyc\u001b[0m in \u001b[0;36mload_axon_data\u001b[1;34m(self, experiment_name, filenum)\u001b[0m\n\u001b[0;32m    100\u001b[0m         \u001b[1;34m\"\"\"load the axon data from an experiment into the fly_record\"\"\"\u001b[0m\u001b[1;33m\u001b[0m\u001b[0m\n\u001b[0;32m    101\u001b[0m         \u001b[0maxon_file\u001b[0m \u001b[1;33m=\u001b[0m \u001b[0mself\u001b[0m\u001b[1;33m.\u001b[0m\u001b[0mfly_path\u001b[0m \u001b[1;33m+\u001b[0m \u001b[0mself\u001b[0m\u001b[1;33m.\u001b[0m\u001b[0mfly_record\u001b[0m\u001b[1;33m[\u001b[0m\u001b[1;34m'experiments'\u001b[0m\u001b[1;33m]\u001b[0m\u001b[1;33m[\u001b[0m\u001b[0mexperiment_name\u001b[0m\u001b[1;33m]\u001b[0m\u001b[1;33m[\u001b[0m\u001b[1;34m'axon_file_names'\u001b[0m\u001b[1;33m]\u001b[0m\u001b[1;33m[\u001b[0m\u001b[0mfilenum\u001b[0m\u001b[1;33m]\u001b[0m\u001b[1;33m\u001b[0m\u001b[0m\n\u001b[1;32m--> 102\u001b[1;33m         \u001b[0mself\u001b[0m\u001b[1;33m.\u001b[0m\u001b[0mfly_record\u001b[0m\u001b[1;33m[\u001b[0m\u001b[1;34m'experiments'\u001b[0m\u001b[1;33m]\u001b[0m\u001b[1;33m[\u001b[0m\u001b[0mexperiment_name\u001b[0m\u001b[1;33m]\u001b[0m\u001b[1;33m[\u001b[0m\u001b[1;34m'axon_data'\u001b[0m\u001b[1;33m]\u001b[0m \u001b[1;33m=\u001b[0m \u001b[0mget_axon_signals\u001b[0m\u001b[1;33m(\u001b[0m\u001b[0maxon_file\u001b[0m\u001b[1;33m)\u001b[0m\u001b[1;33m\u001b[0m\u001b[0m\n\u001b[0m\u001b[0;32m    103\u001b[0m \u001b[1;33m\u001b[0m\u001b[0m\n\u001b[0;32m    104\u001b[0m     \u001b[1;32mdef\u001b[0m \u001b[0mget_cam_epochs\u001b[0m\u001b[1;33m(\u001b[0m\u001b[0mself\u001b[0m\u001b[1;33m,\u001b[0m\u001b[0mexperiment_name\u001b[0m\u001b[1;33m)\u001b[0m\u001b[1;33m:\u001b[0m\u001b[1;33m\u001b[0m\u001b[0m\n",
        "\u001b[1;32m/home/matt/flycity/muscle_analysis/flylib.pyc\u001b[0m in \u001b[0;36mget_axon_signals\u001b[1;34m(filename)\u001b[0m\n\u001b[0;32m    163\u001b[0m     \u001b[1;32mfrom\u001b[0m \u001b[0mneo\u001b[0m\u001b[1;33m.\u001b[0m\u001b[0mio\u001b[0m\u001b[1;33m.\u001b[0m\u001b[0maxonio\u001b[0m \u001b[1;32mimport\u001b[0m \u001b[0mAxonIO\u001b[0m\u001b[1;33m\u001b[0m\u001b[0m\n\u001b[0;32m    164\u001b[0m     \u001b[0mreader\u001b[0m \u001b[1;33m=\u001b[0m \u001b[0mAxonIO\u001b[0m\u001b[1;33m(\u001b[0m\u001b[0mfilename\u001b[0m\u001b[1;33m=\u001b[0m\u001b[0mfilename\u001b[0m\u001b[1;33m)\u001b[0m\u001b[1;33m\u001b[0m\u001b[0m\n\u001b[1;32m--> 165\u001b[1;33m     \u001b[0mblocks\u001b[0m \u001b[1;33m=\u001b[0m \u001b[0mreader\u001b[0m\u001b[1;33m.\u001b[0m\u001b[0mread\u001b[0m\u001b[1;33m(\u001b[0m\u001b[1;33m)\u001b[0m\u001b[1;33m\u001b[0m\u001b[0m\n\u001b[0m\u001b[0;32m    166\u001b[0m     \u001b[0mheader\u001b[0m \u001b[1;33m=\u001b[0m \u001b[0mreader\u001b[0m\u001b[1;33m.\u001b[0m\u001b[0mread_header\u001b[0m\u001b[1;33m(\u001b[0m\u001b[1;33m)\u001b[0m\u001b[1;33m\u001b[0m\u001b[0m\n\u001b[0;32m    167\u001b[0m     \u001b[0mchannel_names\u001b[0m \u001b[1;33m=\u001b[0m \u001b[1;33m[\u001b[0m\u001b[0minfo\u001b[0m\u001b[1;33m[\u001b[0m\u001b[1;34m'ADCChNames'\u001b[0m\u001b[1;33m]\u001b[0m \u001b[1;32mfor\u001b[0m \u001b[0minfo\u001b[0m \u001b[1;32min\u001b[0m \u001b[0mheader\u001b[0m\u001b[1;33m[\u001b[0m\u001b[1;34m'listADCInfo'\u001b[0m\u001b[1;33m]\u001b[0m\u001b[1;33m]\u001b[0m\u001b[1;33m\u001b[0m\u001b[0m\n",
        "\u001b[1;32m/home/matt/flycity/muscle_analysis/neo/io/baseio.pyc\u001b[0m in \u001b[0;36mread\u001b[1;34m(self, lazy, cascade, **kargs)\u001b[0m\n\u001b[0;32m    102\u001b[0m                 return self.read_all_blocks(lazy=lazy, cascade=cascade,\n\u001b[0;32m    103\u001b[0m                                             **kargs)\n\u001b[1;32m--> 104\u001b[1;33m             \u001b[1;32mreturn\u001b[0m \u001b[1;33m[\u001b[0m\u001b[0mself\u001b[0m\u001b[1;33m.\u001b[0m\u001b[0mread_block\u001b[0m\u001b[1;33m(\u001b[0m\u001b[0mlazy\u001b[0m\u001b[1;33m=\u001b[0m\u001b[0mlazy\u001b[0m\u001b[1;33m,\u001b[0m \u001b[0mcascade\u001b[0m\u001b[1;33m=\u001b[0m\u001b[0mcascade\u001b[0m\u001b[1;33m,\u001b[0m \u001b[1;33m**\u001b[0m\u001b[0mkargs\u001b[0m\u001b[1;33m)\u001b[0m\u001b[1;33m]\u001b[0m\u001b[1;33m\u001b[0m\u001b[0m\n\u001b[0m\u001b[0;32m    105\u001b[0m         \u001b[1;32melif\u001b[0m \u001b[0mSegment\u001b[0m \u001b[1;32min\u001b[0m \u001b[0mself\u001b[0m\u001b[1;33m.\u001b[0m\u001b[0mreadable_objects\u001b[0m\u001b[1;33m:\u001b[0m\u001b[1;33m\u001b[0m\u001b[0m\n\u001b[0;32m    106\u001b[0m             \u001b[0mbl\u001b[0m \u001b[1;33m=\u001b[0m \u001b[0mBlock\u001b[0m\u001b[1;33m(\u001b[0m\u001b[0mname\u001b[0m\u001b[1;33m=\u001b[0m\u001b[1;34m'One segment only'\u001b[0m\u001b[1;33m)\u001b[0m\u001b[1;33m\u001b[0m\u001b[0m\n",
        "\u001b[1;32m/home/matt/flycity/muscle_analysis/neo/io/axonio.pyc\u001b[0m in \u001b[0;36mread_block\u001b[1;34m(self, lazy, cascade)\u001b[0m\n\u001b[0;32m    204\u001b[0m \u001b[1;33m\u001b[0m\u001b[0m\n\u001b[0;32m    205\u001b[0m         data = np.memmap(self.filename , dt  , 'r',\n\u001b[1;32m--> 206\u001b[1;33m                          shape = (totalsize,) , offset = headOffset)\n\u001b[0m\u001b[0;32m    207\u001b[0m \u001b[1;33m\u001b[0m\u001b[0m\n\u001b[0;32m    208\u001b[0m         \u001b[1;31m# 3 possible modes\u001b[0m\u001b[1;33m\u001b[0m\u001b[1;33m\u001b[0m\u001b[0m\n",
        "\u001b[1;32m/home/matt/Enthought/Canopy_32bit/User/lib/python2.7/site-packages/numpy/core/memmap.pyc\u001b[0m in \u001b[0;36m__new__\u001b[1;34m(subtype, filename, dtype, mode, offset, shape, order)\u001b[0m\n\u001b[0;32m    252\u001b[0m         \u001b[0mbytes\u001b[0m \u001b[1;33m-=\u001b[0m \u001b[0mstart\u001b[0m\u001b[1;33m\u001b[0m\u001b[0m\n\u001b[0;32m    253\u001b[0m         \u001b[0moffset\u001b[0m \u001b[1;33m-=\u001b[0m \u001b[0mstart\u001b[0m\u001b[1;33m\u001b[0m\u001b[0m\n\u001b[1;32m--> 254\u001b[1;33m         \u001b[0mmm\u001b[0m \u001b[1;33m=\u001b[0m \u001b[0mmmap\u001b[0m\u001b[1;33m.\u001b[0m\u001b[0mmmap\u001b[0m\u001b[1;33m(\u001b[0m\u001b[0mfid\u001b[0m\u001b[1;33m.\u001b[0m\u001b[0mfileno\u001b[0m\u001b[1;33m(\u001b[0m\u001b[1;33m)\u001b[0m\u001b[1;33m,\u001b[0m \u001b[0mbytes\u001b[0m\u001b[1;33m,\u001b[0m \u001b[0maccess\u001b[0m\u001b[1;33m=\u001b[0m\u001b[0macc\u001b[0m\u001b[1;33m,\u001b[0m \u001b[0moffset\u001b[0m\u001b[1;33m=\u001b[0m\u001b[0mstart\u001b[0m\u001b[1;33m)\u001b[0m\u001b[1;33m\u001b[0m\u001b[0m\n\u001b[0m\u001b[0;32m    255\u001b[0m \u001b[1;33m\u001b[0m\u001b[0m\n\u001b[0;32m    256\u001b[0m         self = ndarray.__new__(subtype, shape, dtype=descr, buffer=mm,\n",
        "\u001b[1;31merror\u001b[0m: [Errno 12] Cannot allocate memory"
       ]
      },
      {
       "output_type": "stream",
       "stream": "stdout",
       "text": [
        "\n"
       ]
      }
     ],
     "prompt_number": 37
    },
    {
     "cell_type": "code",
     "collapsed": false,
     "input": [],
     "language": "python",
     "metadata": {},
     "outputs": [],
     "prompt_number": 23
    },
    {
     "cell_type": "code",
     "collapsed": false,
     "input": [
      "np.concatenate(str([nan]),(np.arange(0,12)*30).tolist()"
     ],
     "language": "python",
     "metadata": {},
     "outputs": [
      {
       "ename": "SyntaxError",
       "evalue": "unexpected EOF while parsing (<ipython-input-12-592f10de7859>, line 1)",
       "output_type": "pyerr",
       "traceback": [
        "\u001b[1;36m  File \u001b[1;32m\"<ipython-input-12-592f10de7859>\"\u001b[1;36m, line \u001b[1;32m1\u001b[0m\n\u001b[1;33m    np.concatenate(str([nan]),(np.arange(0,12)*30).tolist()\u001b[0m\n\u001b[1;37m                                                           ^\u001b[0m\n\u001b[1;31mSyntaxError\u001b[0m\u001b[1;31m:\u001b[0m unexpected EOF while parsing\n"
       ]
      }
     ],
     "prompt_number": 12
    },
    {
     "cell_type": "code",
     "collapsed": false,
     "input": [],
     "language": "python",
     "metadata": {},
     "outputs": [
      {
       "metadata": {},
       "output_type": "pyout",
       "prompt_number": 566,
       "text": [
        "[[<matplotlib.lines.Line2D at 0x11a755890>],\n",
        " [<matplotlib.lines.Line2D at 0x11a785ed0>],\n",
        " [<matplotlib.lines.Line2D at 0x11a785d50>]]"
       ]
      }
     ],
     "prompt_number": 566
    },
    {
     "cell_type": "code",
     "collapsed": false,
     "input": [
      "plot(fly_record['experiments']['lr_blob_expansion']['axon_data']['Ypos'][aepochs[0][0]-1000000:aepochs[0][-1]+100000])"
     ],
     "language": "python",
     "metadata": {},
     "outputs": [
      {
       "metadata": {},
       "output_type": "pyout",
       "prompt_number": 472,
       "text": [
        "[<matplotlib.lines.Line2D at 0x120d11450>]"
       ]
      }
     ],
     "prompt_number": 472
    },
    {
     "cell_type": "code",
     "collapsed": false,
     "input": [
      "np.linspace(1,10,12)"
     ],
     "language": "python",
     "metadata": {},
     "outputs": [
      {
       "metadata": {},
       "output_type": "pyout",
       "prompt_number": 516,
       "text": [
        "array([  1.        ,   1.81818182,   2.63636364,   3.45454545,\n",
        "         4.27272727,   5.09090909,   5.90909091,   6.72727273,\n",
        "         7.54545455,   8.36363636,   9.18181818,  10.        ])"
       ]
      }
     ],
     "prompt_number": 516
    },
    {
     "cell_type": "code",
     "collapsed": false,
     "input": [
      "arange(0,11)*30"
     ],
     "language": "python",
     "metadata": {},
     "outputs": [
      {
       "metadata": {},
       "output_type": "pyout",
       "prompt_number": 518,
       "text": [
        "array([  0,  30,  60,  90, 120, 150, 180, 210, 240, 270, 300])"
       ]
      }
     ],
     "prompt_number": 518
    },
    {
     "cell_type": "code",
     "collapsed": false,
     "input": [
      "fly.load_axon_data('b1_azm_expansion_tuning')\n",
      "figure()\n",
      "x = hist(fly.fly_record['experiments']['b1_azm_expansion_tuning']['axon_data']['Ypos'],bins = 200)\n",
      "#x = hist(fly.fly_record['experiments']['lr_blob_expansion']['axon_data']['Ypos'],bins = 200)"
     ],
     "language": "python",
     "metadata": {},
     "outputs": [],
     "prompt_number": 485
    },
    {
     "cell_type": "code",
     "collapsed": false,
     "input": [
      "plot(fly.fly_record['experiments']['lr_blob_expansion']['axon_data']['Ypos'])"
     ],
     "language": "python",
     "metadata": {},
     "outputs": [
      {
       "metadata": {},
       "output_type": "pyout",
       "prompt_number": 235,
       "text": [
        "[<matplotlib.lines.Line2D at 0x11a111050>]"
       ]
      }
     ],
     "prompt_number": 235
    },
    {
     "cell_type": "code",
     "collapsed": false,
     "input": [
      "plot(fly.fly_record['experiments']['b1_azm_expansion_tuning']['axon_data']['Ypos'][::1000])"
     ],
     "language": "python",
     "metadata": {},
     "outputs": [
      {
       "metadata": {},
       "output_type": "pyout",
       "prompt_number": 246,
       "text": [
        "[<matplotlib.lines.Line2D at 0x11a596850>]"
       ]
      }
     ],
     "prompt_number": 246
    },
    {
     "cell_type": "code",
     "collapsed": false,
     "input": [
      "for seq in fly.fly_record['experiments']['lr_blob_expansion']['kine_sequences']:\n",
      "    stro_R = seq['phi_R']\n",
      "    stro_L = seq['phi_L']\n",
      "    dev_R = seq['eta_R']\n",
      "    dev_L = seq['eta_L']\n",
      "    rot_R = seq['theta_R']\n",
      "    rot_L = seq['theta_L']\n",
      "    plot(seq['axon_times'],rot_R)"
     ],
     "language": "python",
     "metadata": {},
     "outputs": [],
     "prompt_number": 226
    },
    {
     "cell_type": "code",
     "collapsed": false,
     "input": [],
     "language": "python",
     "metadata": {},
     "outputs": []
    },
    {
     "cell_type": "code",
     "collapsed": false,
     "input": [],
     "language": "python",
     "metadata": {},
     "outputs": []
    },
    {
     "cell_type": "code",
     "collapsed": false,
     "input": [],
     "language": "python",
     "metadata": {},
     "outputs": []
    },
    {
     "cell_type": "code",
     "collapsed": false,
     "input": [
      "abs((linspace(0,10,12)-4)))"
     ],
     "language": "python",
     "metadata": {},
     "outputs": [
      {
       "metadata": {},
       "output_type": "pyout",
       "prompt_number": 259,
       "text": [
        "[<matplotlib.lines.Line2D at 0x1138c4450>]"
       ]
      }
     ],
     "prompt_number": 259
    },
    {
     "cell_type": "code",
     "collapsed": false,
     "input": [
      "fly.fly_record['experiments']['lr_blob_expansion']['kine_sequences'][0]['last_track']"
     ],
     "language": "python",
     "metadata": {},
     "outputs": [
      {
       "metadata": {},
       "output_type": "pyout",
       "prompt_number": 114,
       "text": [
        "1365"
       ]
      }
     ],
     "prompt_number": 114
    },
    {
     "cell_type": "code",
     "collapsed": false,
     "input": [
      "#ph_seq = fly.fly_record['experiments']['lr_blob_expansion']['photron_sequences'][1]\n",
      "ax0 = subplot(3,1,1)\n",
      "plot(array(frame_times[:]),ea_l[:,1])\n",
      "ax1 = subplot(3,1,2,sharex = ax0)\n",
      "plot(array(ephys.times)[epoch],array(ephys)[epoch])"
     ],
     "language": "python",
     "metadata": {},
     "outputs": [
      {
       "metadata": {},
       "output_type": "pyout",
       "prompt_number": 58,
       "text": [
        "[<matplotlib.lines.Line2D at 0xacfd540c>]"
       ]
      }
     ],
     "prompt_number": 58
    },
    {
     "cell_type": "code",
     "collapsed": false,
     "input": [],
     "language": "python",
     "metadata": {},
     "outputs": [],
     "prompt_number": 23
    },
    {
     "cell_type": "code",
     "collapsed": false,
     "input": [],
     "language": "python",
     "metadata": {},
     "outputs": [],
     "prompt_number": 23
    },
    {
     "cell_type": "code",
     "collapsed": false,
     "input": [],
     "language": "python",
     "metadata": {},
     "outputs": [],
     "prompt_number": 23
    },
    {
     "cell_type": "code",
     "collapsed": false,
     "input": [],
     "language": "python",
     "metadata": {},
     "outputs": [],
     "prompt_number": 23
    },
    {
     "cell_type": "code",
     "collapsed": false,
     "input": [],
     "language": "python",
     "metadata": {},
     "outputs": [],
     "prompt_number": 16
    },
    {
     "cell_type": "code",
     "collapsed": false,
     "input": [],
     "language": "python",
     "metadata": {},
     "outputs": [],
     "prompt_number": 16
    },
    {
     "cell_type": "code",
     "collapsed": false,
     "input": [],
     "language": "python",
     "metadata": {},
     "outputs": [],
     "prompt_number": 16
    },
    {
     "cell_type": "code",
     "collapsed": false,
     "input": [],
     "language": "python",
     "metadata": {},
     "outputs": [],
     "prompt_number": 16
    },
    {
     "cell_type": "code",
     "collapsed": false,
     "input": [],
     "language": "python",
     "metadata": {},
     "outputs": [],
     "prompt_number": 604
    },
    {
     "cell_type": "code",
     "collapsed": false,
     "input": [],
     "language": "python",
     "metadata": {},
     "outputs": [],
     "prompt_number": 604
    },
    {
     "cell_type": "code",
     "collapsed": false,
     "input": [],
     "language": "python",
     "metadata": {},
     "outputs": [],
     "prompt_number": 604
    },
    {
     "cell_type": "code",
     "collapsed": false,
     "input": [],
     "language": "python",
     "metadata": {},
     "outputs": [],
     "prompt_number": 604
    },
    {
     "cell_type": "code",
     "collapsed": false,
     "input": [],
     "language": "python",
     "metadata": {},
     "outputs": [],
     "prompt_number": 604
    },
    {
     "cell_type": "code",
     "collapsed": false,
     "input": [],
     "language": "python",
     "metadata": {},
     "outputs": [],
     "prompt_number": 16
    },
    {
     "cell_type": "code",
     "collapsed": false,
     "input": [],
     "language": "python",
     "metadata": {},
     "outputs": [],
     "prompt_number": 16
    },
    {
     "cell_type": "code",
     "collapsed": false,
     "input": [],
     "language": "python",
     "metadata": {},
     "outputs": [],
     "prompt_number": 16
    },
    {
     "cell_type": "code",
     "collapsed": false,
     "input": [],
     "language": "python",
     "metadata": {},
     "outputs": [],
     "prompt_number": 16
    },
    {
     "cell_type": "code",
     "collapsed": false,
     "input": [],
     "language": "python",
     "metadata": {},
     "outputs": [],
     "prompt_number": 16
    },
    {
     "cell_type": "code",
     "collapsed": false,
     "input": [],
     "language": "python",
     "metadata": {},
     "outputs": [],
     "prompt_number": 16
    },
    {
     "cell_type": "code",
     "collapsed": false,
     "input": [],
     "language": "python",
     "metadata": {},
     "outputs": [],
     "prompt_number": 16
    },
    {
     "cell_type": "code",
     "collapsed": false,
     "input": [],
     "language": "python",
     "metadata": {},
     "outputs": [],
     "prompt_number": 16
    },
    {
     "cell_type": "code",
     "collapsed": false,
     "input": [],
     "language": "python",
     "metadata": {},
     "outputs": [],
     "prompt_number": 16
    },
    {
     "cell_type": "code",
     "collapsed": false,
     "input": [],
     "language": "python",
     "metadata": {},
     "outputs": [],
     "prompt_number": 48
    },
    {
     "cell_type": "code",
     "collapsed": false,
     "input": [],
     "language": "python",
     "metadata": {},
     "outputs": [],
     "prompt_number": 16
    },
    {
     "cell_type": "code",
     "collapsed": false,
     "input": [],
     "language": "python",
     "metadata": {},
     "outputs": [],
     "prompt_number": 16
    },
    {
     "cell_type": "code",
     "collapsed": false,
     "input": [],
     "language": "python",
     "metadata": {},
     "outputs": [],
     "prompt_number": 16
    },
    {
     "cell_type": "code",
     "collapsed": false,
     "input": [],
     "language": "python",
     "metadata": {},
     "outputs": [],
     "prompt_number": 16
    },
    {
     "cell_type": "code",
     "collapsed": false,
     "input": [],
     "language": "python",
     "metadata": {},
     "outputs": [],
     "prompt_number": 16
    },
    {
     "cell_type": "code",
     "collapsed": false,
     "input": [],
     "language": "python",
     "metadata": {},
     "outputs": []
    },
    {
     "cell_type": "code",
     "collapsed": false,
     "input": [],
     "language": "python",
     "metadata": {},
     "outputs": [],
     "prompt_number": 23
    },
    {
     "cell_type": "code",
     "collapsed": false,
     "input": [],
     "language": "python",
     "metadata": {},
     "outputs": [],
     "prompt_number": 23
    },
    {
     "cell_type": "code",
     "collapsed": false,
     "input": [],
     "language": "python",
     "metadata": {},
     "outputs": [],
     "prompt_number": 23
    }
   ],
   "metadata": {}
  }
 ]
}