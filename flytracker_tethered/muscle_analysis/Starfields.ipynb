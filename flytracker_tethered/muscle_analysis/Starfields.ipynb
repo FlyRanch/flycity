{
 "metadata": {
  "name": "",
  "signature": "sha256:54512eb97ee6eb8fb135ab8cb073b83092b2cbc7bc9ee346ab8adb21a0f8ef60"
 },
 "nbformat": 3,
 "nbformat_minor": 0,
 "worksheets": [
  {
   "cells": [
    {
     "cell_type": "code",
     "collapsed": false,
     "input": [
      "import transformations as tran"
     ],
     "language": "python",
     "metadata": {},
     "outputs": [],
     "prompt_number": 228
    },
    {
     "cell_type": "code",
     "collapsed": false,
     "input": [
      "def make_universe(universe_size = 20,\n",
      "                  max_sensory_radius = 2,\n",
      "                  star_density = 125):\n",
      "    num_stars = (universe_size**3)*star_density\n",
      "    ux = (random.ranf(size = num_stars)-0.5)*universe_size\n",
      "    uy = (random.ranf(size = num_stars)-0.5)*universe_size\n",
      "    uz = (random.ranf(size = num_stars)-0.5)*universe_size\n",
      "    uxyz = vstack((ux,uy,uz))\n",
      "    distances = linalg.norm(uxyz,axis = 0)\n",
      "    mask = (distances > max_sensory_radius)\n",
      "    xyz = uxyz[:,~mask]\n",
      "    x = ux[~mask]\n",
      "    y = uy[~mask]\n",
      "    z = uz[~mask]\n",
      "    xyz_prime = xyz\n",
      "    return xyz_prime"
     ],
     "language": "python",
     "metadata": {},
     "outputs": [],
     "prompt_number": 229
    },
    {
     "cell_type": "code",
     "collapsed": false,
     "input": [
      "def arena_project(xyz,arena_rad = 0.122,arena_elevation = 0.128):\n",
      "    x = xyz[0,:]\n",
      "    y = xyz[1,:]\n",
      "    z = xyz[2,:]\n",
      "    distances = linalg.norm(xyz,axis = 0)\n",
      "    longitude = arctan2(x,y) + pi\n",
      "    r = squeeze(linalg.norm([[x],[y]],axis = 0))\n",
      "    elevation = (z/r)*arena_rad\n",
      "    mask = (r<arena_rad)| (elevation > arena_elevation/2) | (elevation < arena_elevation/-2)\n",
      "    return (longitude[~mask],elevation[~mask],distances[~mask])"
     ],
     "language": "python",
     "metadata": {},
     "outputs": [],
     "prompt_number": 230
    },
    {
     "cell_type": "code",
     "collapsed": false,
     "input": [
      "def digitize_points(longitude,elevation,distance,arena_elevation = 0.2,display_shape = (96,32)):\n",
      "    elev_bins = linspace(-0.1,0.1,display_shape[1]+1)\n",
      "    long_bins = linspace(0,2*pi,display_shape[0]+1)\n",
      "    weights = 1/distance**2\n",
      "    img_mtrx = histogramdd([longitude,elevation],bins =(long_bins,elev_bins),weights = weights)[0].T\n",
      "    return img_mtrx"
     ],
     "language": "python",
     "metadata": {},
     "outputs": [],
     "prompt_number": 231
    },
    {
     "cell_type": "code",
     "collapsed": false,
     "input": [
      "def integrate_frame(pts,\n",
      "                    rotation_vect = np.array([1.0,1.0,0.0]),\n",
      "                    translation_vect = np.array([0.0,0.0,0.0]),\n",
      "                    frame_period = 0.1):\n",
      "    rotational_velocity = linalg.norm(rotation_vect)\n",
      "    rotational_direction = rotation_vect/rotational_velocity\n",
      "    dt = 0.0001\n",
      "    dtheta = rotational_velocity*dt \n",
      "    drot = tran.rotation_matrix(dtheta,rotational_direction)\n",
      "    dtrans = tran.translation_matrix(translation_vect*dt)\n",
      "    dA = np.dot(dtrans,drot)\n",
      "    for x in range(int(frame_period/dt)):\n",
      "        pts_H = vstack([pts,ones(shape(pts)[1])])\n",
      "        pts = np.dot(dA,pts_H)[:-1,:]\n",
      "    return pts"
     ],
     "language": "python",
     "metadata": {},
     "outputs": [],
     "prompt_number": 275
    },
    {
     "cell_type": "code",
     "collapsed": false,
     "input": [
      "def make_spin_pattern(equator_pole,angular_velocity,frame_rate):\n",
      "    unit_vector = np.array([0.,1.,0.])\n",
      "    orientation_vector = dot(tran.rotation_matrix(equator_pole,[0,0,1])[:3,:3],unit_vector)*angular_velocity\n",
      "    xyzp = integrate_frame(xyz,\n",
      "                       rotation_vect = orientation_vector,\n",
      "                       translation_vect = np.array([0,0,0]),\n",
      "                       frame_period = 1/frame_rate)\n",
      "    proj = arena_project(xyzp)\n",
      "    imgs = digitize_points(*proj)[:,:,newaxis]\n",
      "    frames_per_cycle = int(((2*pi)/angular_velocity)*frame_rate)\n",
      "    for i in range(frames_per_cycle):\n",
      "        xyzp = integrate_frame(xyzp,\n",
      "                           rotation_vect = orientation_vector,\n",
      "                           translation_vect = np.array([0,0,0]),\n",
      "                           frame_period = 1/frame_rate)\n",
      "        proj = arena_project(xyzp)\n",
      "        imgs = concatenate((imgs,digitize_points(*proj)[:,:,newaxis]),axis = 2)\n",
      "    io.savemat('testmat_%03d'%(around(rad2deg(equator_pole))),{'imgs':imgs})\n",
      "\n",
      "xyz = make_universe(star_density = 5)\n",
      "frame_rate = 60.0 \n",
      "display_shape = (96,32)\n",
      "deg_per_pix = 360/display_shape[0]\n",
      "angular_velocity = deg2rad(2.25*frame_rate)\n",
      "\n",
      "for equator_pole in linspace(0,2*pi,13):\n",
      "    make_spin_pattern(equator_pole,angular_velocity,frame_rate)"
     ],
     "language": "python",
     "metadata": {},
     "outputs": [],
     "prompt_number": 293
    },
    {
     "cell_type": "code",
     "collapsed": false,
     "input": [
      "frame_rate = 60.0 \n",
      "display_shape = (96,32)\n",
      "deg_per_pix = 360/display_shape[0]\n",
      "angular_velocity = deg2rad(2.25*frame_rate)"
     ],
     "language": "python",
     "metadata": {},
     "outputs": [],
     "prompt_number": 247
    },
    {
     "cell_type": "code",
     "collapsed": false,
     "input": [
      "int(((2*pi)/angular_velocity)*frame_rate)"
     ],
     "language": "python",
     "metadata": {},
     "outputs": [
      {
       "metadata": {},
       "output_type": "pyout",
       "prompt_number": 272,
       "text": [
        "160"
       ]
      }
     ],
     "prompt_number": 272
    },
    {
     "cell_type": "code",
     "collapsed": false,
     "input": [
      "rad2deg(linspace(0,2*pi,13))"
     ],
     "language": "python",
     "metadata": {},
     "outputs": [
      {
       "metadata": {},
       "output_type": "pyout",
       "prompt_number": 292,
       "text": [
        "array([  0,  29,  59,  90, 119, 149, 180, 210, 239, 270, 299, 330, 360])"
       ]
      }
     ],
     "prompt_number": 292
    },
    {
     "cell_type": "code",
     "collapsed": false,
     "input": [
      "shape(weights)"
     ],
     "language": "python",
     "metadata": {},
     "outputs": [
      {
       "metadata": {},
       "output_type": "pyout",
       "prompt_number": 103,
       "text": [
        "(10000000,)"
       ]
      }
     ],
     "prompt_number": 103
    },
    {
     "cell_type": "code",
     "collapsed": false,
     "input": [
      "60*2.25*pi/180"
     ],
     "language": "python",
     "metadata": {},
     "outputs": [
      {
       "metadata": {},
       "output_type": "pyout",
       "prompt_number": 237,
       "text": [
        "2.356194490192345"
       ]
      }
     ],
     "prompt_number": 237
    },
    {
     "cell_type": "code",
     "collapsed": false,
     "input": [
      "60*2.25"
     ],
     "language": "python",
     "metadata": {},
     "outputs": [
      {
       "metadata": {},
       "output_type": "pyout",
       "prompt_number": 239,
       "text": [
        "135.0"
       ]
      }
     ],
     "prompt_number": 239
    },
    {
     "cell_type": "code",
     "collapsed": false,
     "input": [],
     "language": "python",
     "metadata": {},
     "outputs": [
      {
       "output_type": "stream",
       "stream": "stderr",
       "text": [
        "transformations.py:1888: UserWarning: failed to import module _transformations\n",
        "  warnings.warn(\"failed to import module %s\" % name)\n"
       ]
      }
     ],
     "prompt_number": 12
    },
    {
     "cell_type": "code",
     "collapsed": false,
     "input": [
      "rmat = tran.rotation_matrix(pi/20,[0,0,1])"
     ],
     "language": "python",
     "metadata": {},
     "outputs": [],
     "prompt_number": 15
    },
    {
     "cell_type": "code",
     "collapsed": false,
     "input": [
      "xyz_prime = dot(rmat[:3,:3],xyz)"
     ],
     "language": "python",
     "metadata": {},
     "outputs": [],
     "prompt_number": 24
    },
    {
     "cell_type": "code",
     "collapsed": false,
     "input": [
      "shape(rmat[:3,:3])"
     ],
     "language": "python",
     "metadata": {},
     "outputs": [
      {
       "metadata": {},
       "output_type": "pyout",
       "prompt_number": 20,
       "text": [
        "(3, 3)"
       ]
      }
     ],
     "prompt_number": 20
    },
    {
     "cell_type": "code",
     "collapsed": false,
     "input": [],
     "language": "python",
     "metadata": {},
     "outputs": []
    }
   ],
   "metadata": {}
  }
 ]
}