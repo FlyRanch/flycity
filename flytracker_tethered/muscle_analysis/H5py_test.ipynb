{
 "metadata": {
  "name": "H5py_test"
 },
 "nbformat": 3,
 "nbformat_minor": 0,
 "worksheets": [
  {
   "cells": [
    {
     "cell_type": "code",
     "collapsed": false,
     "input": [
      "fly_db.close()"
     ],
     "language": "python",
     "metadata": {},
     "outputs": [],
     "prompt_number": 8
    },
    {
     "cell_type": "code",
     "collapsed": false,
     "input": [
      "run initalize_flyDB.py"
     ],
     "language": "python",
     "metadata": {},
     "outputs": [],
     "prompt_number": 1
    },
    {
     "cell_type": "code",
     "collapsed": false,
     "input": [
      "import flylib\n",
      "reload(flylib)"
     ],
     "language": "python",
     "metadata": {},
     "outputs": [
      {
       "output_type": "pyout",
       "prompt_number": 2,
       "text": [
        "<module 'flylib' from 'flylib.pyc'>"
       ]
      }
     ],
     "prompt_number": 2
    },
    {
     "cell_type": "code",
     "collapsed": false,
     "input": [
      "swarm = flylib.Squadron(fly_db)"
     ],
     "language": "python",
     "metadata": {},
     "outputs": [],
     "prompt_number": 3
    },
    {
     "cell_type": "code",
     "collapsed": false,
     "input": [
      "for fly in swarm.flies:\n",
      "    lrb = fly.experiments['lr_blob_expansion']\n",
      "    print 'importing data for fly%s'%fly.fly_num\n",
      "    lrb.import_axon_data()\n",
      "    lrb.import_sequence_data()\n",
      "    print 'syncing data'\n",
      "    lrb.sync_sequences()\n",
      "    print lrb.sequences.keys()\n",
      "    for seq_key in lrb.sequences.keys():\n",
      "        seq = lrb.sequences[seq_key]\n",
      "        print 'initializing seq %s'%(seq.seq_num)\n",
      "        seq.calc_kine_phases()\n",
      "        seq.calc_wb_mtrx()\n",
      "        fly_db.flush()"
     ],
     "language": "python",
     "metadata": {},
     "outputs": [
      {
       "output_type": "stream",
       "stream": "stdout",
       "text": [
        "imporing data for fly111\n",
        "syncing data"
       ]
      },
      {
       "output_type": "stream",
       "stream": "stderr",
       "text": [
        "flylib.py:114: UserWarning: problem extracting idxs from camera_sync_signal for epoch 2 using even spaced idx's over the camera epoch instead\n",
        "  warnings.warn(\"problem extracting idxs from camera_sync_signal for epoch %s using even spaced idx's over the camera epoch instead\"%(snum))\n",
        "flylib.py:114: UserWarning: problem extracting idxs from camera_sync_signal for epoch 5 using even spaced idx's over the camera epoch instead\n",
        "  warnings.warn(\"problem extracting idxs from camera_sync_signal for epoch %s using even spaced idx's over the camera epoch instead\"%(snum))\n"
       ]
      },
      {
       "output_type": "stream",
       "stream": "stdout",
       "text": [
        "\n",
        "[1, 2, 3, 4, 5, 6]"
       ]
      },
      {
       "output_type": "stream",
       "stream": "stdout",
       "text": [
        "\n",
        "initializing seq 1\n",
        "(74,)"
       ]
      },
      {
       "output_type": "stream",
       "stream": "stdout",
       "text": [
        "\n",
        "(1234,)\n",
        "(74,)\n",
        "(73,)\n",
        "(1218,)\n",
        "(73,)\n",
        "(76,)"
       ]
      },
      {
       "output_type": "stream",
       "stream": "stdout",
       "text": [
        "\n",
        "(1268,)\n",
        "(76,)\n",
        "(73,)\n",
        "(1218,)\n",
        "(73,)\n",
        "(70,)"
       ]
      },
      {
       "output_type": "stream",
       "stream": "stdout",
       "text": [
        "\n",
        "(1167,)\n",
        "(70,)\n",
        "(70,)\n",
        "(1167,)\n",
        "(70,)\n",
        "(73,)"
       ]
      },
      {
       "output_type": "stream",
       "stream": "stdout",
       "text": [
        "\n",
        "(1217,)\n",
        "(73,)\n",
        "(75,)\n",
        "(1251,)\n",
        "(75,)\n",
        "(72,)"
       ]
      },
      {
       "output_type": "stream",
       "stream": "stdout",
       "text": [
        "\n",
        "(1201,)\n",
        "(72,)\n",
        "(72,)\n",
        "(1201,)\n",
        "(72,)\n",
        "(72,)"
       ]
      },
      {
       "output_type": "stream",
       "stream": "stdout",
       "text": [
        "\n",
        "(1201,)\n",
        "(72,)\n",
        "(73,)\n",
        "(1218,)\n",
        "(73,)\n",
        "(73,)"
       ]
      },
      {
       "output_type": "stream",
       "stream": "stdout",
       "text": [
        "\n",
        "(1218,)\n",
        "(73,)\n",
        "(73,)\n",
        "(1218,)\n",
        "(73,)\n",
        "(72,)"
       ]
      },
      {
       "output_type": "stream",
       "stream": "stdout",
       "text": [
        "\n",
        "(1201,)\n",
        "(72,)\n",
        "(71,)\n",
        "(1184,)\n",
        "(71,)\n",
        "(71,)"
       ]
      },
      {
       "output_type": "stream",
       "stream": "stdout",
       "text": [
        "\n",
        "(1184,)\n",
        "(71,)\n",
        "(71,)\n",
        "(1184,)\n",
        "(71,)\n",
        "(72,)"
       ]
      },
      {
       "output_type": "stream",
       "stream": "stdout",
       "text": [
        "\n",
        "(1201,)\n",
        "(72,)\n",
        "(72,)\n",
        "(1201,)\n",
        "(72,)\n",
        "(72,)"
       ]
      },
      {
       "output_type": "stream",
       "stream": "stdout",
       "text": [
        "\n",
        "(1201,)\n",
        "(72,)\n",
        "(72,)\n",
        "(1201,)\n",
        "(72,)\n",
        "(72,)"
       ]
      },
      {
       "output_type": "stream",
       "stream": "stdout",
       "text": [
        "\n",
        "(1201,)\n",
        "(72,)\n",
        "(72,)\n",
        "(1201,)\n",
        "(72,)\n",
        "(72,)"
       ]
      },
      {
       "output_type": "stream",
       "stream": "stdout",
       "text": [
        "\n",
        "(1201,)\n",
        "(72,)\n",
        "(72,)\n",
        "(1201,)\n",
        "(72,)\n",
        "(72,)"
       ]
      },
      {
       "output_type": "stream",
       "stream": "stdout",
       "text": [
        "\n",
        "(1201,)\n",
        "(72,)\n",
        "(72,)\n",
        "(1201,)\n",
        "(72,)\n",
        "(72,)"
       ]
      },
      {
       "output_type": "stream",
       "stream": "stdout",
       "text": [
        "\n",
        "(1201,)\n",
        "(72,)\n",
        "(72,)\n",
        "(1201,)\n",
        "(72,)\n",
        "(72,)"
       ]
      },
      {
       "output_type": "stream",
       "stream": "stdout",
       "text": [
        "\n",
        "(1201,)\n",
        "(72,)\n",
        "(72,)\n",
        "(1201,)\n",
        "(72,)\n",
        "(72,)"
       ]
      },
      {
       "output_type": "stream",
       "stream": "stdout",
       "text": [
        "\n",
        "(1201,)\n",
        "(72,)\n",
        "(73,)\n",
        "(1218,)\n",
        "(73,)\n",
        "(73,)"
       ]
      },
      {
       "output_type": "stream",
       "stream": "stdout",
       "text": [
        "\n",
        "(1218,)\n",
        "(73,)\n",
        "(73,)\n",
        "(1218,)\n",
        "(73,)\n",
        "(72,)"
       ]
      },
      {
       "output_type": "stream",
       "stream": "stdout",
       "text": [
        "\n",
        "(1201,)\n",
        "(72,)\n",
        "(72,)\n",
        "(1201,)\n",
        "(72,)\n",
        "(73,)"
       ]
      },
      {
       "output_type": "stream",
       "stream": "stdout",
       "text": [
        "\n",
        "(1218,)\n",
        "(73,)\n",
        "(73,)\n",
        "(1218,)\n",
        "(73,)\n",
        "(73,)"
       ]
      },
      {
       "output_type": "stream",
       "stream": "stdout",
       "text": [
        "\n",
        "(1218,)\n",
        "(73,)\n",
        "(73,)\n",
        "(1217,)\n",
        "(73,)\n",
        "(73,)"
       ]
      },
      {
       "output_type": "stream",
       "stream": "stdout",
       "text": [
        "\n",
        "(1217,)\n",
        "(73,)\n",
        "(74,)\n",
        "(1234,)\n",
        "(74,)\n",
        "(73,)"
       ]
      },
      {
       "output_type": "stream",
       "stream": "stdout",
       "text": [
        "\n",
        "(1218,)\n",
        "(73,)\n",
        "(74,)\n",
        "(1235,)\n",
        "(74,)\n",
        "(74,)"
       ]
      },
      {
       "output_type": "stream",
       "stream": "stdout",
       "text": [
        "\n",
        "(1234,)\n",
        "(74,)\n",
        "(74,)\n",
        "(1234,)\n",
        "(74,)\n",
        "(74,)"
       ]
      },
      {
       "output_type": "stream",
       "stream": "stdout",
       "text": [
        "\n",
        "(1234,)\n",
        "(74,)\n",
        "(74,)\n",
        "(1235,)\n",
        "(74,)\n",
        "(74,)"
       ]
      },
      {
       "output_type": "stream",
       "stream": "stdout",
       "text": [
        "\n",
        "(1235,)\n",
        "(74,)\n",
        "(76,)\n",
        "(1268,)\n",
        "(76,)\n",
        "initializing seq 2"
       ]
      },
      {
       "output_type": "stream",
       "stream": "stdout",
       "text": [
        "\n",
        "(76,)"
       ]
      },
      {
       "output_type": "stream",
       "stream": "stdout",
       "text": [
        "\n",
        "(1269,)\n",
        "(76,)\n",
        "(73,)\n",
        "(1218,)\n",
        "(73,)\n",
        "(72,)"
       ]
      },
      {
       "output_type": "stream",
       "stream": "stdout",
       "text": [
        "\n",
        "(1201,)\n",
        "(72,)\n",
        "(72,)\n",
        "(1201,)\n",
        "(72,)\n",
        "(73,)"
       ]
      },
      {
       "output_type": "stream",
       "stream": "stdout",
       "text": [
        "\n",
        "(1219,)\n",
        "(73,)\n",
        "(73,)\n",
        "(1219,)\n",
        "(73,)\n",
        "(72,)"
       ]
      },
      {
       "output_type": "stream",
       "stream": "stdout",
       "text": [
        "\n",
        "(1202,)\n",
        "(72,)\n",
        "(72,)\n",
        "(1201,)\n",
        "(72,)\n",
        "(72,)"
       ]
      },
      {
       "output_type": "stream",
       "stream": "stdout",
       "text": [
        "\n",
        "(1202,)\n",
        "(72,)\n",
        "(73,)\n",
        "(1219,)\n",
        "(73,)\n",
        "(73,)"
       ]
      },
      {
       "output_type": "stream",
       "stream": "stdout",
       "text": [
        "\n",
        "(1219,)\n",
        "(73,)\n",
        "(73,)\n",
        "(1218,)\n",
        "(73,)\n",
        "(72,)"
       ]
      },
      {
       "output_type": "stream",
       "stream": "stdout",
       "text": [
        "\n",
        "(1202,)\n",
        "(72,)\n",
        "(72,)\n",
        "(1202,)\n",
        "(72,)\n",
        "(72,)"
       ]
      },
      {
       "output_type": "stream",
       "stream": "stdout",
       "text": [
        "\n",
        "(1202,)\n",
        "(72,)\n",
        "(72,)\n",
        "(1201,)\n",
        "(72,)\n",
        "(72,)"
       ]
      },
      {
       "output_type": "stream",
       "stream": "stdout",
       "text": [
        "\n",
        "(1202,)\n",
        "(72,)\n",
        "(72,)\n",
        "(1202,)\n",
        "(72,)\n",
        "(72,)"
       ]
      },
      {
       "output_type": "stream",
       "stream": "stdout",
       "text": [
        "\n",
        "(1202,)\n",
        "(72,)\n",
        "(72,)\n",
        "(1201,)\n",
        "(72,)\n",
        "(72,)"
       ]
      },
      {
       "output_type": "stream",
       "stream": "stdout",
       "text": [
        "\n",
        "(1202,)\n",
        "(72,)\n",
        "(72,)\n",
        "(1202,)\n",
        "(72,)\n",
        "(72,)"
       ]
      },
      {
       "output_type": "stream",
       "stream": "stdout",
       "text": [
        "\n",
        "(1202,)\n",
        "(72,)\n",
        "(72,)\n",
        "(1202,)\n",
        "(72,)\n",
        "(72,)"
       ]
      },
      {
       "output_type": "stream",
       "stream": "stdout",
       "text": [
        "\n",
        "(1202,)\n",
        "(72,)\n",
        "(72,)\n",
        "(1202,)\n",
        "(72,)\n",
        "(73,)"
       ]
      },
      {
       "output_type": "stream",
       "stream": "stdout",
       "text": [
        "\n",
        "(1218,)\n",
        "(73,)\n",
        "(73,)\n",
        "(1218,)\n",
        "(73,)\n",
        "(73,)"
       ]
      },
      {
       "output_type": "stream",
       "stream": "stdout",
       "text": [
        "\n",
        "(1219,)\n",
        "(73,)\n",
        "(72,)\n",
        "(1202,)\n",
        "(72,)\n",
        "(72,)"
       ]
      },
      {
       "output_type": "stream",
       "stream": "stdout",
       "text": [
        "\n",
        "(1202,)\n",
        "(72,)\n",
        "(72,)\n",
        "(1201,)\n",
        "(72,)\n",
        "(72,)"
       ]
      },
      {
       "output_type": "stream",
       "stream": "stdout",
       "text": [
        "\n",
        "(1202,)\n",
        "(72,)\n",
        "(72,)\n",
        "(1202,)\n",
        "(72,)\n",
        "(72,)"
       ]
      },
      {
       "output_type": "stream",
       "stream": "stdout",
       "text": [
        "\n",
        "(1202,)\n",
        "(72,)\n",
        "(72,)\n",
        "(1202,)\n",
        "(72,)\n",
        "(72,)"
       ]
      },
      {
       "output_type": "stream",
       "stream": "stdout",
       "text": [
        "\n",
        "(1202,)\n",
        "(72,)\n",
        "(72,)\n",
        "(1202,)\n",
        "(72,)\n",
        "(73,)"
       ]
      },
      {
       "output_type": "stream",
       "stream": "stdout",
       "text": [
        "\n",
        "(1218,)\n",
        "(73,)\n",
        "(73,)\n",
        "(1218,)\n",
        "(73,)\n",
        "(73,)"
       ]
      },
      {
       "output_type": "stream",
       "stream": "stdout",
       "text": [
        "\n",
        "(1219,)\n",
        "(73,)\n",
        "(73,)\n",
        "(1219,)\n",
        "(73,)\n",
        "(75,)"
       ]
      },
      {
       "output_type": "stream",
       "stream": "stdout",
       "text": [
        "\n",
        "(1252,)\n",
        "(75,)\n",
        "(75,)\n",
        "(1251,)\n",
        "(75,)\n",
        "(76,)"
       ]
      },
      {
       "output_type": "stream",
       "stream": "stdout",
       "text": [
        "\n",
        "(1268,)\n",
        "(76,)\n",
        "(75,)\n",
        "(1252,)\n",
        "(75,)\n",
        "(76,)"
       ]
      },
      {
       "output_type": "stream",
       "stream": "stdout",
       "text": [
        "\n",
        "(1269,)\n",
        "(76,)\n",
        "(75,)\n",
        "(1252,)\n",
        "(75,)\n",
        "(75,)"
       ]
      },
      {
       "output_type": "stream",
       "stream": "stdout",
       "text": [
        "\n",
        "(1252,)\n",
        "(75,)\n",
        "(75,)\n",
        "(1252,)\n",
        "(75,)\n",
        "initializing seq 3"
       ]
      },
      {
       "output_type": "stream",
       "stream": "stdout",
       "text": [
        "\n",
        "(76,)"
       ]
      },
      {
       "output_type": "stream",
       "stream": "stdout",
       "text": [
        "\n",
        "(1268,)\n",
        "(76,)\n",
        "(75,)\n",
        "(1251,)\n",
        "(75,)\n",
        "(75,)"
       ]
      },
      {
       "output_type": "stream",
       "stream": "stdout",
       "text": [
        "\n",
        "(1251,)\n",
        "(75,)\n",
        "(76,)\n",
        "(1268,)\n",
        "(76,)\n",
        "(77,)"
       ]
      },
      {
       "output_type": "stream",
       "stream": "stdout",
       "text": [
        "\n",
        "(1284,)\n",
        "(77,)\n",
        "(75,)\n",
        "(1251,)\n",
        "(75,)\n",
        "(73,)"
       ]
      },
      {
       "output_type": "stream",
       "stream": "stdout",
       "text": [
        "\n",
        "(1217,)\n",
        "(73,)\n",
        "(73,)\n",
        "(1218,)\n",
        "(73,)\n",
        "(75,)"
       ]
      },
      {
       "output_type": "stream",
       "stream": "stdout",
       "text": [
        "\n",
        "(1251,)\n",
        "(75,)\n",
        "(76,)\n",
        "(1268,)\n",
        "(76,)\n",
        "(75,)"
       ]
      },
      {
       "output_type": "stream",
       "stream": "stdout",
       "text": [
        "\n",
        "(1251,)\n",
        "(75,)\n",
        "(75,)\n",
        "(1251,)\n",
        "(75,)\n",
        "(75,)"
       ]
      },
      {
       "output_type": "stream",
       "stream": "stdout",
       "text": [
        "\n",
        "(1251,)\n",
        "(75,)\n",
        "(74,)\n",
        "(1234,)\n",
        "(74,)\n",
        "(74,)"
       ]
      },
      {
       "output_type": "stream",
       "stream": "stdout",
       "text": [
        "\n",
        "(1235,)\n",
        "(74,)\n",
        "(74,)\n",
        "(1234,)\n",
        "(74,)\n",
        "(75,)"
       ]
      },
      {
       "output_type": "stream",
       "stream": "stdout",
       "text": [
        "\n",
        "(1251,)\n",
        "(75,)\n",
        "(75,)\n",
        "(1251,)\n",
        "(75,)\n",
        "(74,)"
       ]
      },
      {
       "output_type": "stream",
       "stream": "stdout",
       "text": [
        "\n",
        "(1235,)\n",
        "(74,)\n",
        "(74,)\n",
        "(1234,)\n",
        "(74,)\n",
        "(74,)"
       ]
      },
      {
       "output_type": "stream",
       "stream": "stdout",
       "text": [
        "\n",
        "(1234,)\n",
        "(74,)\n",
        "(75,)\n",
        "(1251,)\n",
        "(75,)\n",
        "(74,)"
       ]
      },
      {
       "output_type": "stream",
       "stream": "stdout",
       "text": [
        "\n",
        "(1235,)\n",
        "(74,)\n",
        "(74,)\n",
        "(1234,)\n",
        "(74,)\n",
        "(74,)"
       ]
      },
      {
       "output_type": "stream",
       "stream": "stdout",
       "text": [
        "\n",
        "(1234,)\n",
        "(74,)\n",
        "(74,)\n",
        "(1234,)\n",
        "(74,)\n",
        "(74,)"
       ]
      },
      {
       "output_type": "stream",
       "stream": "stdout",
       "text": [
        "\n",
        "(1235,)\n",
        "(74,)\n",
        "(74,)\n",
        "(1234,)\n",
        "(74,)\n",
        "(75,)"
       ]
      },
      {
       "output_type": "stream",
       "stream": "stdout",
       "text": [
        "\n",
        "(1251,)\n",
        "(75,)\n",
        "(75,)\n",
        "(1251,)\n",
        "(75,)\n",
        "(74,)"
       ]
      },
      {
       "output_type": "stream",
       "stream": "stdout",
       "text": [
        "\n",
        "(1235,)\n",
        "(74,)\n",
        "(74,)\n",
        "(1234,)\n",
        "(74,)\n",
        "(74,)"
       ]
      },
      {
       "output_type": "stream",
       "stream": "stdout",
       "text": [
        "\n",
        "(1234,)\n",
        "(74,)\n",
        "(75,)\n",
        "(1251,)\n",
        "(75,)\n",
        "(74,)"
       ]
      },
      {
       "output_type": "stream",
       "stream": "stdout",
       "text": [
        "\n",
        "(1235,)\n",
        "(74,)\n",
        "(74,)\n",
        "(1234,)\n",
        "(74,)\n",
        "(74,)"
       ]
      },
      {
       "output_type": "stream",
       "stream": "stdout",
       "text": [
        "\n",
        "(1234,)\n",
        "(74,)\n",
        "(75,)\n",
        "(1251,)\n",
        "(75,)\n",
        "(74,)"
       ]
      },
      {
       "output_type": "stream",
       "stream": "stdout",
       "text": [
        "\n",
        "(1235,)\n",
        "(74,)\n",
        "(74,)\n",
        "(1234,)\n",
        "(74,)\n",
        "(74,)"
       ]
      },
      {
       "output_type": "stream",
       "stream": "stdout",
       "text": [
        "\n",
        "(1234,)\n",
        "(74,)\n",
        "(74,)\n",
        "(1234,)\n",
        "(74,)\n",
        "(74,)"
       ]
      },
      {
       "output_type": "stream",
       "stream": "stdout",
       "text": [
        "\n",
        "(1235,)\n",
        "(74,)\n",
        "(73,)\n",
        "(1218,)\n",
        "(73,)\n",
        "(74,)"
       ]
      },
      {
       "output_type": "stream",
       "stream": "stdout",
       "text": [
        "\n",
        "(1234,)\n",
        "(74,)\n",
        "(74,)\n",
        "(1234,)\n",
        "(74,)\n",
        "(74,)"
       ]
      },
      {
       "output_type": "stream",
       "stream": "stdout",
       "text": [
        "\n",
        "(1234,)\n",
        "(74,)\n",
        "initializing seq 4"
       ]
      },
      {
       "output_type": "stream",
       "stream": "stdout",
       "text": [
        "\n",
        "(75,)"
       ]
      },
      {
       "output_type": "stream",
       "stream": "stdout",
       "text": [
        "\n",
        "(1251,)\n",
        "(75,)\n",
        "(75,)\n",
        "(1251,)\n",
        "(75,)\n",
        "(73,)"
       ]
      },
      {
       "output_type": "stream",
       "stream": "stdout",
       "text": [
        "\n",
        "(1217,)\n",
        "(73,)\n",
        "(73,)\n",
        "(1217,)\n",
        "(73,)\n",
        "(73,)"
       ]
      },
      {
       "output_type": "stream",
       "stream": "stdout",
       "text": [
        "\n",
        "(1218,)\n",
        "(73,)\n",
        "(74,)\n",
        "(1235,)\n",
        "(74,)\n",
        "(74,)"
       ]
      },
      {
       "output_type": "stream",
       "stream": "stdout",
       "text": [
        "\n",
        "(1235,)\n",
        "(74,)\n",
        "(73,)\n",
        "(1218,)\n",
        "(73,)\n",
        "(73,)"
       ]
      },
      {
       "output_type": "stream",
       "stream": "stdout",
       "text": [
        "\n",
        "(1217,)\n",
        "(73,)\n",
        "(73,)\n",
        "(1217,)\n",
        "(73,)\n",
        "(74,)"
       ]
      },
      {
       "output_type": "stream",
       "stream": "stdout",
       "text": [
        "\n",
        "(1234,)\n",
        "(74,)\n",
        "(73,)\n",
        "(1218,)\n",
        "(73,)\n",
        "(74,)"
       ]
      },
      {
       "output_type": "stream",
       "stream": "stdout",
       "text": [
        "\n",
        "(1235,)\n",
        "(74,)\n",
        "(73,)\n",
        "(1218,)\n",
        "(73,)\n",
        "(74,)"
       ]
      },
      {
       "output_type": "stream",
       "stream": "stdout",
       "text": [
        "\n",
        "(1234,)\n",
        "(74,)\n",
        "(73,)\n",
        "(1217,)\n",
        "(73,)\n",
        "(74,)"
       ]
      },
      {
       "output_type": "stream",
       "stream": "stdout",
       "text": [
        "\n",
        "(1234,)\n",
        "(74,)\n",
        "(73,)\n",
        "(1218,)\n",
        "(73,)\n",
        "(74,)"
       ]
      },
      {
       "output_type": "stream",
       "stream": "stdout",
       "text": [
        "\n",
        "(1235,)\n",
        "(74,)\n",
        "(73,)\n",
        "(1218,)\n",
        "(73,)\n",
        "(74,)"
       ]
      },
      {
       "output_type": "stream",
       "stream": "stdout",
       "text": [
        "\n",
        "(1234,)\n",
        "(74,)\n",
        "(74,)\n",
        "(1234,)\n",
        "(74,)\n",
        "(75,)"
       ]
      },
      {
       "output_type": "stream",
       "stream": "stdout",
       "text": [
        "\n",
        "(1251,)\n",
        "(75,)\n",
        "(75,)\n",
        "(1251,)\n",
        "(75,)\n",
        "(75,)"
       ]
      },
      {
       "output_type": "stream",
       "stream": "stdout",
       "text": [
        "\n",
        "(1251,)\n",
        "(75,)\n",
        "(74,)\n",
        "(1234,)\n",
        "(74,)\n",
        "(74,)"
       ]
      },
      {
       "output_type": "stream",
       "stream": "stdout",
       "text": [
        "\n",
        "(1235,)\n",
        "(74,)\n",
        "(74,)\n",
        "(1234,)\n",
        "(74,)\n",
        "(75,)"
       ]
      },
      {
       "output_type": "stream",
       "stream": "stdout",
       "text": [
        "\n",
        "(1251,)\n",
        "(75,)\n",
        "(75,)\n",
        "(1251,)\n",
        "(75,)\n",
        "(75,)"
       ]
      },
      {
       "output_type": "stream",
       "stream": "stdout",
       "text": [
        "\n",
        "(1251,)\n",
        "(75,)\n",
        "(75,)\n",
        "(1251,)\n",
        "(75,)\n",
        "(75,)"
       ]
      },
      {
       "output_type": "stream",
       "stream": "stdout",
       "text": [
        "\n",
        "(1251,)\n",
        "(75,)\n",
        "(74,)\n",
        "(1235,)\n",
        "(74,)\n",
        "(74,)"
       ]
      },
      {
       "output_type": "stream",
       "stream": "stdout",
       "text": [
        "\n",
        "(1234,)\n",
        "(74,)\n",
        "(74,)\n",
        "(1234,)\n",
        "(74,)\n",
        "(76,)"
       ]
      },
      {
       "output_type": "stream",
       "stream": "stdout",
       "text": [
        "\n",
        "(1267,)\n",
        "(76,)\n",
        "(77,)\n",
        "(1285,)\n",
        "(77,)\n",
        "(79,)"
       ]
      },
      {
       "output_type": "stream",
       "stream": "stdout",
       "text": [
        "\n",
        "(1318,)\n",
        "(79,)\n",
        "(80,)\n",
        "(1335,)\n",
        "(80,)\n",
        "(84,)"
       ]
      },
      {
       "output_type": "stream",
       "stream": "stdout",
       "text": [
        "\n",
        "(1401,)\n",
        "(84,)\n",
        "(86,)\n",
        "(1434,)\n",
        "(86,)\n",
        "(87,)"
       ]
      },
      {
       "output_type": "stream",
       "stream": "stdout",
       "text": [
        "\n",
        "(1451,)\n",
        "(87,)\n",
        "(83,)\n",
        "(1384,)\n",
        "(83,)\n",
        "(79,)"
       ]
      },
      {
       "output_type": "stream",
       "stream": "stdout",
       "text": [
        "\n",
        "(1318,)\n",
        "(79,)\n",
        "(76,)\n",
        "(1267,)\n",
        "(76,)\n",
        "initializing seq 5"
       ]
      },
      {
       "output_type": "stream",
       "stream": "stdout",
       "text": [
        "\n",
        "(75,)"
       ]
      },
      {
       "output_type": "stream",
       "stream": "stdout",
       "text": [
        "\n",
        "(1252,)\n",
        "(75,)\n",
        "(73,)\n",
        "(1219,)\n",
        "(73,)\n",
        "(76,)"
       ]
      },
      {
       "output_type": "stream",
       "stream": "stdout",
       "text": [
        "\n",
        "(1269,)\n",
        "(76,)\n",
        "(73,)\n",
        "(1219,)\n",
        "(73,)\n",
        "(71,)"
       ]
      },
      {
       "output_type": "stream",
       "stream": "stdout",
       "text": [
        "\n",
        "(1185,)\n",
        "(71,)\n",
        "(71,)\n",
        "(1185,)\n",
        "(71,)\n",
        "(73,)"
       ]
      },
      {
       "output_type": "stream",
       "stream": "stdout",
       "text": [
        "\n",
        "(1218,)\n",
        "(73,)\n",
        "(75,)\n",
        "(1252,)\n",
        "(75,)\n",
        "(73,)"
       ]
      },
      {
       "output_type": "stream",
       "stream": "stdout",
       "text": [
        "\n",
        "(1219,)\n",
        "(73,)\n",
        "(73,)\n",
        "(1219,)\n",
        "(73,)\n",
        "(74,)"
       ]
      },
      {
       "output_type": "stream",
       "stream": "stdout",
       "text": [
        "\n",
        "(1235,)\n",
        "(74,)\n",
        "(73,)\n",
        "(1218,)\n",
        "(73,)\n",
        "(74,)"
       ]
      },
      {
       "output_type": "stream",
       "stream": "stdout",
       "text": [
        "\n",
        "(1235,)\n",
        "(74,)\n",
        "(73,)\n",
        "(1218,)\n",
        "(73,)\n",
        "(73,)"
       ]
      },
      {
       "output_type": "stream",
       "stream": "stdout",
       "text": [
        "\n",
        "(1219,)\n",
        "(73,)\n",
        "(73,)\n",
        "(1219,)\n",
        "(73,)\n",
        "(75,)"
       ]
      },
      {
       "output_type": "stream",
       "stream": "stdout",
       "text": [
        "\n",
        "(1252,)\n",
        "(75,)\n",
        "(71,)\n",
        "(1185,)\n",
        "(71,)\n",
        "(70,)"
       ]
      },
      {
       "output_type": "stream",
       "stream": "stdout",
       "text": [
        "\n",
        "(1168,)\n",
        "(70,)\n",
        "(71,)\n",
        "(1185,)\n",
        "(71,)\n",
        "(75,)"
       ]
      },
      {
       "output_type": "stream",
       "stream": "stdout",
       "text": [
        "\n",
        "(1252,)\n",
        "(75,)\n",
        "(76,)\n",
        "(1269,)\n",
        "(76,)\n",
        "(73,)"
       ]
      },
      {
       "output_type": "stream",
       "stream": "stdout",
       "text": [
        "\n",
        "(1219,)\n",
        "(73,)\n",
        "(74,)\n",
        "(1235,)\n",
        "(74,)\n",
        "(73,)"
       ]
      },
      {
       "output_type": "stream",
       "stream": "stdout",
       "text": [
        "\n",
        "(1218,)\n",
        "(73,)\n",
        "(73,)\n",
        "(1218,)\n",
        "(73,)\n",
        "(73,)"
       ]
      },
      {
       "output_type": "stream",
       "stream": "stdout",
       "text": [
        "\n",
        "(1218,)\n",
        "(73,)\n",
        "(73,)\n",
        "(1219,)\n",
        "(73,)\n",
        "(74,)"
       ]
      },
      {
       "output_type": "stream",
       "stream": "stdout",
       "text": [
        "\n",
        "(1235,)\n",
        "(74,)\n",
        "(73,)\n",
        "(1219,)\n",
        "(73,)\n",
        "(74,)"
       ]
      },
      {
       "output_type": "stream",
       "stream": "stdout",
       "text": [
        "\n",
        "(1235,)\n",
        "(74,)\n",
        "(73,)\n",
        "(1219,)\n",
        "(73,)\n",
        "(74,)"
       ]
      },
      {
       "output_type": "stream",
       "stream": "stdout",
       "text": [
        "\n",
        "(1235,)\n",
        "(74,)\n",
        "(73,)\n",
        "(1218,)\n",
        "(73,)\n",
        "(74,)"
       ]
      },
      {
       "output_type": "stream",
       "stream": "stdout",
       "text": [
        "\n",
        "(1235,)\n",
        "(74,)\n",
        "(74,)\n",
        "(1235,)\n",
        "(74,)\n",
        "(74,)"
       ]
      },
      {
       "output_type": "stream",
       "stream": "stdout",
       "text": [
        "\n",
        "(1235,)\n",
        "(74,)\n",
        "(74,)\n",
        "(1235,)\n",
        "(74,)\n",
        "(73,)"
       ]
      },
      {
       "output_type": "stream",
       "stream": "stdout",
       "text": [
        "\n",
        "(1219,)\n",
        "(73,)\n",
        "(74,)\n",
        "(1236,)\n",
        "(74,)\n",
        "(74,)"
       ]
      },
      {
       "output_type": "stream",
       "stream": "stdout",
       "text": [
        "\n",
        "(1236,)\n",
        "(74,)\n",
        "(75,)\n",
        "(1252,)\n",
        "(75,)\n",
        "(75,)"
       ]
      },
      {
       "output_type": "stream",
       "stream": "stdout",
       "text": [
        "\n",
        "(1251,)\n",
        "(75,)\n",
        "(75,)\n",
        "(1251,)\n",
        "(75,)\n",
        "(75,)"
       ]
      },
      {
       "output_type": "stream",
       "stream": "stdout",
       "text": [
        "\n",
        "(1251,)\n",
        "(75,)\n",
        "(75,)"
       ]
      },
      {
       "output_type": "stream",
       "stream": "stdout",
       "text": [
        "\n",
        "(1252,)\n",
        "(75,)\n",
        "(75,)\n",
        "(1252,)\n",
        "(75,)\n",
        "initializing seq 6"
       ]
      },
      {
       "output_type": "stream",
       "stream": "stdout",
       "text": [
        "\n",
        "(76,)"
       ]
      },
      {
       "output_type": "stream",
       "stream": "stdout",
       "text": [
        "\n",
        "(1267,)\n",
        "(76,)\n",
        "(74,)\n",
        "(1234,)\n",
        "(74,)\n",
        "(74,)"
       ]
      },
      {
       "output_type": "stream",
       "stream": "stdout",
       "text": [
        "\n",
        "(1234,)\n",
        "(74,)\n",
        "(74,)\n",
        "(1235,)\n",
        "(74,)\n",
        "(73,)"
       ]
      },
      {
       "output_type": "stream",
       "stream": "stdout",
       "text": [
        "\n",
        "(1218,)\n",
        "(73,)\n",
        "(73,)\n",
        "(1218,)\n",
        "(73,)\n",
        "(73,)"
       ]
      },
      {
       "output_type": "stream",
       "stream": "stdout",
       "text": [
        "\n",
        "(1217,)\n",
        "(73,)\n",
        "(73,)\n",
        "(1217,)\n",
        "(73,)\n",
        "(73,)"
       ]
      },
      {
       "output_type": "stream",
       "stream": "stdout",
       "text": [
        "\n",
        "(1217,)\n",
        "(73,)\n",
        "(72,)\n",
        "(1201,)\n",
        "(72,)\n",
        "(72,)"
       ]
      },
      {
       "output_type": "stream",
       "stream": "stdout",
       "text": [
        "\n",
        "(1201,)\n",
        "(72,)\n",
        "(72,)\n",
        "(1201,)\n",
        "(72,)\n",
        "(72,)"
       ]
      },
      {
       "output_type": "stream",
       "stream": "stdout",
       "text": [
        "\n",
        "(1201,)\n",
        "(72,)\n",
        "(73,)\n",
        "(1218,)\n",
        "(73,)\n",
        "(73,)"
       ]
      },
      {
       "output_type": "stream",
       "stream": "stdout",
       "text": [
        "\n",
        "(1218,)\n",
        "(73,)\n",
        "(73,)\n",
        "(1218,)\n",
        "(73,)\n",
        "(72,)"
       ]
      },
      {
       "output_type": "stream",
       "stream": "stdout",
       "text": [
        "\n",
        "(1201,)\n",
        "(72,)\n",
        "(73,)\n",
        "(1218,)\n",
        "(73,)\n",
        "(73,)"
       ]
      },
      {
       "output_type": "stream",
       "stream": "stdout",
       "text": [
        "\n",
        "(1218,)\n",
        "(73,)\n",
        "(73,)\n",
        "(1218,)\n",
        "(73,)\n",
        "(72,)"
       ]
      },
      {
       "output_type": "stream",
       "stream": "stdout",
       "text": [
        "\n",
        "(1201,)\n",
        "(72,)\n",
        "(73,)\n",
        "(1217,)\n",
        "(73,)\n",
        "(73,)"
       ]
      },
      {
       "output_type": "stream",
       "stream": "stdout",
       "text": [
        "\n",
        "(1217,)\n",
        "(73,)\n",
        "(73,)\n",
        "(1217,)\n",
        "(73,)\n",
        "(72,)"
       ]
      },
      {
       "output_type": "stream",
       "stream": "stdout",
       "text": [
        "\n",
        "(1201,)\n",
        "(72,)\n",
        "(72,)\n",
        "(1201,)\n",
        "(72,)\n",
        "(72,)"
       ]
      },
      {
       "output_type": "stream",
       "stream": "stdout",
       "text": [
        "\n",
        "(1201,)\n",
        "(72,)\n",
        "(72,)\n",
        "(1201,)\n",
        "(72,)\n",
        "(72,)"
       ]
      },
      {
       "output_type": "stream",
       "stream": "stdout",
       "text": [
        "\n",
        "(1201,)\n",
        "(72,)\n",
        "(73,)\n",
        "(1218,)\n",
        "(73,)\n",
        "(73,)"
       ]
      },
      {
       "output_type": "stream",
       "stream": "stdout",
       "text": [
        "\n",
        "(1218,)\n",
        "(73,)\n",
        "(73,)\n",
        "(1218,)\n",
        "(73,)\n",
        "(71,)"
       ]
      },
      {
       "output_type": "stream",
       "stream": "stdout",
       "text": [
        "\n",
        "(1184,)\n",
        "(71,)\n",
        "(71,)\n",
        "(1184,)\n",
        "(71,)\n",
        "(71,)"
       ]
      },
      {
       "output_type": "stream",
       "stream": "stdout",
       "text": [
        "\n",
        "(1184,)\n",
        "(71,)\n",
        "(72,)\n",
        "(1201,)\n",
        "(72,)\n",
        "(72,)"
       ]
      },
      {
       "output_type": "stream",
       "stream": "stdout",
       "text": [
        "\n",
        "(1201,)\n",
        "(72,)\n",
        "(73,)\n",
        "(1218,)\n",
        "(73,)\n",
        "(73,)"
       ]
      },
      {
       "output_type": "stream",
       "stream": "stdout",
       "text": [
        "\n",
        "(1218,)\n",
        "(73,)\n",
        "(73,)\n",
        "(1218,)\n",
        "(73,)\n",
        "(72,)"
       ]
      },
      {
       "output_type": "stream",
       "stream": "stdout",
       "text": [
        "\n",
        "(1201,)\n",
        "(72,)\n",
        "(72,)\n",
        "(1201,)\n",
        "(72,)\n",
        "(72,)"
       ]
      },
      {
       "output_type": "stream",
       "stream": "stdout",
       "text": [
        "\n",
        "(1201,)\n",
        "(72,)\n",
        "(72,)\n",
        "(1201,)\n",
        "(72,)\n",
        "(72,)"
       ]
      },
      {
       "output_type": "stream",
       "stream": "stdout",
       "text": [
        "\n",
        "(1201,)\n",
        "(72,)\n",
        "(72,)\n",
        "(1201,)\n",
        "(72,)\n",
        "(72,)"
       ]
      },
      {
       "output_type": "stream",
       "stream": "stdout",
       "text": [
        "\n",
        "(1201,)\n",
        "(72,)\n",
        "(72,)\n",
        "(1201,)\n",
        "(72,)\n",
        "(72,)"
       ]
      },
      {
       "output_type": "stream",
       "stream": "stdout",
       "text": [
        "\n",
        "(1201,)\n",
        "(72,)\n",
        "(73,)\n",
        "(1218,)\n",
        "(73,)\n",
        "imporing data for fly112"
       ]
      },
      {
       "output_type": "stream",
       "stream": "stdout",
       "text": [
        "\n",
        "syncing data"
       ]
      },
      {
       "output_type": "stream",
       "stream": "stdout",
       "text": [
        "\n",
        "[7, 8, 9, 10, 11, 12]"
       ]
      },
      {
       "output_type": "stream",
       "stream": "stdout",
       "text": [
        "\n",
        "initializing seq 7\n",
        "(76,)"
       ]
      },
      {
       "output_type": "stream",
       "stream": "stdout",
       "text": [
        "\n",
        "(1268,)\n",
        "(76,)\n",
        "(74,)\n",
        "(1235,)\n",
        "(74,)\n",
        "(74,)"
       ]
      },
      {
       "output_type": "stream",
       "stream": "stdout",
       "text": [
        "\n",
        "(1235,)\n",
        "(74,)\n",
        "(73,)\n",
        "(1218,)\n",
        "(73,)\n",
        "(73,)"
       ]
      },
      {
       "output_type": "stream",
       "stream": "stdout",
       "text": [
        "\n",
        "(1217,)\n",
        "(73,)\n",
        "(73,)\n",
        "(1217,)\n",
        "(73,)\n",
        "(74,)"
       ]
      },
      {
       "output_type": "stream",
       "stream": "stdout",
       "text": [
        "\n",
        "(1234,)\n",
        "(74,)\n",
        "(73,)\n",
        "(1218,)\n",
        "(73,)\n",
        "(73,)"
       ]
      },
      {
       "output_type": "stream",
       "stream": "stdout",
       "text": [
        "\n",
        "(1218,)\n",
        "(73,)\n",
        "(73,)\n",
        "(1218,)\n",
        "(73,)\n",
        "(73,)"
       ]
      },
      {
       "output_type": "stream",
       "stream": "stdout",
       "text": [
        "\n",
        "(1218,)\n",
        "(73,)\n",
        "(73,)\n",
        "(1218,)\n",
        "(73,)\n",
        "(73,)"
       ]
      },
      {
       "output_type": "stream",
       "stream": "stdout",
       "text": [
        "\n",
        "(1217,)\n",
        "(73,)\n",
        "(73,)\n",
        "(1217,)\n",
        "(73,)\n",
        "(74,)"
       ]
      },
      {
       "output_type": "stream",
       "stream": "stdout",
       "text": [
        "\n",
        "(1234,)\n",
        "(74,)\n",
        "(73,)\n",
        "(1218,)\n",
        "(73,)\n",
        "(74,)"
       ]
      },
      {
       "output_type": "stream",
       "stream": "stdout",
       "text": [
        "\n",
        "(1235,)\n",
        "(74,)\n",
        "(73,)\n",
        "(1218,)\n",
        "(73,)\n",
        "(74,)"
       ]
      },
      {
       "output_type": "stream",
       "stream": "stdout",
       "text": [
        "\n",
        "(1234,)\n",
        "(74,)\n",
        "(73,)\n",
        "(1217,)\n",
        "(73,)\n",
        "(73,)"
       ]
      },
      {
       "output_type": "stream",
       "stream": "stdout",
       "text": [
        "\n",
        "(1217,)\n",
        "(73,)\n",
        "(73,)\n",
        "(1218,)\n",
        "(73,)\n",
        "(73,)"
       ]
      },
      {
       "output_type": "stream",
       "stream": "stdout",
       "text": [
        "\n",
        "(1218,)\n",
        "(73,)\n",
        "(72,)\n",
        "(1201,)\n",
        "(72,)\n",
        "(72,)"
       ]
      },
      {
       "output_type": "stream",
       "stream": "stdout",
       "text": [
        "\n",
        "(1201,)\n",
        "(72,)\n",
        "(72,)\n",
        "(1201,)\n",
        "(72,)\n",
        "(73,)"
       ]
      },
      {
       "output_type": "stream",
       "stream": "stdout",
       "text": [
        "\n",
        "(1218,)\n",
        "(73,)\n",
        "(72,)\n",
        "(1201,)\n",
        "(72,)\n",
        "(72,)"
       ]
      },
      {
       "output_type": "stream",
       "stream": "stdout",
       "text": [
        "\n",
        "(1201,)\n",
        "(72,)\n",
        "(73,)\n",
        "(1217,)\n",
        "(73,)\n",
        "(73,)"
       ]
      },
      {
       "output_type": "stream",
       "stream": "stdout",
       "text": [
        "\n",
        "(1217,)\n",
        "(73,)\n",
        "(73,)\n",
        "(1217,)\n",
        "(73,)\n",
        "(71,)"
       ]
      },
      {
       "output_type": "stream",
       "stream": "stdout",
       "text": [
        "\n",
        "(1185,)\n",
        "(71,)\n",
        "(71,)\n",
        "(1185,)\n",
        "(71,)\n",
        "(71,)"
       ]
      },
      {
       "output_type": "stream",
       "stream": "stdout",
       "text": [
        "\n",
        "(1185,)\n",
        "(71,)\n",
        "(72,)\n",
        "(1201,)\n",
        "(72,)\n",
        "(72,)"
       ]
      },
      {
       "output_type": "stream",
       "stream": "stdout",
       "text": [
        "\n",
        "(1201,)\n",
        "(72,)\n",
        "(72,)\n",
        "(1201,)\n",
        "(72,)\n",
        "(73,)"
       ]
      },
      {
       "output_type": "stream",
       "stream": "stdout",
       "text": [
        "\n",
        "(1217,)\n",
        "(73,)\n",
        "(73,)\n",
        "(1217,)\n",
        "(73,)\n",
        "(73,)"
       ]
      },
      {
       "output_type": "stream",
       "stream": "stdout",
       "text": [
        "\n",
        "(1217,)\n",
        "(73,)\n",
        "(73,)\n",
        "(1218,)\n",
        "(73,)\n",
        "(73,)"
       ]
      },
      {
       "output_type": "stream",
       "stream": "stdout",
       "text": [
        "\n",
        "(1218,)\n",
        "(73,)\n",
        "(74,)\n",
        "(1235,)\n",
        "(74,)\n",
        "(73,)"
       ]
      },
      {
       "output_type": "stream",
       "stream": "stdout",
       "text": [
        "\n",
        "(1218,)\n",
        "(73,)\n",
        "(74,)\n",
        "(1234,)\n",
        "(74,)\n",
        "(73,)"
       ]
      },
      {
       "output_type": "stream",
       "stream": "stdout",
       "text": [
        "\n",
        "(1217,)\n",
        "(73,)\n",
        "(73,)\n",
        "(1217,)\n",
        "(73,)\n",
        "(73,)"
       ]
      },
      {
       "output_type": "stream",
       "stream": "stdout",
       "text": [
        "\n",
        "(1218,)\n",
        "(73,)\n",
        "initializing seq 8"
       ]
      },
      {
       "output_type": "stream",
       "stream": "stdout",
       "text": [
        "\n",
        "(79,)"
       ]
      },
      {
       "output_type": "stream",
       "stream": "stdout",
       "text": [
        "\n",
        "(1318,)\n",
        "(79,)\n",
        "(77,)\n",
        "(1284,)\n",
        "(77,)\n",
        "(76,)"
       ]
      },
      {
       "output_type": "stream",
       "stream": "stdout",
       "text": [
        "\n",
        "(1268,)\n",
        "(76,)\n",
        "(76,)\n",
        "(1268,)\n",
        "(76,)\n",
        "(76,)"
       ]
      },
      {
       "output_type": "stream",
       "stream": "stdout",
       "text": [
        "\n",
        "(1268,)\n",
        "(76,)\n",
        "(77,)\n",
        "(1284,)\n",
        "(77,)\n",
        "(77,)"
       ]
      },
      {
       "output_type": "stream",
       "stream": "stdout",
       "text": [
        "\n",
        "(1284,)\n",
        "(77,)\n",
        "(77,)\n",
        "(1284,)\n",
        "(77,)\n",
        "(77,)"
       ]
      },
      {
       "output_type": "stream",
       "stream": "stdout",
       "text": [
        "\n",
        "(1285,)\n",
        "(77,)\n",
        "(77,)\n",
        "(1284,)\n",
        "(77,)\n",
        "(77,)"
       ]
      },
      {
       "output_type": "stream",
       "stream": "stdout",
       "text": [
        "\n",
        "(1285,)\n",
        "(77,)\n",
        "(77,)\n",
        "(1284,)\n",
        "(77,)\n",
        "(78,)"
       ]
      },
      {
       "output_type": "stream",
       "stream": "stdout",
       "text": [
        "\n",
        "(1301,)\n",
        "(78,)\n",
        "(78,)\n",
        "(1301,)\n",
        "(78,)\n",
        "(77,)"
       ]
      },
      {
       "output_type": "stream",
       "stream": "stdout",
       "text": [
        "\n",
        "(1284,)\n",
        "(77,)\n",
        "(77,)\n",
        "(1285,)\n",
        "(77,)\n",
        "(77,)"
       ]
      },
      {
       "output_type": "stream",
       "stream": "stdout",
       "text": [
        "\n",
        "(1284,)\n",
        "(77,)\n",
        "(77,)\n",
        "(1285,)\n",
        "(77,)\n",
        "(77,)"
       ]
      },
      {
       "output_type": "stream",
       "stream": "stdout",
       "text": [
        "\n",
        "(1284,)\n",
        "(77,)\n",
        "(76,)\n",
        "(1268,)\n",
        "(76,)\n",
        "(77,)"
       ]
      },
      {
       "output_type": "stream",
       "stream": "stdout",
       "text": [
        "\n",
        "(1284,)\n",
        "(77,)\n",
        "(76,)\n",
        "(1268,)\n",
        "(76,)\n",
        "(77,)"
       ]
      },
      {
       "output_type": "stream",
       "stream": "stdout",
       "text": [
        "\n",
        "(1284,)\n",
        "(77,)\n",
        "(77,)\n",
        "(1284,)\n",
        "(77,)\n",
        "(77,)"
       ]
      },
      {
       "output_type": "stream",
       "stream": "stdout",
       "text": [
        "\n",
        "(1284,)\n",
        "(77,)\n",
        "(77,)\n",
        "(1284,)\n",
        "(77,)\n",
        "(77,)"
       ]
      },
      {
       "output_type": "stream",
       "stream": "stdout",
       "text": [
        "\n",
        "(1285,)\n",
        "(77,)\n",
        "(78,)\n",
        "(1301,)\n",
        "(78,)\n",
        "(77,)"
       ]
      },
      {
       "output_type": "stream",
       "stream": "stdout",
       "text": [
        "\n",
        "(1285,)\n",
        "(77,)\n",
        "(77,)\n",
        "(1284,)\n",
        "(77,)\n",
        "(77,)"
       ]
      },
      {
       "output_type": "stream",
       "stream": "stdout",
       "text": [
        "\n",
        "(1284,)\n",
        "(77,)\n",
        "(78,)\n",
        "(1301,)\n",
        "(78,)\n",
        "(78,)"
       ]
      },
      {
       "output_type": "stream",
       "stream": "stdout",
       "text": [
        "\n",
        "(1301,)\n",
        "(78,)\n",
        "(78,)\n",
        "(1301,)\n",
        "(78,)\n",
        "(78,)"
       ]
      },
      {
       "output_type": "stream",
       "stream": "stdout",
       "text": [
        "\n",
        "(1301,)\n",
        "(78,)\n",
        "(78,)\n",
        "(1301,)\n",
        "(78,)\n",
        "(77,)"
       ]
      },
      {
       "output_type": "stream",
       "stream": "stdout",
       "text": [
        "\n",
        "(1285,)\n",
        "(77,)\n",
        "(77,)\n",
        "(1284,)\n",
        "(77,)\n",
        "(77,)"
       ]
      },
      {
       "output_type": "stream",
       "stream": "stdout",
       "text": [
        "\n",
        "(1284,)\n",
        "(77,)\n",
        "(77,)\n",
        "(1284,)\n",
        "(77,)\n",
        "(77,)"
       ]
      },
      {
       "output_type": "stream",
       "stream": "stdout",
       "text": [
        "\n",
        "(1284,)\n",
        "(77,)\n",
        "(77,)\n",
        "(1285,)\n",
        "(77,)\n",
        "(78,)"
       ]
      },
      {
       "output_type": "stream",
       "stream": "stdout",
       "text": [
        "\n",
        "(1301,)\n",
        "(78,)\n",
        "(77,)\n",
        "(1285,)\n",
        "(77,)\n",
        "(77,)"
       ]
      },
      {
       "output_type": "stream",
       "stream": "stdout",
       "text": [
        "\n",
        "(1284,)\n",
        "(77,)\n",
        "(76,)\n",
        "(1268,)\n",
        "(76,)\n",
        "initializing seq 9"
       ]
      },
      {
       "output_type": "stream",
       "stream": "stdout",
       "text": [
        "\n",
        "(77,)"
       ]
      },
      {
       "output_type": "stream",
       "stream": "stdout",
       "text": [
        "\n",
        "(1284,)\n",
        "(77,)\n",
        "(76,)\n",
        "(1267,)\n",
        "(76,)\n",
        "(76,)"
       ]
      },
      {
       "output_type": "stream",
       "stream": "stdout",
       "text": [
        "\n",
        "(1268,)\n",
        "(76,)\n",
        "(76,)\n",
        "(1268,)\n",
        "(76,)\n",
        "(75,)"
       ]
      },
      {
       "output_type": "stream",
       "stream": "stdout",
       "text": [
        "\n",
        "(1251,)\n",
        "(75,)\n",
        "(75,)\n",
        "(1251,)\n",
        "(75,)\n",
        "(75,)"
       ]
      },
      {
       "output_type": "stream",
       "stream": "stdout",
       "text": [
        "\n",
        "(1251,)\n",
        "(75,)\n",
        "(75,)\n",
        "(1251,)\n",
        "(75,)\n",
        "(75,)"
       ]
      },
      {
       "output_type": "stream",
       "stream": "stdout",
       "text": [
        "\n",
        "(1251,)\n",
        "(75,)\n",
        "(75,)\n",
        "(1251,)\n",
        "(75,)\n",
        "(75,)"
       ]
      },
      {
       "output_type": "stream",
       "stream": "stdout",
       "text": [
        "\n",
        "(1251,)\n",
        "(75,)\n",
        "(74,)\n",
        "(1234,)\n",
        "(74,)\n",
        "(75,)"
       ]
      },
      {
       "output_type": "stream",
       "stream": "stdout",
       "text": [
        "\n",
        "(1251,)\n",
        "(75,)\n",
        "(75,)\n",
        "(1251,)\n",
        "(75,)\n",
        "(76,)"
       ]
      },
      {
       "output_type": "stream",
       "stream": "stdout",
       "text": [
        "\n",
        "(1268,)\n",
        "(76,)\n",
        "(75,)\n",
        "(1251,)\n",
        "(75,)\n",
        "(75,)"
       ]
      },
      {
       "output_type": "stream",
       "stream": "stdout",
       "text": [
        "\n",
        "(1251,)\n",
        "(75,)\n",
        "(75,)\n",
        "(1251,)\n",
        "(75,)\n",
        "(75,)"
       ]
      },
      {
       "output_type": "stream",
       "stream": "stdout",
       "text": [
        "\n",
        "(1251,)\n",
        "(75,)\n",
        "(75,)\n",
        "(1251,)\n",
        "(75,)\n",
        "(76,)"
       ]
      },
      {
       "output_type": "stream",
       "stream": "stdout",
       "text": [
        "\n",
        "(1268,)\n",
        "(76,)\n",
        "(76,)\n",
        "(1267,)\n",
        "(76,)\n",
        "(76,)"
       ]
      },
      {
       "output_type": "stream",
       "stream": "stdout",
       "text": [
        "\n",
        "(1268,)\n",
        "(76,)\n",
        "(76,)\n",
        "(1267,)\n",
        "(76,)\n",
        "(76,)"
       ]
      },
      {
       "output_type": "stream",
       "stream": "stdout",
       "text": [
        "\n",
        "(1268,)\n",
        "(76,)\n",
        "(77,)\n",
        "(1284,)\n",
        "(77,)\n",
        "(76,)"
       ]
      },
      {
       "output_type": "stream",
       "stream": "stdout",
       "text": [
        "\n",
        "(1268,)\n",
        "(76,)\n",
        "(77,)\n",
        "(1284,)\n",
        "(77,)\n",
        "(76,)"
       ]
      },
      {
       "output_type": "stream",
       "stream": "stdout",
       "text": [
        "\n",
        "(1268,)\n",
        "(76,)\n",
        "(76,)\n",
        "(1268,)\n",
        "(76,)\n",
        "(76,)"
       ]
      },
      {
       "output_type": "stream",
       "stream": "stdout",
       "text": [
        "\n",
        "(1268,)\n",
        "(76,)\n",
        "(76,)\n",
        "(1268,)\n",
        "(76,)\n",
        "(77,)"
       ]
      },
      {
       "output_type": "stream",
       "stream": "stdout",
       "text": [
        "\n",
        "(1284,)\n",
        "(77,)\n",
        "(76,)\n",
        "(1268,)\n",
        "(76,)\n",
        "(76,)"
       ]
      },
      {
       "output_type": "stream",
       "stream": "stdout",
       "text": [
        "\n",
        "(1267,)\n",
        "(76,)\n",
        "(75,)\n",
        "(1251,)\n",
        "(75,)\n",
        "(75,)"
       ]
      },
      {
       "output_type": "stream",
       "stream": "stdout",
       "text": [
        "\n",
        "(1251,)\n",
        "(75,)\n",
        "(75,)\n",
        "(1251,)\n",
        "(75,)\n",
        "(75,)"
       ]
      },
      {
       "output_type": "stream",
       "stream": "stdout",
       "text": [
        "\n",
        "(1251,)\n",
        "(75,)\n",
        "(75,)\n",
        "(1251,)\n",
        "(75,)\n",
        "(75,)"
       ]
      },
      {
       "output_type": "stream",
       "stream": "stdout",
       "text": [
        "\n",
        "(1251,)\n",
        "(75,)\n",
        "(75,)\n",
        "(1251,)\n",
        "(75,)\n",
        "(75,)"
       ]
      },
      {
       "output_type": "stream",
       "stream": "stdout",
       "text": [
        "\n",
        "(1251,)\n",
        "(75,)\n",
        "(75,)\n",
        "(1251,)\n",
        "(75,)\n",
        "(75,)"
       ]
      },
      {
       "output_type": "stream",
       "stream": "stdout",
       "text": [
        "\n",
        "(1251,)\n",
        "(75,)\n",
        "(74,)\n",
        "(1234,)\n",
        "(74,)\n",
        "initializing seq 10"
       ]
      },
      {
       "output_type": "stream",
       "stream": "stdout",
       "text": [
        "\n",
        "(78,)"
       ]
      },
      {
       "output_type": "stream",
       "stream": "stdout",
       "text": [
        "\n",
        "(1301,)\n",
        "(78,)\n",
        "(76,)\n",
        "(1268,)\n",
        "(76,)\n",
        "(76,)"
       ]
      },
      {
       "output_type": "stream",
       "stream": "stdout",
       "text": [
        "\n",
        "(1268,)\n",
        "(76,)\n",
        "(77,)\n",
        "(1284,)\n",
        "(77,)\n",
        "(76,)"
       ]
      },
      {
       "output_type": "stream",
       "stream": "stdout",
       "text": [
        "\n",
        "(1268,)\n",
        "(76,)\n",
        "(77,)\n",
        "(1284,)\n",
        "(77,)\n",
        "(77,)"
       ]
      },
      {
       "output_type": "stream",
       "stream": "stdout",
       "text": [
        "\n",
        "(1284,)\n",
        "(77,)\n",
        "(77,)\n",
        "(1284,)\n",
        "(77,)\n",
        "(76,)"
       ]
      },
      {
       "output_type": "stream",
       "stream": "stdout",
       "text": [
        "\n",
        "(1268,)\n",
        "(76,)\n",
        "(75,)\n",
        "(1251,)\n",
        "(75,)\n",
        "(76,)"
       ]
      },
      {
       "output_type": "stream",
       "stream": "stdout",
       "text": [
        "\n",
        "(1268,)\n",
        "(76,)\n",
        "(76,)\n",
        "(1267,)\n",
        "(76,)\n",
        "(76,)"
       ]
      },
      {
       "output_type": "stream",
       "stream": "stdout",
       "text": [
        "\n",
        "(1268,)\n",
        "(76,)\n",
        "(75,)\n",
        "(1251,)\n",
        "(75,)\n",
        "(76,)"
       ]
      },
      {
       "output_type": "stream",
       "stream": "stdout",
       "text": [
        "\n",
        "(1268,)\n",
        "(76,)\n",
        "(76,)\n",
        "(1268,)\n",
        "(76,)\n",
        "(77,)"
       ]
      },
      {
       "output_type": "stream",
       "stream": "stdout",
       "text": [
        "\n",
        "(1284,)\n",
        "(77,)\n",
        "(76,)\n",
        "(1268,)\n",
        "(76,)\n",
        "(76,)"
       ]
      },
      {
       "output_type": "stream",
       "stream": "stdout",
       "text": [
        "\n",
        "(1267,)\n",
        "(76,)\n",
        "(76,)\n",
        "(1268,)\n",
        "(76,)\n",
        "(76,)"
       ]
      },
      {
       "output_type": "stream",
       "stream": "stdout",
       "text": [
        "\n",
        "(1267,)\n",
        "(76,)\n",
        "(77,)\n",
        "(1285,)\n",
        "(77,)\n",
        "(77,)"
       ]
      },
      {
       "output_type": "stream",
       "stream": "stdout",
       "text": [
        "\n",
        "(1284,)\n",
        "(77,)\n",
        "(77,)\n",
        "(1285,)\n",
        "(77,)\n",
        "(77,)"
       ]
      },
      {
       "output_type": "stream",
       "stream": "stdout",
       "text": [
        "\n",
        "(1284,)\n",
        "(77,)\n",
        "(77,)\n",
        "(1284,)\n",
        "(77,)\n",
        "(77,)"
       ]
      },
      {
       "output_type": "stream",
       "stream": "stdout",
       "text": [
        "\n",
        "(1284,)\n",
        "(77,)\n",
        "(76,)\n",
        "(1268,)\n",
        "(76,)\n",
        "(76,)"
       ]
      },
      {
       "output_type": "stream",
       "stream": "stdout",
       "text": [
        "\n",
        "(1268,)\n",
        "(76,)\n",
        "(76,)\n",
        "(1268,)\n",
        "(76,)\n",
        "(77,)"
       ]
      },
      {
       "output_type": "stream",
       "stream": "stdout",
       "text": [
        "\n",
        "(1284,)\n",
        "(77,)\n",
        "(76,)\n",
        "(1268,)\n",
        "(76,)\n",
        "(77,)"
       ]
      },
      {
       "output_type": "stream",
       "stream": "stdout",
       "text": [
        "\n",
        "(1284,)\n",
        "(77,)\n",
        "(76,)\n",
        "(1268,)\n",
        "(76,)\n",
        "(76,)"
       ]
      },
      {
       "output_type": "stream",
       "stream": "stdout",
       "text": [
        "\n",
        "(1267,)\n",
        "(76,)\n",
        "(75,)\n",
        "(1251,)\n",
        "(75,)\n",
        "(75,)"
       ]
      },
      {
       "output_type": "stream",
       "stream": "stdout",
       "text": [
        "\n",
        "(1251,)\n",
        "(75,)\n",
        "(75,)\n",
        "(1251,)\n",
        "(75,)\n",
        "(75,)"
       ]
      },
      {
       "output_type": "stream",
       "stream": "stdout",
       "text": [
        "\n",
        "(1251,)\n",
        "(75,)\n",
        "(75,)\n",
        "(1251,)\n",
        "(75,)\n",
        "(75,)"
       ]
      },
      {
       "output_type": "stream",
       "stream": "stdout",
       "text": [
        "\n",
        "(1251,)\n",
        "(75,)\n",
        "(75,)\n",
        "(1251,)\n",
        "(75,)\n",
        "(76,)"
       ]
      },
      {
       "output_type": "stream",
       "stream": "stdout",
       "text": [
        "\n",
        "(1267,)\n",
        "(76,)\n",
        "(77,)\n",
        "(1285,)\n",
        "(77,)\n",
        "(77,)"
       ]
      },
      {
       "output_type": "stream",
       "stream": "stdout",
       "text": [
        "\n",
        "(1284,)\n",
        "(77,)\n",
        "(77,)\n",
        "(1285,)\n",
        "(77,)\n",
        "(76,)"
       ]
      },
      {
       "output_type": "stream",
       "stream": "stdout",
       "text": [
        "\n",
        "(1267,)\n",
        "(76,)\n",
        "(77,)"
       ]
      },
      {
       "output_type": "stream",
       "stream": "stdout",
       "text": [
        "\n",
        "(1285,)\n",
        "(77,)\n",
        "initializing seq 11"
       ]
      },
      {
       "output_type": "stream",
       "stream": "stdout",
       "text": [
        "\n",
        "(79,)"
       ]
      },
      {
       "output_type": "stream",
       "stream": "stdout",
       "text": [
        "\n",
        "(1318,)\n",
        "(79,)\n",
        "(76,)\n",
        "(1268,)\n",
        "(76,)\n",
        "(77,)"
       ]
      },
      {
       "output_type": "stream",
       "stream": "stdout",
       "text": [
        "\n",
        "(1284,)\n",
        "(77,)\n",
        "(76,)\n",
        "(1268,)\n",
        "(76,)\n",
        "(77,)"
       ]
      },
      {
       "output_type": "stream",
       "stream": "stdout",
       "text": [
        "\n",
        "(1284,)\n",
        "(77,)\n",
        "(76,)\n",
        "(1268,)\n",
        "(76,)\n",
        "(77,)"
       ]
      },
      {
       "output_type": "stream",
       "stream": "stdout",
       "text": [
        "\n",
        "(1284,)\n",
        "(77,)\n",
        "(76,)\n",
        "(1268,)\n",
        "(76,)\n",
        "(77,)"
       ]
      },
      {
       "output_type": "stream",
       "stream": "stdout",
       "text": [
        "\n",
        "(1284,)\n",
        "(77,)\n",
        "(76,)\n",
        "(1268,)\n",
        "(76,)\n",
        "(76,)"
       ]
      },
      {
       "output_type": "stream",
       "stream": "stdout",
       "text": [
        "\n",
        "(1267,)\n",
        "(76,)\n",
        "(76,)\n",
        "(1268,)\n",
        "(76,)\n",
        "(76,)"
       ]
      },
      {
       "output_type": "stream",
       "stream": "stdout",
       "text": [
        "\n",
        "(1267,)\n",
        "(76,)\n",
        "(77,)\n",
        "(1285,)\n",
        "(77,)\n",
        "(76,)"
       ]
      },
      {
       "output_type": "stream",
       "stream": "stdout",
       "text": [
        "\n",
        "(1267,)\n",
        "(76,)\n",
        "(77,)\n",
        "(1285,)\n",
        "(77,)\n",
        "(76,)"
       ]
      },
      {
       "output_type": "stream",
       "stream": "stdout",
       "text": [
        "\n",
        "(1267,)\n",
        "(76,)\n",
        "(77,)\n",
        "(1285,)\n",
        "(77,)\n",
        "(76,)"
       ]
      },
      {
       "output_type": "stream",
       "stream": "stdout",
       "text": [
        "\n",
        "(1267,)\n",
        "(76,)\n",
        "(77,)\n",
        "(1285,)\n",
        "(77,)\n",
        "(76,)"
       ]
      },
      {
       "output_type": "stream",
       "stream": "stdout",
       "text": [
        "\n",
        "(1267,)\n",
        "(76,)\n",
        "(76,)\n",
        "(1268,)\n",
        "(76,)\n",
        "(75,)"
       ]
      },
      {
       "output_type": "stream",
       "stream": "stdout",
       "text": [
        "\n",
        "(1251,)\n",
        "(75,)\n",
        "(76,)\n",
        "(1268,)\n",
        "(76,)\n",
        "(76,)"
       ]
      },
      {
       "output_type": "stream",
       "stream": "stdout",
       "text": [
        "\n",
        "(1268,)\n",
        "(76,)\n",
        "(76,)\n",
        "(1267,)\n",
        "(76,)\n",
        "(76,)"
       ]
      },
      {
       "output_type": "stream",
       "stream": "stdout",
       "text": [
        "\n",
        "(1268,)\n",
        "(76,)\n",
        "(76,)\n",
        "(1267,)\n",
        "(76,)\n",
        "(76,)"
       ]
      },
      {
       "output_type": "stream",
       "stream": "stdout",
       "text": [
        "\n",
        "(1268,)\n",
        "(76,)\n",
        "(76,)\n",
        "(1267,)\n",
        "(76,)\n",
        "(77,)"
       ]
      },
      {
       "output_type": "stream",
       "stream": "stdout",
       "text": [
        "\n",
        "(1285,)\n",
        "(77,)\n",
        "(77,)\n",
        "(1284,)\n",
        "(77,)\n",
        "(77,)"
       ]
      },
      {
       "output_type": "stream",
       "stream": "stdout",
       "text": [
        "\n",
        "(1285,)\n",
        "(77,)\n",
        "(76,)\n",
        "(1267,)\n",
        "(76,)\n",
        "(77,)"
       ]
      },
      {
       "output_type": "stream",
       "stream": "stdout",
       "text": [
        "\n",
        "(1285,)\n",
        "(77,)\n",
        "(77,)\n",
        "(1284,)\n",
        "(77,)\n",
        "(77,)"
       ]
      },
      {
       "output_type": "stream",
       "stream": "stdout",
       "text": [
        "\n",
        "(1285,)\n",
        "(77,)\n",
        "(77,)\n",
        "(1284,)\n",
        "(77,)\n",
        "(76,)"
       ]
      },
      {
       "output_type": "stream",
       "stream": "stdout",
       "text": [
        "\n",
        "(1268,)\n",
        "(76,)\n",
        "(77,)\n",
        "(1284,)\n",
        "(77,)\n",
        "(77,)"
       ]
      },
      {
       "output_type": "stream",
       "stream": "stdout",
       "text": [
        "\n",
        "(1284,)\n",
        "(77,)\n",
        "(77,)\n",
        "(1284,)\n",
        "(77,)\n",
        "(76,)"
       ]
      },
      {
       "output_type": "stream",
       "stream": "stdout",
       "text": [
        "\n",
        "(1268,)\n",
        "(76,)\n",
        "(76,)\n",
        "(1268,)\n",
        "(76,)\n",
        "(76,)"
       ]
      },
      {
       "output_type": "stream",
       "stream": "stdout",
       "text": [
        "\n",
        "(1268,)\n",
        "(76,)\n",
        "initializing seq 12"
       ]
      },
      {
       "output_type": "stream",
       "stream": "stdout",
       "text": [
        "\n",
        "(81,)"
       ]
      },
      {
       "output_type": "stream",
       "stream": "stdout",
       "text": [
        "\n",
        "(1352,)\n",
        "(81,)\n",
        "(79,)"
       ]
      },
      {
       "output_type": "stream",
       "stream": "stdout",
       "text": [
        "\n",
        "(1318,)\n",
        "(79,)\n",
        "(79,)\n",
        "(1319,)\n",
        "(79,)\n",
        "(79,)"
       ]
      },
      {
       "output_type": "stream",
       "stream": "stdout",
       "text": [
        "\n",
        "(1319,)\n",
        "(79,)\n",
        "(79,)\n",
        "(1319,)\n",
        "(79,)\n",
        "(79,)"
       ]
      },
      {
       "output_type": "stream",
       "stream": "stdout",
       "text": [
        "\n",
        "(1318,)\n",
        "(79,)\n",
        "(80,)\n",
        "(1335,)\n",
        "(80,)\n",
        "(79,)"
       ]
      },
      {
       "output_type": "stream",
       "stream": "stdout",
       "text": [
        "\n",
        "(1318,)\n",
        "(79,)\n",
        "(79,)\n",
        "(1319,)\n",
        "(79,)\n",
        "(78,)"
       ]
      },
      {
       "output_type": "stream",
       "stream": "stdout",
       "text": [
        "\n",
        "(1302,)\n",
        "(78,)\n",
        "(79,)\n",
        "(1319,)\n",
        "(79,)\n",
        "(79,)"
       ]
      },
      {
       "output_type": "stream",
       "stream": "stdout",
       "text": [
        "\n",
        "(1319,)\n",
        "(79,)\n",
        "(79,)\n",
        "(1318,)\n",
        "(79,)\n",
        "(78,)"
       ]
      },
      {
       "output_type": "stream",
       "stream": "stdout",
       "text": [
        "\n",
        "(1302,)\n",
        "(78,)\n",
        "(79,)\n",
        "(1318,)\n",
        "(79,)\n",
        "(78,)"
       ]
      },
      {
       "output_type": "stream",
       "stream": "stdout",
       "text": [
        "\n",
        "(1302,)\n",
        "(78,)\n",
        "(78,)\n",
        "(1302,)\n",
        "(78,)\n",
        "(77,)"
       ]
      },
      {
       "output_type": "stream",
       "stream": "stdout",
       "text": [
        "\n",
        "(1285,)\n",
        "(77,)\n",
        "(79,)\n",
        "(1319,)\n",
        "(79,)\n",
        "(79,)"
       ]
      },
      {
       "output_type": "stream",
       "stream": "stdout",
       "text": [
        "\n",
        "(1318,)\n",
        "(79,)\n",
        "(79,)\n",
        "(1319,)\n",
        "(79,)\n",
        "(79,)"
       ]
      },
      {
       "output_type": "stream",
       "stream": "stdout",
       "text": [
        "\n",
        "(1318,)\n",
        "(79,)\n",
        "(79,)\n",
        "(1319,)\n",
        "(79,)\n",
        "(79,)"
       ]
      },
      {
       "output_type": "stream",
       "stream": "stdout",
       "text": [
        "\n",
        "(1319,)\n",
        "(79,)\n",
        "(79,)\n",
        "(1319,)\n",
        "(79,)\n",
        "(79,)"
       ]
      },
      {
       "output_type": "stream",
       "stream": "stdout",
       "text": [
        "\n",
        "(1319,)\n",
        "(79,)\n",
        "(80,)\n",
        "(1335,)\n",
        "(80,)\n",
        "(79,)"
       ]
      },
      {
       "output_type": "stream",
       "stream": "stdout",
       "text": [
        "\n",
        "(1318,)\n",
        "(79,)\n",
        "(79,)\n",
        "(1318,)\n",
        "(79,)\n",
        "(78,)"
       ]
      },
      {
       "output_type": "stream",
       "stream": "stdout",
       "text": [
        "\n",
        "(1302,)\n",
        "(78,)\n",
        "(78,)\n",
        "(1302,)\n",
        "(78,)\n",
        "(79,)"
       ]
      },
      {
       "output_type": "stream",
       "stream": "stdout",
       "text": [
        "\n",
        "(1319,)\n",
        "(79,)\n",
        "(79,)\n",
        "(1318,)\n",
        "(79,)\n",
        "(79,)"
       ]
      },
      {
       "output_type": "stream",
       "stream": "stdout",
       "text": [
        "\n",
        "(1319,)\n",
        "(79,)\n",
        "(78,)\n",
        "(1302,)\n",
        "(78,)\n",
        "(78,)"
       ]
      },
      {
       "output_type": "stream",
       "stream": "stdout",
       "text": [
        "\n",
        "(1302,)\n",
        "(78,)\n",
        "(79,)\n",
        "(1318,)\n",
        "(79,)\n",
        "(79,)"
       ]
      },
      {
       "output_type": "stream",
       "stream": "stdout",
       "text": [
        "\n",
        "(1318,)\n",
        "(79,)\n",
        "(79,)\n",
        "(1319,)\n",
        "(79,)\n",
        "(79,)"
       ]
      },
      {
       "output_type": "stream",
       "stream": "stdout",
       "text": [
        "\n",
        "(1319,)\n",
        "(79,)\n",
        "(79,)"
       ]
      },
      {
       "output_type": "stream",
       "stream": "stdout",
       "text": [
        "\n",
        "(1319,)\n",
        "(79,)\n",
        "(79,)\n",
        "(1318,)\n",
        "(79,)\n",
        "(78,)"
       ]
      },
      {
       "output_type": "stream",
       "stream": "stdout",
       "text": [
        "\n",
        "(1302,)\n",
        "(78,)\n",
        "(77,)\n",
        "(1285,)\n",
        "(77,)\n",
        "(77,)"
       ]
      },
      {
       "output_type": "stream",
       "stream": "stdout",
       "text": [
        "\n",
        "(1286,)\n",
        "(77,)\n",
        "(77,)\n",
        "(1285,)\n",
        "(77,)\n",
        "(78,)"
       ]
      },
      {
       "output_type": "stream",
       "stream": "stdout",
       "text": [
        "\n",
        "(1302,)\n",
        "(78,)\n",
        "imporing data for fly114"
       ]
      },
      {
       "output_type": "stream",
       "stream": "stdout",
       "text": [
        "\n",
        "syncing data"
       ]
      },
      {
       "output_type": "stream",
       "stream": "stderr",
       "text": [
        "flylib.py:114: UserWarning: problem extracting idxs from camera_sync_signal for epoch 12 using even spaced idx's over the camera epoch instead\n",
        "  warnings.warn(\"problem extracting idxs from camera_sync_signal for epoch %s using even spaced idx's over the camera epoch instead\"%(snum))\n",
        "flylib.py:114: UserWarning: problem extracting idxs from camera_sync_signal for epoch 13 using even spaced idx's over the camera epoch instead\n",
        "  warnings.warn(\"problem extracting idxs from camera_sync_signal for epoch %s using even spaced idx's over the camera epoch instead\"%(snum))\n"
       ]
      },
      {
       "output_type": "stream",
       "stream": "stderr",
       "text": [
        "flylib.py:110: UserWarning: problem extracting idxs from camera_sync_signal for sequence 14 using even spaced idx's over the camera epoch instead\n",
        "  warnings.warn(\"problem extracting idxs from camera_sync_signal for sequence %s using even spaced idx's over the camera epoch instead\"%(snum))\n",
        "flylib.py:110: UserWarning: problem extracting idxs from camera_sync_signal for sequence 15 using even spaced idx's over the camera epoch instead\n",
        "  warnings.warn(\"problem extracting idxs from camera_sync_signal for sequence %s using even spaced idx's over the camera epoch instead\"%(snum))\n"
       ]
      },
      {
       "output_type": "stream",
       "stream": "stdout",
       "text": [
        "\n",
        "[13, 14, 15, 16, 17, 18]"
       ]
      },
      {
       "output_type": "stream",
       "stream": "stdout",
       "text": [
        "\n",
        "initializing seq 13\n",
        "(72,)"
       ]
      },
      {
       "output_type": "stream",
       "stream": "stdout",
       "text": [
        "\n",
        "(1202,)\n",
        "(72,)\n",
        "(65,)\n",
        "(1085,)\n",
        "(65,)\n",
        "(69,)"
       ]
      },
      {
       "output_type": "stream",
       "stream": "stdout",
       "text": [
        "\n",
        "(1152,)\n",
        "(69,)\n",
        "(66,)\n",
        "(1102,)\n",
        "(66,)\n",
        "(69,)"
       ]
      },
      {
       "output_type": "stream",
       "stream": "stdout",
       "text": [
        "\n",
        "(1152,)\n",
        "(69,)\n",
        "(70,)\n",
        "(1168,)\n",
        "(70,)\n",
        "(70,)"
       ]
      },
      {
       "output_type": "stream",
       "stream": "stdout",
       "text": [
        "\n",
        "(1168,)\n",
        "(70,)\n",
        "(70,)\n",
        "(1168,)\n",
        "(70,)\n",
        "(68,)"
       ]
      },
      {
       "output_type": "stream",
       "stream": "stdout",
       "text": [
        "\n",
        "(1135,)\n",
        "(68,)\n",
        "(68,)\n",
        "(1135,)\n",
        "(68,)\n",
        "(67,)"
       ]
      },
      {
       "output_type": "stream",
       "stream": "stdout",
       "text": [
        "\n",
        "(1119,)\n",
        "(67,)\n",
        "(67,)\n",
        "(1119,)\n",
        "(67,)\n",
        "(68,)"
       ]
      },
      {
       "output_type": "stream",
       "stream": "stdout",
       "text": [
        "\n",
        "(1135,)\n",
        "(68,)\n",
        "(68,)\n",
        "(1135,)\n",
        "(68,)\n",
        "(69,)"
       ]
      },
      {
       "output_type": "stream",
       "stream": "stdout",
       "text": [
        "\n",
        "(1152,)\n",
        "(69,)\n",
        "(69,)\n",
        "(1152,)\n",
        "(69,)\n",
        "(67,)"
       ]
      },
      {
       "output_type": "stream",
       "stream": "stdout",
       "text": [
        "\n",
        "(1118,)\n",
        "(67,)\n",
        "(67,)\n",
        "(1118,)\n",
        "(67,)\n",
        "(68,)"
       ]
      },
      {
       "output_type": "stream",
       "stream": "stdout",
       "text": [
        "\n",
        "(1135,)\n",
        "(68,)\n",
        "(69,)\n",
        "(1152,)\n",
        "(69,)\n",
        "(70,)"
       ]
      },
      {
       "output_type": "stream",
       "stream": "stdout",
       "text": [
        "\n",
        "(1168,)\n",
        "(70,)\n",
        "(70,)\n",
        "(1169,)\n",
        "(70,)\n",
        "(69,)"
       ]
      },
      {
       "output_type": "stream",
       "stream": "stdout",
       "text": [
        "\n",
        "(1152,)\n",
        "(69,)\n",
        "(67,)\n",
        "(1119,)\n",
        "(67,)\n",
        "(66,)"
       ]
      },
      {
       "output_type": "stream",
       "stream": "stdout",
       "text": [
        "\n",
        "(1102,)\n",
        "(66,)\n",
        "(68,)\n",
        "(1135,)\n",
        "(68,)\n",
        "(69,)"
       ]
      },
      {
       "output_type": "stream",
       "stream": "stdout",
       "text": [
        "\n",
        "(1152,)\n",
        "(69,)\n",
        "(68,)\n",
        "(1135,)\n",
        "(68,)\n",
        "(68,)"
       ]
      },
      {
       "output_type": "stream",
       "stream": "stdout",
       "text": [
        "\n",
        "(1135,)\n",
        "(68,)\n",
        "(68,)\n",
        "(1135,)\n",
        "(68,)\n",
        "(69,)"
       ]
      },
      {
       "output_type": "stream",
       "stream": "stdout",
       "text": [
        "\n",
        "(1151,)\n",
        "(69,)\n",
        "(68,)\n",
        "(1135,)\n",
        "(68,)\n",
        "(69,)"
       ]
      },
      {
       "output_type": "stream",
       "stream": "stdout",
       "text": [
        "\n",
        "(1152,)\n",
        "(69,)\n",
        "(69,)\n",
        "(1152,)\n",
        "(69,)\n",
        "(70,)"
       ]
      },
      {
       "output_type": "stream",
       "stream": "stdout",
       "text": [
        "\n",
        "(1169,)\n",
        "(70,)\n",
        "(68,)\n",
        "(1135,)\n",
        "(68,)\n",
        "(69,)"
       ]
      },
      {
       "output_type": "stream",
       "stream": "stdout",
       "text": [
        "\n",
        "(1152,)\n",
        "(69,)\n",
        "(69,)\n",
        "(1152,)\n",
        "(69,)\n",
        "(70,)"
       ]
      },
      {
       "output_type": "stream",
       "stream": "stdout",
       "text": [
        "\n",
        "(1168,)\n",
        "(70,)\n",
        "(70,)\n",
        "(1168,)\n",
        "(70,)\n",
        "(68,)"
       ]
      },
      {
       "output_type": "stream",
       "stream": "stdout",
       "text": [
        "\n",
        "(1135,)\n",
        "(68,)\n",
        "(69,)\n",
        "(1152,)\n",
        "(69,)\n",
        "(70,)"
       ]
      },
      {
       "output_type": "stream",
       "stream": "stdout",
       "text": [
        "\n",
        "(1169,)\n",
        "(70,)\n",
        "(66,)\n",
        "(1101,)\n",
        "(66,)\n",
        "(67,)"
       ]
      },
      {
       "output_type": "stream",
       "stream": "stdout",
       "text": [
        "\n",
        "(1118,)\n",
        "(67,)\n",
        "(65,)\n",
        "(1085,)\n",
        "(65,)\n",
        "(72,)"
       ]
      },
      {
       "output_type": "stream",
       "stream": "stdout",
       "text": [
        "\n",
        "(1202,)\n",
        "(72,)\n",
        "(69,)\n",
        "(1152,)\n",
        "(69,)\n",
        "(66,)"
       ]
      },
      {
       "output_type": "stream",
       "stream": "stdout",
       "text": [
        "\n",
        "(1102,)\n",
        "(66,)\n",
        "(65,)\n",
        "(1085,)\n",
        "(65,)\n",
        "(44,)"
       ]
      },
      {
       "output_type": "stream",
       "stream": "stdout",
       "text": [
        "\n",
        "(735,)\n",
        "(44,)\n",
        "(25,)\n",
        "(418,)\n",
        "(25,)\n",
        "(16,)\n",
        "(268,)\n",
        "(16,)\n",
        "initializing seq 14"
       ]
      },
      {
       "output_type": "stream",
       "stream": "stdout",
       "text": [
        "\n",
        "(73,)"
       ]
      },
      {
       "output_type": "stream",
       "stream": "stdout",
       "text": [
        "\n",
        "(1218,)\n",
        "(73,)\n",
        "(70,)\n",
        "(1169,)\n",
        "(70,)\n",
        "(70,)"
       ]
      },
      {
       "output_type": "stream",
       "stream": "stdout",
       "text": [
        "\n",
        "(1168,)\n",
        "(70,)\n",
        "(70,)\n",
        "(1169,)\n",
        "(70,)\n",
        "(71,)"
       ]
      },
      {
       "output_type": "stream",
       "stream": "stdout",
       "text": [
        "\n",
        "(1185,)\n",
        "(71,)\n",
        "(71,)\n",
        "(1186,)\n",
        "(71,)\n",
        "(70,)"
       ]
      },
      {
       "output_type": "stream",
       "stream": "stdout",
       "text": [
        "\n",
        "(1168,)\n",
        "(70,)\n",
        "(70,)\n",
        "(1168,)\n",
        "(70,)\n",
        "(70,)"
       ]
      },
      {
       "output_type": "stream",
       "stream": "stdout",
       "text": [
        "\n",
        "(1168,)\n",
        "(70,)\n",
        "(71,)\n",
        "(1185,)\n",
        "(71,)\n",
        "(70,)"
       ]
      },
      {
       "output_type": "stream",
       "stream": "stdout",
       "text": [
        "\n",
        "(1169,)\n",
        "(70,)\n",
        "(70,)\n",
        "(1168,)\n",
        "(70,)\n",
        "(70,)"
       ]
      },
      {
       "output_type": "stream",
       "stream": "stdout",
       "text": [
        "\n",
        "(1169,)\n",
        "(70,)\n",
        "(70,)\n",
        "(1168,)\n",
        "(70,)\n",
        "(71,)"
       ]
      },
      {
       "output_type": "stream",
       "stream": "stdout",
       "text": [
        "\n",
        "(1186,)\n",
        "(71,)\n",
        "(70,)\n",
        "(1168,)\n",
        "(70,)\n",
        "(71,)"
       ]
      },
      {
       "output_type": "stream",
       "stream": "stdout",
       "text": [
        "\n",
        "(1185,)\n",
        "(71,)\n",
        "(69,)\n",
        "(1151,)\n",
        "(69,)\n",
        "(71,)"
       ]
      },
      {
       "output_type": "stream",
       "stream": "stdout",
       "text": [
        "\n",
        "(1185,)\n",
        "(71,)\n",
        "(74,)\n",
        "(1236,)\n",
        "(74,)\n",
        "(65,)"
       ]
      },
      {
       "output_type": "stream",
       "stream": "stdout",
       "text": [
        "\n",
        "(1085,)\n",
        "(65,)\n",
        "(41,)\n",
        "(685,)\n",
        "(41,)\n",
        "(15,)"
       ]
      },
      {
       "output_type": "stream",
       "stream": "stdout",
       "text": [
        "\n",
        "(251,)\n",
        "(15,)\n",
        "(3,)\n",
        "(52,)\n",
        "(3,)\n",
        "(3,)\n",
        "(52,)\n",
        "(3,)\n",
        "(26,)\n",
        "(435,)\n",
        "(26,)\n",
        "(51,)\n",
        "(851,)\n",
        "(51,)\n",
        "(73,)"
       ]
      },
      {
       "output_type": "stream",
       "stream": "stdout",
       "text": [
        "\n",
        "(1218,)\n",
        "(73,)\n",
        "(73,)\n",
        "(1218,)\n",
        "(73,)\n",
        "(70,)"
       ]
      },
      {
       "output_type": "stream",
       "stream": "stdout",
       "text": [
        "\n",
        "(1169,)\n",
        "(70,)\n",
        "(70,)\n",
        "(1168,)\n",
        "(70,)\n",
        "(69,)"
       ]
      },
      {
       "output_type": "stream",
       "stream": "stdout",
       "text": [
        "\n",
        "(1152,)\n",
        "(69,)\n",
        "(70,)\n",
        "(1168,)\n",
        "(70,)\n",
        "(69,)"
       ]
      },
      {
       "output_type": "stream",
       "stream": "stdout",
       "text": [
        "\n",
        "(1152,)\n",
        "(69,)\n",
        "(69,)\n",
        "(1152,)\n",
        "(69,)\n",
        "(68,)"
       ]
      },
      {
       "output_type": "stream",
       "stream": "stdout",
       "text": [
        "\n",
        "(1135,)\n",
        "(68,)\n",
        "(69,)\n",
        "(1152,)\n",
        "(69,)\n",
        "(70,)"
       ]
      },
      {
       "output_type": "stream",
       "stream": "stdout",
       "text": [
        "\n",
        "(1168,)\n",
        "(70,)\n",
        "(70,)\n",
        "(1169,)\n",
        "(70,)\n",
        "(70,)"
       ]
      },
      {
       "output_type": "stream",
       "stream": "stdout",
       "text": [
        "\n",
        "(1169,)\n",
        "(70,)\n",
        "(69,)\n",
        "(1152,)\n",
        "(69,)\n",
        "(69,)"
       ]
      },
      {
       "output_type": "stream",
       "stream": "stdout",
       "text": [
        "\n",
        "(1152,)\n",
        "(69,)\n",
        "(70,)\n",
        "(1168,)\n",
        "(70,)\n",
        "(70,)"
       ]
      },
      {
       "output_type": "stream",
       "stream": "stdout",
       "text": [
        "\n",
        "(1169,)\n",
        "(70,)\n",
        "(70,)\n",
        "(1168,)\n",
        "(70,)\n",
        "(69,)"
       ]
      },
      {
       "output_type": "stream",
       "stream": "stdout",
       "text": [
        "\n",
        "(1152,)\n",
        "(69,)\n",
        "(69,)\n",
        "(1151,)\n",
        "(69,)\n",
        "(70,)"
       ]
      },
      {
       "output_type": "stream",
       "stream": "stdout",
       "text": [
        "\n",
        "(1169,)\n",
        "(70,)\n",
        "(70,)\n",
        "(1168,)\n",
        "(70,)\n",
        "(69,)"
       ]
      },
      {
       "output_type": "stream",
       "stream": "stdout",
       "text": [
        "\n",
        "(1152,)\n",
        "(69,)\n",
        "(68,)\n",
        "(1135,)\n",
        "(68,)\n",
        "(67,)"
       ]
      },
      {
       "output_type": "stream",
       "stream": "stdout",
       "text": [
        "\n",
        "(1119,)\n",
        "(67,)\n",
        "(68,)\n",
        "(1135,)\n",
        "(68,)\n",
        "(67,)"
       ]
      },
      {
       "output_type": "stream",
       "stream": "stdout",
       "text": [
        "\n",
        "(1118,)\n",
        "(67,)\n",
        "initializing seq 15"
       ]
      },
      {
       "output_type": "stream",
       "stream": "stdout",
       "text": [
        "\n",
        "(73,)"
       ]
      },
      {
       "output_type": "stream",
       "stream": "stdout",
       "text": [
        "\n",
        "(1218,)\n",
        "(73,)\n",
        "(63,)\n",
        "(1052,)\n",
        "(63,)\n",
        "(68,)"
       ]
      },
      {
       "output_type": "stream",
       "stream": "stdout",
       "text": [
        "\n",
        "(1135,)\n",
        "(68,)\n",
        "(68,)\n",
        "(1136,)\n",
        "(68,)\n",
        "(71,)"
       ]
      },
      {
       "output_type": "stream",
       "stream": "stdout",
       "text": [
        "\n",
        "(1185,)\n",
        "(71,)\n",
        "(76,)\n",
        "(1268,)\n",
        "(76,)\n",
        "(85,)"
       ]
      },
      {
       "output_type": "stream",
       "stream": "stdout",
       "text": [
        "\n",
        "(1418,)\n",
        "(85,)\n",
        "(95,)\n",
        "(1585,)\n",
        "(95,)\n",
        "(74,)"
       ]
      },
      {
       "output_type": "stream",
       "stream": "stdout",
       "text": [
        "\n",
        "(1235,)\n",
        "(74,)\n",
        "(42,)\n",
        "(702,)\n",
        "(42,)\n",
        "(13,)"
       ]
      },
      {
       "output_type": "stream",
       "stream": "stdout",
       "text": [
        "\n",
        "(218,)\n",
        "(13,)\n",
        "(33,)\n",
        "(552,)\n",
        "(33,)\n",
        "(55,)\n",
        "(918,)\n",
        "(55,)\n",
        "(74,)"
       ]
      },
      {
       "output_type": "stream",
       "stream": "stdout",
       "text": [
        "\n",
        "(1235,)\n",
        "(74,)\n",
        "(66,)\n",
        "(1101,)\n",
        "(66,)\n",
        "(67,)"
       ]
      },
      {
       "output_type": "stream",
       "stream": "stdout",
       "text": [
        "\n",
        "(1118,)\n",
        "(67,)\n",
        "(70,)\n",
        "(1169,)\n",
        "(70,)\n",
        "(69,)"
       ]
      },
      {
       "output_type": "stream",
       "stream": "stdout",
       "text": [
        "\n",
        "(1152,)\n",
        "(69,)\n",
        "(66,)\n",
        "(1102,)\n",
        "(66,)\n",
        "(66,)"
       ]
      },
      {
       "output_type": "stream",
       "stream": "stdout",
       "text": [
        "\n",
        "(1101,)\n",
        "(66,)\n",
        "(69,)\n",
        "(1152,)\n",
        "(69,)\n",
        "(69,)"
       ]
      },
      {
       "output_type": "stream",
       "stream": "stdout",
       "text": [
        "\n",
        "(1152,)\n",
        "(69,)\n",
        "(69,)\n",
        "(1152,)\n",
        "(69,)\n",
        "(70,)"
       ]
      },
      {
       "output_type": "stream",
       "stream": "stdout",
       "text": [
        "\n",
        "(1169,)\n",
        "(70,)\n",
        "(70,)\n",
        "(1168,)\n",
        "(70,)\n",
        "(66,)"
       ]
      },
      {
       "output_type": "stream",
       "stream": "stdout",
       "text": [
        "\n",
        "(1102,)\n",
        "(66,)\n",
        "(67,)"
       ]
      },
      {
       "output_type": "stream",
       "stream": "stdout",
       "text": [
        "\n",
        "(1118,)\n",
        "(67,)\n",
        "(68,)\n",
        "(1136,)\n",
        "(68,)\n",
        "(78,)"
       ]
      },
      {
       "output_type": "stream",
       "stream": "stdout",
       "text": [
        "\n",
        "(1302,)\n",
        "(78,)\n",
        "(88,)\n",
        "(1469,)\n",
        "(88,)\n",
        "(94,)"
       ]
      },
      {
       "output_type": "stream",
       "stream": "stdout",
       "text": [
        "\n",
        "(1568,)\n",
        "(94,)\n",
        "(104,)\n",
        "(1735,)\n",
        "(104,)\n",
        "(96,)"
       ]
      },
      {
       "output_type": "stream",
       "stream": "stdout",
       "text": [
        "\n",
        "(1602,)\n",
        "(96,)\n",
        "(88,)\n",
        "(1469,)\n",
        "(88,)\n",
        "(73,)"
       ]
      },
      {
       "output_type": "stream",
       "stream": "stdout",
       "text": [
        "\n",
        "(1219,)\n",
        "(73,)\n",
        "(72,)\n",
        "(1202,)\n",
        "(72,)\n",
        "(52,)"
       ]
      },
      {
       "output_type": "stream",
       "stream": "stdout",
       "text": [
        "\n",
        "(868,)\n",
        "(52,)\n",
        "(28,)\n",
        "(468,)\n",
        "(28,)\n",
        "(3,)\n",
        "(51,)\n",
        "(3,)\n",
        "(3,)\n",
        "(51,)\n",
        "(3,)\n",
        "(3,)\n",
        "(51,)\n",
        "(3,)\n",
        "(3,)\n",
        "(51,)\n",
        "(3,)\n",
        "(11,)\n",
        "(184,)\n",
        "(11,)\n",
        "(37,)"
       ]
      },
      {
       "output_type": "stream",
       "stream": "stdout",
       "text": [
        "\n",
        "(618,)\n",
        "(37,)\n",
        "(60,)\n",
        "(1002,)\n",
        "(60,)\n",
        "(73,)"
       ]
      },
      {
       "output_type": "stream",
       "stream": "stdout",
       "text": [
        "\n",
        "(1219,)\n",
        "(73,)\n",
        "(68,)\n",
        "(1135,)\n",
        "(68,)\n",
        "(67,)"
       ]
      },
      {
       "output_type": "stream",
       "stream": "stdout",
       "text": [
        "\n",
        "(1118,)\n",
        "(67,)\n",
        "(67,)\n",
        "(1118,)\n",
        "(67,)\n",
        "(69,)"
       ]
      },
      {
       "output_type": "stream",
       "stream": "stdout",
       "text": [
        "\n",
        "(1152,)\n",
        "(69,)\n",
        "(67,)\n",
        "(1119,)\n",
        "(67,)\n",
        "(74,)"
       ]
      },
      {
       "output_type": "stream",
       "stream": "stdout",
       "text": [
        "\n",
        "(1236,)\n",
        "(74,)\n",
        "(83,)\n",
        "(1385,)\n",
        "(83,)\n",
        "(93,)"
       ]
      },
      {
       "output_type": "stream",
       "stream": "stdout",
       "text": [
        "\n",
        "(1552,)\n",
        "(93,)\n",
        "(85,)"
       ]
      },
      {
       "output_type": "stream",
       "stream": "stdout",
       "text": [
        "\n",
        "(1418,)\n",
        "(85,)\n",
        "(75,)\n",
        "(1252,)\n",
        "(75,)\n",
        "(65,)"
       ]
      },
      {
       "output_type": "stream",
       "stream": "stdout",
       "text": [
        "\n",
        "(1085,)\n",
        "(65,)\n",
        "(68,)\n",
        "(1135,)\n",
        "(68,)\n",
        "(74,)"
       ]
      },
      {
       "output_type": "stream",
       "stream": "stdout",
       "text": [
        "\n",
        "(1235,)\n",
        "(74,)\n",
        "(69,)\n",
        "(1152,)\n",
        "(69,)\n",
        "initializing seq 16"
       ]
      },
      {
       "output_type": "stream",
       "stream": "stdout",
       "text": [
        "\n",
        "(71,)"
       ]
      },
      {
       "output_type": "stream",
       "stream": "stdout",
       "text": [
        "\n",
        "(1184,)\n",
        "(71,)\n",
        "(70,)\n",
        "(1167,)\n",
        "(70,)\n",
        "(69,)"
       ]
      },
      {
       "output_type": "stream",
       "stream": "stdout",
       "text": [
        "\n",
        "(1151,)\n",
        "(69,)\n",
        "(69,)\n",
        "(1151,)\n",
        "(69,)\n",
        "(69,)"
       ]
      },
      {
       "output_type": "stream",
       "stream": "stdout",
       "text": [
        "\n",
        "(1151,)\n",
        "(69,)\n",
        "(69,)\n",
        "(1151,)\n",
        "(69,)\n",
        "(69,)"
       ]
      },
      {
       "output_type": "stream",
       "stream": "stdout",
       "text": [
        "\n",
        "(1151,)\n",
        "(69,)\n",
        "(69,)\n",
        "(1151,)\n",
        "(69,)\n",
        "(69,)"
       ]
      },
      {
       "output_type": "stream",
       "stream": "stdout",
       "text": [
        "\n",
        "(1150,)\n",
        "(69,)\n",
        "(69,)\n",
        "(1151,)\n",
        "(69,)\n",
        "(68,)"
       ]
      },
      {
       "output_type": "stream",
       "stream": "stdout",
       "text": [
        "\n",
        "(1134,)\n",
        "(68,)\n",
        "(69,)\n",
        "(1151,)\n",
        "(69,)\n",
        "(69,)"
       ]
      },
      {
       "output_type": "stream",
       "stream": "stdout",
       "text": [
        "\n",
        "(1151,)\n",
        "(69,)\n",
        "(69,)\n",
        "(1151,)\n",
        "(69,)\n",
        "(72,)"
       ]
      },
      {
       "output_type": "stream",
       "stream": "stdout",
       "text": [
        "\n",
        "(1201,)\n",
        "(72,)\n",
        "(85,)\n",
        "(1417,)\n",
        "(85,)\n",
        "(90,)"
       ]
      },
      {
       "output_type": "stream",
       "stream": "stdout",
       "text": [
        "\n",
        "(1501,)\n",
        "(90,)\n",
        "(87,)\n",
        "(1451,)\n",
        "(87,)\n",
        "(74,)"
       ]
      },
      {
       "output_type": "stream",
       "stream": "stdout",
       "text": [
        "\n",
        "(1235,)\n",
        "(74,)\n",
        "(70,)\n",
        "(1168,)\n",
        "(70,)\n",
        "(69,)"
       ]
      },
      {
       "output_type": "stream",
       "stream": "stdout",
       "text": [
        "\n",
        "(1151,)\n",
        "(69,)\n",
        "(69,)\n",
        "(1151,)\n",
        "(69,)\n",
        "(69,)"
       ]
      },
      {
       "output_type": "stream",
       "stream": "stdout",
       "text": [
        "\n",
        "(1151,)\n",
        "(69,)\n",
        "(69,)\n",
        "(1151,)\n",
        "(69,)\n",
        "(69,)"
       ]
      },
      {
       "output_type": "stream",
       "stream": "stdout",
       "text": [
        "\n",
        "(1151,)\n",
        "(69,)\n",
        "(69,)\n",
        "(1151,)\n",
        "(69,)\n",
        "(69,)"
       ]
      },
      {
       "output_type": "stream",
       "stream": "stdout",
       "text": [
        "\n",
        "(1151,)\n",
        "(69,)\n",
        "(70,)\n",
        "(1167,)\n",
        "(70,)\n",
        "(70,)"
       ]
      },
      {
       "output_type": "stream",
       "stream": "stdout",
       "text": [
        "\n",
        "(1168,)\n",
        "(70,)\n",
        "(70,)\n",
        "(1168,)\n",
        "(70,)\n",
        "(68,)"
       ]
      },
      {
       "output_type": "stream",
       "stream": "stdout",
       "text": [
        "\n",
        "(1135,)\n",
        "(68,)\n",
        "(68,)\n",
        "(1134,)\n",
        "(68,)\n",
        "(68,)"
       ]
      },
      {
       "output_type": "stream",
       "stream": "stdout",
       "text": [
        "\n",
        "(1134,)\n",
        "(68,)\n",
        "(69,)\n",
        "(1151,)\n",
        "(69,)\n",
        "(69,)"
       ]
      },
      {
       "output_type": "stream",
       "stream": "stdout",
       "text": [
        "\n",
        "(1151,)\n",
        "(69,)\n",
        "(69,)\n",
        "(1151,)\n",
        "(69,)\n",
        "(68,)"
       ]
      },
      {
       "output_type": "stream",
       "stream": "stdout",
       "text": [
        "\n",
        "(1134,)\n",
        "(68,)\n",
        "(69,)\n",
        "(1151,)\n",
        "(69,)\n",
        "(71,)"
       ]
      },
      {
       "output_type": "stream",
       "stream": "stdout",
       "text": [
        "\n",
        "(1185,)\n",
        "(71,)\n",
        "(67,)\n",
        "(1118,)\n",
        "(67,)\n",
        "(44,)"
       ]
      },
      {
       "output_type": "stream",
       "stream": "stdout",
       "text": [
        "\n",
        "(734,)\n",
        "(44,)\n",
        "(20,)\n",
        "(334,)\n",
        "(20,)\n",
        "(22,)\n",
        "(367,)\n",
        "(22,)\n",
        "(47,)"
       ]
      },
      {
       "output_type": "stream",
       "stream": "stdout",
       "text": [
        "\n",
        "(785,)\n",
        "(47,)\n",
        "(68,)\n",
        "(1134,)\n",
        "(68,)\n",
        "(72,)"
       ]
      },
      {
       "output_type": "stream",
       "stream": "stdout",
       "text": [
        "\n",
        "(1201,)\n",
        "(72,)\n",
        "(70,)\n",
        "(1167,)\n",
        "(70,)\n",
        "(66,)"
       ]
      },
      {
       "output_type": "stream",
       "stream": "stdout",
       "text": [
        "\n",
        "(1101,)\n",
        "(66,)\n",
        "(66,)\n",
        "(1101,)\n",
        "(66,)\n",
        "(63,)"
       ]
      },
      {
       "output_type": "stream",
       "stream": "stdout",
       "text": [
        "\n",
        "(1051,)\n",
        "(63,)\n",
        "(68,)\n",
        "(1135,)\n",
        "(68,)\n",
        "(65,)"
       ]
      },
      {
       "output_type": "stream",
       "stream": "stdout",
       "text": [
        "\n",
        "(1085,)\n",
        "(65,)\n",
        "(66,)\n",
        "(1101,)\n",
        "(66,)\n",
        "initializing seq 17"
       ]
      },
      {
       "output_type": "stream",
       "stream": "stdout",
       "text": [
        "\n",
        "(88,)"
       ]
      },
      {
       "output_type": "stream",
       "stream": "stdout",
       "text": [
        "\n",
        "(1468,)\n",
        "(88,)\n",
        "(92,)"
       ]
      },
      {
       "output_type": "stream",
       "stream": "stdout",
       "text": [
        "\n",
        "(1536,)\n",
        "(92,)\n",
        "(99,)"
       ]
      },
      {
       "output_type": "stream",
       "stream": "stdout",
       "text": [
        "\n",
        "(1652,)\n",
        "(99,)\n",
        "(93,)\n",
        "(1552,)\n",
        "(93,)\n",
        "(104,)"
       ]
      },
      {
       "output_type": "stream",
       "stream": "stdout",
       "text": [
        "\n",
        "(1735,)\n",
        "(104,)\n",
        "(100,)\n",
        "(1669,)\n",
        "(100,)\n",
        "(89,)"
       ]
      },
      {
       "output_type": "stream",
       "stream": "stdout",
       "text": [
        "\n",
        "(1486,)\n",
        "(89,)\n",
        "(71,)\n",
        "(1185,)\n",
        "(71,)\n",
        "(67,)"
       ]
      },
      {
       "output_type": "stream",
       "stream": "stdout",
       "text": [
        "\n",
        "(1118,)\n",
        "(67,)\n",
        "(68,)\n",
        "(1135,)\n",
        "(68,)\n",
        "(68,)"
       ]
      },
      {
       "output_type": "stream",
       "stream": "stdout",
       "text": [
        "\n",
        "(1136,)\n",
        "(68,)\n",
        "(68,)\n",
        "(1135,)\n",
        "(68,)\n",
        "(69,)"
       ]
      },
      {
       "output_type": "stream",
       "stream": "stdout",
       "text": [
        "\n",
        "(1152,)\n",
        "(69,)\n",
        "(69,)\n",
        "(1151,)\n",
        "(69,)\n",
        "(69,)"
       ]
      },
      {
       "output_type": "stream",
       "stream": "stdout",
       "text": [
        "\n",
        "(1152,)\n",
        "(69,)\n",
        "(69,)\n",
        "(1152,)\n",
        "(69,)\n",
        "(69,)"
       ]
      },
      {
       "output_type": "stream",
       "stream": "stdout",
       "text": [
        "\n",
        "(1152,)\n",
        "(69,)\n",
        "(69,)\n",
        "(1152,)\n",
        "(69,)\n",
        "(69,)"
       ]
      },
      {
       "output_type": "stream",
       "stream": "stdout",
       "text": [
        "\n",
        "(1151,)\n",
        "(69,)\n",
        "(68,)\n",
        "(1135,)\n",
        "(68,)\n",
        "(69,)"
       ]
      },
      {
       "output_type": "stream",
       "stream": "stdout",
       "text": [
        "\n",
        "(1151,)\n",
        "(69,)\n",
        "(71,)\n",
        "(1185,)\n",
        "(71,)\n",
        "(68,)"
       ]
      },
      {
       "output_type": "stream",
       "stream": "stdout",
       "text": [
        "\n",
        "(1135,)\n",
        "(68,)\n",
        "(66,)\n",
        "(1102,)\n",
        "(66,)\n",
        "(66,)"
       ]
      },
      {
       "output_type": "stream",
       "stream": "stdout",
       "text": [
        "\n",
        "(1102,)\n",
        "(66,)\n",
        "(69,)\n",
        "(1152,)\n",
        "(69,)\n",
        "(70,)"
       ]
      },
      {
       "output_type": "stream",
       "stream": "stdout",
       "text": [
        "\n",
        "(1169,)\n",
        "(70,)\n",
        "(69,)\n",
        "(1152,)\n",
        "(69,)\n",
        "(69,)"
       ]
      },
      {
       "output_type": "stream",
       "stream": "stdout",
       "text": [
        "\n",
        "(1152,)\n",
        "(69,)\n",
        "(72,)\n",
        "(1202,)\n",
        "(72,)\n",
        "(77,)"
       ]
      },
      {
       "output_type": "stream",
       "stream": "stdout",
       "text": [
        "\n",
        "(1285,)\n",
        "(77,)\n",
        "(80,)\n",
        "(1335,)\n",
        "(80,)\n",
        "(79,)"
       ]
      },
      {
       "output_type": "stream",
       "stream": "stdout",
       "text": [
        "\n",
        "(1318,)\n",
        "(79,)\n",
        "(79,)\n",
        "(1319,)\n",
        "(79,)\n",
        "(79,)"
       ]
      },
      {
       "output_type": "stream",
       "stream": "stdout",
       "text": [
        "\n",
        "(1319,)\n",
        "(79,)\n",
        "(76,)\n",
        "(1269,)\n",
        "(76,)\n",
        "(71,)"
       ]
      },
      {
       "output_type": "stream",
       "stream": "stdout",
       "text": [
        "\n",
        "(1185,)\n",
        "(71,)\n",
        "(69,)\n",
        "(1152,)\n",
        "(69,)\n",
        "(71,)"
       ]
      },
      {
       "output_type": "stream",
       "stream": "stdout",
       "text": [
        "\n",
        "(1185,)\n",
        "(71,)\n",
        "(70,)\n",
        "(1168,)\n",
        "(70,)\n",
        "(70,)"
       ]
      },
      {
       "output_type": "stream",
       "stream": "stdout",
       "text": [
        "\n",
        "(1168,)\n",
        "(70,)\n",
        "(70,)\n",
        "(1168,)\n",
        "(70,)\n",
        "(69,)"
       ]
      },
      {
       "output_type": "stream",
       "stream": "stdout",
       "text": [
        "\n",
        "(1152,)\n",
        "(69,)\n",
        "(68,)\n",
        "(1135,)\n",
        "(68,)\n",
        "(67,)"
       ]
      },
      {
       "output_type": "stream",
       "stream": "stdout",
       "text": [
        "\n",
        "(1119,)\n",
        "(67,)\n",
        "(69,)\n",
        "(1152,)\n",
        "(69,)\n",
        "(69,)"
       ]
      },
      {
       "output_type": "stream",
       "stream": "stdout",
       "text": [
        "\n",
        "(1152,)\n",
        "(69,)\n",
        "(73,)\n",
        "(1218,)\n",
        "(73,)\n",
        "(84,)"
       ]
      },
      {
       "output_type": "stream",
       "stream": "stdout",
       "text": [
        "\n",
        "(1402,)\n",
        "(84,)\n",
        "initializing seq 18"
       ]
      },
      {
       "output_type": "stream",
       "stream": "stdout",
       "text": [
        "\n",
        "(72,)"
       ]
      },
      {
       "output_type": "stream",
       "stream": "stdout",
       "text": [
        "\n",
        "(1201,)\n",
        "(72,)\n",
        "(65,)\n",
        "(1084,)\n",
        "(65,)\n",
        "(69,)"
       ]
      },
      {
       "output_type": "stream",
       "stream": "stdout",
       "text": [
        "\n",
        "(1151,)\n",
        "(69,)\n",
        "(68,)\n",
        "(1134,)\n",
        "(68,)\n",
        "(67,)"
       ]
      },
      {
       "output_type": "stream",
       "stream": "stdout",
       "text": [
        "\n",
        "(1118,)\n",
        "(67,)\n",
        "(68,)\n",
        "(1134,)\n",
        "(68,)\n",
        "(68,)"
       ]
      },
      {
       "output_type": "stream",
       "stream": "stdout",
       "text": [
        "\n",
        "(1135,)\n",
        "(68,)\n",
        "(68,)\n",
        "(1134,)\n",
        "(68,)\n",
        "(67,)"
       ]
      },
      {
       "output_type": "stream",
       "stream": "stdout",
       "text": [
        "\n",
        "(1118,)\n",
        "(67,)\n",
        "(67,)\n",
        "(1117,)\n",
        "(67,)\n",
        "(70,)"
       ]
      },
      {
       "output_type": "stream",
       "stream": "stdout",
       "text": [
        "\n",
        "(1168,)\n",
        "(70,)\n",
        "(69,)\n",
        "(1151,)\n",
        "(69,)\n",
        "(68,)"
       ]
      },
      {
       "output_type": "stream",
       "stream": "stdout",
       "text": [
        "\n",
        "(1135,)\n",
        "(68,)\n",
        "(68,)\n",
        "(1134,)\n",
        "(68,)\n",
        "(68,)"
       ]
      },
      {
       "output_type": "stream",
       "stream": "stdout",
       "text": [
        "\n",
        "(1134,)\n",
        "(68,)\n",
        "(68,)\n",
        "(1134,)\n",
        "(68,)\n",
        "(69,)"
       ]
      },
      {
       "output_type": "stream",
       "stream": "stdout",
       "text": [
        "\n",
        "(1151,)\n",
        "(69,)\n",
        "(69,)\n",
        "(1151,)\n",
        "(69,)\n",
        "(68,)"
       ]
      },
      {
       "output_type": "stream",
       "stream": "stdout",
       "text": [
        "\n",
        "(1134,)\n",
        "(68,)\n",
        "(67,)\n",
        "(1118,)\n",
        "(67,)\n",
        "(66,)"
       ]
      },
      {
       "output_type": "stream",
       "stream": "stdout",
       "text": [
        "\n",
        "(1101,)\n",
        "(66,)\n",
        "(68,)\n",
        "(1135,)\n",
        "(68,)\n",
        "(69,)"
       ]
      },
      {
       "output_type": "stream",
       "stream": "stdout",
       "text": [
        "\n",
        "(1151,)\n",
        "(69,)\n",
        "(69,)\n",
        "(1151,)\n",
        "(69,)\n",
        "(68,)"
       ]
      },
      {
       "output_type": "stream",
       "stream": "stdout",
       "text": [
        "\n",
        "(1134,)\n",
        "(68,)\n",
        "(68,)\n",
        "(1134,)\n",
        "(68,)\n",
        "(67,)"
       ]
      },
      {
       "output_type": "stream",
       "stream": "stdout",
       "text": [
        "\n",
        "(1118,)\n",
        "(67,)\n",
        "(70,)\n",
        "(1168,)\n",
        "(70,)\n",
        "(72,)"
       ]
      },
      {
       "output_type": "stream",
       "stream": "stdout",
       "text": [
        "\n",
        "(1201,)\n",
        "(72,)\n",
        "(52,)\n",
        "(868,)\n",
        "(52,)\n",
        "(28,)"
       ]
      },
      {
       "output_type": "stream",
       "stream": "stdout",
       "text": [
        "\n",
        "(467,)\n",
        "(28,)\n",
        "(3,)\n",
        "(51,)\n",
        "(3,)\n",
        "(3,)\n",
        "(51,)\n",
        "(3,)\n",
        "(13,)\n",
        "(217,)\n",
        "(13,)\n",
        "(38,)\n",
        "(635,)\n",
        "(38,)\n",
        "(59,)"
       ]
      },
      {
       "output_type": "stream",
       "stream": "stdout",
       "text": [
        "\n",
        "(984,)\n",
        "(59,)\n",
        "(75,)\n",
        "(1251,)\n",
        "(75,)\n",
        "(85,)"
       ]
      },
      {
       "output_type": "stream",
       "stream": "stdout",
       "text": [
        "\n",
        "(1417,)\n",
        "(85,)\n",
        "(93,)\n",
        "(1551,)\n",
        "(93,)\n",
        "(90,)"
       ]
      },
      {
       "output_type": "stream",
       "stream": "stdout",
       "text": [
        "\n",
        "(1501,)\n",
        "(90,)\n",
        "(74,)\n",
        "(1235,)\n",
        "(74,)\n",
        "(68,)"
       ]
      },
      {
       "output_type": "stream",
       "stream": "stdout",
       "text": [
        "\n",
        "(1135,)\n",
        "(68,)\n",
        "(66,)\n",
        "(1101,)\n",
        "(66,)\n",
        "(67,)"
       ]
      },
      {
       "output_type": "stream",
       "stream": "stdout",
       "text": [
        "\n",
        "(1117,)\n",
        "(67,)\n",
        "(67,)\n",
        "(1117,)\n",
        "(67,)\n",
        "(69,)"
       ]
      },
      {
       "output_type": "stream",
       "stream": "stdout",
       "text": [
        "\n",
        "(1151,)\n",
        "(69,)\n",
        "(72,)\n",
        "(1201,)\n",
        "(72,)\n",
        "(70,)"
       ]
      },
      {
       "output_type": "stream",
       "stream": "stdout",
       "text": [
        "\n",
        "(1168,)\n",
        "(70,)\n",
        "(70,)\n",
        "(1168,)\n",
        "(70,)\n",
        "(69,)"
       ]
      },
      {
       "output_type": "stream",
       "stream": "stdout",
       "text": [
        "\n",
        "(1151,)\n",
        "(69,)\n",
        "(67,)\n",
        "(1118,)\n",
        "(67,)\n",
        "(68,)"
       ]
      },
      {
       "output_type": "stream",
       "stream": "stdout",
       "text": [
        "\n",
        "(1134,)\n",
        "(68,)\n",
        "(69,)\n",
        "(1151,)\n",
        "(69,)\n",
        "(71,)"
       ]
      },
      {
       "output_type": "stream",
       "stream": "stdout",
       "text": [
        "\n",
        "(1184,)\n",
        "(71,)\n",
        "imporing data for fly115"
       ]
      },
      {
       "output_type": "stream",
       "stream": "stdout",
       "text": [
        "\n",
        "syncing data"
       ]
      },
      {
       "output_type": "stream",
       "stream": "stderr",
       "text": [
        "flylib.py:110: UserWarning: problem extracting idxs from camera_sync_signal for sequence 17 using even spaced idx's over the camera epoch instead\n",
        "  warnings.warn(\"problem extracting idxs from camera_sync_signal for sequence %s using even spaced idx's over the camera epoch instead\"%(snum))\n",
        "flylib.py:114: UserWarning: problem extracting idxs from camera_sync_signal for epoch 1 using even spaced idx's over the camera epoch instead\n",
        "  warnings.warn(\"problem extracting idxs from camera_sync_signal for epoch %s using even spaced idx's over the camera epoch instead\"%(snum))\n"
       ]
      },
      {
       "output_type": "stream",
       "stream": "stdout",
       "text": [
        "\n",
        "[1, 2, 3, 4, 5, 6]"
       ]
      },
      {
       "output_type": "stream",
       "stream": "stdout",
       "text": [
        "\n",
        "initializing seq 1\n",
        "(74,)"
       ]
      },
      {
       "output_type": "stream",
       "stream": "stdout",
       "text": [
        "\n",
        "(1235,)\n",
        "(74,)\n",
        "(73,)\n",
        "(1218,)\n",
        "(73,)\n",
        "(72,)"
       ]
      },
      {
       "output_type": "stream",
       "stream": "stdout",
       "text": [
        "\n",
        "(1202,)\n",
        "(72,)\n",
        "(71,)\n",
        "(1185,)\n",
        "(71,)\n",
        "(72,)"
       ]
      },
      {
       "output_type": "stream",
       "stream": "stdout",
       "text": [
        "\n",
        "(1202,)\n",
        "(72,)\n",
        "(72,)\n",
        "(1202,)\n",
        "(72,)\n",
        "(72,)"
       ]
      },
      {
       "output_type": "stream",
       "stream": "stdout",
       "text": [
        "\n",
        "(1202,)\n",
        "(72,)\n",
        "(71,)\n",
        "(1185,)\n",
        "(71,)\n",
        "(73,)"
       ]
      },
      {
       "output_type": "stream",
       "stream": "stdout",
       "text": [
        "\n",
        "(1218,)\n",
        "(73,)\n",
        "(73,)\n",
        "(1219,)\n",
        "(73,)\n",
        "(72,)"
       ]
      },
      {
       "output_type": "stream",
       "stream": "stdout",
       "text": [
        "\n",
        "(1202,)\n",
        "(72,)\n",
        "(71,)"
       ]
      },
      {
       "output_type": "stream",
       "stream": "stdout",
       "text": [
        "\n",
        "(1186,)\n",
        "(71,)\n",
        "(72,)\n",
        "(1202,)\n",
        "(72,)\n",
        "(72,)"
       ]
      },
      {
       "output_type": "stream",
       "stream": "stdout",
       "text": [
        "\n",
        "(1202,)\n",
        "(72,)\n",
        "(72,)\n",
        "(1201,)\n",
        "(72,)\n",
        "(71,)"
       ]
      },
      {
       "output_type": "stream",
       "stream": "stdout",
       "text": [
        "\n",
        "(1185,)\n",
        "(71,)\n",
        "(72,)\n",
        "(1202,)\n",
        "(72,)\n",
        "(72,)"
       ]
      },
      {
       "output_type": "stream",
       "stream": "stdout",
       "text": [
        "\n",
        "(1202,)\n",
        "(72,)\n",
        "(72,)\n",
        "(1201,)\n",
        "(72,)\n",
        "(72,)"
       ]
      },
      {
       "output_type": "stream",
       "stream": "stdout",
       "text": [
        "\n",
        "(1202,)\n",
        "(72,)\n",
        "(72,)\n",
        "(1202,)\n",
        "(72,)\n",
        "(71,)"
       ]
      },
      {
       "output_type": "stream",
       "stream": "stdout",
       "text": [
        "\n",
        "(1186,)\n",
        "(71,)\n",
        "(71,)\n",
        "(1185,)\n",
        "(71,)\n",
        "(71,)"
       ]
      },
      {
       "output_type": "stream",
       "stream": "stdout",
       "text": [
        "\n",
        "(1185,)\n",
        "(71,)\n",
        "(72,)\n",
        "(1201,)\n",
        "(72,)\n",
        "(72,)"
       ]
      },
      {
       "output_type": "stream",
       "stream": "stdout",
       "text": [
        "\n",
        "(1202,)\n",
        "(72,)\n",
        "(72,)\n",
        "(1202,)\n",
        "(72,)\n",
        "(72,)"
       ]
      },
      {
       "output_type": "stream",
       "stream": "stdout",
       "text": [
        "\n",
        "(1202,)\n",
        "(72,)\n",
        "(72,)\n",
        "(1202,)\n",
        "(72,)\n",
        "(72,)"
       ]
      },
      {
       "output_type": "stream",
       "stream": "stdout",
       "text": [
        "\n",
        "(1202,)\n",
        "(72,)\n",
        "(72,)\n",
        "(1202,)\n",
        "(72,)\n",
        "(72,)"
       ]
      },
      {
       "output_type": "stream",
       "stream": "stdout",
       "text": [
        "\n",
        "(1201,)\n",
        "(72,)\n",
        "(72,)\n",
        "(1202,)\n",
        "(72,)\n",
        "(72,)"
       ]
      },
      {
       "output_type": "stream",
       "stream": "stdout",
       "text": [
        "\n",
        "(1202,)\n",
        "(72,)\n",
        "(72,)\n",
        "(1202,)\n",
        "(72,)\n",
        "(71,)"
       ]
      },
      {
       "output_type": "stream",
       "stream": "stdout",
       "text": [
        "\n",
        "(1185,)\n",
        "(71,)\n",
        "(71,)\n",
        "(1185,)\n",
        "(71,)\n",
        "(71,)"
       ]
      },
      {
       "output_type": "stream",
       "stream": "stdout",
       "text": [
        "\n",
        "(1185,)\n",
        "(71,)\n",
        "(70,)\n",
        "(1168,)\n",
        "(70,)\n",
        "(69,)"
       ]
      },
      {
       "output_type": "stream",
       "stream": "stdout",
       "text": [
        "\n",
        "(1152,)\n",
        "(69,)\n",
        "(68,)\n",
        "(1135,)\n",
        "(68,)\n",
        "(70,)"
       ]
      },
      {
       "output_type": "stream",
       "stream": "stdout",
       "text": [
        "\n",
        "(1169,)\n",
        "(70,)\n",
        "(71,)\n",
        "(1185,)\n",
        "(71,)\n",
        "(71,)"
       ]
      },
      {
       "output_type": "stream",
       "stream": "stdout",
       "text": [
        "\n",
        "(1186,)\n",
        "(71,)\n",
        "(71,)\n",
        "(1185,)\n",
        "(71,)\n",
        "(71,)"
       ]
      },
      {
       "output_type": "stream",
       "stream": "stdout",
       "text": [
        "\n",
        "(1185,)\n",
        "(71,)\n",
        "(71,)\n",
        "(1185,)\n",
        "(71,)\n",
        "(71,)"
       ]
      },
      {
       "output_type": "stream",
       "stream": "stdout",
       "text": [
        "\n",
        "(1185,)\n",
        "(71,)\n",
        "(70,)\n",
        "(1169,)\n",
        "(70,)\n",
        "(71,)"
       ]
      },
      {
       "output_type": "stream",
       "stream": "stdout",
       "text": [
        "\n",
        "(1185,)\n",
        "(71,)\n",
        "(70,)\n",
        "(1169,)\n",
        "(70,)\n",
        "(70,)"
       ]
      },
      {
       "output_type": "stream",
       "stream": "stdout",
       "text": [
        "\n",
        "(1168,)\n",
        "(70,)\n",
        "(72,)\n",
        "(1202,)\n",
        "(72,)\n",
        "initializing seq 2"
       ]
      },
      {
       "output_type": "stream",
       "stream": "stdout",
       "text": [
        "\n",
        "(79,)"
       ]
      },
      {
       "output_type": "stream",
       "stream": "stdout",
       "text": [
        "\n",
        "(1318,)\n",
        "(79,)\n",
        "(75,)\n",
        "(1251,)\n",
        "(75,)\n",
        "(73,)"
       ]
      },
      {
       "output_type": "stream",
       "stream": "stdout",
       "text": [
        "\n",
        "(1218,)\n",
        "(73,)\n",
        "(72,)\n",
        "(1201,)\n",
        "(72,)\n",
        "(75,)"
       ]
      },
      {
       "output_type": "stream",
       "stream": "stdout",
       "text": [
        "\n",
        "(1251,)\n",
        "(75,)\n",
        "(76,)\n",
        "(1267,)\n",
        "(76,)\n",
        "(75,)"
       ]
      },
      {
       "output_type": "stream",
       "stream": "stdout",
       "text": [
        "\n",
        "(1251,)\n",
        "(75,)\n",
        "(74,)\n",
        "(1235,)\n",
        "(74,)\n",
        "(74,)"
       ]
      },
      {
       "output_type": "stream",
       "stream": "stdout",
       "text": [
        "\n",
        "(1235,)\n",
        "(74,)\n",
        "(74,)\n",
        "(1234,)\n",
        "(74,)\n",
        "(73,)"
       ]
      },
      {
       "output_type": "stream",
       "stream": "stdout",
       "text": [
        "\n",
        "(1217,)\n",
        "(73,)\n",
        "(73,)\n",
        "(1217,)\n",
        "(73,)\n",
        "(73,)"
       ]
      },
      {
       "output_type": "stream",
       "stream": "stdout",
       "text": [
        "\n",
        "(1218,)\n",
        "(73,)\n",
        "(73,)\n",
        "(1218,)\n",
        "(73,)\n",
        "(74,)"
       ]
      },
      {
       "output_type": "stream",
       "stream": "stdout",
       "text": [
        "\n",
        "(1235,)\n",
        "(74,)\n",
        "(74,)\n",
        "(1234,)\n",
        "(74,)\n",
        "(74,)"
       ]
      },
      {
       "output_type": "stream",
       "stream": "stdout",
       "text": [
        "\n",
        "(1234,)\n",
        "(74,)\n",
        "(74,)\n",
        "(1234,)\n",
        "(74,)\n",
        "(73,)"
       ]
      },
      {
       "output_type": "stream",
       "stream": "stdout",
       "text": [
        "\n",
        "(1218,)\n",
        "(73,)\n",
        "(74,)\n",
        "(1235,)\n",
        "(74,)\n",
        "(73,)"
       ]
      },
      {
       "output_type": "stream",
       "stream": "stdout",
       "text": [
        "\n",
        "(1218,)\n",
        "(73,)\n",
        "(74,)\n",
        "(1234,)\n",
        "(74,)\n",
        "(73,)"
       ]
      },
      {
       "output_type": "stream",
       "stream": "stdout",
       "text": [
        "\n",
        "(1217,)\n",
        "(73,)\n",
        "(74,)\n",
        "(1234,)\n",
        "(74,)\n",
        "(73,)"
       ]
      },
      {
       "output_type": "stream",
       "stream": "stdout",
       "text": [
        "\n",
        "(1218,)\n",
        "(73,)\n",
        "(74,)\n",
        "(1235,)\n",
        "(74,)\n",
        "(73,)"
       ]
      },
      {
       "output_type": "stream",
       "stream": "stdout",
       "text": [
        "\n",
        "(1218,)\n",
        "(73,)\n",
        "(74,)\n",
        "(1234,)\n",
        "(74,)\n",
        "(74,)"
       ]
      },
      {
       "output_type": "stream",
       "stream": "stdout",
       "text": [
        "\n",
        "(1234,)\n",
        "(74,)\n",
        "(75,)\n",
        "(1251,)\n",
        "(75,)\n",
        "(74,)"
       ]
      },
      {
       "output_type": "stream",
       "stream": "stdout",
       "text": [
        "\n",
        "(1235,)\n",
        "(74,)\n",
        "(74,)\n",
        "(1234,)\n",
        "(74,)\n",
        "(74,)"
       ]
      },
      {
       "output_type": "stream",
       "stream": "stdout",
       "text": [
        "\n",
        "(1234,)\n",
        "(74,)\n",
        "(74,)\n",
        "(1234,)\n",
        "(74,)\n",
        "(73,)"
       ]
      },
      {
       "output_type": "stream",
       "stream": "stdout",
       "text": [
        "\n",
        "(1218,)\n",
        "(73,)\n",
        "(73,)\n",
        "(1218,)\n",
        "(73,)\n",
        "(73,)"
       ]
      },
      {
       "output_type": "stream",
       "stream": "stdout",
       "text": [
        "\n",
        "(1218,)\n",
        "(73,)\n",
        "(73,)\n",
        "(1218,)\n",
        "(73,)\n",
        "(72,)"
       ]
      },
      {
       "output_type": "stream",
       "stream": "stdout",
       "text": [
        "\n",
        "(1201,)\n",
        "(72,)\n",
        "(72,)\n",
        "(1201,)\n",
        "(72,)\n",
        "(72,)"
       ]
      },
      {
       "output_type": "stream",
       "stream": "stdout",
       "text": [
        "\n",
        "(1201,)\n",
        "(72,)\n",
        "(72,)\n",
        "(1201,)\n",
        "(72,)\n",
        "(72,)"
       ]
      },
      {
       "output_type": "stream",
       "stream": "stdout",
       "text": [
        "\n",
        "(1201,)\n",
        "(72,)\n",
        "(73,)\n",
        "(1217,)\n",
        "(73,)\n",
        "(73,)"
       ]
      },
      {
       "output_type": "stream",
       "stream": "stdout",
       "text": [
        "\n",
        "(1217,)\n",
        "(73,)\n",
        "(73,)\n",
        "(1217,)\n",
        "(73,)\n",
        "(72,)"
       ]
      },
      {
       "output_type": "stream",
       "stream": "stdout",
       "text": [
        "\n",
        "(1201,)\n",
        "(72,)\n",
        "initializing seq 3"
       ]
      },
      {
       "output_type": "stream",
       "stream": "stdout",
       "text": [
        "\n",
        "(75,)"
       ]
      },
      {
       "output_type": "stream",
       "stream": "stdout",
       "text": [
        "\n",
        "(1251,)\n",
        "(75,)\n",
        "(74,)\n",
        "(1234,)\n",
        "(74,)\n",
        "(73,)"
       ]
      },
      {
       "output_type": "stream",
       "stream": "stdout",
       "text": [
        "\n",
        "(1217,)\n",
        "(73,)\n",
        "(74,)\n",
        "(1234,)\n",
        "(74,)\n",
        "(73,)"
       ]
      },
      {
       "output_type": "stream",
       "stream": "stdout",
       "text": [
        "\n",
        "(1218,)\n",
        "(73,)\n",
        "(74,)\n",
        "(1235,)\n",
        "(74,)\n",
        "(74,)"
       ]
      },
      {
       "output_type": "stream",
       "stream": "stdout",
       "text": [
        "\n",
        "(1234,)\n",
        "(74,)\n",
        "(74,)\n",
        "(1234,)\n",
        "(74,)\n",
        "(74,)"
       ]
      },
      {
       "output_type": "stream",
       "stream": "stdout",
       "text": [
        "\n",
        "(1234,)\n",
        "(74,)\n",
        "(73,)\n",
        "(1218,)\n",
        "(73,)\n",
        "(74,)"
       ]
      },
      {
       "output_type": "stream",
       "stream": "stdout",
       "text": [
        "\n",
        "(1235,)\n",
        "(74,)\n",
        "(74,)\n",
        "(1234,)\n",
        "(74,)\n",
        "(75,)"
       ]
      },
      {
       "output_type": "stream",
       "stream": "stdout",
       "text": [
        "\n",
        "(1251,)\n",
        "(75,)\n",
        "(75,)\n",
        "(1251,)\n",
        "(75,)\n",
        "(75,)"
       ]
      },
      {
       "output_type": "stream",
       "stream": "stdout",
       "text": [
        "\n",
        "(1251,)\n",
        "(75,)\n",
        "(75,)\n",
        "(1251,)\n",
        "(75,)\n",
        "(75,)"
       ]
      },
      {
       "output_type": "stream",
       "stream": "stdout",
       "text": [
        "\n",
        "(1251,)\n",
        "(75,)\n",
        "(75,)\n",
        "(1251,)\n",
        "(75,)\n",
        "(74,)"
       ]
      },
      {
       "output_type": "stream",
       "stream": "stdout",
       "text": [
        "\n",
        "(1234,)\n",
        "(74,)\n",
        "(74,)\n",
        "(1234,)\n",
        "(74,)\n",
        "(74,)"
       ]
      },
      {
       "output_type": "stream",
       "stream": "stdout",
       "text": [
        "\n",
        "(1235,)\n",
        "(74,)\n",
        "(75,)\n",
        "(1251,)\n",
        "(75,)\n",
        "(75,)"
       ]
      },
      {
       "output_type": "stream",
       "stream": "stdout",
       "text": [
        "\n",
        "(1251,)\n",
        "(75,)\n",
        "(75,)\n",
        "(1251,)\n",
        "(75,)\n",
        "(74,)"
       ]
      },
      {
       "output_type": "stream",
       "stream": "stdout",
       "text": [
        "\n",
        "(1235,)\n",
        "(74,)\n",
        "(73,)\n",
        "(1218,)\n",
        "(73,)\n",
        "(73,)"
       ]
      },
      {
       "output_type": "stream",
       "stream": "stdout",
       "text": [
        "\n",
        "(1217,)\n",
        "(73,)\n",
        "(74,)\n",
        "(1234,)\n",
        "(74,)\n",
        "(75,)"
       ]
      },
      {
       "output_type": "stream",
       "stream": "stdout",
       "text": [
        "\n",
        "(1251,)\n",
        "(75,)\n",
        "(74,)\n",
        "(1235,)\n",
        "(74,)\n",
        "(74,)"
       ]
      },
      {
       "output_type": "stream",
       "stream": "stdout",
       "text": [
        "\n",
        "(1234,)\n",
        "(74,)\n",
        "(74,)\n",
        "(1234,)\n",
        "(74,)\n",
        "(75,)"
       ]
      },
      {
       "output_type": "stream",
       "stream": "stdout",
       "text": [
        "\n",
        "(1251,)\n",
        "(75,)\n",
        "(75,)\n",
        "(1251,)\n",
        "(75,)\n",
        "(75,)"
       ]
      },
      {
       "output_type": "stream",
       "stream": "stdout",
       "text": [
        "\n",
        "(1251,)\n",
        "(75,)\n",
        "(74,)\n",
        "(1234,)\n",
        "(74,)\n",
        "(74,)"
       ]
      },
      {
       "output_type": "stream",
       "stream": "stdout",
       "text": [
        "\n",
        "(1235,)\n",
        "(74,)\n",
        "(74,)\n",
        "(1234,)\n",
        "(74,)\n",
        "(74,)"
       ]
      },
      {
       "output_type": "stream",
       "stream": "stdout",
       "text": [
        "\n",
        "(1234,)\n",
        "(74,)\n",
        "(74,)\n",
        "(1234,)\n",
        "(74,)\n",
        "(73,)"
       ]
      },
      {
       "output_type": "stream",
       "stream": "stdout",
       "text": [
        "\n",
        "(1218,)\n",
        "(73,)\n",
        "(73,)\n",
        "(1218,)\n",
        "(73,)\n",
        "(71,)"
       ]
      },
      {
       "output_type": "stream",
       "stream": "stdout",
       "text": [
        "\n",
        "(1184,)\n",
        "(71,)\n",
        "(71,)\n",
        "(1184,)\n",
        "(71,)\n",
        "(72,)"
       ]
      },
      {
       "output_type": "stream",
       "stream": "stdout",
       "text": [
        "\n",
        "(1201,)\n",
        "(72,)\n",
        "(73,)\n",
        "(1218,)\n",
        "(73,)\n",
        "(74,)"
       ]
      },
      {
       "output_type": "stream",
       "stream": "stdout",
       "text": [
        "\n",
        "(1235,)\n",
        "(74,)\n",
        "(73,)\n",
        "(1218,)\n",
        "(73,)\n",
        "initializing seq 4"
       ]
      },
      {
       "output_type": "stream",
       "stream": "stdout",
       "text": [
        "\n",
        "(77,)"
       ]
      },
      {
       "output_type": "stream",
       "stream": "stdout",
       "text": [
        "\n",
        "(1284,)\n",
        "(77,)\n",
        "(74,)\n",
        "(1234,)\n",
        "(74,)\n",
        "(76,)"
       ]
      },
      {
       "output_type": "stream",
       "stream": "stdout",
       "text": [
        "\n",
        "(1268,)\n",
        "(76,)\n",
        "(75,)\n",
        "(1251,)\n",
        "(75,)\n",
        "(75,)"
       ]
      },
      {
       "output_type": "stream",
       "stream": "stdout",
       "text": [
        "\n",
        "(1251,)\n",
        "(75,)\n",
        "(75,)\n",
        "(1251,)\n",
        "(75,)\n",
        "(75,)"
       ]
      },
      {
       "output_type": "stream",
       "stream": "stdout",
       "text": [
        "\n",
        "(1251,)\n",
        "(75,)\n",
        "(74,)\n",
        "(1234,)\n",
        "(74,)\n",
        "(74,)"
       ]
      },
      {
       "output_type": "stream",
       "stream": "stdout",
       "text": [
        "\n",
        "(1234,)\n",
        "(74,)\n",
        "(74,)\n",
        "(1235,)\n",
        "(74,)\n",
        "(74,)"
       ]
      },
      {
       "output_type": "stream",
       "stream": "stdout",
       "text": [
        "\n",
        "(1235,)\n",
        "(74,)\n",
        "(74,)\n",
        "(1234,)\n",
        "(74,)\n",
        "(74,)"
       ]
      },
      {
       "output_type": "stream",
       "stream": "stdout",
       "text": [
        "\n",
        "(1234,)\n",
        "(74,)\n",
        "(74,)\n",
        "(1234,)\n",
        "(74,)\n",
        "(74,)"
       ]
      },
      {
       "output_type": "stream",
       "stream": "stdout",
       "text": [
        "\n",
        "(1235,)\n",
        "(74,)\n",
        "(74,)\n",
        "(1234,)\n",
        "(74,)\n",
        "(74,)"
       ]
      },
      {
       "output_type": "stream",
       "stream": "stdout",
       "text": [
        "\n",
        "(1234,)\n",
        "(74,)\n",
        "(75,)\n",
        "(1251,)\n",
        "(75,)\n",
        "(74,)"
       ]
      },
      {
       "output_type": "stream",
       "stream": "stdout",
       "text": [
        "\n",
        "(1235,)\n",
        "(74,)\n",
        "(75,)\n",
        "(1251,)\n",
        "(75,)\n",
        "(74,)"
       ]
      },
      {
       "output_type": "stream",
       "stream": "stdout",
       "text": [
        "\n",
        "(1234,)\n",
        "(74,)\n",
        "(75,)\n",
        "(1251,)\n",
        "(75,)\n",
        "(75,)"
       ]
      },
      {
       "output_type": "stream",
       "stream": "stdout",
       "text": [
        "\n",
        "(1251,)\n",
        "(75,)\n",
        "(74,)\n",
        "(1234,)\n",
        "(74,)\n",
        "(74,)"
       ]
      },
      {
       "output_type": "stream",
       "stream": "stdout",
       "text": [
        "\n",
        "(1234,)\n",
        "(74,)\n",
        "(74,)\n",
        "(1235,)\n",
        "(74,)\n",
        "(74,)"
       ]
      },
      {
       "output_type": "stream",
       "stream": "stdout",
       "text": [
        "\n",
        "(1235,)\n",
        "(74,)\n",
        "(73,)\n",
        "(1218,)\n",
        "(73,)\n",
        "(73,)"
       ]
      },
      {
       "output_type": "stream",
       "stream": "stdout",
       "text": [
        "\n",
        "(1217,)\n",
        "(73,)\n",
        "(74,)\n",
        "(1234,)\n",
        "(74,)\n",
        "(74,)"
       ]
      },
      {
       "output_type": "stream",
       "stream": "stdout",
       "text": [
        "\n",
        "(1234,)\n",
        "(74,)\n",
        "(74,)\n",
        "(1235,)\n",
        "(74,)\n",
        "(72,)"
       ]
      },
      {
       "output_type": "stream",
       "stream": "stdout",
       "text": [
        "\n",
        "(1201,)\n",
        "(72,)\n",
        "(72,)\n",
        "(1201,)\n",
        "(72,)\n",
        "(72,)"
       ]
      },
      {
       "output_type": "stream",
       "stream": "stdout",
       "text": [
        "\n",
        "(1201,)\n",
        "(72,)\n",
        "(73,)\n",
        "(1218,)\n",
        "(73,)\n",
        "(72,)"
       ]
      },
      {
       "output_type": "stream",
       "stream": "stdout",
       "text": [
        "\n",
        "(1201,)\n",
        "(72,)\n",
        "(71,)\n",
        "(1184,)\n",
        "(71,)\n",
        "(72,)"
       ]
      },
      {
       "output_type": "stream",
       "stream": "stdout",
       "text": [
        "\n",
        "(1201,)\n",
        "(72,)\n",
        "(74,)\n",
        "(1234,)\n",
        "(74,)\n",
        "(75,)"
       ]
      },
      {
       "output_type": "stream",
       "stream": "stdout",
       "text": [
        "\n",
        "(1251,)\n",
        "(75,)\n",
        "(75,)\n",
        "(1251,)\n",
        "(75,)\n",
        "(74,)"
       ]
      },
      {
       "output_type": "stream",
       "stream": "stdout",
       "text": [
        "\n",
        "(1235,)\n",
        "(74,)\n",
        "(73,)\n",
        "(1218,)\n",
        "(73,)\n",
        "(72,)"
       ]
      },
      {
       "output_type": "stream",
       "stream": "stdout",
       "text": [
        "\n",
        "(1201,)\n",
        "(72,)\n",
        "(73,)\n",
        "(1217,)\n",
        "(73,)\n",
        "(73,)"
       ]
      },
      {
       "output_type": "stream",
       "stream": "stdout",
       "text": [
        "\n",
        "(1217,)\n",
        "(73,)\n",
        "(74,)\n",
        "(1234,)\n",
        "(74,)\n",
        "(74,)"
       ]
      },
      {
       "output_type": "stream",
       "stream": "stdout",
       "text": [
        "\n",
        "(1235,)\n",
        "(74,)\n",
        "initializing seq 5"
       ]
      },
      {
       "output_type": "stream",
       "stream": "stdout",
       "text": [
        "\n",
        "(80,)"
       ]
      },
      {
       "output_type": "stream",
       "stream": "stdout",
       "text": [
        "\n",
        "(1335,)\n",
        "(80,)\n",
        "(77,)\n",
        "(1284,)\n",
        "(77,)\n",
        "(76,)"
       ]
      },
      {
       "output_type": "stream",
       "stream": "stdout",
       "text": [
        "\n",
        "(1268,)\n",
        "(76,)\n",
        "(76,)\n",
        "(1267,)\n",
        "(76,)\n",
        "(77,)"
       ]
      },
      {
       "output_type": "stream",
       "stream": "stdout",
       "text": [
        "\n",
        "(1285,)\n",
        "(77,)\n",
        "(77,)\n",
        "(1284,)\n",
        "(77,)\n",
        "(77,)"
       ]
      },
      {
       "output_type": "stream",
       "stream": "stdout",
       "text": [
        "\n",
        "(1285,)\n",
        "(77,)\n",
        "(77,)\n",
        "(1284,)\n",
        "(77,)\n",
        "(78,)"
       ]
      },
      {
       "output_type": "stream",
       "stream": "stdout",
       "text": [
        "\n",
        "(1301,)\n",
        "(78,)\n",
        "(78,)\n",
        "(1301,)\n",
        "(78,)\n",
        "(77,)"
       ]
      },
      {
       "output_type": "stream",
       "stream": "stdout",
       "text": [
        "\n",
        "(1284,)\n",
        "(77,)\n",
        "(77,)\n",
        "(1285,)\n",
        "(77,)\n",
        "(77,)"
       ]
      },
      {
       "output_type": "stream",
       "stream": "stdout",
       "text": [
        "\n",
        "(1284,)\n",
        "(77,)\n",
        "(78,)\n",
        "(1301,)\n",
        "(78,)\n",
        "(77,)"
       ]
      },
      {
       "output_type": "stream",
       "stream": "stdout",
       "text": [
        "\n",
        "(1284,)\n",
        "(77,)\n",
        "(77,)\n",
        "(1284,)\n",
        "(77,)\n",
        "(76,)"
       ]
      },
      {
       "output_type": "stream",
       "stream": "stdout",
       "text": [
        "\n",
        "(1268,)\n",
        "(76,)\n",
        "(76,)\n",
        "(1268,)\n",
        "(76,)\n",
        "(75,)"
       ]
      },
      {
       "output_type": "stream",
       "stream": "stdout",
       "text": [
        "\n",
        "(1251,)\n",
        "(75,)\n",
        "(76,)\n",
        "(1268,)\n",
        "(76,)\n",
        "(76,)"
       ]
      },
      {
       "output_type": "stream",
       "stream": "stdout",
       "text": [
        "\n",
        "(1267,)\n",
        "(76,)\n",
        "(77,)\n",
        "(1285,)\n",
        "(77,)\n",
        "(76,)"
       ]
      },
      {
       "output_type": "stream",
       "stream": "stdout",
       "text": [
        "\n",
        "(1267,)\n",
        "(76,)\n",
        "(77,)\n",
        "(1285,)\n",
        "(77,)\n",
        "(76,)"
       ]
      },
      {
       "output_type": "stream",
       "stream": "stdout",
       "text": [
        "\n",
        "(1267,)\n",
        "(76,)\n",
        "(77,)\n",
        "(1285,)\n",
        "(77,)\n",
        "(76,)"
       ]
      },
      {
       "output_type": "stream",
       "stream": "stdout",
       "text": [
        "\n",
        "(1267,)\n",
        "(76,)\n",
        "(77,)\n",
        "(1285,)\n",
        "(77,)\n",
        "(76,)"
       ]
      },
      {
       "output_type": "stream",
       "stream": "stdout",
       "text": [
        "\n",
        "(1267,)\n",
        "(76,)\n",
        "(76,)\n",
        "(1268,)\n",
        "(76,)\n",
        "(76,)"
       ]
      },
      {
       "output_type": "stream",
       "stream": "stdout",
       "text": [
        "\n",
        "(1267,)\n",
        "(76,)\n",
        "(77,)"
       ]
      },
      {
       "output_type": "stream",
       "stream": "stdout",
       "text": [
        "\n",
        "(1285,)\n",
        "(77,)\n",
        "(76,)\n",
        "(1268,)\n",
        "(76,)\n",
        "(76,)"
       ]
      },
      {
       "output_type": "stream",
       "stream": "stdout",
       "text": [
        "\n",
        "(1268,)\n",
        "(76,)\n",
        "(75,)\n",
        "(1251,)\n",
        "(75,)\n",
        "(76,)"
       ]
      },
      {
       "output_type": "stream",
       "stream": "stdout",
       "text": [
        "\n",
        "(1267,)\n",
        "(76,)\n",
        "(76,)\n",
        "(1268,)\n",
        "(76,)\n",
        "(77,)"
       ]
      },
      {
       "output_type": "stream",
       "stream": "stdout",
       "text": [
        "\n",
        "(1284,)\n",
        "(77,)\n",
        "(77,)\n",
        "(1285,)\n",
        "(77,)\n",
        "(76,)"
       ]
      },
      {
       "output_type": "stream",
       "stream": "stdout",
       "text": [
        "\n",
        "(1267,)\n",
        "(76,)\n",
        "(76,)\n",
        "(1268,)\n",
        "(76,)\n",
        "(76,)"
       ]
      },
      {
       "output_type": "stream",
       "stream": "stdout",
       "text": [
        "\n",
        "(1267,)\n",
        "(76,)\n",
        "(76,)\n",
        "(1268,)\n",
        "(76,)\n",
        "(76,)"
       ]
      },
      {
       "output_type": "stream",
       "stream": "stdout",
       "text": [
        "\n",
        "(1267,)\n",
        "(76,)\n",
        "(76,)\n",
        "(1268,)\n",
        "(76,)\n",
        "(77,)"
       ]
      },
      {
       "output_type": "stream",
       "stream": "stdout",
       "text": [
        "\n",
        "(1284,)\n",
        "(77,)\n",
        "(77,)\n",
        "(1285,)\n",
        "(77,)\n",
        "(76,)"
       ]
      },
      {
       "output_type": "stream",
       "stream": "stdout",
       "text": [
        "\n",
        "(1268,)\n",
        "(76,)\n",
        "(77,)\n",
        "(1285,)\n",
        "(77,)\n",
        "initializing seq 6"
       ]
      },
      {
       "output_type": "stream",
       "stream": "stdout",
       "text": [
        "\n",
        "(81,)"
       ]
      },
      {
       "output_type": "stream",
       "stream": "stdout",
       "text": [
        "\n",
        "(1351,)\n",
        "(81,)\n",
        "(79,)\n",
        "(1318,)\n",
        "(79,)\n",
        "(79,)"
       ]
      },
      {
       "output_type": "stream",
       "stream": "stdout",
       "text": [
        "\n",
        "(1318,)\n",
        "(79,)\n",
        "(79,)\n",
        "(1318,)\n",
        "(79,)\n",
        "(79,)"
       ]
      },
      {
       "output_type": "stream",
       "stream": "stdout",
       "text": [
        "\n",
        "(1317,)\n",
        "(79,)\n",
        "(78,)\n",
        "(1301,)\n",
        "(78,)\n",
        "(79,)"
       ]
      },
      {
       "output_type": "stream",
       "stream": "stdout",
       "text": [
        "\n",
        "(1318,)\n",
        "(79,)\n",
        "(79,)\n",
        "(1318,)\n",
        "(79,)\n",
        "(79,)"
       ]
      },
      {
       "output_type": "stream",
       "stream": "stdout",
       "text": [
        "\n",
        "(1317,)\n",
        "(79,)\n",
        "(79,)\n",
        "(1317,)\n",
        "(79,)\n",
        "(79,)"
       ]
      },
      {
       "output_type": "stream",
       "stream": "stdout",
       "text": [
        "\n",
        "(1318,)\n",
        "(79,)\n",
        "(79,)\n",
        "(1318,)\n",
        "(79,)\n",
        "(78,)"
       ]
      },
      {
       "output_type": "stream",
       "stream": "stdout",
       "text": [
        "\n",
        "(1301,)\n",
        "(78,)\n",
        "(78,)\n",
        "(1301,)\n",
        "(78,)\n",
        "(78,)"
       ]
      },
      {
       "output_type": "stream",
       "stream": "stdout",
       "text": [
        "\n",
        "(1301,)\n",
        "(78,)\n",
        "(77,)\n",
        "(1285,)\n",
        "(77,)\n",
        "(77,)"
       ]
      },
      {
       "output_type": "stream",
       "stream": "stdout",
       "text": [
        "\n",
        "(1284,)\n",
        "(77,)\n",
        "(78,)\n",
        "(1301,)\n",
        "(78,)\n",
        "(78,)"
       ]
      },
      {
       "output_type": "stream",
       "stream": "stdout",
       "text": [
        "\n",
        "(1301,)\n",
        "(78,)\n",
        "(77,)\n",
        "(1284,)\n",
        "(77,)\n",
        "(76,)"
       ]
      },
      {
       "output_type": "stream",
       "stream": "stdout",
       "text": [
        "\n",
        "(1268,)\n",
        "(76,)\n",
        "(76,)\n",
        "(1267,)\n",
        "(76,)\n",
        "(77,)"
       ]
      },
      {
       "output_type": "stream",
       "stream": "stdout",
       "text": [
        "\n",
        "(1285,)\n",
        "(77,)\n",
        "(76,)\n",
        "(1267,)\n",
        "(76,)\n",
        "(77,)"
       ]
      },
      {
       "output_type": "stream",
       "stream": "stdout",
       "text": [
        "\n",
        "(1285,)\n",
        "(77,)\n",
        "(76,)\n",
        "(1267,)\n",
        "(76,)\n",
        "(76,)"
       ]
      },
      {
       "output_type": "stream",
       "stream": "stdout",
       "text": [
        "\n",
        "(1268,)\n",
        "(76,)\n",
        "(77,)\n",
        "(1284,)\n",
        "(77,)\n",
        "(79,)"
       ]
      },
      {
       "output_type": "stream",
       "stream": "stdout",
       "text": [
        "\n",
        "(1318,)\n",
        "(79,)\n",
        "(80,)\n",
        "(1334,)\n",
        "(80,)\n",
        "(78,)"
       ]
      },
      {
       "output_type": "stream",
       "stream": "stdout",
       "text": [
        "\n",
        "(1301,)\n",
        "(78,)\n",
        "(78,)\n",
        "(1301,)\n",
        "(78,)\n",
        "(78,)"
       ]
      },
      {
       "output_type": "stream",
       "stream": "stdout",
       "text": [
        "\n",
        "(1301,)\n",
        "(78,)\n",
        "(79,)\n",
        "(1318,)\n",
        "(79,)\n",
        "(78,)"
       ]
      },
      {
       "output_type": "stream",
       "stream": "stdout",
       "text": [
        "\n",
        "(1301,)\n",
        "(78,)\n",
        "(77,)\n",
        "(1285,)\n",
        "(77,)\n",
        "(76,)"
       ]
      },
      {
       "output_type": "stream",
       "stream": "stdout",
       "text": [
        "\n",
        "(1267,)\n",
        "(76,)\n",
        "(76,)\n",
        "(1268,)\n",
        "(76,)\n",
        "(78,)"
       ]
      },
      {
       "output_type": "stream",
       "stream": "stdout",
       "text": [
        "\n",
        "(1301,)\n",
        "(78,)\n",
        "(78,)\n",
        "(1301,)\n",
        "(78,)\n",
        "(73,)"
       ]
      },
      {
       "output_type": "stream",
       "stream": "stdout",
       "text": [
        "\n",
        "(1217,)\n",
        "(73,)\n",
        "(73,)\n",
        "(1217,)\n",
        "(73,)\n",
        "(74,)"
       ]
      },
      {
       "output_type": "stream",
       "stream": "stdout",
       "text": [
        "\n",
        "(1235,)\n",
        "(74,)\n",
        "(79,)\n",
        "(1318,)\n",
        "(79,)\n",
        "(79,)"
       ]
      },
      {
       "output_type": "stream",
       "stream": "stdout",
       "text": [
        "\n",
        "(1318,)\n",
        "(79,)\n",
        "(78,)\n",
        "(1301,)\n",
        "(78,)\n"
       ]
      }
     ],
     "prompt_number": 4
    },
    {
     "cell_type": "code",
     "collapsed": false,
     "input": [],
     "language": "python",
     "metadata": {},
     "outputs": [],
     "prompt_number": 47
    },
    {
     "cell_type": "code",
     "collapsed": false,
     "input": [],
     "language": "python",
     "metadata": {},
     "outputs": [],
     "prompt_number": 47
    },
    {
     "cell_type": "code",
     "collapsed": false,
     "input": [],
     "language": "python",
     "metadata": {},
     "outputs": [],
     "prompt_number": 47
    },
    {
     "cell_type": "code",
     "collapsed": false,
     "input": [],
     "language": "python",
     "metadata": {},
     "outputs": [],
     "prompt_number": 47
    },
    {
     "cell_type": "code",
     "collapsed": false,
     "input": [],
     "language": "python",
     "metadata": {},
     "outputs": [],
     "prompt_number": 47
    },
    {
     "cell_type": "code",
     "collapsed": false,
     "input": [],
     "language": "python",
     "metadata": {},
     "outputs": [],
     "prompt_number": 47
    },
    {
     "cell_type": "code",
     "collapsed": false,
     "input": [],
     "language": "python",
     "metadata": {},
     "outputs": [],
     "prompt_number": 47
    },
    {
     "cell_type": "code",
     "collapsed": false,
     "input": [],
     "language": "python",
     "metadata": {},
     "outputs": [],
     "prompt_number": 47
    },
    {
     "cell_type": "code",
     "collapsed": false,
     "input": [],
     "language": "python",
     "metadata": {},
     "outputs": [],
     "prompt_number": 47
    },
    {
     "cell_type": "code",
     "collapsed": false,
     "input": [],
     "language": "python",
     "metadata": {},
     "outputs": [],
     "prompt_number": 47
    },
    {
     "cell_type": "code",
     "collapsed": false,
     "input": [],
     "language": "python",
     "metadata": {},
     "outputs": [],
     "prompt_number": 47
    },
    {
     "cell_type": "code",
     "collapsed": false,
     "input": [],
     "language": "python",
     "metadata": {},
     "outputs": [],
     "prompt_number": 47
    },
    {
     "cell_type": "code",
     "collapsed": false,
     "input": [],
     "language": "python",
     "metadata": {},
     "outputs": [],
     "prompt_number": 47
    },
    {
     "cell_type": "code",
     "collapsed": false,
     "input": [],
     "language": "python",
     "metadata": {},
     "outputs": [],
     "prompt_number": 47
    },
    {
     "cell_type": "code",
     "collapsed": false,
     "input": [],
     "language": "python",
     "metadata": {},
     "outputs": [],
     "prompt_number": 47
    },
    {
     "cell_type": "code",
     "collapsed": false,
     "input": [],
     "language": "python",
     "metadata": {},
     "outputs": [],
     "prompt_number": 47
    },
    {
     "cell_type": "code",
     "collapsed": false,
     "input": [],
     "language": "python",
     "metadata": {},
     "outputs": [],
     "prompt_number": 47
    },
    {
     "cell_type": "code",
     "collapsed": false,
     "input": [],
     "language": "python",
     "metadata": {},
     "outputs": [],
     "prompt_number": 47
    },
    {
     "cell_type": "code",
     "collapsed": false,
     "input": [],
     "language": "python",
     "metadata": {},
     "outputs": [],
     "prompt_number": 47
    },
    {
     "cell_type": "code",
     "collapsed": false,
     "input": [],
     "language": "python",
     "metadata": {},
     "outputs": [],
     "prompt_number": 47
    },
    {
     "cell_type": "code",
     "collapsed": false,
     "input": [],
     "language": "python",
     "metadata": {},
     "outputs": [],
     "prompt_number": 47
    },
    {
     "cell_type": "code",
     "collapsed": false,
     "input": [],
     "language": "python",
     "metadata": {},
     "outputs": [],
     "prompt_number": 47
    },
    {
     "cell_type": "code",
     "collapsed": false,
     "input": [],
     "language": "python",
     "metadata": {},
     "outputs": [],
     "prompt_number": 47
    },
    {
     "cell_type": "code",
     "collapsed": false,
     "input": [],
     "language": "python",
     "metadata": {},
     "outputs": [],
     "prompt_number": 47
    },
    {
     "cell_type": "code",
     "collapsed": false,
     "input": [],
     "language": "python",
     "metadata": {},
     "outputs": [],
     "prompt_number": 47
    },
    {
     "cell_type": "code",
     "collapsed": false,
     "input": [],
     "language": "python",
     "metadata": {},
     "outputs": [],
     "prompt_number": 47
    },
    {
     "cell_type": "code",
     "collapsed": false,
     "input": [],
     "language": "python",
     "metadata": {},
     "outputs": []
    }
   ],
   "metadata": {}
  }
 ]
}