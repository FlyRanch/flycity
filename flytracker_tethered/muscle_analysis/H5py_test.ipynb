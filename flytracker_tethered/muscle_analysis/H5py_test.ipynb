{
 "metadata": {
  "name": ""
 },
 "nbformat": 3,
 "nbformat_minor": 0,
 "worksheets": [
  {
   "cells": [
    {
     "cell_type": "code",
     "collapsed": false,
     "input": [
      "fly_db.close()"
     ],
     "language": "python",
     "metadata": {},
     "outputs": [],
     "prompt_number": 297
    },
    {
     "cell_type": "code",
     "collapsed": false,
     "input": [
      "run initalize_flyDB.py"
     ],
     "language": "python",
     "metadata": {},
     "outputs": [],
     "prompt_number": 298
    },
    {
     "cell_type": "code",
     "collapsed": false,
     "input": [
      "import flylib\n",
      "reload(flylib)"
     ],
     "language": "python",
     "metadata": {},
     "outputs": [
      {
       "metadata": {},
       "output_type": "pyout",
       "prompt_number": 299,
       "text": [
        "<module 'flylib' from 'flylib.py'>"
       ]
      }
     ],
     "prompt_number": 299
    },
    {
     "cell_type": "code",
     "collapsed": false,
     "input": [
      "swarm = flylib.Squadron(fly_db)"
     ],
     "language": "python",
     "metadata": {},
     "outputs": [],
     "prompt_number": 300
    },
    {
     "cell_type": "code",
     "collapsed": false,
     "input": [
      "fly1 = swarm.flies[0]"
     ],
     "language": "python",
     "metadata": {},
     "outputs": [],
     "prompt_number": 301
    },
    {
     "cell_type": "code",
     "collapsed": false,
     "input": [
      "lrb = fly1.experiments['lr_blob_expansion']"
     ],
     "language": "python",
     "metadata": {},
     "outputs": [],
     "prompt_number": 302
    },
    {
     "cell_type": "code",
     "collapsed": false,
     "input": [
      "lrb.import_axon_data()\n",
      "lrb.import_sequence_data()"
     ],
     "language": "python",
     "metadata": {},
     "outputs": [],
     "prompt_number": 303
    },
    {
     "cell_type": "code",
     "collapsed": false,
     "input": [
      "lrb.sync_sequences()"
     ],
     "language": "python",
     "metadata": {},
     "outputs": [],
     "prompt_number": 304
    },
    {
     "cell_type": "code",
     "collapsed": false,
     "input": [
      "seq = lrb.sequences[1]"
     ],
     "language": "python",
     "metadata": {},
     "outputs": [],
     "prompt_number": 305
    },
    {
     "cell_type": "code",
     "collapsed": false,
     "input": [
      "phs = seq.get_kine_phases()"
     ],
     "language": "python",
     "metadata": {},
     "outputs": [],
     "prompt_number": 307
    },
    {
     "cell_type": "code",
     "collapsed": false,
     "input": [
      "shape(seq.seq_record['wbkin']['axon_times'])\n",
      "stro_angle = np.array((seq.seq_record['wbkin'][stro_L][:,] + seq.seq_record['wbkin'][stro_R][:,])/2)"
     ],
     "language": "python",
     "metadata": {},
     "outputs": []
    },
    {
     "cell_type": "code",
     "collapsed": false,
     "input": [
      "len(phs['stroke_phys_idx'])"
     ],
     "language": "python",
     "metadata": {},
     "outputs": [
      {
       "metadata": {},
       "output_type": "pyout",
       "prompt_number": 316,
       "text": [
        "52"
       ]
      }
     ],
     "prompt_number": 316
    },
    {
     "cell_type": "code",
     "collapsed": false,
     "input": [
      "print shape(seq.seq_record['axon']['times'])\n",
      "print shape(seq.seq_record['axon']['AMsysCh1'])"
     ],
     "language": "python",
     "metadata": {},
     "outputs": [
      {
       "output_type": "stream",
       "stream": "stdout",
       "text": [
        "(22734,)\n",
        "(22734,)\n"
       ]
      }
     ],
     "prompt_number": 273
    },
    {
     "cell_type": "code",
     "collapsed": false,
     "input": [
      "seq.seq_record['axon']['times'][-1]"
     ],
     "language": "python",
     "metadata": {},
     "outputs": [
      {
       "metadata": {},
       "output_type": "pyout",
       "prompt_number": 285,
       "text": [
        "27.635290000000001"
       ]
      }
     ],
     "prompt_number": 285
    },
    {
     "cell_type": "code",
     "collapsed": false,
     "input": [
      "seq.seq_record['wbkin']['axon_times'][-1]"
     ],
     "language": "python",
     "metadata": {},
     "outputs": [
      {
       "metadata": {},
       "output_type": "pyout",
       "prompt_number": 286,
       "text": [
        "27.635300000000001"
       ]
      }
     ],
     "prompt_number": 286
    },
    {
     "cell_type": "code",
     "collapsed": false,
     "input": [
      "stro_R = 'phi_R'\n",
      "stro_L = 'phi_L'"
     ],
     "language": "python",
     "metadata": {},
     "outputs": [],
     "prompt_number": 114
    },
    {
     "cell_type": "code",
     "collapsed": false,
     "input": [
      "seq.seq_record['axon'].keys()"
     ],
     "language": "python",
     "metadata": {},
     "outputs": [
      {
       "metadata": {},
       "output_type": "pyout",
       "prompt_number": 78,
       "text": [
        "[u'AMsysCh1',\n",
        " u'CamSync',\n",
        " u'CamTrig',\n",
        " u'LeftWing',\n",
        " u'Ph0',\n",
        " u'Ph1',\n",
        " u'Ph2',\n",
        " u'Photostim',\n",
        " u'RightWing',\n",
        " u'WBSync',\n",
        " u'Xpos',\n",
        " u'Ypos',\n",
        " u'times']"
       ]
      }
     ],
     "prompt_number": 78
    },
    {
     "cell_type": "code",
     "collapsed": false,
     "input": [
      "seq.seq_record['wbkin'].keys()"
     ],
     "language": "python",
     "metadata": {},
     "outputs": [
      {
       "metadata": {},
       "output_type": "pyout",
       "prompt_number": 80,
       "text": [
        "[u'Lwingbeat_loc',\n",
        " u'Lwingtip',\n",
        " u'Rwingbeat_loc',\n",
        " u'Rwingtip',\n",
        " u'__globals__',\n",
        " u'__header__',\n",
        " u'__version__',\n",
        " u'alfa_L',\n",
        " u'alfa_R',\n",
        " u'axon_epoch',\n",
        " u'axon_idxs',\n",
        " u'axon_times',\n",
        " u'beta_L',\n",
        " u'beta_R',\n",
        " u'eta_L',\n",
        " u'eta_R',\n",
        " u'first_track',\n",
        " u'frame_nums',\n",
        " u'last_track',\n",
        " u'phi_L',\n",
        " u'phi_R',\n",
        " u'theta_L',\n",
        " u'theta_R',\n",
        " u'u_wing_L',\n",
        " u'u_wing_R',\n",
        " u'u_wing_body_rot_L',\n",
        " u'u_wing_body_rot_R',\n",
        " u'u_wing_rot_L',\n",
        " u'u_wing_rot_R',\n",
        " u'u_wing_trans_L',\n",
        " u'u_wing_trans_R',\n",
        " u'v_wing_L',\n",
        " u'v_wing_R',\n",
        " u'v_wing_body_rot_L',\n",
        " u'v_wing_body_rot_R',\n",
        " u'v_wing_rot_L',\n",
        " u'v_wing_rot_R',\n",
        " u'v_wing_trans_L',\n",
        " u'v_wing_trans_R',\n",
        " u'w_wing_L',\n",
        " u'w_wing_R',\n",
        " u'w_wing_body_rot_L',\n",
        " u'w_wing_body_rot_R',\n",
        " u'w_wing_rot_L',\n",
        " u'w_wing_rot_R',\n",
        " u'w_wing_trans_L',\n",
        " u'w_wing_trans_R']"
       ]
      }
     ],
     "prompt_number": 80
    },
    {
     "cell_type": "code",
     "collapsed": false,
     "input": [
      "shape(seq.seq_record['axon']['Ph0'])"
     ],
     "language": "python",
     "metadata": {},
     "outputs": [
      {
       "metadata": {},
       "output_type": "pyout",
       "prompt_number": 67,
       "text": [
        "(22734,)"
       ]
      }
     ],
     "prompt_number": 67
    },
    {
     "cell_type": "code",
     "collapsed": false,
     "input": [],
     "language": "python",
     "metadata": {},
     "outputs": []
    }
   ],
   "metadata": {}
  }
 ]
}