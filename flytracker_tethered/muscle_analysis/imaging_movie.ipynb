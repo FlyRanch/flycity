{
 "metadata": {
  "name": "",
  "signature": "sha256:26e8a5965632a18c59fa4e9fe870df18bd31ef8d4f2230fdfcfdbb38975fb8ea"
 },
 "nbformat": 3,
 "nbformat_minor": 0,
 "worksheets": [
  {
   "cells": [
    {
     "cell_type": "code",
     "collapsed": false,
     "input": [
      "import neo\n",
      "import quantities as pq\n",
      "import flylib\n",
      "import db_access as dba\n",
      "reload(dba)"
     ],
     "language": "python",
     "metadata": {},
     "outputs": [
      {
       "metadata": {},
       "output_type": "pyout",
       "prompt_number": 1,
       "text": [
        "<module 'db_access' from 'db_access.pyc'>"
       ]
      }
     ],
     "prompt_number": 1
    },
    {
     "cell_type": "code",
     "collapsed": false,
     "input": [
      "starfield1_group = [151,153,154,155,156,157,158,159,160,161,162,163,165,166,167,168,169]"
     ],
     "language": "python",
     "metadata": {},
     "outputs": [],
     "prompt_number": 2
    },
    {
     "cell_type": "code",
     "collapsed": false,
     "input": [
      "fly_db = dba.get_db()\n",
      "swarm = flylib.Squadron(fly_db,starfield1_group)"
     ],
     "language": "python",
     "metadata": {},
     "outputs": [],
     "prompt_number": 3
    },
    {
     "cell_type": "code",
     "collapsed": false,
     "input": [
      "keylist = ['b1', 'b2', 'b3', 'i1', 'i2', 'iii1', 'iii234','hg1', 'hg234' ]"
     ],
     "language": "python",
     "metadata": {},
     "outputs": [],
     "prompt_number": 4
    },
    {
     "cell_type": "code",
     "collapsed": false,
     "input": [],
     "language": "python",
     "metadata": {},
     "outputs": [],
     "prompt_number": 4
    },
    {
     "cell_type": "code",
     "collapsed": false,
     "input": [
      "import cPickle\n",
      "idx = squeeze(argwhere(array(starfield1_group) == 156))\n",
      "fly = swarm.flies[idx]\n",
      "exp_key = 'img_starfield_t2_rep1'\n",
      "expmnt = fly.experiments[exp_key]\n",
      "img_star = fly.experiments[exp_key]\n",
      "f = open(img_star.fly_path + exp_key + '_roi.cpkl')\n",
      "roi_data = cPickle.load(f)\n",
      "f.close()"
     ],
     "language": "python",
     "metadata": {},
     "outputs": [],
     "prompt_number": 31
    },
    {
     "cell_type": "code",
     "collapsed": false,
     "input": [
      "xpos = np.array(expmnt.exp_record['tiff_data']['axon_framebase']['Xpos'][-5000:])*2*pi/10\n",
      "lwing_angles = np.array(expmnt.exp_record['tiff_data']['axon_framebase']['Ph0'][-5000:])/5\n",
      "rwing_angles = np.array(expmnt.exp_record['tiff_data']['axon_framebase']['Ph1'][-5000:])/5\n",
      "lmr_angles = np.array(expmnt.exp_record['tiff_data']['axon_framebase']['Ph2'][-5000:])/5\n",
      "imgs = np.array(expmnt.exp_record['tiff_data']['images'][-5000:,:,:])\n",
      "from scipy import ndimage\n",
      "imgs = ndimage.interpolation.rotate(imgs, -90, axes=(1, 2), reshape=True)"
     ],
     "language": "python",
     "metadata": {},
     "outputs": [],
     "prompt_number": 25
    },
    {
     "cell_type": "code",
     "collapsed": false,
     "input": [
      "import matplotlib.pyplot as plt\n",
      "import matplotlib.path as mpath\n",
      "import matplotlib.lines as mlines\n",
      "import matplotlib.patches as mpatches\n",
      "from matplotlib.collections import PatchCollection\n",
      "from mpl_toolkits.axes_grid.inset_locator import inset_axes\n",
      "from matplotlib import animation\n",
      "\n",
      "fly_diagram = dict()\n",
      "aspect = shape(imgs[0])[0]/float(shape(imgs[0])[1])\n",
      "fig = figure(figsize = (10,10*aspect))\n",
      "img_ax = axes()\n",
      "\n",
      "img = imshow(imgs[0,:,:],cmap = cm.gray)\n",
      "inset_axes = inset_axes(img_ax,\n",
      "                        width=2, # width = 30% of parent_bbox\n",
      "                        height=2, # height : 1 inch\n",
      "                        loc=2)\n",
      "inset_axes.set_frame_on(False)\n",
      "inset_axes.get_axes().set_axis_off()\n",
      "img_ax.get_axes().set_axis_off()\n",
      "    \n",
      "wing_len = 9.0\n",
      "theta_r = pi/4\n",
      "theta_l = pi/4.3\n",
      "stripe_center = 90\n",
      "swidth = 3\n",
      "arena_rad = 2*wing_len \n",
      "\n",
      "base = mpatches.Circle((0,0),arena_rad - swidth,facecolor = 'gray')\n",
      "panels = mpatches.Circle((0,0),arena_rad,facecolor = 'y')\n",
      "body = mpatches.Ellipse((0,0),2.5,3.5,facecolor = 'r')\n",
      "abdomin = mpatches.Ellipse((0,-2.5),3,5,facecolor = 'r')\n",
      "head = mpatches.Ellipse((0,2.0),3,2,facecolor = 'r')\n",
      "stripe = mpatches.Wedge((0,0),arena_rad,stripe_center-5,stripe_center+5,width = swidth,color = 'k')\n",
      "rwing = mpatches.Wedge((1,0),wing_len,-90,rad2deg(theta_r),alpha = 0.5,facecolor = 'r')\n",
      "lwing = mpatches.Wedge((-1,0),wing_len,180-rad2deg(theta_l),-90,alpha = 0.5,facecolor = 'r')\n",
      "\n",
      "fly_diagram.update({'base':base,'panels':panels,\n",
      "                    'body':body,'abdomin':abdomin,\n",
      "                    'head':head,'stripe':stripe,\n",
      "                    'rwing':rwing,'lwing':lwing})\n",
      "\n",
      "inset_axes.add_patch(panels)\n",
      "inset_axes.add_patch(base)\n",
      "inset_axes.add_patch(abdomin)\n",
      "inset_axes.add_patch(head)\n",
      "inset_axes.add_patch(body)\n",
      "inset_axes.add_patch(rwing)\n",
      "inset_axes.add_patch(lwing)\n",
      "inset_axes.add_patch(stripe)\n",
      "\n",
      "inset_axes.set_ybound(-20,20)\n",
      "inset_axes.set_xbound(-20,20)\n",
      "plt.subplots_adjust(left=0, right=1, top=1, bottom=0)\n",
      "\n",
      "def init():\n",
      "    return [rwing,lwing,stripe,img]\n",
      "\n",
      "def animate(i):\n",
      "    theta_l,theta_r,stripe_center,frame = lwing_angles[i],rwing_angles[i],xpos[i],imgs[i]\n",
      "    stripe_center = rad2deg(stripe_center)+(180-rad2deg(stripe_center))*2\n",
      "    rwing.set_theta2(rad2deg(theta_r))\n",
      "    lwing.set_theta1(180-rad2deg(theta_l))\n",
      "    stripe.set_theta1(stripe_center-5)\n",
      "    stripe.set_theta2(stripe_center+5)\n",
      "    img.set_data(frame[:,::-1])\n",
      "    return [rwing,lwing,stripe,img]\n",
      "\n",
      "anim = animation.FuncAnimation(fig, animate, init_func=init,\n",
      "                               frames=5000, interval=1, blit=True)\n",
      "anim.save('fly157.mov', fps=70,extra_args=['-vcodec', 'mpeg4', '-b', '5000k' ])\n",
      "show()"
     ],
     "language": "python",
     "metadata": {},
     "outputs": [],
     "prompt_number": 28
    },
    {
     "cell_type": "code",
     "collapsed": false,
     "input": [
      "argmax(correlate(roi_data['iii234'][-5000:],rwing_angles,'full'))"
     ],
     "language": "python",
     "metadata": {},
     "outputs": [
      {
       "metadata": {},
       "output_type": "pyout",
       "prompt_number": 61,
       "text": [
        "4999"
       ]
      }
     ],
     "prompt_number": 61
    },
    {
     "cell_type": "code",
     "collapsed": false,
     "input": [
      "plot(roi_data['b3'][-5000:])\n",
      "plot(rwing_angles)"
     ],
     "language": "python",
     "metadata": {},
     "outputs": [
      {
       "metadata": {},
       "output_type": "pyout",
       "prompt_number": 47,
       "text": [
        "[<matplotlib.lines.Line2D at 0x11adddd90>]"
       ]
      }
     ],
     "prompt_number": 47
    },
    {
     "cell_type": "code",
     "collapsed": false,
     "input": [
      "fly_db.close()"
     ],
     "language": "python",
     "metadata": {},
     "outputs": []
    },
    {
     "cell_type": "code",
     "collapsed": false,
     "input": [
      "import matplotlib.gridspec as gridspec\n",
      "gs = gridspec.GridSpec(6,6)\n",
      "ax_img = subplot(gs[0:,0:])\n",
      "imshow(imgs[0,:,:])\n",
      "ax_fly = subplot(gs[5:,5:])\n",
      "plot([1,3,4])"
     ],
     "language": "python",
     "metadata": {},
     "outputs": [
      {
       "metadata": {},
       "output_type": "pyout",
       "prompt_number": 63,
       "text": [
        "[<matplotlib.lines.Line2D at 0x117bfc090>]"
       ]
      }
     ],
     "prompt_number": 63
    },
    {
     "cell_type": "code",
     "collapsed": false,
     "input": [
      "figure();plot(xpos)"
     ],
     "language": "python",
     "metadata": {},
     "outputs": [
      {
       "metadata": {},
       "output_type": "pyout",
       "prompt_number": 503,
       "text": [
        "[<matplotlib.lines.Line2D at 0x1192cda90>]"
       ]
      }
     ],
     "prompt_number": 503
    },
    {
     "cell_type": "code",
     "collapsed": false,
     "input": [
      "rx = hstack([0,cos(linspace(theta_r,-pi/2,20))])+1\n",
      "ry = hstack([0,sin(linspace(theta_r,-pi/2,20))])\n",
      "plot(rx,ry)\n",
      "lx = hstack([0,-1*cos(linspace(theta_l,-pi/2,20))])-1\n",
      "ly = hstack([0,sin(linspace(theta_l,-pi/2,20))])\n",
      "plot(lx,ly)"
     ],
     "language": "python",
     "metadata": {},
     "outputs": [
      {
       "metadata": {},
       "output_type": "pyout",
       "prompt_number": 342,
       "text": [
        "[<matplotlib.lines.Line2D at 0x118f8b2d0>]"
       ]
      }
     ],
     "prompt_number": 342
    },
    {
     "cell_type": "code",
     "collapsed": false,
     "input": [
      "wd = mpatches.Wedge((0,0),5,pi/3,-1*pi/2)"
     ],
     "language": "python",
     "metadata": {},
     "outputs": [],
     "prompt_number": 366
    },
    {
     "cell_type": "code",
     "collapsed": false,
     "input": [
      "inset_axes.set_visible(True)"
     ],
     "language": "python",
     "metadata": {},
     "outputs": [],
     "prompt_number": 422
    },
    {
     "cell_type": "code",
     "collapsed": false,
     "input": [
      "inset_axis = inset_axes.get_axes()"
     ],
     "language": "python",
     "metadata": {},
     "outputs": [],
     "prompt_number": 424
    },
    {
     "cell_type": "code",
     "collapsed": false,
     "input": [
      "inset_axis.set_axis_off()"
     ],
     "language": "python",
     "metadata": {},
     "outputs": [],
     "prompt_number": 426
    },
    {
     "cell_type": "code",
     "collapsed": false,
     "input": [
      "draw()"
     ],
     "language": "python",
     "metadata": {},
     "outputs": [],
     "prompt_number": 427
    },
    {
     "cell_type": "code",
     "collapsed": false,
     "input": [
      "plot(lmr_angles)"
     ],
     "language": "python",
     "metadata": {},
     "outputs": [
      {
       "metadata": {},
       "output_type": "pyout",
       "prompt_number": 399,
       "text": [
        "[<matplotlib.lines.Line2D at 0x1188181d0>]"
       ]
      }
     ],
     "prompt_number": 399
    },
    {
     "cell_type": "code",
     "collapsed": false,
     "input": [
      "plot(lwing_angles - rwing_angles)"
     ],
     "language": "python",
     "metadata": {},
     "outputs": [
      {
       "metadata": {},
       "output_type": "pyout",
       "prompt_number": 400,
       "text": [
        "[<matplotlib.lines.Line2D at 0x119651650>]"
       ]
      }
     ],
     "prompt_number": 400
    },
    {
     "cell_type": "code",
     "collapsed": false,
     "input": [
      "plot(xpos)"
     ],
     "language": "python",
     "metadata": {},
     "outputs": [
      {
       "metadata": {},
       "output_type": "pyout",
       "prompt_number": 401,
       "text": [
        "[<matplotlib.lines.Line2D at 0x11965ec90>]"
       ]
      }
     ],
     "prompt_number": 401
    },
    {
     "cell_type": "code",
     "collapsed": false,
     "input": [],
     "language": "python",
     "metadata": {},
     "outputs": []
    }
   ],
   "metadata": {}
  }
 ]
}