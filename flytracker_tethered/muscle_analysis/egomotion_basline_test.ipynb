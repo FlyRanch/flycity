{
 "metadata": {
  "name": "",
  "signature": "sha256:b4867b339ecac6d8958398980d970997a5a72c3f027c3aab2d478c4d41aee061"
 },
 "nbformat": 3,
 "nbformat_minor": 0,
 "worksheets": [
  {
   "cells": [
    {
     "cell_type": "code",
     "collapsed": false,
     "input": [
      "figure()\n",
      "import cPickle\n",
      "light_on =  [\n",
      "            '/media/FlyDataB/FlyDB/Fly0182/',\n",
      "            '/media/FlyDataB/FlyDB/Fly0183/',\n",
      "            '/media/FlyDataB/FlyDB/Fly0184/',\n",
      "            '/media/FlyDataB/FlyDB/Fly0185/',\n",
      "            '/media/FlyDataB/FlyDB/Fly0186/',\n",
      "            '/media/FlyDataB/FlyDB/Fly0187/',\n",
      "            '/media/FlyDataB/FlyDB/Fly0189/',\n",
      "            '/media/FlyDataB/FlyDB/Fly0191/',\n",
      "            '/media/FlyDataB/FlyDB/Fly0192/',\n",
      "            '/media/FlyDataB/FlyDB/Fly0193/',\n",
      "            '/media/FlyDataB/FlyDB/Fly0194/',\n",
      "            '/media/FlyDataB/FlyDB/Fly0195/',\n",
      "            '/media/FlyDataB/FlyDB/Fly0196/',\n",
      "            '/media/FlyDataB/FlyDB/Fly0197/']\n",
      "\n",
      "light_off =  ['/media/FlyDataB/FlyDB/Fly0191/','/media/FlyDataB/FlyDB/Fly0192/',\n",
      "            '/media/FlyDataB/FlyDB/Fly0193/','/media/FlyDataB/FlyDB/Fly0194/',\n",
      "            '/media/FlyDataB/FlyDB/Fly0195/','/media/FlyDataB/FlyDB/Fly0196/','/media/FlyDataB/FlyDB/Fly0197/']\n",
      "\n",
      "\n",
      "flylist = light_off\n",
      "\n",
      "f = open('/media/FlyDataB/FlyDB/Fly0187/' + 'stim_data.cpkl')\n",
      "stim = cPickle.load(f)['stim']\n",
      "f.close()\n",
      "\n",
      "ax0 = subplot(4,1,1)\n",
      "ax1 = subplot(4,1,2,sharex = ax0)\n",
      "ax2 = subplot(4,1,3,sharex = ax0)\n",
      "ax3 = subplot(4,1,4,sharex = ax0)\n",
      "\n",
      "static_test_90 = list()\n",
      "static_test_270 = list()\n",
      "\n",
      "stripe_test_90 = list()\n",
      "stripe_test_270 = list()\n",
      "\n",
      "opti_test_90 = list()\n",
      "opti_test_270 = list()\n",
      "\n",
      "\n",
      "    \n",
      "for i,rootdir in enumerate(flylist):\n",
      "    sr = 100*1000\n",
      "    dt = 1.0/sr\n",
      "    f = open(rootdir+'T2_trial1_ave_data.cpkl')\n",
      "    datadict = cPickle.load(f)['rwings']\n",
      "    times = np.arange(shape(datadict['static_test_90'])[0])*dt\n",
      "\n",
      "    axes(ax1)\n",
      "    plot(times,rad2deg(datadict['static_test_90']/5),'r',alpha = 0.2)\n",
      "    static_test_90.append(rad2deg(datadict['static_test_90']/5))\n",
      "    plot(times,rad2deg(datadict['static_test_270']/5),'b',alpha = 0.2)\n",
      "    static_test_270.append(rad2deg(datadict['static_test_270']/5))\n",
      "    axes(ax2)\n",
      "    plot(times,rad2deg(datadict['stripe_test_90']/5),'r',alpha = 0.2)\n",
      "    stripe_test_90.append(rad2deg(datadict['stripe_test_90']/5))\n",
      "    plot(times,rad2deg(datadict['stripe_test_270']/5),'b',alpha = 0.2)\n",
      "    stripe_test_270.append(rad2deg(datadict['stripe_test_270']/5))\n",
      "    axes(ax3)\n",
      "    plot(times,rad2deg(datadict['opti_test_90']/5),'r',alpha = 0.2)\n",
      "    opti_test_90.append(rad2deg(datadict['opti_test_90']/5))\n",
      "    plot(times,rad2deg(datadict['opti_test_270']/5),'b',alpha = 0.2)\n",
      "    opti_test_270.append(rad2deg(datadict['opti_test_270']/5))\n",
      "\n",
      "axes(ax0)\n",
      "plot(times,stim,'r')\n",
      "plot(times,stim*-1,'b')\n",
      "\n",
      "axes(ax1)\n",
      "plot(times,mean(static_test_90,axis = 0),'r')\n",
      "plot(times,mean(static_test_270,axis = 0),'b')\n",
      "plot(times,zeros_like(times),'k')\n",
      "axes(ax2)\n",
      "plot(times,mean(stripe_test_90,axis = 0),'r')\n",
      "plot(times,mean(stripe_test_270,axis = 0),'b')\n",
      "plot(times,zeros_like(times),'k')\n",
      "axes(ax3)\n",
      "plot(times,mean(opti_test_90,axis = 0),'r')\n",
      "plot(times,mean(opti_test_270,axis = 0),'b')\n",
      "plot(times,zeros_like(times),'k')"
     ],
     "language": "python",
     "metadata": {},
     "outputs": [
      {
       "metadata": {},
       "output_type": "pyout",
       "prompt_number": 3,
       "text": [
        "[<matplotlib.lines.Line2D at 0x2e7a2550>]"
       ]
      }
     ],
     "prompt_number": 3
    },
    {
     "cell_type": "code",
     "collapsed": false,
     "input": [
      "import os\n",
      "os.system(\"python test_analysis.py /media/FlyDataB/FlyDB/Fly0194/\")"
     ],
     "language": "python",
     "metadata": {},
     "outputs": [
      {
       "metadata": {},
       "output_type": "pyout",
       "prompt_number": 1,
       "text": [
        "0"
       ]
      }
     ],
     "prompt_number": 1
    },
    {
     "cell_type": "code",
     "collapsed": false,
     "input": [
      "os.system(\"python test_analysis.py /media/FlyDataB/FlyDB/Fly0195/\")"
     ],
     "language": "python",
     "metadata": {},
     "outputs": []
    },
    {
     "cell_type": "code",
     "collapsed": false,
     "input": [
      "os.system(\"python test_analysis.py /media/FlyDataB/FlyDB/Fly0196/\")"
     ],
     "language": "python",
     "metadata": {},
     "outputs": []
    },
    {
     "cell_type": "code",
     "collapsed": false,
     "input": [
      "import flylib as flb\n",
      "import neo\n",
      "import os\n",
      "import gc\n",
      "\n",
      "rootdir = '/media/FlyDataB/FlyDB/Fly0193/'\n",
      "abf_file = filter(lambda x:'.abf' in x,os.listdir(rootdir))[0]\n",
      "sigs = flb.get_axon_signals(rootdir + abf_file)\n",
      "gc.collect()\n",
      "idxs = flb.idx_by_thresh(sigs['DAC2'],thresh = 0)\n",
      "t_codes = np.array([sigs['DAC2'][x] for x in idxs])\n",
      "t_vals = around(array([mean(tc) for tc in t_codes])*6)\n",
      "t_args = argsort(t_vals)\n",
      "static_test_90 = squeeze(argwhere(t_vals == 10))\n",
      "static_test_270 = squeeze(argwhere(t_vals == 20))\n",
      "stripe_test_90 = squeeze(argwhere(t_vals == 30))\n",
      "stripe_test_270 = squeeze(argwhere(t_vals == 40))\n",
      "opti_test_90 = squeeze(argwhere(t_vals == 50))\n",
      "opti_test_270 = squeeze(argwhere(t_vals == 60))\n",
      "lmrs = np.array([sigs['Ph2'][x[:280000]] for x in idxs])\n",
      "lwings = np.array([sigs['Ph0'][x[:280000]] for x in idxs])\n",
      "rwings = np.array([sigs['Ph1'][x[:280000]] for x in idxs])\n",
      "Ypos = np.array([sigs['Ypos'][x[:280000]] for x in idxs])\n",
      "Xpos = np.array([sigs['Xpos'][x[:280000]] for x in idxs])\n",
      "ttype = static_test_90\n",
      "####################\n",
      "figure()\n",
      "subplot(3,1,1)\n",
      "ave = mean(Ypos[ttype],axis=0)\n",
      "stdev = std(Ypos[ttype],axis=0)\n",
      "plot(ave,c = 'k')\n",
      "plot(ave+stdev,c = 'b')\n",
      "plot(ave-stdev,c = 'b')\n",
      "i = 2\n",
      "for ttype in [static_test_90,static_test_270]:\n",
      "    subplot(3,1,i)\n",
      "    ave = mean(lwings[ttype],axis=0)\n",
      "    stdev = std(lwings[ttype],axis=0)\n",
      "    plot(ave,c = 'k')\n",
      "    plot(ave+stdev,c = 'b')\n",
      "    plot(ave-stdev,c = 'b')\n",
      "    i+=1\n",
      "    gca().set_ybound(-3,3)\n",
      "suptitle('static')\n",
      "\n",
      "##################\n",
      "figure()\n",
      "subplot(3,1,1)\n",
      "ave = mean(Ypos[ttype],axis=0)\n",
      "stdev = std(Ypos[ttype],axis=0)\n",
      "plot(ave,c = 'k')\n",
      "plot(ave+stdev,c = 'b')\n",
      "plot(ave-stdev,c = 'b')\n",
      "i = 2\n",
      "for ttype in [opti_test_90,opti_test_270]:\n",
      "    subplot(3,1,i)\n",
      "    ave = mean(lwings[ttype],axis=0)\n",
      "    stdev = std(lwings[ttype],axis=0)\n",
      "    plot(ave,c = 'k')\n",
      "    plot(ave+stdev,c = 'b')\n",
      "    plot(ave-stdev,c = 'b')\n",
      "    i+=1\n",
      "    gca().set_ybound(-3,3)\n",
      "suptitle('opti')\n",
      "\n",
      "##################\n",
      "figure()\n",
      "subplot(3,1,1)\n",
      "ave = mean(Ypos[ttype],axis=0)\n",
      "stdev = std(Ypos[ttype],axis=0)\n",
      "plot(ave,c = 'k')\n",
      "plot(ave+stdev,c = 'b')\n",
      "plot(ave-stdev,c = 'b')\n",
      "i = 2\n",
      "for ttype in [stripe_test_90,stripe_test_270]:\n",
      "    subplot(3,1,i)\n",
      "    ave = mean(lwings[ttype],axis=0)\n",
      "    stdev = std(lwings[ttype],axis=0)\n",
      "    plot(ave,c = 'k')\n",
      "    plot(ave+stdev,c = 'b')\n",
      "    plot(ave-stdev,c = 'b')\n",
      "    i+=1\n",
      "    gca().set_ybound(-3,3)\n",
      "suptitle('stripe')\n",
      "\n",
      "\n",
      "ave_dict_lmr = {'static_test_90':mean(lmrs[static_test_90],axis=0),\n",
      "            'static_test_270':mean(lmrs[static_test_270],axis=0),\n",
      "            'stripe_test_90':mean(lmrs[stripe_test_90],axis=0),\n",
      "            'stripe_test_270':mean(lmrs[stripe_test_270],axis=0),\n",
      "            'opti_test_90':mean(lmrs[opti_test_90],axis=0),\n",
      "            'opti_test_270':mean(lmrs[opti_test_270],axis=0)}\n",
      "\n",
      "ave_dict_lwings = {'static_test_90':mean(lwings[static_test_90],axis=0),\n",
      "            'static_test_270':mean(lwings[static_test_270],axis=0),\n",
      "            'stripe_test_90':mean(lwings[stripe_test_90],axis=0),\n",
      "            'stripe_test_270':mean(lwings[stripe_test_270],axis=0),\n",
      "            'opti_test_90':mean(lwings[opti_test_90],axis=0),\n",
      "            'opti_test_270':mean(lwings[opti_test_270],axis=0)}\n",
      "\n",
      "ave_dict_rwings = {'static_test_90':mean(rwings[static_test_90],axis=0),\n",
      "            'static_test_270':mean(rwings[static_test_270],axis=0),\n",
      "            'stripe_test_90':mean(rwings[stripe_test_90],axis=0),\n",
      "            'stripe_test_270':mean(rwings[stripe_test_270],axis=0),\n",
      "            'opti_test_90':mean(rwings[opti_test_90],axis=0),\n",
      "            'opti_test_270':mean(rwings[opti_test_270],axis=0)}\n",
      "\n",
      "\n",
      "\n",
      "import cPickle\n",
      "f = open(rootdir + 'T2_trial1_ave_data.cpkl','wb')\n",
      "cPickle.dump({'lmr':ave_dict_lmr,'lwings':ave_dict_lwings,'rwings':ave_dict_rwings},f)\n",
      "f.close()\n"
     ],
     "language": "python",
     "metadata": {},
     "outputs": [
      {
       "ename": "MemoryError",
       "evalue": "",
       "output_type": "pyerr",
       "traceback": [
        "\u001b[1;31m---------------------------------------------------------------------------\u001b[0m\n\u001b[1;31mMemoryError\u001b[0m                               Traceback (most recent call last)",
        "\u001b[1;32m<ipython-input-2-31d2f40de9cb>\u001b[0m in \u001b[0;36m<module>\u001b[1;34m()\u001b[0m\n\u001b[0;32m      6\u001b[0m \u001b[0mrootdir\u001b[0m \u001b[1;33m=\u001b[0m \u001b[1;34m'/media/FlyDataB/FlyDB/Fly0193/'\u001b[0m\u001b[1;33m\u001b[0m\u001b[0m\n\u001b[0;32m      7\u001b[0m \u001b[0mabf_file\u001b[0m \u001b[1;33m=\u001b[0m \u001b[0mfilter\u001b[0m\u001b[1;33m(\u001b[0m\u001b[1;32mlambda\u001b[0m \u001b[0mx\u001b[0m\u001b[1;33m:\u001b[0m\u001b[1;34m'.abf'\u001b[0m \u001b[1;32min\u001b[0m \u001b[0mx\u001b[0m\u001b[1;33m,\u001b[0m\u001b[0mos\u001b[0m\u001b[1;33m.\u001b[0m\u001b[0mlistdir\u001b[0m\u001b[1;33m(\u001b[0m\u001b[0mrootdir\u001b[0m\u001b[1;33m)\u001b[0m\u001b[1;33m)\u001b[0m\u001b[1;33m[\u001b[0m\u001b[1;36m0\u001b[0m\u001b[1;33m]\u001b[0m\u001b[1;33m\u001b[0m\u001b[0m\n\u001b[1;32m----> 8\u001b[1;33m \u001b[0msigs\u001b[0m \u001b[1;33m=\u001b[0m \u001b[0mflb\u001b[0m\u001b[1;33m.\u001b[0m\u001b[0mget_axon_signals\u001b[0m\u001b[1;33m(\u001b[0m\u001b[0mrootdir\u001b[0m \u001b[1;33m+\u001b[0m \u001b[0mabf_file\u001b[0m\u001b[1;33m)\u001b[0m\u001b[1;33m\u001b[0m\u001b[0m\n\u001b[0m\u001b[0;32m      9\u001b[0m \u001b[0mgc\u001b[0m\u001b[1;33m.\u001b[0m\u001b[0mcollect\u001b[0m\u001b[1;33m(\u001b[0m\u001b[1;33m)\u001b[0m\u001b[1;33m\u001b[0m\u001b[0m\n\u001b[0;32m     10\u001b[0m \u001b[0midxs\u001b[0m \u001b[1;33m=\u001b[0m \u001b[0mflb\u001b[0m\u001b[1;33m.\u001b[0m\u001b[0midx_by_thresh\u001b[0m\u001b[1;33m(\u001b[0m\u001b[0msigs\u001b[0m\u001b[1;33m[\u001b[0m\u001b[1;34m'DAC2'\u001b[0m\u001b[1;33m]\u001b[0m\u001b[1;33m,\u001b[0m\u001b[0mthresh\u001b[0m \u001b[1;33m=\u001b[0m \u001b[1;36m0\u001b[0m\u001b[1;33m)\u001b[0m\u001b[1;33m\u001b[0m\u001b[0m\n",
        "\u001b[1;32m/home/flyranch/flycity/flytracker_tethered/muscle_analysis/flylib.pyc\u001b[0m in \u001b[0;36mget_axon_signals\u001b[1;34m(filename)\u001b[0m\n\u001b[0;32m    544\u001b[0m     \u001b[1;32mfrom\u001b[0m \u001b[0mneo\u001b[0m\u001b[1;33m.\u001b[0m\u001b[0mio\u001b[0m\u001b[1;33m.\u001b[0m\u001b[0maxonio\u001b[0m \u001b[1;32mimport\u001b[0m \u001b[0mAxonIO\u001b[0m\u001b[1;33m\u001b[0m\u001b[0m\n\u001b[0;32m    545\u001b[0m     \u001b[0mreader\u001b[0m \u001b[1;33m=\u001b[0m \u001b[0mAxonIO\u001b[0m\u001b[1;33m(\u001b[0m\u001b[0mfilename\u001b[0m\u001b[1;33m=\u001b[0m\u001b[0mfilename\u001b[0m\u001b[1;33m)\u001b[0m\u001b[1;33m\u001b[0m\u001b[0m\n\u001b[1;32m--> 546\u001b[1;33m     \u001b[0mblocks\u001b[0m \u001b[1;33m=\u001b[0m \u001b[0mreader\u001b[0m\u001b[1;33m.\u001b[0m\u001b[0mread\u001b[0m\u001b[1;33m(\u001b[0m\u001b[1;33m)\u001b[0m\u001b[1;33m\u001b[0m\u001b[0m\n\u001b[0m\u001b[0;32m    547\u001b[0m     \u001b[0mheader\u001b[0m \u001b[1;33m=\u001b[0m \u001b[0mreader\u001b[0m\u001b[1;33m.\u001b[0m\u001b[0mread_header\u001b[0m\u001b[1;33m(\u001b[0m\u001b[1;33m)\u001b[0m\u001b[1;33m\u001b[0m\u001b[0m\n\u001b[0;32m    548\u001b[0m     \u001b[0mchannel_names\u001b[0m \u001b[1;33m=\u001b[0m \u001b[1;33m[\u001b[0m\u001b[0minfo\u001b[0m\u001b[1;33m[\u001b[0m\u001b[1;34m'ADCChNames'\u001b[0m\u001b[1;33m]\u001b[0m \u001b[1;32mfor\u001b[0m \u001b[0minfo\u001b[0m \u001b[1;32min\u001b[0m \u001b[0mheader\u001b[0m\u001b[1;33m[\u001b[0m\u001b[1;34m'listADCInfo'\u001b[0m\u001b[1;33m]\u001b[0m\u001b[1;33m]\u001b[0m\u001b[1;33m\u001b[0m\u001b[0m\n",
        "\u001b[1;32m/home/flyranch/flycity/flytracker_tethered/muscle_analysis/neo/io/baseio.pyc\u001b[0m in \u001b[0;36mread\u001b[1;34m(self, lazy, cascade, **kargs)\u001b[0m\n\u001b[0;32m    102\u001b[0m                 return self.read_all_blocks(lazy=lazy, cascade=cascade,\n\u001b[0;32m    103\u001b[0m                                             **kargs)\n\u001b[1;32m--> 104\u001b[1;33m             \u001b[1;32mreturn\u001b[0m \u001b[1;33m[\u001b[0m\u001b[0mself\u001b[0m\u001b[1;33m.\u001b[0m\u001b[0mread_block\u001b[0m\u001b[1;33m(\u001b[0m\u001b[0mlazy\u001b[0m\u001b[1;33m=\u001b[0m\u001b[0mlazy\u001b[0m\u001b[1;33m,\u001b[0m \u001b[0mcascade\u001b[0m\u001b[1;33m=\u001b[0m\u001b[0mcascade\u001b[0m\u001b[1;33m,\u001b[0m \u001b[1;33m**\u001b[0m\u001b[0mkargs\u001b[0m\u001b[1;33m)\u001b[0m\u001b[1;33m]\u001b[0m\u001b[1;33m\u001b[0m\u001b[0m\n\u001b[0m\u001b[0;32m    105\u001b[0m         \u001b[1;32melif\u001b[0m \u001b[0mSegment\u001b[0m \u001b[1;32min\u001b[0m \u001b[0mself\u001b[0m\u001b[1;33m.\u001b[0m\u001b[0mreadable_objects\u001b[0m\u001b[1;33m:\u001b[0m\u001b[1;33m\u001b[0m\u001b[0m\n\u001b[0;32m    106\u001b[0m             \u001b[0mbl\u001b[0m \u001b[1;33m=\u001b[0m \u001b[0mBlock\u001b[0m\u001b[1;33m(\u001b[0m\u001b[0mname\u001b[0m\u001b[1;33m=\u001b[0m\u001b[1;34m'One segment only'\u001b[0m\u001b[1;33m)\u001b[0m\u001b[1;33m\u001b[0m\u001b[0m\n",
        "\u001b[1;32m/home/flyranch/flycity/flytracker_tethered/muscle_analysis/neo/io/axonio.pyc\u001b[0m in \u001b[0;36mread_block\u001b[1;34m(self, lazy, cascade)\u001b[0m\n\u001b[0;32m    285\u001b[0m                         \u001b[0msignal\u001b[0m \u001b[1;33m=\u001b[0m \u001b[1;33m[\u001b[0m \u001b[1;33m]\u001b[0m \u001b[1;33m*\u001b[0m \u001b[0mpq\u001b[0m\u001b[1;33m.\u001b[0m\u001b[0mQuantity\u001b[0m\u001b[1;33m(\u001b[0m\u001b[1;36m1\u001b[0m\u001b[1;33m,\u001b[0m \u001b[0munit\u001b[0m\u001b[1;33m)\u001b[0m\u001b[1;33m\u001b[0m\u001b[0m\n\u001b[0;32m    286\u001b[0m                     \u001b[1;32melse\u001b[0m\u001b[1;33m:\u001b[0m\u001b[1;33m\u001b[0m\u001b[0m\n\u001b[1;32m--> 287\u001b[1;33m                         \u001b[0msignal\u001b[0m \u001b[1;33m=\u001b[0m \u001b[0msubdata\u001b[0m\u001b[1;33m[\u001b[0m\u001b[1;33m:\u001b[0m\u001b[1;33m,\u001b[0m\u001b[0mi\u001b[0m\u001b[1;33m]\u001b[0m \u001b[1;33m*\u001b[0m \u001b[0mpq\u001b[0m\u001b[1;33m.\u001b[0m\u001b[0mQuantity\u001b[0m\u001b[1;33m(\u001b[0m\u001b[1;36m1\u001b[0m\u001b[1;33m,\u001b[0m \u001b[0munit\u001b[0m\u001b[1;33m)\u001b[0m\u001b[1;33m\u001b[0m\u001b[0m\n\u001b[0m\u001b[0;32m    288\u001b[0m \u001b[1;33m\u001b[0m\u001b[0m\n\u001b[0;32m    289\u001b[0m                     anaSig = AnalogSignal(signal, sampling_rate=sampling_rate,\n",
        "\u001b[1;31mMemoryError\u001b[0m: "
       ]
      }
     ],
     "prompt_number": 2
    },
    {
     "cell_type": "code",
     "collapsed": false,
     "input": [],
     "language": "python",
     "metadata": {},
     "outputs": [],
     "prompt_number": 2
    },
    {
     "cell_type": "code",
     "collapsed": false,
     "input": [
      "stim_data = {'stim':mean(Ypos[ttype],axis=0)}\n",
      "f = open(rootdir + 'stim_data.cpkl','wb')\n",
      "cPickle.dump(stim_data,f)\n",
      "f.close()"
     ],
     "language": "python",
     "metadata": {},
     "outputs": [],
     "prompt_number": 14
    },
    {
     "cell_type": "code",
     "collapsed": false,
     "input": [
      "rootdir"
     ],
     "language": "python",
     "metadata": {},
     "outputs": [
      {
       "metadata": {},
       "output_type": "pyout",
       "prompt_number": 4,
       "text": [
        "'/media/FlyDataB/FlyDB/Fly0195/'"
       ]
      }
     ],
     "prompt_number": 4
    },
    {
     "cell_type": "code",
     "collapsed": false,
     "input": [
      "1.05*5"
     ],
     "language": "python",
     "metadata": {},
     "outputs": [
      {
       "metadata": {},
       "output_type": "pyout",
       "prompt_number": 14,
       "text": [
        "5.25"
       ]
      }
     ],
     "prompt_number": 14
    },
    {
     "cell_type": "code",
     "collapsed": false,
     "input": [
      "abf_file"
     ],
     "language": "python",
     "metadata": {},
     "outputs": [
      {
       "metadata": {},
       "output_type": "pyout",
       "prompt_number": 2,
       "text": [
        "'T2_trial2_14808005.abf'"
       ]
      }
     ],
     "prompt_number": 2
    },
    {
     "cell_type": "code",
     "collapsed": false,
     "input": [],
     "language": "python",
     "metadata": {},
     "outputs": [
      {
       "metadata": {},
       "output_type": "pyout",
       "prompt_number": 10,
       "text": [
        "<matplotlib.text.Text at 0xe6a8d10>"
       ]
      }
     ],
     "prompt_number": 10
    },
    {
     "cell_type": "code",
     "collapsed": false,
     "input": [],
     "language": "python",
     "metadata": {},
     "outputs": [],
     "prompt_number": 33
    },
    {
     "cell_type": "code",
     "collapsed": false,
     "input": [],
     "language": "python",
     "metadata": {},
     "outputs": [],
     "prompt_number": 25
    },
    {
     "cell_type": "code",
     "collapsed": false,
     "input": [
      "fls = os.listdir(rootdir)"
     ],
     "language": "python",
     "metadata": {},
     "outputs": [],
     "prompt_number": 27
    },
    {
     "cell_type": "code",
     "collapsed": false,
     "input": [],
     "language": "python",
     "metadata": {},
     "outputs": [
      {
       "metadata": {},
       "output_type": "pyout",
       "prompt_number": 30,
       "text": [
        "'T2_trial1_14805002.abf'"
       ]
      }
     ],
     "prompt_number": 30
    },
    {
     "cell_type": "code",
     "collapsed": false,
     "input": [
      "400/156.0"
     ],
     "language": "python",
     "metadata": {},
     "outputs": [
      {
       "metadata": {},
       "output_type": "pyout",
       "prompt_number": 6,
       "text": [
        "2.5641025641025643"
       ]
      }
     ],
     "prompt_number": 6
    },
    {
     "cell_type": "code",
     "collapsed": false,
     "input": [],
     "language": "python",
     "metadata": {},
     "outputs": [
      {
       "metadata": {},
       "output_type": "pyout",
       "prompt_number": 8,
       "text": [
        "array([ 20.,  20.,  20.,  20.,  20.,  20.,  20.,  20.,  20.,  20.,  20.,\n",
        "        20.], dtype=float32)"
       ]
      }
     ],
     "prompt_number": 8
    },
    {
     "cell_type": "code",
     "collapsed": false,
     "input": [
      "1.12/(274*2.5/1000)"
     ],
     "language": "python",
     "metadata": {},
     "outputs": [
      {
       "metadata": {},
       "output_type": "pyout",
       "prompt_number": 12,
       "text": [
        "1.635036496350365"
       ]
      }
     ],
     "prompt_number": 12
    },
    {
     "cell_type": "code",
     "collapsed": false,
     "input": [
      "####################\n",
      "figure()\n",
      "subplot(3,1,1)\n",
      "ave = mean(Ypos[ttype],axis=0)\n",
      "stdev = std(Ypos[ttype],axis=0)\n",
      "plot(ave,c = 'k')\n",
      "plot(ave+stdev,c = 'b')\n",
      "plot(ave-stdev,c = 'b')\n",
      "i = 2\n",
      "for ttype in [static_test_90,static_test_270]:\n",
      "    subplot(3,1,i)\n",
      "    ave = mean(rwings[ttype],axis=0)\n",
      "    stdev = std(rwings[ttype],axis=0)\n",
      "    plot(ave,c = 'k')\n",
      "    plot(ave+stdev,c = 'b')\n",
      "    plot(ave-stdev,c = 'b')\n",
      "    i+=1\n",
      "    gca().set_ybound(-3,3)\n",
      "suptitle('static')\n",
      "\n",
      "##################\n",
      "figure()\n",
      "subplot(3,1,1)\n",
      "ave = mean(Ypos[ttype],axis=0)\n",
      "stdev = std(Ypos[ttype],axis=0)\n",
      "plot(ave,c = 'k')\n",
      "plot(ave+stdev,c = 'b')\n",
      "plot(ave-stdev,c = 'b')\n",
      "i = 2\n",
      "for ttype in [opti_test_90,opti_test_270]:\n",
      "    subplot(3,1,i)\n",
      "    ave = mean(rwings[ttype],axis=0)\n",
      "    stdev = std(rwings[ttype],axis=0)\n",
      "    plot(ave,c = 'k')\n",
      "    plot(ave+stdev,c = 'b')\n",
      "    plot(ave-stdev,c = 'b')\n",
      "    i+=1\n",
      "    gca().set_ybound(-3,3)\n",
      "suptitle('opti')\n",
      "\n",
      "##################\n",
      "figure()\n",
      "subplot(3,1,1)\n",
      "ave = mean(Ypos[ttype],axis=0)\n",
      "stdev = std(Ypos[ttype],axis=0)\n",
      "plot(ave,c = 'k')\n",
      "plot(ave+stdev,c = 'b')\n",
      "plot(ave-stdev,c = 'b')\n",
      "i = 2\n",
      "for ttype in [stripe_test_90,stripe_test_270]:\n",
      "    subplot(3,1,i)\n",
      "    ave = mean(rwings[ttype],axis=0)\n",
      "    stdev = std(rwings[ttype],axis=0)\n",
      "    plot(ave,c = 'k')\n",
      "    plot(ave+stdev,c = 'b')\n",
      "    plot(ave-stdev,c = 'b')\n",
      "    i+=1\n",
      "    gca().set_ybound(-3,3)\n",
      "suptitle('stripe')"
     ],
     "language": "python",
     "metadata": {},
     "outputs": [
      {
       "metadata": {},
       "output_type": "pyout",
       "prompt_number": 2,
       "text": [
        "<matplotlib.text.Text at 0x13e31c90>"
       ]
      }
     ],
     "prompt_number": 2
    },
    {
     "cell_type": "code",
     "collapsed": false,
     "input": [],
     "language": "python",
     "metadata": {},
     "outputs": []
    }
   ],
   "metadata": {}
  }
 ]
}