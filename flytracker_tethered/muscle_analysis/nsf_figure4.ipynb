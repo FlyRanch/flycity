{
 "metadata": {
  "name": ""
 },
 "nbformat": 3,
 "nbformat_minor": 0,
 "worksheets": [
  {
   "cells": [
    {
     "cell_type": "code",
     "collapsed": false,
     "input": [
      "import csv"
     ],
     "language": "python",
     "metadata": {},
     "outputs": [],
     "prompt_number": 101
    },
    {
     "cell_type": "code",
     "collapsed": false,
     "input": [
      "f.close()"
     ],
     "language": "python",
     "metadata": {},
     "outputs": [],
     "prompt_number": 140
    },
    {
     "cell_type": "code",
     "collapsed": false,
     "input": [
      "f = open('mn_matrix.csv')\n",
      "reader = csv.reader(f,delimiter = ',')"
     ],
     "language": "python",
     "metadata": {},
     "outputs": [],
     "prompt_number": 141
    },
    {
     "cell_type": "code",
     "collapsed": false,
     "input": [
      "lines = [ln for ln in reader]"
     ],
     "language": "python",
     "metadata": {},
     "outputs": [],
     "prompt_number": 142
    },
    {
     "cell_type": "code",
     "collapsed": false,
     "input": [
      "txtarray = array(lines)[1:,1:]"
     ],
     "language": "python",
     "metadata": {},
     "outputs": [],
     "prompt_number": 143
    },
    {
     "cell_type": "code",
     "collapsed": false,
     "input": [
      "#print array(lines)[0,1:7]\n",
      "#print array(lines)[0,7:14]\n",
      "linenames = array(lines)[1:,0]"
     ],
     "language": "python",
     "metadata": {},
     "outputs": [],
     "prompt_number": 155
    },
    {
     "cell_type": "code",
     "collapsed": false,
     "input": [
      "DLM = txtarray[:,0:6]\n",
      "DVM = txtarray[:,6:13]\n",
      "steering = txtarray[:,13:]"
     ],
     "language": "python",
     "metadata": {},
     "outputs": [],
     "prompt_number": 144
    },
    {
     "cell_type": "code",
     "collapsed": false,
     "input": [
      "def convert_to_float(txt_arr):\n",
      "    nanidx = txt_arr == 'N/A'\n",
      "    txt_arr[nanidx] = 0\n",
      "    floatarr = (txt_arr.astype(float)>0).astype(float)\n",
      "    floatarr[nanidx] = nan\n",
      "    return floatarr"
     ],
     "language": "python",
     "metadata": {},
     "outputs": [],
     "prompt_number": 145
    },
    {
     "cell_type": "code",
     "collapsed": false,
     "input": [
      "DLM_float = convert_to_float(DLM)\n",
      "DVM_float = convert_to_float(DVM)\n",
      "steering_float = convert_to_float(steering)"
     ],
     "language": "python",
     "metadata": {},
     "outputs": [],
     "prompt_number": 146
    },
    {
     "cell_type": "code",
     "collapsed": false,
     "input": [
      "imgarray = hstack((nansum(DLM_float,axis=1)[:,newaxis],nansum(DVM_float,axis=1)[:,newaxis],steering_float))\n",
      "nanidx = isnan(imgarray)\n",
      "imgarray = imgarray>0\n",
      "imgarray = imgarray.astype(float)\n",
      "imgarray = imgarray+0.5\n",
      "imgarray[nanidx] = 0"
     ],
     "language": "python",
     "metadata": {},
     "outputs": [],
     "prompt_number": 147
    },
    {
     "cell_type": "code",
     "collapsed": false,
     "input": [],
     "language": "python",
     "metadata": {},
     "outputs": [],
     "prompt_number": 147
    },
    {
     "cell_type": "code",
     "collapsed": false,
     "input": [
      "shape(imgarray)"
     ],
     "language": "python",
     "metadata": {},
     "outputs": [
      {
       "metadata": {},
       "output_type": "pyout",
       "prompt_number": 148,
       "text": [
        "(97, 18)"
       ]
      }
     ],
     "prompt_number": 148
    },
    {
     "cell_type": "code",
     "collapsed": false,
     "input": [
      "nline,nmusc = shape(imgarray)\n",
      "sortkeys = nansum(imgarray,axis=1)\n",
      "sidx = argsort(sortkeys)\n",
      "pltarray = imgarray[sidx,:]\n",
      "pltarray = imgarray[sidx,:]\n",
      "trim_lines = 19\n",
      "pcolor(pltarray[trim_lines:,:].T,cmap = cm.Greys,vmin = 0,vmax=1)\n",
      "lns = [plot([0,nline-trim_lines],[x,x],color = 'w',lw =3) for x in range(nmusc)]\n",
      "lns = [plot([x,x],[0,nmusc],color = 'w',lw =0.5) for x in range(nline-trim_lines)]\n",
      "nms = linenames[sidx][trim_lines:]\n",
      "xticks(range(0,nline-trim_lines),rotation = 'vertical')\n",
      "gca().set_xticklabels(nms)"
     ],
     "language": "python",
     "metadata": {},
     "outputs": [
      {
       "metadata": {},
       "output_type": "pyout",
       "prompt_number": 168,
       "text": [
        "[<matplotlib.text.Text at 0x114b94390>,\n",
        " <matplotlib.text.Text at 0x11211df90>,\n",
        " <matplotlib.text.Text at 0x118616110>,\n",
        " <matplotlib.text.Text at 0x118616850>,\n",
        " <matplotlib.text.Text at 0x118616f90>,\n",
        " <matplotlib.text.Text at 0x11861c710>,\n",
        " <matplotlib.text.Text at 0x11861ce50>,\n",
        " <matplotlib.text.Text at 0x1186215d0>,\n",
        " <matplotlib.text.Text at 0x118621d10>,\n",
        " <matplotlib.text.Text at 0x118628490>,\n",
        " <matplotlib.text.Text at 0x118628bd0>,\n",
        " <matplotlib.text.Text at 0x11507d350>,\n",
        " <matplotlib.text.Text at 0x11507da90>,\n",
        " <matplotlib.text.Text at 0x11507a210>,\n",
        " <matplotlib.text.Text at 0x11507a950>,\n",
        " <matplotlib.text.Text at 0x1150730d0>,\n",
        " <matplotlib.text.Text at 0x115073810>,\n",
        " <matplotlib.text.Text at 0x115073f50>,\n",
        " <matplotlib.text.Text at 0x11504f6d0>,\n",
        " <matplotlib.text.Text at 0x11504fe10>,\n",
        " <matplotlib.text.Text at 0x115051590>,\n",
        " <matplotlib.text.Text at 0x115051cd0>,\n",
        " <matplotlib.text.Text at 0x115052450>,\n",
        " <matplotlib.text.Text at 0x115052b90>,\n",
        " <matplotlib.text.Text at 0x115056310>,\n",
        " <matplotlib.text.Text at 0x115056a50>,\n",
        " <matplotlib.text.Text at 0x1150571d0>,\n",
        " <matplotlib.text.Text at 0x115057910>,\n",
        " <matplotlib.text.Text at 0x115059090>,\n",
        " <matplotlib.text.Text at 0x1150597d0>,\n",
        " <matplotlib.text.Text at 0x115059f10>,\n",
        " <matplotlib.text.Text at 0x11505c690>,\n",
        " <matplotlib.text.Text at 0x11505cdd0>,\n",
        " <matplotlib.text.Text at 0x11505e550>,\n",
        " <matplotlib.text.Text at 0x11505ec90>,\n",
        " <matplotlib.text.Text at 0x11505f410>,\n",
        " <matplotlib.text.Text at 0x11505fb50>,\n",
        " <matplotlib.text.Text at 0x1150652d0>,\n",
        " <matplotlib.text.Text at 0x115065a10>,\n",
        " <matplotlib.text.Text at 0x115068190>,\n",
        " <matplotlib.text.Text at 0x1150688d0>,\n",
        " <matplotlib.text.Text at 0x11506a050>,\n",
        " <matplotlib.text.Text at 0x11506a790>,\n",
        " <matplotlib.text.Text at 0x11506aed0>,\n",
        " <matplotlib.text.Text at 0x115072650>,\n",
        " <matplotlib.text.Text at 0x115072d90>,\n",
        " <matplotlib.text.Text at 0x115074510>,\n",
        " <matplotlib.text.Text at 0x115074c50>,\n",
        " <matplotlib.text.Text at 0x1150763d0>,\n",
        " <matplotlib.text.Text at 0x115076b10>,\n",
        " <matplotlib.text.Text at 0x11507b290>,\n",
        " <matplotlib.text.Text at 0x11507b9d0>,\n",
        " <matplotlib.text.Text at 0x114b60150>,\n",
        " <matplotlib.text.Text at 0x114b60890>,\n",
        " <matplotlib.text.Text at 0x114b60fd0>,\n",
        " <matplotlib.text.Text at 0x114b61750>,\n",
        " <matplotlib.text.Text at 0x114b61e90>,\n",
        " <matplotlib.text.Text at 0x114b6af90>,\n",
        " <matplotlib.text.Text at 0x114b6a250>,\n",
        " <matplotlib.text.Text at 0x114b714d0>,\n",
        " <matplotlib.text.Text at 0x114b71c10>,\n",
        " <matplotlib.text.Text at 0x114b77390>,\n",
        " <matplotlib.text.Text at 0x114b77ad0>,\n",
        " <matplotlib.text.Text at 0x114b7c250>,\n",
        " <matplotlib.text.Text at 0x114b7c990>,\n",
        " <matplotlib.text.Text at 0x114b84190>,\n",
        " <matplotlib.text.Text at 0x114b84150>,\n",
        " <matplotlib.text.Text at 0x114b84310>,\n",
        " <matplotlib.text.Text at 0x114b86710>,\n",
        " <matplotlib.text.Text at 0x114b86e50>,\n",
        " <matplotlib.text.Text at 0x114b9f5d0>,\n",
        " <matplotlib.text.Text at 0x114b9fd10>,\n",
        " <matplotlib.text.Text at 0x114b83490>,\n",
        " <matplotlib.text.Text at 0x114b83bd0>,\n",
        " <matplotlib.text.Text at 0x114b78350>,\n",
        " <matplotlib.text.Text at 0x114b78a90>,\n",
        " <matplotlib.text.Text at 0x114b68210>,\n",
        " <matplotlib.text.Text at 0x114b68950>]"
       ]
      }
     ],
     "prompt_number": 168
    },
    {
     "cell_type": "code",
     "collapsed": false,
     "input": [
      "ax.set_x"
     ],
     "language": "python",
     "metadata": {},
     "outputs": [],
     "prompt_number": 161
    },
    {
     "cell_type": "code",
     "collapsed": false,
     "input": [],
     "language": "python",
     "metadata": {},
     "outputs": [],
     "prompt_number": 190
    },
    {
     "cell_type": "code",
     "collapsed": false,
     "input": [],
     "language": "python",
     "metadata": {},
     "outputs": [],
     "prompt_number": 103
    },
    {
     "cell_type": "code",
     "collapsed": false,
     "input": [
      "imshow(txtarray == 'N/A')"
     ],
     "language": "python",
     "metadata": {},
     "outputs": [
      {
       "metadata": {},
       "output_type": "pyout",
       "prompt_number": 164,
       "text": [
        "<matplotlib.image.AxesImage at 0x11e008dd0>"
       ]
      }
     ],
     "prompt_number": 164
    },
    {
     "cell_type": "code",
     "collapsed": false,
     "input": [],
     "language": "python",
     "metadata": {},
     "outputs": [
      {
       "metadata": {},
       "output_type": "pyout",
       "prompt_number": 117,
       "text": [
        "<matplotlib.collections.PolyCollection at 0x115c23310>"
       ]
      }
     ],
     "prompt_number": 117
    },
    {
     "cell_type": "code",
     "collapsed": false,
     "input": [],
     "language": "python",
     "metadata": {},
     "outputs": []
    }
   ],
   "metadata": {}
  }
 ]
}