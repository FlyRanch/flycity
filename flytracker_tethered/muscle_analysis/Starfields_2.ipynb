{
 "metadata": {
  "name": "",
  "signature": "sha256:a2c2119b6e72c0dfd1c0c956fad13d1f4115fe76f2f8dda43ac58b7e7122f535"
 },
 "nbformat": 3,
 "nbformat_minor": 0,
 "worksheets": [
  {
   "cells": [
    {
     "cell_type": "code",
     "collapsed": false,
     "input": [
      "import transformations as tran"
     ],
     "language": "python",
     "metadata": {},
     "outputs": [
      {
       "output_type": "stream",
       "stream": "stderr",
       "text": [
        "transformations.py:1888: UserWarning: failed to import module _transformations\n",
        "  warnings.warn(\"failed to import module %s\" % name)\n"
       ]
      }
     ],
     "prompt_number": 1
    },
    {
     "cell_type": "code",
     "collapsed": false,
     "input": [
      "def make_universe(universe_size = 10,\n",
      "                  max_sensory_radius = 2,\n",
      "                  star_density = 125):\n",
      "    num_stars = (universe_size**3)*star_density\n",
      "    ux = (random.ranf(size = num_stars)-0.5)*universe_size\n",
      "    uy = (random.ranf(size = num_stars)-0.5)*universe_size\n",
      "    uz = (random.ranf(size = num_stars)-0.5)*universe_size\n",
      "    uxyz = vstack((ux,uy,uz))\n",
      "    distances = linalg.norm(uxyz,axis = 0)\n",
      "    mask = (distances > max_sensory_radius)\n",
      "    xyz = uxyz[:,~mask]\n",
      "    x = ux[~mask]\n",
      "    y = uy[~mask]\n",
      "    z = uz[~mask]\n",
      "    xyz_prime = xyz\n",
      "    return xyz_prime"
     ],
     "language": "python",
     "metadata": {},
     "outputs": [],
     "prompt_number": 2
    },
    {
     "cell_type": "code",
     "collapsed": false,
     "input": [
      "def arena_project(xyz,arena_rad = 0.122/2,arena_elevation = 0.128):\n",
      "    x = xyz[0,:]\n",
      "    y = xyz[1,:]\n",
      "    z = xyz[2,:]\n",
      "    distances = linalg.norm(xyz,axis = 0)\n",
      "    longitude = arctan2(x,y) + pi\n",
      "    r = squeeze(linalg.norm([[x],[y]],axis = 0))\n",
      "    elevation = (z/r)*arena_rad\n",
      "    mask = (r<arena_rad)| (elevation > arena_elevation/2) | (elevation < arena_elevation/-2)\n",
      "    return (longitude[~mask],elevation[~mask],distances[~mask])"
     ],
     "language": "python",
     "metadata": {},
     "outputs": [],
     "prompt_number": 3
    },
    {
     "cell_type": "code",
     "collapsed": false,
     "input": [
      "def digitize_points(longitude,elevation,distance,arena_elevation = 0.128,display_shape = (96,32)):\n",
      "    elev_bins = linspace(-0.5*arena_elevation,0.5*arena_elevation,display_shape[1]+1)\n",
      "    long_bins = linspace(0,2*pi,display_shape[0]+1)\n",
      "    #weights = 1/distance**2\n",
      "    weights = ones_like(distance)\n",
      "    img_mtrx = histogramdd([longitude,elevation],bins =(long_bins,elev_bins),weights = weights)[0].T\n",
      "    return img_mtrx"
     ],
     "language": "python",
     "metadata": {},
     "outputs": [],
     "prompt_number": 4
    },
    {
     "cell_type": "code",
     "collapsed": false,
     "input": [
      "def integrate_frame(pts,\n",
      "                    rotation_vect = np.array([1.0,1.0,0.0]),\n",
      "                    translation_vect = np.array([0.0,0.0,0.0]),\n",
      "                    frame_period = 0.1):\n",
      "    rotational_velocity = linalg.norm(rotation_vect)\n",
      "    rotational_direction = rotation_vect/rotational_velocity\n",
      "    dt = frame_period/100.0\n",
      "    dtheta = rotational_velocity*dt \n",
      "    drot = tran.rotation_matrix(dtheta,rotational_direction)\n",
      "    dtrans = tran.translation_matrix(translation_vect*dt)\n",
      "    dA = np.dot(dtrans,drot)\n",
      "    for x in range(int(frame_period/dt)):\n",
      "        pts_H = vstack([pts,ones(shape(pts)[1])])\n",
      "        pts = np.dot(dA,pts_H)[:-1,:]\n",
      "    return pts"
     ],
     "language": "python",
     "metadata": {},
     "outputs": [],
     "prompt_number": 5
    },
    {
     "cell_type": "code",
     "collapsed": false,
     "input": [
      "def make_translation_pattern(equator_pole,translation_velocity,frame_rate,epoch_duration=2.25,max_sensory_radius = 2):\n",
      "    #translate in a direction on the equator.\n",
      "    from scipy.misc import imresize\n",
      "    frame_period = 1/frame_rate\n",
      "    frame_distance = frame_period*translation_velocity \n",
      "    frames_per_cycle = around(epoch_duration*frame_rate).astype(int)\n",
      "    ####################\n",
      "    def crop_universe(xyzp):\n",
      "        distances = linalg.norm(xyzp,axis = 0)\n",
      "        mask = (distances > max_sensory_radius)\n",
      "        xyzp = xyzp[:,~mask]\n",
      "        return xyzp\n",
      "    \n",
      "    def refill_universe(xyzp):\n",
      "        xyz = make_universe(star_density = 50,max_sensory_radius = max_sensory_radius+frame_distance)\n",
      "        distances = distances = linalg.norm(xyz,axis = 0)\n",
      "        mask = (distances > max_sensory_radius)\n",
      "        xyzp = hstack((xyz[:,mask],xyzp))\n",
      "        return xyzp\n",
      "    #######################\n",
      "    xyz = make_universe(star_density = 50,max_sensory_radius = max_sensory_radius+frame_distance)\n",
      "    ###align the orientation vector with arena coordinates\n",
      "    unit_vector = np.array([0.,1.,0.])\n",
      "    zp_offset = (2*pi)/96*4\n",
      "    orientation_vector = dot(tran.rotation_matrix(equator_pole+zp_offset,[0,0,1])[:3,:3],unit_vector)*translation_velocity\n",
      "    xyzp = integrate_frame(xyz,\n",
      "                       rotation_vect = np.array([0.1,0.1,0.1]),\n",
      "                       translation_vect = orientation_vector,\n",
      "                       frame_period = 1/frame_rate)\n",
      "    ###crop to max_sensory_radius\n",
      "    xyzp = crop_universe(xyzp)\n",
      "    proj = arena_project(xyzp)\n",
      "    imgs = digitize_points(*proj,display_shape = display_shape)\n",
      "    imgs = imgs[:,:,newaxis]\n",
      "    xyzp = refill_universe(xyzp)\n",
      "    #####################\n",
      "    for i in range(frames_per_cycle):\n",
      "        xyzp = integrate_frame(xyzp,\n",
      "                       rotation_vect = np.array([1e-10,1e-10,1e-10]),\n",
      "                       translation_vect = orientation_vector,\n",
      "                       frame_period = 1/frame_rate)\n",
      "        xyzp = crop_universe(xyzp)\n",
      "        proj = arena_project(xyzp)\n",
      "        img = digitize_points(*proj,display_shape = display_shape)\n",
      "        imgs = concatenate((imgs, img[:,:,newaxis]),axis = 2)\n",
      "        xyzp = refill_universe(xyzp)\n",
      "    from scipy import io\n",
      "    return imgs\n",
      "    #io.savemat('equator_%03d'%(around(rad2deg(equator_pole))),{'imgs':imgs})\n",
      "\n",
      "def make_spin_pattern_equator(equator_pole,angular_velocity,frame_rate):\n",
      "    #Spin the world around a equatorial pole\n",
      "    from scipy.misc import imresize\n",
      "    unit_vector = np.array([0.,1.,0.])\n",
      "    zp_offset = (2*pi)/96*4\n",
      "    orientation_vector = dot(tran.rotation_matrix(equator_pole+zp_offset,[0,0,1])[:3,:3],unit_vector)*angular_velocity\n",
      "    xyzp = integrate_frame(xyz,\n",
      "                       rotation_vect = orientation_vector,\n",
      "                       translation_vect = np.array([0,0,0]),\n",
      "                       frame_period = 1/frame_rate)\n",
      "    proj = arena_project(xyzp)\n",
      "    imgs = digitize_points(*proj,display_shape = display_shape)\n",
      "    imgs = imgs[:,:,newaxis]\n",
      "    frames_per_cycle = int(((2*pi)/angular_velocity)*frame_rate)\n",
      "    for i in range(frames_per_cycle):\n",
      "        xyzp = integrate_frame(xyzp,\n",
      "                           rotation_vect = orientation_vector,\n",
      "                           translation_vect = np.array([0,0,0]),\n",
      "                           frame_period = 1/frame_rate)\n",
      "        proj = arena_project(xyzp)\n",
      "        img = digitize_points(*proj,display_shape = display_shape)\n",
      "        imgs = concatenate((imgs, img[:,:,newaxis]),axis = 2)\n",
      "    from scipy import io\n",
      "    io.savemat('equator_%03d'%(around(rad2deg(equator_pole))),{'imgs':imgs})\n",
      "\n",
      "def make_spin_pattern_coromeridian(coromeridian_pole,angular_velocity,frame_rate):\n",
      "    #Spin the world around a pole around a coronal maridian pole\n",
      "    from scipy.misc import imresize\n",
      "    unit_vector = np.array([0.,1.,0.])\n",
      "    zp_offset = (2*pi)/96*4\n",
      "    orientation_vector = dot(tran.rotation_matrix(coromeridian_pole,array([1,0,0]))[:3,:3],unit_vector)\n",
      "    orientation_vector = dot(tran.rotation_matrix(zp_offset,array([0,0,1]))[:3,:3],orientation_vector)*angular_velocity\n",
      "    xyzp = integrate_frame(xyz,\n",
      "                       rotation_vect = orientation_vector,\n",
      "                       translation_vect = np.array([0,0,0]),\n",
      "                       frame_period = 1/frame_rate)\n",
      "    proj = arena_project(xyzp)\n",
      "    imgs = digitize_points(*proj,display_shape = display_shape)\n",
      "    imgs = imgs[:,:,newaxis]\n",
      "    frames_per_cycle = int(((2*pi)/angular_velocity)*frame_rate)\n",
      "    for i in range(frames_per_cycle):\n",
      "        xyzp = integrate_frame(xyzp,\n",
      "                           rotation_vect = orientation_vector,\n",
      "                           translation_vect = np.array([0,0,0]),\n",
      "                           frame_period = 1/frame_rate)\n",
      "        proj = arena_project(xyzp)\n",
      "        img = digitize_points(*proj,display_shape = display_shape)\n",
      "        imgs = concatenate((imgs, img[:,:,newaxis]),axis = 2)\n",
      "    from scipy import io\n",
      "    io.savemat('coromeridian_%03d'%(around(rad2deg(coromeridian_pole))),{'imgs':imgs})\n",
      "    \n",
      "def make_spin_pattern_sagimeridian(sagimeridian_pole,angular_velocity,frame_rate):\n",
      "    #spin the world around a pole on the mid-sagital meridian.\n",
      "    from scipy.misc import imresize\n",
      "    unit_vector = np.array([1.,0.,0.])\n",
      "    zp_offset = (2*pi)/96*4\n",
      "    orientation_vector = dot(tran.rotation_matrix(sagimeridian_pole,array([0,1,0]))[:3,:3],unit_vector)\n",
      "    orientation_vector = dot(tran.rotation_matrix(zp_offset,array([0,0,1]))[:3,:3],orientation_vector)*angular_velocity\n",
      "    xyzp = integrate_frame(xyz,\n",
      "                       rotation_vect = orientation_vector,\n",
      "                       translation_vect = np.array([0,0,0]),\n",
      "                       frame_period = 1/frame_rate)\n",
      "    proj = arena_project(xyzp)\n",
      "    imgs = digitize_points(*proj,display_shape = display_shape)\n",
      "    imgs = imgs[:,:,newaxis]\n",
      "    frames_per_cycle = int(((2*pi)/angular_velocity)*frame_rate)\n",
      "    for i in range(frames_per_cycle):\n",
      "        xyzp = integrate_frame(xyzp,\n",
      "                           rotation_vect = orientation_vector,\n",
      "                           translation_vect = np.array([0,0,0]),\n",
      "                           frame_period = 1/frame_rate)\n",
      "        proj = arena_project(xyzp)\n",
      "        img = digitize_points(*proj,display_shape = display_shape)\n",
      "        imgs = concatenate((imgs, img[:,:,newaxis]),axis = 2)\n",
      "    from scipy import io\n",
      "    io.savemat('sagimeridian_%03d'%(around(rad2deg(sagimeridian_pole))),{'imgs':imgs})"
     ],
     "language": "python",
     "metadata": {},
     "outputs": [],
     "prompt_number": 26
    },
    {
     "cell_type": "code",
     "collapsed": false,
     "input": [
      "frame_rate = 60.0 \n",
      "display_shape = (96,32)\n",
      "deg_per_pix = 360/display_shape[0]\n",
      "translation_velocity = deg2rad(2.25*frame_rate)\n",
      "equator_pole = deg2rad(90.0)\n",
      "imgs = make_translation_pattern(equator_pole,translation_velocity,frame_rate)\n",
      "img = imshow(imgs[:,:,0],vmin = 0,vmax = 6)\n",
      "for i in range(shape(imgs)[-1]):\n",
      "    img.set_data(imgs[:,:,i])\n",
      "    draw()"
     ],
     "language": "python",
     "metadata": {},
     "outputs": [],
     "prompt_number": 32
    },
    {
     "cell_type": "code",
     "collapsed": false,
     "input": [
      "print 'making equators'  \n",
      "for equator_pole in linspace(0,2*pi,13):\n",
      "    #xyz = make_universe(star_density = 50,max_sensory_radius = 2)\n",
      "    frame_rate = 60.0 \n",
      "    display_shape = (96,32)\n",
      "    deg_per_pix = 360/display_shape[0]\n",
      "    angular_velocity = deg2rad(2.25*frame_rate)\n",
      "    make_spin_pattern_equator(equator_pole,angular_velocity,frame_rate)\n",
      "\n",
      "print 'making sagimeridian'\n",
      "for sagimeridian_pole in linspace(0,2*pi,13):\n",
      "    xyz = make_universe(star_density = 50,max_sensory_radius = 2)\n",
      "    frame_rate = 60.0 \n",
      "    display_shape = (96,32)\n",
      "    deg_per_pix = 360/display_shape[0]\n",
      "    angular_velocity = deg2rad(2.25*frame_rate)\n",
      "    make_spin_pattern_sagimeridian(sagimeridian_pole,angular_velocity,frame_rate)\n",
      "print 'making coromeridian'\n",
      "for coromeridian_pole in linspace(0,2*pi,13):\n",
      "    xyz = make_universe(star_density = 50,max_sensory_radius = 2)\n",
      "    frame_rate = 60.0 \n",
      "    display_shape = (96,32)\n",
      "    deg_per_pix = 360/display_shape[0]\n",
      "    angular_velocity = deg2rad(2.25*frame_rate)\n",
      "    make_spin_pattern_coromeridian(coromeridian_pole,angular_velocity,frame_rate)"
     ],
     "language": "python",
     "metadata": {},
     "outputs": [
      {
       "output_type": "stream",
       "stream": "stdout",
       "text": [
        "making equators\n"
       ]
      },
      {
       "ename": "NameError",
       "evalue": "global name 'xyz' is not defined",
       "output_type": "pyerr",
       "traceback": [
        "\u001b[1;31m---------------------------------------------------------------------------\u001b[0m\n\u001b[1;31mNameError\u001b[0m                                 Traceback (most recent call last)",
        "\u001b[1;32m<ipython-input-8-c6c54e709964>\u001b[0m in \u001b[0;36m<module>\u001b[1;34m()\u001b[0m\n\u001b[0;32m      6\u001b[0m     \u001b[0mdeg_per_pix\u001b[0m \u001b[1;33m=\u001b[0m \u001b[1;36m360\u001b[0m\u001b[1;33m/\u001b[0m\u001b[0mdisplay_shape\u001b[0m\u001b[1;33m[\u001b[0m\u001b[1;36m0\u001b[0m\u001b[1;33m]\u001b[0m\u001b[1;33m\u001b[0m\u001b[0m\n\u001b[0;32m      7\u001b[0m     \u001b[0mangular_velocity\u001b[0m \u001b[1;33m=\u001b[0m \u001b[0mdeg2rad\u001b[0m\u001b[1;33m(\u001b[0m\u001b[1;36m2.25\u001b[0m\u001b[1;33m*\u001b[0m\u001b[0mframe_rate\u001b[0m\u001b[1;33m)\u001b[0m\u001b[1;33m\u001b[0m\u001b[0m\n\u001b[1;32m----> 8\u001b[1;33m     \u001b[0mmake_spin_pattern_equator\u001b[0m\u001b[1;33m(\u001b[0m\u001b[0mequator_pole\u001b[0m\u001b[1;33m,\u001b[0m\u001b[0mangular_velocity\u001b[0m\u001b[1;33m,\u001b[0m\u001b[0mframe_rate\u001b[0m\u001b[1;33m)\u001b[0m\u001b[1;33m\u001b[0m\u001b[0m\n\u001b[0m\u001b[0;32m      9\u001b[0m \u001b[1;33m\u001b[0m\u001b[0m\n\u001b[0;32m     10\u001b[0m \u001b[1;32mprint\u001b[0m \u001b[1;34m'making sagimeridian'\u001b[0m\u001b[1;33m\u001b[0m\u001b[0m\n",
        "\u001b[1;32m<ipython-input-6-91dfef51b47a>\u001b[0m in \u001b[0;36mmake_spin_pattern_equator\u001b[1;34m(equator_pole, angular_velocity, frame_rate)\u001b[0m\n\u001b[0;32m     56\u001b[0m     \u001b[0mzp_offset\u001b[0m \u001b[1;33m=\u001b[0m \u001b[1;33m(\u001b[0m\u001b[1;36m2\u001b[0m\u001b[1;33m*\u001b[0m\u001b[0mpi\u001b[0m\u001b[1;33m)\u001b[0m\u001b[1;33m/\u001b[0m\u001b[1;36m96\u001b[0m\u001b[1;33m*\u001b[0m\u001b[1;36m4\u001b[0m\u001b[1;33m\u001b[0m\u001b[0m\n\u001b[0;32m     57\u001b[0m     \u001b[0morientation_vector\u001b[0m \u001b[1;33m=\u001b[0m \u001b[0mdot\u001b[0m\u001b[1;33m(\u001b[0m\u001b[0mtran\u001b[0m\u001b[1;33m.\u001b[0m\u001b[0mrotation_matrix\u001b[0m\u001b[1;33m(\u001b[0m\u001b[0mequator_pole\u001b[0m\u001b[1;33m+\u001b[0m\u001b[0mzp_offset\u001b[0m\u001b[1;33m,\u001b[0m\u001b[1;33m[\u001b[0m\u001b[1;36m0\u001b[0m\u001b[1;33m,\u001b[0m\u001b[1;36m0\u001b[0m\u001b[1;33m,\u001b[0m\u001b[1;36m1\u001b[0m\u001b[1;33m]\u001b[0m\u001b[1;33m)\u001b[0m\u001b[1;33m[\u001b[0m\u001b[1;33m:\u001b[0m\u001b[1;36m3\u001b[0m\u001b[1;33m,\u001b[0m\u001b[1;33m:\u001b[0m\u001b[1;36m3\u001b[0m\u001b[1;33m]\u001b[0m\u001b[1;33m,\u001b[0m\u001b[0munit_vector\u001b[0m\u001b[1;33m)\u001b[0m\u001b[1;33m*\u001b[0m\u001b[0mangular_velocity\u001b[0m\u001b[1;33m\u001b[0m\u001b[0m\n\u001b[1;32m---> 58\u001b[1;33m     xyzp = integrate_frame(xyz,\n\u001b[0m\u001b[0;32m     59\u001b[0m                        \u001b[0mrotation_vect\u001b[0m \u001b[1;33m=\u001b[0m \u001b[0morientation_vector\u001b[0m\u001b[1;33m,\u001b[0m\u001b[1;33m\u001b[0m\u001b[0m\n\u001b[0;32m     60\u001b[0m                        \u001b[0mtranslation_vect\u001b[0m \u001b[1;33m=\u001b[0m \u001b[0mnp\u001b[0m\u001b[1;33m.\u001b[0m\u001b[0marray\u001b[0m\u001b[1;33m(\u001b[0m\u001b[1;33m[\u001b[0m\u001b[1;36m0\u001b[0m\u001b[1;33m,\u001b[0m\u001b[1;36m0\u001b[0m\u001b[1;33m,\u001b[0m\u001b[1;36m0\u001b[0m\u001b[1;33m]\u001b[0m\u001b[1;33m)\u001b[0m\u001b[1;33m,\u001b[0m\u001b[1;33m\u001b[0m\u001b[0m\n",
        "\u001b[1;31mNameError\u001b[0m: global name 'xyz' is not defined"
       ]
      }
     ],
     "prompt_number": 8
    },
    {
     "cell_type": "code",
     "collapsed": false,
     "input": [
      "from IPython.display import display, clear_output\n",
      "f, ax = subplots()\n",
      "img = ax.imshow(imgs[:,:,0],cmap = cm.gray)\n",
      "for i in range(shape(imgs)[-1]):\n",
      "    img.set_data(imgs[:,:,i])\n",
      "    display(f)\n",
      "    clear_output()"
     ],
     "language": "python",
     "metadata": {},
     "outputs": []
    },
    {
     "cell_type": "code",
     "collapsed": false,
     "input": [],
     "language": "python",
     "metadata": {},
     "outputs": [],
     "prompt_number": 23
    },
    {
     "cell_type": "code",
     "collapsed": false,
     "input": [
      "zp_offset = (2*pi)/96*4\n",
      "unit_vector = np.array([1.,0.,0.])\n",
      "orientation_vector = dot(tran.rotation_matrix(30,[0,1,0])[:3,:3],unit_vector)\n",
      "print orientation_vector\n",
      "orientation_vector = dot(tran.rotation_matrix(zp_offset,[0,0,1])[:3,:3],orientation_vector)\n",
      "print orientation_vector"
     ],
     "language": "python",
     "metadata": {},
     "outputs": [
      {
       "output_type": "stream",
       "stream": "stdout",
       "text": [
        "[ 0.15425145  0.          0.98803162]\n",
        "[ 0.14899546  0.03992321  0.98803162]\n"
       ]
      }
     ],
     "prompt_number": 115
    },
    {
     "cell_type": "code",
     "collapsed": false,
     "input": [
      "zp_offset = (2*pi)/96*4\n",
      "unit_vector = np.array([0.,1.,0.])\n",
      "orientation_vector = dot(tran.rotation_matrix(30,[1,0,0])[:3,:3],unit_vector)\n",
      "print orientation_vector\n",
      "orientation_vector = dot(tran.rotation_matrix(zp_offset,[0,0,1])[:3,:3],orientation_vector)\n",
      "print orientation_vector"
     ],
     "language": "python",
     "metadata": {},
     "outputs": [
      {
       "output_type": "stream",
       "stream": "stdout",
       "text": [
        "[ 0.          0.15425145 -0.98803162]\n",
        "[-0.03992321  0.14899546 -0.98803162]\n"
       ]
      }
     ],
     "prompt_number": 114
    },
    {
     "cell_type": "code",
     "collapsed": false,
     "input": [
      "2*pi/12*4"
     ],
     "language": "python",
     "metadata": {},
     "outputs": [
      {
       "metadata": {},
       "output_type": "pyout",
       "prompt_number": 91,
       "text": [
        "2.0943951023931953"
       ]
      }
     ],
     "prompt_number": 91
    },
    {
     "cell_type": "code",
     "collapsed": false,
     "input": [
      "210/60"
     ],
     "language": "python",
     "metadata": {},
     "outputs": [
      {
       "metadata": {},
       "output_type": "pyout",
       "prompt_number": 15,
       "text": [
        "3"
       ]
      }
     ],
     "prompt_number": 15
    },
    {
     "cell_type": "code",
     "collapsed": false,
     "input": [
      "220*70"
     ],
     "language": "python",
     "metadata": {},
     "outputs": [
      {
       "metadata": {},
       "output_type": "pyout",
       "prompt_number": 17,
       "text": [
        "14700"
       ]
      }
     ],
     "prompt_number": 17
    },
    {
     "cell_type": "code",
     "collapsed": false,
     "input": [],
     "language": "python",
     "metadata": {},
     "outputs": [],
     "prompt_number": 86
    },
    {
     "cell_type": "code",
     "collapsed": false,
     "input": [],
     "language": "python",
     "metadata": {},
     "outputs": [],
     "prompt_number": 86
    },
    {
     "cell_type": "code",
     "collapsed": false,
     "input": [
      "rmat = tran.rotation_matrix(pi/20,[0,0,1])"
     ],
     "language": "python",
     "metadata": {},
     "outputs": [],
     "prompt_number": 15
    },
    {
     "cell_type": "code",
     "collapsed": false,
     "input": [
      "xyz_prime = dot(rmat[:3,:3],xyz)"
     ],
     "language": "python",
     "metadata": {},
     "outputs": [],
     "prompt_number": 24
    },
    {
     "cell_type": "code",
     "collapsed": false,
     "input": [
      "shape(rmat[:3,:3])"
     ],
     "language": "python",
     "metadata": {},
     "outputs": [
      {
       "metadata": {},
       "output_type": "pyout",
       "prompt_number": 20,
       "text": [
        "(3, 3)"
       ]
      }
     ],
     "prompt_number": 20
    },
    {
     "cell_type": "code",
     "collapsed": false,
     "input": [],
     "language": "python",
     "metadata": {},
     "outputs": []
    }
   ],
   "metadata": {}
  }
 ]
}